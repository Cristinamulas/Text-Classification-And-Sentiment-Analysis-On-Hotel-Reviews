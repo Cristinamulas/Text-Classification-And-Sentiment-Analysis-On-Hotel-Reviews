{
 "cells": [
  {
   "cell_type": "markdown",
   "metadata": {},
   "source": [
    "# Web Scraping Name, Prices, URLs, Ratings and the total numbers of the reviews"
   ]
  },
  {
   "cell_type": "markdown",
   "metadata": {},
   "source": [
    "- This notebook contains the scraper of all hotels in NYC from Tripadvaisor webside. "
   ]
  },
  {
   "cell_type": "code",
   "execution_count": 1,
   "metadata": {},
   "outputs": [],
   "source": [
    "from selenium import webdriver\n",
    "import urllib.parse\n",
    "import urllib.error\n",
    "from bs4 import BeautifulSoup\n",
    "import requests\n",
    "import re\n",
    "import pandas as pd\n",
    "import time\n",
    "from selenium.webdriver.common.by import By\n",
    "from selenium.webdriver.support.ui import WebDriverWait\n",
    "from selenium.webdriver.support import expected_conditions as EC"
   ]
  },
  {
   "cell_type": "markdown",
   "metadata": {},
   "source": [
    "## Helper functions"
   ]
  },
  {
   "cell_type": "code",
   "execution_count": 2,
   "metadata": {},
   "outputs": [],
   "source": [
    "def getting_names(soup_):\n",
    "        names = soup_.findAll('div', {\"class\": \"listing_title\"})\n",
    "        list_names = [i.text for i in names]\n",
    "        return list_names"
   ]
  },
  {
   "cell_type": "code",
   "execution_count": 3,
   "metadata": {},
   "outputs": [],
   "source": [
    "def getting_prices(driver_):\n",
    "    prizes = driver_.find_elements_by_xpath(\"//div[@class='price-wrap ']\")\n",
    "    list_prize=[prize.text for prize in prizes]\n",
    "    return list_prize"
   ]
  },
  {
   "cell_type": "code",
   "execution_count": 4,
   "metadata": {},
   "outputs": [],
   "source": [
    "def getting_total(soup_):\n",
    "    number_reviews = soup_.findAll('a', {\"class\": \"review_count\"})\n",
    "    list_total_reviews = [i.text for i in number_reviews]\n",
    "    return list_total_reviews"
   ]
  },
  {
   "cell_type": "code",
   "execution_count": 5,
   "metadata": {},
   "outputs": [],
   "source": [
    "def getting_ratings(soup_):\n",
    "    rating = soup.findAll('a', {\"data-clicksource\":\"BubbleRating\"})\n",
    "    ratings = [element.attrs['alt']  for element in rating]\n",
    "    return ratings\n"
   ]
  },
  {
   "cell_type": "code",
   "execution_count": 6,
   "metadata": {},
   "outputs": [],
   "source": [
    "def getting_urls(soup_):\n",
    "    domain = \"https://www.tripadvisor.com/\"\n",
    "    list_urls = [domain + i.attrs['href'] for i in soup_.findAll('a',class_=\"review_count\")]\n",
    "    return list_urls"
   ]
  },
  {
   "cell_type": "markdown",
   "metadata": {},
   "source": [
    "## Scraper"
   ]
  },
  {
   "cell_type": "code",
   "execution_count": 7,
   "metadata": {},
   "outputs": [
    {
     "data": {
      "application/javascript": [
       "\n",
       "        if (window._pyforest_update_imports_cell) { window._pyforest_update_imports_cell('import os'); }\n",
       "    "
      ],
      "text/plain": [
       "<IPython.core.display.Javascript object>"
      ]
     },
     "metadata": {},
     "output_type": "display_data"
    }
   ],
   "source": [
    "names = []\n",
    "prices = []\n",
    "total = []\n",
    "url = []\n",
    "ratings = []\n",
    "for page in range(1,30):\n",
    "    if page == 1:\n",
    "        chromedriver = \"/Users/cristinamulas/Downloads/chromedriver\"\n",
    "        os.environ[\"webdriver.chrome.driver\"] = chromedriver\n",
    "        driver = webdriver.Chrome(chromedriver)\n",
    "        driver.get(\"https://www.tripadvisor.com/Hotels-g60763-New_York_City_New_York-Hotels.html\")\n",
    "        driver.maximize_window()\n",
    "        driver.implicitly_wait(10)\n",
    "        nextbutton=WebDriverWait(driver,10).until(EC.element_to_be_clickable((By.XPATH, \"//*[@id='taplc_main_pagination_bar_dusty_hotels_resp_0']/div/div/div/a\")))\n",
    "        driver.execute_script(\"arguments[0].click();\",nextbutton)\n",
    "    else:\n",
    "        time.sleep(10)\n",
    "        driver.find_element_by_xpath(\"//a[contains(text(),'Next')]\").click()\n",
    "        if page == 28:\n",
    "            break\n",
    "    \n",
    "    soup = BeautifulSoup(driver.page_source, 'html.parser')\n",
    "    names += getting_names(soup)\n",
    "    try:\n",
    "         prices += getting_prices(driver)\n",
    "    except:\n",
    "            pass\n",
    "\n",
    "    total += getting_total(soup)\n",
    "    try:\n",
    "        url += getting_urls(soup)\n",
    "\n",
    "    except:\n",
    "            pass\n",
    "    ratings += getting_ratings(soup)\n",
    "       \n",
    "df = pd.DataFrame([names, prices, total, url, ratings]).transpose()\n",
    "df.columns = ['hotel_names','prices', 'total_reviews', 'url', 'ratings']  "
   ]
  },
  {
   "cell_type": "code",
   "execution_count": 8,
   "metadata": {},
   "outputs": [
    {
     "data": {
      "text/plain": [
       "886"
      ]
     },
     "execution_count": 8,
     "metadata": {},
     "output_type": "execute_result"
    }
   ],
   "source": [
    "len(df)"
   ]
  },
  {
   "cell_type": "markdown",
   "metadata": {},
   "source": [
    "## Save the data into a csv file"
   ]
  },
  {
   "cell_type": "code",
   "execution_count": 35,
   "metadata": {},
   "outputs": [],
   "source": [
    "df.to_csv('hotel_features.csv', index=False)\n"
   ]
  }
 ],
 "metadata": {
  "kernelspec": {
   "display_name": "Python 3",
   "language": "python",
   "name": "python3"
  },
  "language_info": {
   "codemirror_mode": {
    "name": "ipython",
    "version": 3
   },
   "file_extension": ".py",
   "mimetype": "text/x-python",
   "name": "python",
   "nbconvert_exporter": "python",
   "pygments_lexer": "ipython3",
   "version": "3.7.7"
  }
 },
 "nbformat": 4,
 "nbformat_minor": 2
}
