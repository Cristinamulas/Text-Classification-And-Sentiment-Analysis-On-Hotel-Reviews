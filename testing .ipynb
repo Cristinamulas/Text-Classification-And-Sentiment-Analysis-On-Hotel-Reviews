{
 "cells": [
  {
   "cell_type": "code",
   "execution_count": 1,
   "metadata": {},
   "outputs": [],
   "source": [
    "import pandas as pd"
   ]
  },
  {
   "cell_type": "code",
   "execution_count": 2,
   "metadata": {},
   "outputs": [],
   "source": [
    "df_tri = pd.read_csv('tri_results')"
   ]
  },
  {
   "cell_type": "code",
   "execution_count": 3,
   "metadata": {},
   "outputs": [
    {
     "data": {
      "text/html": [
       "<div>\n",
       "<style scoped>\n",
       "    .dataframe tbody tr th:only-of-type {\n",
       "        vertical-align: middle;\n",
       "    }\n",
       "\n",
       "    .dataframe tbody tr th {\n",
       "        vertical-align: top;\n",
       "    }\n",
       "\n",
       "    .dataframe thead th {\n",
       "        text-align: right;\n",
       "    }\n",
       "</style>\n",
       "<table border=\"1\" class=\"dataframe\">\n",
       "  <thead>\n",
       "    <tr style=\"text-align: right;\">\n",
       "      <th></th>\n",
       "      <th>Model</th>\n",
       "      <th>Accuracy_score</th>\n",
       "      <th>Recall_score</th>\n",
       "      <th>Precision_score</th>\n",
       "      <th>F1_score</th>\n",
       "      <th>Time</th>\n",
       "    </tr>\n",
       "  </thead>\n",
       "  <tbody>\n",
       "    <tr>\n",
       "      <th>0</th>\n",
       "      <td>Logistic Regresion</td>\n",
       "      <td>70.0%</td>\n",
       "      <td>[0.79548872 0.85050215 0.35085995]</td>\n",
       "      <td>[0.78525482 0.72861357 0.50070126]</td>\n",
       "      <td>[0.79033865 0.7848537  0.41259752]</td>\n",
       "      <td>0.001744</td>\n",
       "    </tr>\n",
       "    <tr>\n",
       "      <th>1</th>\n",
       "      <td>Decision Tree Classifier</td>\n",
       "      <td>56.99999999999999%</td>\n",
       "      <td>[0.60802005 0.69670014 0.31990172]</td>\n",
       "      <td>[0.62719752 0.64608834 0.35710368]</td>\n",
       "      <td>[0.61745991 0.67044043 0.33748056]</td>\n",
       "      <td>0.002128</td>\n",
       "    </tr>\n",
       "    <tr>\n",
       "      <th>2</th>\n",
       "      <td>Random Forest Classifier</td>\n",
       "      <td>64.0%</td>\n",
       "      <td>[0.69323308 0.87833572 0.16560197]</td>\n",
       "      <td>[0.71325425 0.63837331 0.43149808]</td>\n",
       "      <td>[0.70310117 0.73937198 0.23934659]</td>\n",
       "      <td>0.001688</td>\n",
       "    </tr>\n",
       "    <tr>\n",
       "      <th>3</th>\n",
       "      <td>Ada Boots</td>\n",
       "      <td>66.0%</td>\n",
       "      <td>[0.71428571 0.86771879 0.23292383]</td>\n",
       "      <td>[0.71788413 0.66476149 0.48318043]</td>\n",
       "      <td>[0.7160804  0.7528006  0.31432361]</td>\n",
       "      <td>0.000223</td>\n",
       "    </tr>\n",
       "    <tr>\n",
       "      <th>4</th>\n",
       "      <td>Gradient_boosting</td>\n",
       "      <td>67.0%</td>\n",
       "      <td>[0.68170426 0.90243902 0.27616708]</td>\n",
       "      <td>[0.79207921 0.66603134 0.52230483]</td>\n",
       "      <td>[0.73275862 0.76641891 0.36129862]</td>\n",
       "      <td>0.000368</td>\n",
       "    </tr>\n",
       "    <tr>\n",
       "      <th>5</th>\n",
       "      <td>XGB</td>\n",
       "      <td>66.0%</td>\n",
       "      <td>[0.66115288 0.91936872 0.23243243]</td>\n",
       "      <td>[0.78699284 0.64766525 0.53026906]</td>\n",
       "      <td>[0.71860528 0.75996205 0.32319781]</td>\n",
       "      <td>0.000173</td>\n",
       "    </tr>\n",
       "    <tr>\n",
       "      <th>6</th>\n",
       "      <td>Support Vector Machine</td>\n",
       "      <td>67.0%</td>\n",
       "      <td>[0.72982456 0.81893831 0.34643735]</td>\n",
       "      <td>[0.74781715 0.71314343 0.45019157]</td>\n",
       "      <td>[0.73871131 0.76238814 0.3915579 ]</td>\n",
       "      <td>0.002335</td>\n",
       "    </tr>\n",
       "    <tr>\n",
       "      <th>7</th>\n",
       "      <td>Mutinomial NB</td>\n",
       "      <td>71.0%</td>\n",
       "      <td>[0.77794486 0.81377331 0.47371007]</td>\n",
       "      <td>[0.80833333 0.76339166 0.51276596]</td>\n",
       "      <td>[0.79284802 0.78777778 0.49246488]</td>\n",
       "      <td>0.002910</td>\n",
       "    </tr>\n",
       "  </tbody>\n",
       "</table>\n",
       "</div>"
      ],
      "text/plain": [
       "                      Model      Accuracy_score  \\\n",
       "0        Logistic Regresion               70.0%   \n",
       "1  Decision Tree Classifier  56.99999999999999%   \n",
       "2  Random Forest Classifier               64.0%   \n",
       "3                 Ada Boots               66.0%   \n",
       "4         Gradient_boosting               67.0%   \n",
       "5                       XGB               66.0%   \n",
       "6    Support Vector Machine               67.0%   \n",
       "7             Mutinomial NB               71.0%   \n",
       "\n",
       "                         Recall_score                     Precision_score  \\\n",
       "0  [0.79548872 0.85050215 0.35085995]  [0.78525482 0.72861357 0.50070126]   \n",
       "1  [0.60802005 0.69670014 0.31990172]  [0.62719752 0.64608834 0.35710368]   \n",
       "2  [0.69323308 0.87833572 0.16560197]  [0.71325425 0.63837331 0.43149808]   \n",
       "3  [0.71428571 0.86771879 0.23292383]  [0.71788413 0.66476149 0.48318043]   \n",
       "4  [0.68170426 0.90243902 0.27616708]  [0.79207921 0.66603134 0.52230483]   \n",
       "5  [0.66115288 0.91936872 0.23243243]  [0.78699284 0.64766525 0.53026906]   \n",
       "6  [0.72982456 0.81893831 0.34643735]  [0.74781715 0.71314343 0.45019157]   \n",
       "7  [0.77794486 0.81377331 0.47371007]  [0.80833333 0.76339166 0.51276596]   \n",
       "\n",
       "                             F1_score      Time  \n",
       "0  [0.79033865 0.7848537  0.41259752]  0.001744  \n",
       "1  [0.61745991 0.67044043 0.33748056]  0.002128  \n",
       "2  [0.70310117 0.73937198 0.23934659]  0.001688  \n",
       "3  [0.7160804  0.7528006  0.31432361]  0.000223  \n",
       "4  [0.73275862 0.76641891 0.36129862]  0.000368  \n",
       "5  [0.71860528 0.75996205 0.32319781]  0.000173  \n",
       "6  [0.73871131 0.76238814 0.3915579 ]  0.002335  \n",
       "7  [0.79284802 0.78777778 0.49246488]  0.002910  "
      ]
     },
     "execution_count": 3,
     "metadata": {},
     "output_type": "execute_result"
    }
   ],
   "source": [
    "df_tri"
   ]
  },
  {
   "cell_type": "code",
   "execution_count": 24,
   "metadata": {},
   "outputs": [
    {
     "ename": "TypeError",
     "evalue": "type str doesn't define __round__ method",
     "output_type": "error",
     "traceback": [
      "\u001b[0;31m---------------------------------------------------------------------------\u001b[0m",
      "\u001b[0;31mTypeError\u001b[0m                                 Traceback (most recent call last)",
      "\u001b[0;32m<ipython-input-24-2250a3eb88f1>\u001b[0m in \u001b[0;36m<module>\u001b[0;34m\u001b[0m\n\u001b[1;32m      1\u001b[0m \u001b[0mt\u001b[0m \u001b[0;34m=\u001b[0m \u001b[0munnest_df\u001b[0m\u001b[0;34m(\u001b[0m\u001b[0mdf_tri\u001b[0m\u001b[0;34m)\u001b[0m\u001b[0;34m\u001b[0m\u001b[0;34m\u001b[0m\u001b[0m\n\u001b[0;32m----> 2\u001b[0;31m \u001b[0mt\u001b[0m\u001b[0;34m[\u001b[0m\u001b[0;34m'recall_try'\u001b[0m\u001b[0;34m]\u001b[0m \u001b[0;34m=\u001b[0m \u001b[0mt\u001b[0m\u001b[0;34m[\u001b[0m\u001b[0;34m'Recall_score'\u001b[0m\u001b[0;34m]\u001b[0m\u001b[0;34m.\u001b[0m\u001b[0mapply\u001b[0m\u001b[0;34m(\u001b[0m\u001b[0;32mlambda\u001b[0m \u001b[0mx\u001b[0m \u001b[0;34m:\u001b[0m\u001b[0mround\u001b[0m\u001b[0;34m(\u001b[0m\u001b[0mx\u001b[0m\u001b[0;34m,\u001b[0m \u001b[0;36m2\u001b[0m\u001b[0;34m)\u001b[0m \u001b[0;34m*\u001b[0m \u001b[0;36m100\u001b[0m\u001b[0;34m)\u001b[0m\u001b[0;34m\u001b[0m\u001b[0;34m\u001b[0m\u001b[0m\n\u001b[0m",
      "\u001b[0;32m/anaconda3/lib/python3.7/site-packages/pandas/core/series.py\u001b[0m in \u001b[0;36mapply\u001b[0;34m(self, func, convert_dtype, args, **kwds)\u001b[0m\n\u001b[1;32m   3846\u001b[0m             \u001b[0;32melse\u001b[0m\u001b[0;34m:\u001b[0m\u001b[0;34m\u001b[0m\u001b[0;34m\u001b[0m\u001b[0m\n\u001b[1;32m   3847\u001b[0m                 \u001b[0mvalues\u001b[0m \u001b[0;34m=\u001b[0m \u001b[0mself\u001b[0m\u001b[0;34m.\u001b[0m\u001b[0mastype\u001b[0m\u001b[0;34m(\u001b[0m\u001b[0mobject\u001b[0m\u001b[0;34m)\u001b[0m\u001b[0;34m.\u001b[0m\u001b[0mvalues\u001b[0m\u001b[0;34m\u001b[0m\u001b[0;34m\u001b[0m\u001b[0m\n\u001b[0;32m-> 3848\u001b[0;31m                 \u001b[0mmapped\u001b[0m \u001b[0;34m=\u001b[0m \u001b[0mlib\u001b[0m\u001b[0;34m.\u001b[0m\u001b[0mmap_infer\u001b[0m\u001b[0;34m(\u001b[0m\u001b[0mvalues\u001b[0m\u001b[0;34m,\u001b[0m \u001b[0mf\u001b[0m\u001b[0;34m,\u001b[0m \u001b[0mconvert\u001b[0m\u001b[0;34m=\u001b[0m\u001b[0mconvert_dtype\u001b[0m\u001b[0;34m)\u001b[0m\u001b[0;34m\u001b[0m\u001b[0;34m\u001b[0m\u001b[0m\n\u001b[0m\u001b[1;32m   3849\u001b[0m \u001b[0;34m\u001b[0m\u001b[0m\n\u001b[1;32m   3850\u001b[0m         \u001b[0;32mif\u001b[0m \u001b[0mlen\u001b[0m\u001b[0;34m(\u001b[0m\u001b[0mmapped\u001b[0m\u001b[0;34m)\u001b[0m \u001b[0;32mand\u001b[0m \u001b[0misinstance\u001b[0m\u001b[0;34m(\u001b[0m\u001b[0mmapped\u001b[0m\u001b[0;34m[\u001b[0m\u001b[0;36m0\u001b[0m\u001b[0;34m]\u001b[0m\u001b[0;34m,\u001b[0m \u001b[0mSeries\u001b[0m\u001b[0;34m)\u001b[0m\u001b[0;34m:\u001b[0m\u001b[0;34m\u001b[0m\u001b[0;34m\u001b[0m\u001b[0m\n",
      "\u001b[0;32mpandas/_libs/lib.pyx\u001b[0m in \u001b[0;36mpandas._libs.lib.map_infer\u001b[0;34m()\u001b[0m\n",
      "\u001b[0;32m<ipython-input-24-2250a3eb88f1>\u001b[0m in \u001b[0;36m<lambda>\u001b[0;34m(x)\u001b[0m\n\u001b[1;32m      1\u001b[0m \u001b[0mt\u001b[0m \u001b[0;34m=\u001b[0m \u001b[0munnest_df\u001b[0m\u001b[0;34m(\u001b[0m\u001b[0mdf_tri\u001b[0m\u001b[0;34m)\u001b[0m\u001b[0;34m\u001b[0m\u001b[0;34m\u001b[0m\u001b[0m\n\u001b[0;32m----> 2\u001b[0;31m \u001b[0mt\u001b[0m\u001b[0;34m[\u001b[0m\u001b[0;34m'recall_try'\u001b[0m\u001b[0;34m]\u001b[0m \u001b[0;34m=\u001b[0m \u001b[0mt\u001b[0m\u001b[0;34m[\u001b[0m\u001b[0;34m'Recall_score'\u001b[0m\u001b[0;34m]\u001b[0m\u001b[0;34m.\u001b[0m\u001b[0mapply\u001b[0m\u001b[0;34m(\u001b[0m\u001b[0;32mlambda\u001b[0m \u001b[0mx\u001b[0m \u001b[0;34m:\u001b[0m\u001b[0mround\u001b[0m\u001b[0;34m(\u001b[0m\u001b[0mx\u001b[0m\u001b[0;34m,\u001b[0m \u001b[0;36m2\u001b[0m\u001b[0;34m)\u001b[0m \u001b[0;34m*\u001b[0m \u001b[0;36m100\u001b[0m\u001b[0;34m)\u001b[0m\u001b[0;34m\u001b[0m\u001b[0;34m\u001b[0m\u001b[0m\n\u001b[0m",
      "\u001b[0;31mTypeError\u001b[0m: type str doesn't define __round__ method"
     ]
    }
   ],
   "source": [
    "t = unnest_df(df_tri)\n",
    "t['recall_try'] = t['Recall_score'].apply(lambda x :round(x, 2) * 100) \n"
   ]
  },
  {
   "cell_type": "code",
   "execution_count": 9,
   "metadata": {},
   "outputs": [
    {
     "data": {
      "text/plain": [
       "0    [0.79548872 0.85050215 0.35085995]\n",
       "1    [0.60802005 0.69670014 0.31990172]\n",
       "2    [0.69323308 0.87833572 0.16560197]\n",
       "3    [0.71428571 0.86771879 0.23292383]\n",
       "4    [0.68170426 0.90243902 0.27616708]\n",
       "5    [0.66115288 0.91936872 0.23243243]\n",
       "6    [0.72982456 0.81893831 0.34643735]\n",
       "7    [0.77794486 0.81377331 0.47371007]\n",
       "Name: Recall_score, dtype: object"
      ]
     },
     "execution_count": 9,
     "metadata": {},
     "output_type": "execute_result"
    }
   ],
   "source": [
    "df_recall_pre_f1 = df_tri.loc[: ,['Recall_score' , 'Precision_score' , 'F1_score']]\n",
    "recall = table_manupulation(df_recall_pre_f1, 'Recall_score')\n",
    "recall"
   ]
  },
  {
   "cell_type": "code",
   "execution_count": null,
   "metadata": {},
   "outputs": [],
   "source": []
  },
  {
   "cell_type": "code",
   "execution_count": 15,
   "metadata": {},
   "outputs": [],
   "source": [
    "def unnest_df_tri(df):\n",
    "    \n",
    "    df_recall_pre_f1 = df.loc[: ,['Recall_score' , 'Precision_score' , 'F1_score']]\n",
    "    recall = table_manupulation(df_recall_pre_f1, 'Recall_score')\n",
    "    precision = table_manupulation(df_recall_pre_f1, 'Precision_score')\n",
    "    f1_score = table_manupulation(df_recall_pre_f1, 'F1_score')\n",
    "    df_metrix = pd.DataFrame([recall, precision, f1_score]).transpose()\n",
    "    df_metrix.index = pd.Series(['Logistic Regresion', 'Decision Tree Classifier','Random Forest Classifier', 'Ada Boots', 'Gradient_boosting', 'XGB','Support Vector Machine', 'Mutinomial NB'])\n",
    "    return df_metrix\n"
   ]
  },
  {
   "cell_type": "code",
   "execution_count": 4,
   "metadata": {},
   "outputs": [],
   "source": [
    "def table_manupulation(df , col):\n",
    "    \"\"\" return unnested values in a col \"\"\"\n",
    "    \n",
    "    df = df.explode(col)\n",
    "    df = df.loc[ : , col]\n",
    "    df = df.reset_index(drop=True)\n",
    "    return df\n"
   ]
  },
  {
   "cell_type": "code",
   "execution_count": null,
   "metadata": {},
   "outputs": [],
   "source": []
  }
 ],
 "metadata": {
  "kernelspec": {
   "display_name": "Python 3",
   "language": "python",
   "name": "python3"
  },
  "language_info": {
   "codemirror_mode": {
    "name": "ipython",
    "version": 3
   },
   "file_extension": ".py",
   "mimetype": "text/x-python",
   "name": "python",
   "nbconvert_exporter": "python",
   "pygments_lexer": "ipython3",
   "version": "3.7.3"
  }
 },
 "nbformat": 4,
 "nbformat_minor": 2
}
