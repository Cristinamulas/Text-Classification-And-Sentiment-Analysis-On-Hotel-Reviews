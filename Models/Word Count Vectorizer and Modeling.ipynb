{
 "cells": [
  {
   "cell_type": "markdown",
   "metadata": {},
   "source": [
    "# Modelling"
   ]
  },
  {
   "cell_type": "markdown",
   "metadata": {},
   "source": [
    "- This notebook contains model training, data engineering and selection processes using Word Count vectoraizer.\n",
    "\n"
   ]
  },
  {
   "cell_type": "markdown",
   "metadata": {},
   "source": [
    "### Import Necessary Libraries"
   ]
  },
  {
   "cell_type": "code",
   "execution_count": 1,
   "metadata": {},
   "outputs": [],
   "source": [
    "from functions import *"
   ]
  },
  {
   "cell_type": "markdown",
   "metadata": {},
   "source": [
    "### Load dfs\n"
   ]
  },
  {
   "cell_type": "code",
   "execution_count": 2,
   "metadata": {},
   "outputs": [
    {
     "data": {
      "text/html": [
       "<div>\n",
       "<style scoped>\n",
       "    .dataframe tbody tr th:only-of-type {\n",
       "        vertical-align: middle;\n",
       "    }\n",
       "\n",
       "    .dataframe tbody tr th {\n",
       "        vertical-align: top;\n",
       "    }\n",
       "\n",
       "    .dataframe thead th {\n",
       "        text-align: right;\n",
       "    }\n",
       "</style>\n",
       "<table border=\"1\" class=\"dataframe\">\n",
       "  <thead>\n",
       "    <tr style=\"text-align: right;\">\n",
       "      <th></th>\n",
       "      <th>review_rating</th>\n",
       "      <th>Reviews_tokenize_join</th>\n",
       "    </tr>\n",
       "  </thead>\n",
       "  <tbody>\n",
       "    <tr>\n",
       "      <th>0</th>\n",
       "      <td>1</td>\n",
       "      <td>start say understand hard time city country en...</td>\n",
       "    </tr>\n",
       "    <tr>\n",
       "      <th>1</th>\n",
       "      <td>5</td>\n",
       "      <td>wonderful visit time park view thank upgrade l...</td>\n",
       "    </tr>\n",
       "    <tr>\n",
       "      <th>2</th>\n",
       "      <td>5</td>\n",
       "      <td>good hotel stay absolutely worth money view ce...</td>\n",
       "    </tr>\n",
       "    <tr>\n",
       "      <th>3</th>\n",
       "      <td>5</td>\n",
       "      <td>fantastic location spot step central park view...</td>\n",
       "    </tr>\n",
       "    <tr>\n",
       "      <th>4</th>\n",
       "      <td>5</td>\n",
       "      <td>amazing park view nicole staff professional fr...</td>\n",
       "    </tr>\n",
       "  </tbody>\n",
       "</table>\n",
       "</div>"
      ],
      "text/plain": [
       "   review_rating                              Reviews_tokenize_join\n",
       "0              1  start say understand hard time city country en...\n",
       "1              5  wonderful visit time park view thank upgrade l...\n",
       "2              5  good hotel stay absolutely worth money view ce...\n",
       "3              5  fantastic location spot step central park view...\n",
       "4              5  amazing park view nicole staff professional fr..."
      ]
     },
     "execution_count": 2,
     "metadata": {},
     "output_type": "execute_result"
    }
   ],
   "source": [
    "# import libraries form csv files into pandas df\n",
    "df = pd.read_csv('data_for_model.csv', usecols = ['review_rating' , 'Reviews_tokenize_join'])\n",
    "df.head()"
   ]
  },
  {
   "cell_type": "code",
   "execution_count": 18,
   "metadata": {},
   "outputs": [],
   "source": [
    "# optimazation memory by converting the review_rating to category\n",
    "df['target'] = df['review_rating'].astype('category')"
   ]
  },
  {
   "cell_type": "markdown",
   "metadata": {},
   "source": [
    "## Data Engineering and Modelling\n",
    "\n"
   ]
  },
  {
   "cell_type": "markdown",
   "metadata": {},
   "source": [
    "\n",
    "I am going to implement different classifiers to see which works best:\n",
    "\n",
    "- Logistic Regression\n",
    "- Decision Tree\n",
    "- Random Forest\n",
    "- Ada Boots\n",
    "- Gradient Boosting\n",
    "- XGB\n",
    "- Linear Support Vector Classification\n",
    "- Multinomial Naive Bayes"
   ]
  },
  {
   "cell_type": "markdown",
   "metadata": {},
   "source": [
    "### Logistic Regresion "
   ]
  },
  {
   "cell_type": "code",
   "execution_count": 4,
   "metadata": {},
   "outputs": [],
   "source": [
    "lg_multi_class = clf_count_vectorizer(LogisticRegression() , df ,'Reviews_tokenize_join', 'target')\n"
   ]
  },
  {
   "cell_type": "code",
   "execution_count": 5,
   "metadata": {
    "scrolled": false
   },
   "outputs": [
    {
     "data": {
      "text/plain": [
       "{'Accuracy_score': '59.0%',\n",
       " 'Recall_score': array([0.52062868, 0.18214286, 0.31641469, 0.38820639, 0.85566714]),\n",
       " 'Precision_score': array([0.51456311, 0.30088496, 0.38200782, 0.46225863, 0.7125448 ]),\n",
       " 'F1_score': array([0.51757812, 0.2269188 , 0.34613113, 0.42200855, 0.77757497]),\n",
       " 'Time': 0.0022916269999999628}"
      ]
     },
     "execution_count": 5,
     "metadata": {},
     "output_type": "execute_result"
    }
   ],
   "source": [
    "lg_multi_class"
   ]
  },
  {
   "cell_type": "markdown",
   "metadata": {},
   "source": [
    "### Mutinomial NB"
   ]
  },
  {
   "cell_type": "code",
   "execution_count": 6,
   "metadata": {},
   "outputs": [],
   "source": [
    "nb_multi_class = clf_count_vectorizer(MultinomialNB(), df, 'Reviews_tokenize_join', 'target')"
   ]
  },
  {
   "cell_type": "code",
   "execution_count": 7,
   "metadata": {},
   "outputs": [
    {
     "data": {
      "text/plain": [
       "{'Accuracy_score': '61.0%',\n",
       " 'Recall_score': array([0.57367387, 0.18571429, 0.37149028, 0.4953317 , 0.81979914]),\n",
       " 'Precision_score': array([0.51318102, 0.33766234, 0.39179954, 0.50526316, 0.75883134]),\n",
       " 'F1_score': array([0.54174397, 0.23963134, 0.38137472, 0.50024814, 0.78813793]),\n",
       " 'Time': 0.001904797999998209}"
      ]
     },
     "execution_count": 7,
     "metadata": {},
     "output_type": "execute_result"
    }
   ],
   "source": [
    "nb_multi_class"
   ]
  },
  {
   "cell_type": "markdown",
   "metadata": {},
   "source": [
    "### Decision Tree Classifier"
   ]
  },
  {
   "cell_type": "code",
   "execution_count": 8,
   "metadata": {},
   "outputs": [],
   "source": [
    "dt_multi_class = clf_count_vectorizer(DecisionTreeClassifier(), df, 'Reviews_tokenize_join', 'target')"
   ]
  },
  {
   "cell_type": "code",
   "execution_count": 9,
   "metadata": {},
   "outputs": [
    {
     "data": {
      "text/plain": [
       "{'Accuracy_score': '48.0%',\n",
       " 'Recall_score': array([0.36149312, 0.18392857, 0.20410367, 0.34004914, 0.7061693 ]),\n",
       " 'Precision_score': array([0.35867446, 0.23732719, 0.23218673, 0.36079249, 0.6415537 ]),\n",
       " 'F1_score': array([0.36007828, 0.20724346, 0.21724138, 0.35011384, 0.67231253]),\n",
       " 'Time': 0.001997889999991287}"
      ]
     },
     "execution_count": 9,
     "metadata": {},
     "output_type": "execute_result"
    }
   ],
   "source": [
    "dt_multi_class"
   ]
  },
  {
   "cell_type": "markdown",
   "metadata": {},
   "source": [
    "### AdaBoots"
   ]
  },
  {
   "cell_type": "code",
   "execution_count": 10,
   "metadata": {},
   "outputs": [],
   "source": [
    "ab_multi_class = clf_count_vectorizer(AdaBoostClassifier(), df, 'Reviews_tokenize_join', 'target')"
   ]
  },
  {
   "cell_type": "code",
   "execution_count": 11,
   "metadata": {},
   "outputs": [
    {
     "data": {
      "text/plain": [
       "{'Accuracy_score': '56.00000000000001%',\n",
       " 'Recall_score': array([0.5540275 , 0.13035714, 0.20518359, 0.32579853, 0.85710187]),\n",
       " 'Precision_score': array([0.4661157 , 0.29435484, 0.33868093, 0.44526528, 0.64765828]),\n",
       " 'F1_score': array([0.50628366, 0.18069307, 0.25554808, 0.37627696, 0.73780412]),\n",
       " 'Time': 0.0020860550000065814}"
      ]
     },
     "execution_count": 11,
     "metadata": {},
     "output_type": "execute_result"
    }
   ],
   "source": [
    "ab_multi_class "
   ]
  },
  {
   "cell_type": "markdown",
   "metadata": {},
   "source": [
    "### Gradient_boosting\n"
   ]
  },
  {
   "cell_type": "code",
   "execution_count": 12,
   "metadata": {},
   "outputs": [],
   "source": [
    "gb_multi_class = clf_count_vectorizer(GradientBoostingClassifier(), df, 'Reviews_tokenize_join', 'target')"
   ]
  },
  {
   "cell_type": "code",
   "execution_count": 13,
   "metadata": {},
   "outputs": [
    {
     "data": {
      "text/plain": [
       "{'Accuracy_score': '56.99999999999999%',\n",
       " 'Recall_score': array([0.44204322, 0.09464286, 0.1663067 , 0.33808354, 0.91420373]),\n",
       " 'Precision_score': array([0.54744526, 0.31547619, 0.39185751, 0.46236559, 0.63026706]),\n",
       " 'F1_score': array([0.48913043, 0.1456044 , 0.23351024, 0.39057621, 0.74613583]),\n",
       " 'Time': 0.004175410999998519}"
      ]
     },
     "execution_count": 13,
     "metadata": {},
     "output_type": "execute_result"
    }
   ],
   "source": [
    "gb_multi_class"
   ]
  },
  {
   "cell_type": "markdown",
   "metadata": {},
   "source": [
    "### XGB\n"
   ]
  },
  {
   "cell_type": "code",
   "execution_count": 14,
   "metadata": {},
   "outputs": [],
   "source": [
    "xgb_multi_class = clf_count_vectorizer(XGBClassifier(), df, 'Reviews_tokenize_join', 'target')"
   ]
  },
  {
   "cell_type": "code",
   "execution_count": 15,
   "metadata": {},
   "outputs": [
    {
     "data": {
      "text/plain": [
       "{'Accuracy_score': '56.00000000000001%',\n",
       " 'Recall_score': array([0.42632613, 0.0625    , 0.12850972, 0.26977887, 0.94146341]),\n",
       " 'Precision_score': array([0.54385965, 0.2892562 , 0.41319444, 0.45222405, 0.59730566]),\n",
       " 'F1_score': array([0.47797357, 0.10279001, 0.19604613, 0.33795014, 0.73089775]),\n",
       " 'Time': 0.0032649369999973032}"
      ]
     },
     "execution_count": 15,
     "metadata": {},
     "output_type": "execute_result"
    }
   ],
   "source": [
    "xgb_multi_class "
   ]
  },
  {
   "cell_type": "markdown",
   "metadata": {},
   "source": [
    "### Linear Support Vector Classification"
   ]
  },
  {
   "cell_type": "code",
   "execution_count": 16,
   "metadata": {},
   "outputs": [],
   "source": [
    "svc_multi_class = clf_count_vectorizer(LinearSVC(),df, 'Reviews_tokenize_join', 'target')"
   ]
  },
  {
   "cell_type": "code",
   "execution_count": 17,
   "metadata": {},
   "outputs": [
    {
     "data": {
      "text/plain": [
       "{'Accuracy_score': '56.00000000000001%',\n",
       " 'Recall_score': array([0.43614931, 0.21428571, 0.28293737, 0.36314496, 0.8266858 ]),\n",
       " 'Precision_score': array([0.45398773, 0.28169014, 0.31912302, 0.44145759, 0.70182704]),\n",
       " 'F1_score': array([0.44488978, 0.24340771, 0.29994276, 0.39849016, 0.75915679]),\n",
       " 'Time': 0.00382525700000258}"
      ]
     },
     "execution_count": 17,
     "metadata": {},
     "output_type": "execute_result"
    }
   ],
   "source": [
    "svc_multi_class"
   ]
  },
  {
   "cell_type": "markdown",
   "metadata": {},
   "source": [
    "### Random Forest Classifier"
   ]
  },
  {
   "cell_type": "code",
   "execution_count": 18,
   "metadata": {},
   "outputs": [],
   "source": [
    "rf_multi_class = clf_count_vectorizer(RandomForestClassifier(),df, 'Reviews_tokenize_join', 'target')"
   ]
  },
  {
   "cell_type": "code",
   "execution_count": 19,
   "metadata": {},
   "outputs": [
    {
     "data": {
      "text/plain": [
       "{'Accuracy_score': '54.0%',\n",
       " 'Recall_score': array([0.41257367, 0.08214286, 0.18034557, 0.31400491, 0.8553802 ]),\n",
       " 'Precision_score': array([0.46563193, 0.27218935, 0.30925926, 0.40112994, 0.62599748]),\n",
       " 'F1_score': array([0.4375    , 0.12620027, 0.22783083, 0.3522602 , 0.72292955]),\n",
       " 'Time': 0.0011572549999954163}"
      ]
     },
     "execution_count": 19,
     "metadata": {},
     "output_type": "execute_result"
    }
   ],
   "source": [
    "rf_multi_class "
   ]
  },
  {
   "cell_type": "markdown",
   "metadata": {},
   "source": [
    "### Results Summary\n"
   ]
  },
  {
   "cell_type": "code",
   "execution_count": 142,
   "metadata": {},
   "outputs": [
    {
     "data": {
      "text/html": [
       "<div>\n",
       "<style scoped>\n",
       "    .dataframe tbody tr th:only-of-type {\n",
       "        vertical-align: middle;\n",
       "    }\n",
       "\n",
       "    .dataframe tbody tr th {\n",
       "        vertical-align: top;\n",
       "    }\n",
       "\n",
       "    .dataframe thead th {\n",
       "        text-align: right;\n",
       "    }\n",
       "</style>\n",
       "<table border=\"1\" class=\"dataframe\">\n",
       "  <thead>\n",
       "    <tr style=\"text-align: right;\">\n",
       "      <th></th>\n",
       "      <th>Accuracy_score</th>\n",
       "      <th>Recall_score</th>\n",
       "      <th>Precision_score</th>\n",
       "      <th>F1_score</th>\n",
       "      <th>Time</th>\n",
       "    </tr>\n",
       "    <tr>\n",
       "      <th>Model</th>\n",
       "      <th></th>\n",
       "      <th></th>\n",
       "      <th></th>\n",
       "      <th></th>\n",
       "      <th></th>\n",
       "    </tr>\n",
       "  </thead>\n",
       "  <tbody>\n",
       "    <tr>\n",
       "      <th>Mutinomial NB</th>\n",
       "      <td>61.0%</td>\n",
       "      <td>[0.5736738703339882, 0.18571428571428572, 0.37...</td>\n",
       "      <td>[0.5131810193321616, 0.33766233766233766, 0.39...</td>\n",
       "      <td>[0.5417439703153989, 0.23963133640552997, 0.38...</td>\n",
       "      <td>0.001905</td>\n",
       "    </tr>\n",
       "    <tr>\n",
       "      <th>Logistic Regresion</th>\n",
       "      <td>59.0%</td>\n",
       "      <td>[0.5206286836935167, 0.18214285714285713, 0.31...</td>\n",
       "      <td>[0.5145631067961165, 0.3008849557522124, 0.382...</td>\n",
       "      <td>[0.517578125, 0.22691879866518352, 0.346131128...</td>\n",
       "      <td>0.002292</td>\n",
       "    </tr>\n",
       "    <tr>\n",
       "      <th>Gradient_boosting</th>\n",
       "      <td>56.99999999999999%</td>\n",
       "      <td>[0.44204322200392926, 0.09464285714285714, 0.1...</td>\n",
       "      <td>[0.5474452554744526, 0.31547619047619047, 0.39...</td>\n",
       "      <td>[0.4891304347826087, 0.14560439560439561, 0.23...</td>\n",
       "      <td>0.004175</td>\n",
       "    </tr>\n",
       "    <tr>\n",
       "      <th>Ada Boots</th>\n",
       "      <td>56.00000000000001%</td>\n",
       "      <td>[0.5540275049115914, 0.13035714285714287, 0.20...</td>\n",
       "      <td>[0.46611570247933887, 0.29435483870967744, 0.3...</td>\n",
       "      <td>[0.5062836624775584, 0.18069306930693071, 0.25...</td>\n",
       "      <td>0.002086</td>\n",
       "    </tr>\n",
       "    <tr>\n",
       "      <th>XGB</th>\n",
       "      <td>56.00000000000001%</td>\n",
       "      <td>[0.4263261296660118, 0.0625, 0.128509719222462...</td>\n",
       "      <td>[0.543859649122807, 0.2892561983471074, 0.4131...</td>\n",
       "      <td>[0.4779735682819383, 0.1027900146842878, 0.196...</td>\n",
       "      <td>0.003265</td>\n",
       "    </tr>\n",
       "    <tr>\n",
       "      <th>Support Vector Machine</th>\n",
       "      <td>56.00000000000001%</td>\n",
       "      <td>[0.4361493123772102, 0.21428571428571427, 0.28...</td>\n",
       "      <td>[0.4539877300613497, 0.28169014084507044, 0.31...</td>\n",
       "      <td>[0.4448897795591182, 0.24340770791075053, 0.29...</td>\n",
       "      <td>0.003825</td>\n",
       "    </tr>\n",
       "    <tr>\n",
       "      <th>Random Forest Classifier</th>\n",
       "      <td>54.0%</td>\n",
       "      <td>[0.412573673870334, 0.08214285714285714, 0.180...</td>\n",
       "      <td>[0.4656319290465632, 0.27218934911242604, 0.30...</td>\n",
       "      <td>[0.4375, 0.1262002743484225, 0.227830832196452...</td>\n",
       "      <td>0.001157</td>\n",
       "    </tr>\n",
       "    <tr>\n",
       "      <th>Decision Tree Classifier</th>\n",
       "      <td>48.0%</td>\n",
       "      <td>[0.3614931237721022, 0.18392857142857144, 0.20...</td>\n",
       "      <td>[0.3586744639376218, 0.23732718894009217, 0.23...</td>\n",
       "      <td>[0.3600782778864971, 0.20724346076458752, 0.21...</td>\n",
       "      <td>0.001998</td>\n",
       "    </tr>\n",
       "  </tbody>\n",
       "</table>\n",
       "</div>"
      ],
      "text/plain": [
       "                              Accuracy_score  \\\n",
       "Model                                          \n",
       "Mutinomial NB                          61.0%   \n",
       "Logistic Regresion                     59.0%   \n",
       "Gradient_boosting         56.99999999999999%   \n",
       "Ada Boots                 56.00000000000001%   \n",
       "XGB                       56.00000000000001%   \n",
       "Support Vector Machine    56.00000000000001%   \n",
       "Random Forest Classifier               54.0%   \n",
       "Decision Tree Classifier               48.0%   \n",
       "\n",
       "                                                               Recall_score  \\\n",
       "Model                                                                         \n",
       "Mutinomial NB             [0.5736738703339882, 0.18571428571428572, 0.37...   \n",
       "Logistic Regresion        [0.5206286836935167, 0.18214285714285713, 0.31...   \n",
       "Gradient_boosting         [0.44204322200392926, 0.09464285714285714, 0.1...   \n",
       "Ada Boots                 [0.5540275049115914, 0.13035714285714287, 0.20...   \n",
       "XGB                       [0.4263261296660118, 0.0625, 0.128509719222462...   \n",
       "Support Vector Machine    [0.4361493123772102, 0.21428571428571427, 0.28...   \n",
       "Random Forest Classifier  [0.412573673870334, 0.08214285714285714, 0.180...   \n",
       "Decision Tree Classifier  [0.3614931237721022, 0.18392857142857144, 0.20...   \n",
       "\n",
       "                                                            Precision_score  \\\n",
       "Model                                                                         \n",
       "Mutinomial NB             [0.5131810193321616, 0.33766233766233766, 0.39...   \n",
       "Logistic Regresion        [0.5145631067961165, 0.3008849557522124, 0.382...   \n",
       "Gradient_boosting         [0.5474452554744526, 0.31547619047619047, 0.39...   \n",
       "Ada Boots                 [0.46611570247933887, 0.29435483870967744, 0.3...   \n",
       "XGB                       [0.543859649122807, 0.2892561983471074, 0.4131...   \n",
       "Support Vector Machine    [0.4539877300613497, 0.28169014084507044, 0.31...   \n",
       "Random Forest Classifier  [0.4656319290465632, 0.27218934911242604, 0.30...   \n",
       "Decision Tree Classifier  [0.3586744639376218, 0.23732718894009217, 0.23...   \n",
       "\n",
       "                                                                   F1_score  \\\n",
       "Model                                                                         \n",
       "Mutinomial NB             [0.5417439703153989, 0.23963133640552997, 0.38...   \n",
       "Logistic Regresion        [0.517578125, 0.22691879866518352, 0.346131128...   \n",
       "Gradient_boosting         [0.4891304347826087, 0.14560439560439561, 0.23...   \n",
       "Ada Boots                 [0.5062836624775584, 0.18069306930693071, 0.25...   \n",
       "XGB                       [0.4779735682819383, 0.1027900146842878, 0.196...   \n",
       "Support Vector Machine    [0.4448897795591182, 0.24340770791075053, 0.29...   \n",
       "Random Forest Classifier  [0.4375, 0.1262002743484225, 0.227830832196452...   \n",
       "Decision Tree Classifier  [0.3600782778864971, 0.20724346076458752, 0.21...   \n",
       "\n",
       "                              Time  \n",
       "Model                               \n",
       "Mutinomial NB             0.001905  \n",
       "Logistic Regresion        0.002292  \n",
       "Gradient_boosting         0.004175  \n",
       "Ada Boots                 0.002086  \n",
       "XGB                       0.003265  \n",
       "Support Vector Machine    0.003825  \n",
       "Random Forest Classifier  0.001157  \n",
       "Decision Tree Classifier  0.001998  "
      ]
     },
     "execution_count": 142,
     "metadata": {},
     "output_type": "execute_result"
    }
   ],
   "source": [
    "l= [lg_multi_class, dt_multi_class, rf_multi_class, ab_multi_class, gb_multi_class, xgb_multi_class, svc_multi_class,nb_multi_class  ]\n",
    "df_results_multi = table_results(l)\n",
    "df_results_multi.loc[: , ['Accuracy_score', 'Time']]\n",
    "df_results_multi.sort_values(by='Accuracy_score', ascending=False)"
   ]
  },
  {
   "cell_type": "code",
   "execution_count": 21,
   "metadata": {},
   "outputs": [
    {
     "data": {
      "text/html": [
       "<div>\n",
       "<style scoped>\n",
       "    .dataframe tbody tr th:only-of-type {\n",
       "        vertical-align: middle;\n",
       "    }\n",
       "\n",
       "    .dataframe tbody tr th {\n",
       "        vertical-align: top;\n",
       "    }\n",
       "\n",
       "    .dataframe thead th {\n",
       "        text-align: right;\n",
       "    }\n",
       "</style>\n",
       "<table border=\"1\" class=\"dataframe\">\n",
       "  <thead>\n",
       "    <tr style=\"text-align: right;\">\n",
       "      <th></th>\n",
       "      <th>Recall_score</th>\n",
       "      <th>Precision_score</th>\n",
       "      <th>F1_score</th>\n",
       "      <th>target_class</th>\n",
       "      <th>model</th>\n",
       "    </tr>\n",
       "  </thead>\n",
       "  <tbody>\n",
       "    <tr>\n",
       "      <th>0</th>\n",
       "      <td>0.520629</td>\n",
       "      <td>0.514563</td>\n",
       "      <td>0.517578</td>\n",
       "      <td>1</td>\n",
       "      <td>Logistic Regresion</td>\n",
       "    </tr>\n",
       "    <tr>\n",
       "      <th>1</th>\n",
       "      <td>0.182143</td>\n",
       "      <td>0.300885</td>\n",
       "      <td>0.226919</td>\n",
       "      <td>2</td>\n",
       "      <td>Logistic Regresion</td>\n",
       "    </tr>\n",
       "    <tr>\n",
       "      <th>2</th>\n",
       "      <td>0.316415</td>\n",
       "      <td>0.382008</td>\n",
       "      <td>0.346131</td>\n",
       "      <td>3</td>\n",
       "      <td>Logistic Regresion</td>\n",
       "    </tr>\n",
       "    <tr>\n",
       "      <th>3</th>\n",
       "      <td>0.388206</td>\n",
       "      <td>0.462259</td>\n",
       "      <td>0.422009</td>\n",
       "      <td>4</td>\n",
       "      <td>Logistic Regresion</td>\n",
       "    </tr>\n",
       "    <tr>\n",
       "      <th>4</th>\n",
       "      <td>0.855667</td>\n",
       "      <td>0.712545</td>\n",
       "      <td>0.777575</td>\n",
       "      <td>5</td>\n",
       "      <td>Logistic Regresion</td>\n",
       "    </tr>\n",
       "    <tr>\n",
       "      <th>5</th>\n",
       "      <td>0.361493</td>\n",
       "      <td>0.358674</td>\n",
       "      <td>0.360078</td>\n",
       "      <td>1</td>\n",
       "      <td>Decision Tree Classifier</td>\n",
       "    </tr>\n",
       "    <tr>\n",
       "      <th>6</th>\n",
       "      <td>0.183929</td>\n",
       "      <td>0.237327</td>\n",
       "      <td>0.207243</td>\n",
       "      <td>2</td>\n",
       "      <td>Decision Tree Classifier</td>\n",
       "    </tr>\n",
       "    <tr>\n",
       "      <th>7</th>\n",
       "      <td>0.204104</td>\n",
       "      <td>0.232187</td>\n",
       "      <td>0.217241</td>\n",
       "      <td>3</td>\n",
       "      <td>Decision Tree Classifier</td>\n",
       "    </tr>\n",
       "    <tr>\n",
       "      <th>8</th>\n",
       "      <td>0.340049</td>\n",
       "      <td>0.360792</td>\n",
       "      <td>0.350114</td>\n",
       "      <td>4</td>\n",
       "      <td>Decision Tree Classifier</td>\n",
       "    </tr>\n",
       "    <tr>\n",
       "      <th>9</th>\n",
       "      <td>0.706169</td>\n",
       "      <td>0.641554</td>\n",
       "      <td>0.672313</td>\n",
       "      <td>5</td>\n",
       "      <td>Decision Tree Classifier</td>\n",
       "    </tr>\n",
       "    <tr>\n",
       "      <th>10</th>\n",
       "      <td>0.412574</td>\n",
       "      <td>0.465632</td>\n",
       "      <td>0.437500</td>\n",
       "      <td>1</td>\n",
       "      <td>Random Forest Classifier</td>\n",
       "    </tr>\n",
       "    <tr>\n",
       "      <th>11</th>\n",
       "      <td>0.082143</td>\n",
       "      <td>0.272189</td>\n",
       "      <td>0.126200</td>\n",
       "      <td>2</td>\n",
       "      <td>Random Forest Classifier</td>\n",
       "    </tr>\n",
       "    <tr>\n",
       "      <th>12</th>\n",
       "      <td>0.180346</td>\n",
       "      <td>0.309259</td>\n",
       "      <td>0.227831</td>\n",
       "      <td>3</td>\n",
       "      <td>Random Forest Classifier</td>\n",
       "    </tr>\n",
       "    <tr>\n",
       "      <th>13</th>\n",
       "      <td>0.314005</td>\n",
       "      <td>0.401130</td>\n",
       "      <td>0.352260</td>\n",
       "      <td>4</td>\n",
       "      <td>Random Forest Classifier</td>\n",
       "    </tr>\n",
       "    <tr>\n",
       "      <th>14</th>\n",
       "      <td>0.855380</td>\n",
       "      <td>0.625997</td>\n",
       "      <td>0.722930</td>\n",
       "      <td>5</td>\n",
       "      <td>Random Forest Classifier</td>\n",
       "    </tr>\n",
       "    <tr>\n",
       "      <th>15</th>\n",
       "      <td>0.554028</td>\n",
       "      <td>0.466116</td>\n",
       "      <td>0.506284</td>\n",
       "      <td>1</td>\n",
       "      <td>Ada Boots</td>\n",
       "    </tr>\n",
       "    <tr>\n",
       "      <th>16</th>\n",
       "      <td>0.130357</td>\n",
       "      <td>0.294355</td>\n",
       "      <td>0.180693</td>\n",
       "      <td>2</td>\n",
       "      <td>Ada Boots</td>\n",
       "    </tr>\n",
       "    <tr>\n",
       "      <th>17</th>\n",
       "      <td>0.205184</td>\n",
       "      <td>0.338681</td>\n",
       "      <td>0.255548</td>\n",
       "      <td>3</td>\n",
       "      <td>Ada Boots</td>\n",
       "    </tr>\n",
       "    <tr>\n",
       "      <th>18</th>\n",
       "      <td>0.325799</td>\n",
       "      <td>0.445265</td>\n",
       "      <td>0.376277</td>\n",
       "      <td>4</td>\n",
       "      <td>Ada Boots</td>\n",
       "    </tr>\n",
       "    <tr>\n",
       "      <th>19</th>\n",
       "      <td>0.857102</td>\n",
       "      <td>0.647658</td>\n",
       "      <td>0.737804</td>\n",
       "      <td>5</td>\n",
       "      <td>Ada Boots</td>\n",
       "    </tr>\n",
       "    <tr>\n",
       "      <th>20</th>\n",
       "      <td>0.442043</td>\n",
       "      <td>0.547445</td>\n",
       "      <td>0.489130</td>\n",
       "      <td>1</td>\n",
       "      <td>Gradient_boosting</td>\n",
       "    </tr>\n",
       "    <tr>\n",
       "      <th>21</th>\n",
       "      <td>0.094643</td>\n",
       "      <td>0.315476</td>\n",
       "      <td>0.145604</td>\n",
       "      <td>2</td>\n",
       "      <td>Gradient_boosting</td>\n",
       "    </tr>\n",
       "    <tr>\n",
       "      <th>22</th>\n",
       "      <td>0.166307</td>\n",
       "      <td>0.391858</td>\n",
       "      <td>0.233510</td>\n",
       "      <td>3</td>\n",
       "      <td>Gradient_boosting</td>\n",
       "    </tr>\n",
       "    <tr>\n",
       "      <th>23</th>\n",
       "      <td>0.338084</td>\n",
       "      <td>0.462366</td>\n",
       "      <td>0.390576</td>\n",
       "      <td>4</td>\n",
       "      <td>Gradient_boosting</td>\n",
       "    </tr>\n",
       "    <tr>\n",
       "      <th>24</th>\n",
       "      <td>0.914204</td>\n",
       "      <td>0.630267</td>\n",
       "      <td>0.746136</td>\n",
       "      <td>5</td>\n",
       "      <td>Gradient_boosting</td>\n",
       "    </tr>\n",
       "    <tr>\n",
       "      <th>25</th>\n",
       "      <td>0.426326</td>\n",
       "      <td>0.543860</td>\n",
       "      <td>0.477974</td>\n",
       "      <td>1</td>\n",
       "      <td>XGB</td>\n",
       "    </tr>\n",
       "    <tr>\n",
       "      <th>26</th>\n",
       "      <td>0.062500</td>\n",
       "      <td>0.289256</td>\n",
       "      <td>0.102790</td>\n",
       "      <td>2</td>\n",
       "      <td>XGB</td>\n",
       "    </tr>\n",
       "    <tr>\n",
       "      <th>27</th>\n",
       "      <td>0.128510</td>\n",
       "      <td>0.413194</td>\n",
       "      <td>0.196046</td>\n",
       "      <td>3</td>\n",
       "      <td>XGB</td>\n",
       "    </tr>\n",
       "    <tr>\n",
       "      <th>28</th>\n",
       "      <td>0.269779</td>\n",
       "      <td>0.452224</td>\n",
       "      <td>0.337950</td>\n",
       "      <td>4</td>\n",
       "      <td>XGB</td>\n",
       "    </tr>\n",
       "    <tr>\n",
       "      <th>29</th>\n",
       "      <td>0.941463</td>\n",
       "      <td>0.597306</td>\n",
       "      <td>0.730898</td>\n",
       "      <td>5</td>\n",
       "      <td>XGB</td>\n",
       "    </tr>\n",
       "    <tr>\n",
       "      <th>30</th>\n",
       "      <td>0.436149</td>\n",
       "      <td>0.453988</td>\n",
       "      <td>0.444890</td>\n",
       "      <td>1</td>\n",
       "      <td>Support Vector Machine</td>\n",
       "    </tr>\n",
       "    <tr>\n",
       "      <th>31</th>\n",
       "      <td>0.214286</td>\n",
       "      <td>0.281690</td>\n",
       "      <td>0.243408</td>\n",
       "      <td>2</td>\n",
       "      <td>Support Vector Machine</td>\n",
       "    </tr>\n",
       "    <tr>\n",
       "      <th>32</th>\n",
       "      <td>0.282937</td>\n",
       "      <td>0.319123</td>\n",
       "      <td>0.299943</td>\n",
       "      <td>3</td>\n",
       "      <td>Support Vector Machine</td>\n",
       "    </tr>\n",
       "    <tr>\n",
       "      <th>33</th>\n",
       "      <td>0.363145</td>\n",
       "      <td>0.441458</td>\n",
       "      <td>0.398490</td>\n",
       "      <td>4</td>\n",
       "      <td>Support Vector Machine</td>\n",
       "    </tr>\n",
       "    <tr>\n",
       "      <th>34</th>\n",
       "      <td>0.826686</td>\n",
       "      <td>0.701827</td>\n",
       "      <td>0.759157</td>\n",
       "      <td>5</td>\n",
       "      <td>Support Vector Machine</td>\n",
       "    </tr>\n",
       "    <tr>\n",
       "      <th>35</th>\n",
       "      <td>0.573674</td>\n",
       "      <td>0.513181</td>\n",
       "      <td>0.541744</td>\n",
       "      <td>1</td>\n",
       "      <td>Mutinomial NB</td>\n",
       "    </tr>\n",
       "    <tr>\n",
       "      <th>36</th>\n",
       "      <td>0.185714</td>\n",
       "      <td>0.337662</td>\n",
       "      <td>0.239631</td>\n",
       "      <td>2</td>\n",
       "      <td>Mutinomial NB</td>\n",
       "    </tr>\n",
       "    <tr>\n",
       "      <th>37</th>\n",
       "      <td>0.371490</td>\n",
       "      <td>0.391800</td>\n",
       "      <td>0.381375</td>\n",
       "      <td>3</td>\n",
       "      <td>Mutinomial NB</td>\n",
       "    </tr>\n",
       "    <tr>\n",
       "      <th>38</th>\n",
       "      <td>0.495332</td>\n",
       "      <td>0.505263</td>\n",
       "      <td>0.500248</td>\n",
       "      <td>4</td>\n",
       "      <td>Mutinomial NB</td>\n",
       "    </tr>\n",
       "    <tr>\n",
       "      <th>39</th>\n",
       "      <td>0.819799</td>\n",
       "      <td>0.758831</td>\n",
       "      <td>0.788138</td>\n",
       "      <td>5</td>\n",
       "      <td>Mutinomial NB</td>\n",
       "    </tr>\n",
       "  </tbody>\n",
       "</table>\n",
       "</div>"
      ],
      "text/plain": [
       "    Recall_score  Precision_score  F1_score  target_class  \\\n",
       "0       0.520629         0.514563  0.517578             1   \n",
       "1       0.182143         0.300885  0.226919             2   \n",
       "2       0.316415         0.382008  0.346131             3   \n",
       "3       0.388206         0.462259  0.422009             4   \n",
       "4       0.855667         0.712545  0.777575             5   \n",
       "5       0.361493         0.358674  0.360078             1   \n",
       "6       0.183929         0.237327  0.207243             2   \n",
       "7       0.204104         0.232187  0.217241             3   \n",
       "8       0.340049         0.360792  0.350114             4   \n",
       "9       0.706169         0.641554  0.672313             5   \n",
       "10      0.412574         0.465632  0.437500             1   \n",
       "11      0.082143         0.272189  0.126200             2   \n",
       "12      0.180346         0.309259  0.227831             3   \n",
       "13      0.314005         0.401130  0.352260             4   \n",
       "14      0.855380         0.625997  0.722930             5   \n",
       "15      0.554028         0.466116  0.506284             1   \n",
       "16      0.130357         0.294355  0.180693             2   \n",
       "17      0.205184         0.338681  0.255548             3   \n",
       "18      0.325799         0.445265  0.376277             4   \n",
       "19      0.857102         0.647658  0.737804             5   \n",
       "20      0.442043         0.547445  0.489130             1   \n",
       "21      0.094643         0.315476  0.145604             2   \n",
       "22      0.166307         0.391858  0.233510             3   \n",
       "23      0.338084         0.462366  0.390576             4   \n",
       "24      0.914204         0.630267  0.746136             5   \n",
       "25      0.426326         0.543860  0.477974             1   \n",
       "26      0.062500         0.289256  0.102790             2   \n",
       "27      0.128510         0.413194  0.196046             3   \n",
       "28      0.269779         0.452224  0.337950             4   \n",
       "29      0.941463         0.597306  0.730898             5   \n",
       "30      0.436149         0.453988  0.444890             1   \n",
       "31      0.214286         0.281690  0.243408             2   \n",
       "32      0.282937         0.319123  0.299943             3   \n",
       "33      0.363145         0.441458  0.398490             4   \n",
       "34      0.826686         0.701827  0.759157             5   \n",
       "35      0.573674         0.513181  0.541744             1   \n",
       "36      0.185714         0.337662  0.239631             2   \n",
       "37      0.371490         0.391800  0.381375             3   \n",
       "38      0.495332         0.505263  0.500248             4   \n",
       "39      0.819799         0.758831  0.788138             5   \n",
       "\n",
       "                       model  \n",
       "0         Logistic Regresion  \n",
       "1         Logistic Regresion  \n",
       "2         Logistic Regresion  \n",
       "3         Logistic Regresion  \n",
       "4         Logistic Regresion  \n",
       "5   Decision Tree Classifier  \n",
       "6   Decision Tree Classifier  \n",
       "7   Decision Tree Classifier  \n",
       "8   Decision Tree Classifier  \n",
       "9   Decision Tree Classifier  \n",
       "10  Random Forest Classifier  \n",
       "11  Random Forest Classifier  \n",
       "12  Random Forest Classifier  \n",
       "13  Random Forest Classifier  \n",
       "14  Random Forest Classifier  \n",
       "15                 Ada Boots  \n",
       "16                 Ada Boots  \n",
       "17                 Ada Boots  \n",
       "18                 Ada Boots  \n",
       "19                 Ada Boots  \n",
       "20         Gradient_boosting  \n",
       "21         Gradient_boosting  \n",
       "22         Gradient_boosting  \n",
       "23         Gradient_boosting  \n",
       "24         Gradient_boosting  \n",
       "25                       XGB  \n",
       "26                       XGB  \n",
       "27                       XGB  \n",
       "28                       XGB  \n",
       "29                       XGB  \n",
       "30    Support Vector Machine  \n",
       "31    Support Vector Machine  \n",
       "32    Support Vector Machine  \n",
       "33    Support Vector Machine  \n",
       "34    Support Vector Machine  \n",
       "35             Mutinomial NB  \n",
       "36             Mutinomial NB  \n",
       "37             Mutinomial NB  \n",
       "38             Mutinomial NB  \n",
       "39             Mutinomial NB  "
      ]
     },
     "execution_count": 21,
     "metadata": {},
     "output_type": "execute_result"
    }
   ],
   "source": [
    "df_metrix_multi = unnest_df(df_results_multi)\n",
    "df_metrix_multi"
   ]
  },
  {
   "cell_type": "markdown",
   "metadata": {},
   "source": [
    "## Hyperparameters tunning in classifiers"
   ]
  },
  {
   "cell_type": "markdown",
   "metadata": {},
   "source": [
    "### Logistic Regresion with GridSearchCV "
   ]
  },
  {
   "cell_type": "code",
   "execution_count": 22,
   "metadata": {},
   "outputs": [
    {
     "name": "stdout",
     "output_type": "stream",
     "text": [
      " Best parameter Pipeline(memory=None,\n",
      "         steps=[('vect',\n",
      "                 CountVectorizer(analyzer='word', binary=True,\n",
      "                                 decode_error='strict',\n",
      "                                 dtype=<class 'numpy.int64'>, encoding='utf-8',\n",
      "                                 input='content', lowercase=True, max_df=1.0,\n",
      "                                 max_features=None, min_df=1,\n",
      "                                 ngram_range=(1, 1), preprocessor=None,\n",
      "                                 stop_words=None, strip_accents=None,\n",
      "                                 token_pattern='(?u)\\\\b\\\\w\\\\w+\\\\b',\n",
      "                                 tokenizer=None, vocabulary=None)),\n",
      "                ('chi',\n",
      "                 SelectKBest(k=10000,\n",
      "                             score_func=<function chi2 at 0x1a15938950>)),\n",
      "                ('clf',\n",
      "                 LogisticRegression(C=0.1, class_weight=None, dual=False,\n",
      "                                    fit_intercept=True, intercept_scaling=1,\n",
      "                                    l1_ratio=None, max_iter=100,\n",
      "                                    multi_class='warn', n_jobs=None,\n",
      "                                    penalty='l2', random_state=None,\n",
      "                                    solver='warn', tol=0.0001, verbose=0,\n",
      "                                    warm_start=False))],\n",
      "         verbose=False)\n"
     ]
    }
   ],
   "source": [
    "lg_multi_grid = clf_grid_count_vectorizer(LogisticRegression(),df ,'Reviews_tokenize_join', 'target',parameteres = {'clf__C':[0.01, 0.1, 1, 10, 100] })"
   ]
  },
  {
   "cell_type": "code",
   "execution_count": 23,
   "metadata": {},
   "outputs": [
    {
     "data": {
      "text/plain": [
       "{'Accuracy_score': '61.0%',\n",
       " 'Recall_score': array([0.59332024, 0.14464286, 0.30561555, 0.38525799, 0.89182209]),\n",
       " 'Precision_score': array([0.55514706, 0.33609959, 0.41434846, 0.48605084, 0.70094723]),\n",
       " 'F1_score': array([0.57359924, 0.20224719, 0.35177129, 0.42982456, 0.78494759]),\n",
       " 'Time': 0.0026817589999836855}"
      ]
     },
     "execution_count": 23,
     "metadata": {},
     "output_type": "execute_result"
    }
   ],
   "source": [
    "lg_multi_grid"
   ]
  },
  {
   "cell_type": "markdown",
   "metadata": {},
   "source": [
    "### Multinomial NB"
   ]
  },
  {
   "cell_type": "code",
   "execution_count": 24,
   "metadata": {},
   "outputs": [
    {
     "data": {
      "application/javascript": [
       "\n",
       "        if (window._pyforest_update_imports_cell) { window._pyforest_update_imports_cell('import numpy as np'); }\n",
       "    "
      ],
      "text/plain": [
       "<IPython.core.display.Javascript object>"
      ]
     },
     "metadata": {},
     "output_type": "display_data"
    },
    {
     "name": "stdout",
     "output_type": "stream",
     "text": [
      " Best parameter Pipeline(memory=None,\n",
      "         steps=[('vect',\n",
      "                 CountVectorizer(analyzer='word', binary=True,\n",
      "                                 decode_error='strict',\n",
      "                                 dtype=<class 'numpy.int64'>, encoding='utf-8',\n",
      "                                 input='content', lowercase=True, max_df=1.0,\n",
      "                                 max_features=None, min_df=1,\n",
      "                                 ngram_range=(1, 1), preprocessor=None,\n",
      "                                 stop_words=None, strip_accents=None,\n",
      "                                 token_pattern='(?u)\\\\b\\\\w\\\\w+\\\\b',\n",
      "                                 tokenizer=None, vocabulary=None)),\n",
      "                ('chi',\n",
      "                 SelectKBest(k=10000,\n",
      "                             score_func=<function chi2 at 0x1a15938950>)),\n",
      "                ('clf',\n",
      "                 MultinomialNB(alpha=1.1, class_prior=None, fit_prior=True))],\n",
      "         verbose=False)\n"
     ]
    }
   ],
   "source": [
    "nb_muti_grid = clf_grid_count_vectorizer(MultinomialNB(),df,'Reviews_tokenize_join', 'target', parameteres = {'clf__alpha': np.linspace(0.5, 1.5, 6), 'clf__fit_prior': [True, False]})"
   ]
  },
  {
   "cell_type": "code",
   "execution_count": 25,
   "metadata": {},
   "outputs": [
    {
     "data": {
      "text/plain": [
       "{'Accuracy_score': '61.0%',\n",
       " 'Recall_score': array([0.57170923, 0.17142857, 0.3650108 , 0.49484029, 0.82295552]),\n",
       " 'Precision_score': array([0.51413428, 0.33566434, 0.38717068, 0.50324838, 0.75692795]),\n",
       " 'F1_score': array([0.54139535, 0.22695035, 0.37576431, 0.49900892, 0.788562  ]),\n",
       " 'Time': 0.0014689980000071046}"
      ]
     },
     "execution_count": 25,
     "metadata": {},
     "output_type": "execute_result"
    }
   ],
   "source": [
    "nb_muti_grid "
   ]
  },
  {
   "cell_type": "markdown",
   "metadata": {},
   "source": [
    "### Decision Tree Classifier"
   ]
  },
  {
   "cell_type": "code",
   "execution_count": 26,
   "metadata": {},
   "outputs": [
    {
     "name": "stdout",
     "output_type": "stream",
     "text": [
      " Best parameter Pipeline(memory=None,\n",
      "         steps=[('vect',\n",
      "                 CountVectorizer(analyzer='word', binary=True,\n",
      "                                 decode_error='strict',\n",
      "                                 dtype=<class 'numpy.int64'>, encoding='utf-8',\n",
      "                                 input='content', lowercase=True, max_df=1.0,\n",
      "                                 max_features=None, min_df=1,\n",
      "                                 ngram_range=(1, 1), preprocessor=None,\n",
      "                                 stop_words=None, strip_accents=None,\n",
      "                                 token_pattern='(?u)\\\\b\\\\w\\\\w+\\\\b',\n",
      "                                 tokenizer=None, vocabulary=None...\n",
      "                 SelectKBest(k=10000,\n",
      "                             score_func=<function chi2 at 0x1a15938950>)),\n",
      "                ('clf',\n",
      "                 DecisionTreeClassifier(class_weight=None, criterion='gini',\n",
      "                                        max_depth=4, max_features=None,\n",
      "                                        max_leaf_nodes=None,\n",
      "                                        min_impurity_decrease=0.0,\n",
      "                                        min_impurity_split=None,\n",
      "                                        min_samples_leaf=2, min_samples_split=5,\n",
      "                                        min_weight_fraction_leaf=0.0,\n",
      "                                        presort=False, random_state=None,\n",
      "                                        splitter='best'))],\n",
      "         verbose=False)\n"
     ]
    }
   ],
   "source": [
    "dt_multi_grid = clf_grid_count_vectorizer(DecisionTreeClassifier(),df,'Reviews_tokenize_join', 'target',parameteres = {\n",
    "    'clf__criterion': ['gini', 'entropy'],\n",
    "    'clf__max_depth': [None, 2, 3, 4],\n",
    "    'clf__min_samples_split': [2, 5, 10],\n",
    "    'clf__min_samples_leaf': [1, 2,]\n",
    "})"
   ]
  },
  {
   "cell_type": "code",
   "execution_count": 27,
   "metadata": {},
   "outputs": [
    {
     "data": {
      "text/plain": [
       "{'Accuracy_score': '50.0%',\n",
       " 'Recall_score': array([0.28880157, 0.03214286, 0.01079914, 0.20786241, 0.9107604 ]),\n",
       " 'Precision_score': array([0.38181818, 0.26470588, 0.45454545, 0.36246787, 0.5404393 ]),\n",
       " 'F1_score': array([0.32885906, 0.05732484, 0.02109705, 0.26420987, 0.67835007]),\n",
       " 'Time': 0.002343991000088863}"
      ]
     },
     "execution_count": 27,
     "metadata": {},
     "output_type": "execute_result"
    }
   ],
   "source": [
    "dt_multi_grid"
   ]
  },
  {
   "cell_type": "markdown",
   "metadata": {},
   "source": [
    "### Random Forest Classifier"
   ]
  },
  {
   "cell_type": "code",
   "execution_count": 28,
   "metadata": {},
   "outputs": [
    {
     "name": "stdout",
     "output_type": "stream",
     "text": [
      " Best parameter Pipeline(memory=None,\n",
      "         steps=[('vect',\n",
      "                 CountVectorizer(analyzer='word', binary=True,\n",
      "                                 decode_error='strict',\n",
      "                                 dtype=<class 'numpy.int64'>, encoding='utf-8',\n",
      "                                 input='content', lowercase=True, max_df=1.0,\n",
      "                                 max_features=None, min_df=1,\n",
      "                                 ngram_range=(1, 1), preprocessor=None,\n",
      "                                 stop_words=None, strip_accents=None,\n",
      "                                 token_pattern='(?u)\\\\b\\\\w\\\\w+\\\\b',\n",
      "                                 tokenizer=None, vocabulary=None...\n",
      "                 RandomForestClassifier(bootstrap=True, class_weight=None,\n",
      "                                        criterion='gini', max_depth=None,\n",
      "                                        max_features='auto',\n",
      "                                        max_leaf_nodes=None,\n",
      "                                        min_impurity_decrease=0.0,\n",
      "                                        min_impurity_split=None,\n",
      "                                        min_samples_leaf=3,\n",
      "                                        min_samples_split=10,\n",
      "                                        min_weight_fraction_leaf=0.0,\n",
      "                                        n_estimators=30, n_jobs=None,\n",
      "                                        oob_score=False, random_state=None,\n",
      "                                        verbose=0, warm_start=False))],\n",
      "         verbose=False)\n"
     ]
    }
   ],
   "source": [
    "rf_multi_grid = clf_grid_count_vectorizer(RandomForestClassifier(), df, 'Reviews_tokenize_join', 'target', parameteres = {\n",
    "    'clf__n_estimators': [10, 30, 100],\n",
    "    'clf__criterion': ['gini', 'entropy'],\n",
    "    'clf__max_depth': [None, 2, 6, 10],\n",
    "    'clf__min_samples_split': [5, 10],\n",
    "    'clf__min_samples_leaf': [3, 6]\n",
    "})"
   ]
  },
  {
   "cell_type": "code",
   "execution_count": 29,
   "metadata": {},
   "outputs": [
    {
     "data": {
      "text/plain": [
       "{'Accuracy_score': '53.0%',\n",
       " 'Recall_score': array([0.35952849, 0.01964286, 0.05075594, 0.17542998, 0.97044476]),\n",
       " 'Precision_score': array([0.6039604 , 0.45833333, 0.30128205, 0.36206897, 0.5593781 ]),\n",
       " 'F1_score': array([0.45073892, 0.03767123, 0.08687616, 0.23634558, 0.70968419]),\n",
       " 'Time': 0.0028292690000171206}"
      ]
     },
     "execution_count": 29,
     "metadata": {},
     "output_type": "execute_result"
    }
   ],
   "source": [
    "rf_multi_grid"
   ]
  },
  {
   "cell_type": "markdown",
   "metadata": {},
   "source": [
    "### Linear Support Vector Classification "
   ]
  },
  {
   "cell_type": "code",
   "execution_count": 30,
   "metadata": {},
   "outputs": [
    {
     "name": "stdout",
     "output_type": "stream",
     "text": [
      " Best parameter Pipeline(memory=None,\n",
      "         steps=[('vect',\n",
      "                 CountVectorizer(analyzer='word', binary=True,\n",
      "                                 decode_error='strict',\n",
      "                                 dtype=<class 'numpy.int64'>, encoding='utf-8',\n",
      "                                 input='content', lowercase=True, max_df=1.0,\n",
      "                                 max_features=None, min_df=1,\n",
      "                                 ngram_range=(1, 1), preprocessor=None,\n",
      "                                 stop_words=None, strip_accents=None,\n",
      "                                 token_pattern='(?u)\\\\b\\\\w\\\\w+\\\\b',\n",
      "                                 tokenizer=None, vocabulary=None)),\n",
      "                ('chi',\n",
      "                 SelectKBest(k=10000,\n",
      "                             score_func=<function chi2 at 0x1a15938950>)),\n",
      "                ('clf',\n",
      "                 LinearSVC(C=0.001, class_weight=None, dual=True,\n",
      "                           fit_intercept=True, intercept_scaling=1,\n",
      "                           loss='squared_hinge', max_iter=1000,\n",
      "                           multi_class='ovr', penalty='l2', random_state=None,\n",
      "                           tol=0.0001, verbose=0))],\n",
      "         verbose=False)\n"
     ]
    }
   ],
   "source": [
    "svc_multi_grid = clf_grid_count_vectorizer(LinearSVC(),df, 'Reviews_tokenize_join', 'target' ,parameteres = \n",
    "        {'clf__C':[0.001,0.1,10,100,10e5] ,'clf__max_iter':[1000 ,2000,3000]})"
   ]
  },
  {
   "cell_type": "code",
   "execution_count": 31,
   "metadata": {},
   "outputs": [
    {
     "data": {
      "text/plain": [
       "{'Accuracy_score': '59.0%',\n",
       " 'Recall_score': array([0.62278978, 0.0375    , 0.17602592, 0.32874693, 0.92596844]),\n",
       " 'Precision_score': array([0.53098827, 0.375     , 0.3871734 , 0.46169772, 0.64643429]),\n",
       " 'F1_score': array([0.57323689, 0.06818182, 0.2420193 , 0.38404133, 0.76135425]),\n",
       " 'Time': 0.0010555180001574627}"
      ]
     },
     "execution_count": 31,
     "metadata": {},
     "output_type": "execute_result"
    }
   ],
   "source": [
    "svc_multi_grid"
   ]
  },
  {
   "cell_type": "markdown",
   "metadata": {},
   "source": [
    "### AdaBoots"
   ]
  },
  {
   "cell_type": "code",
   "execution_count": 33,
   "metadata": {},
   "outputs": [
    {
     "name": "stdout",
     "output_type": "stream",
     "text": [
      " Best parameter Pipeline(memory=None,\n",
      "         steps=[('vect',\n",
      "                 CountVectorizer(analyzer='word', binary=True,\n",
      "                                 decode_error='strict',\n",
      "                                 dtype=<class 'numpy.int64'>, encoding='utf-8',\n",
      "                                 input='content', lowercase=True, max_df=1.0,\n",
      "                                 max_features=None, min_df=1,\n",
      "                                 ngram_range=(1, 1), preprocessor=None,\n",
      "                                 stop_words=None, strip_accents=None,\n",
      "                                 token_pattern='(?u)\\\\b\\\\w\\\\w+\\\\b',\n",
      "                                 tokenizer=None, vocabulary=None)),\n",
      "                ('chi',\n",
      "                 SelectKBest(k=10000,\n",
      "                             score_func=<function chi2 at 0x1a15938950>)),\n",
      "                ('clf',\n",
      "                 AdaBoostClassifier(algorithm='SAMME.R', base_estimator=None,\n",
      "                                    learning_rate=1, n_estimators=100,\n",
      "                                    random_state=None))],\n",
      "         verbose=False)\n"
     ]
    }
   ],
   "source": [
    "ab_multi_grid = clf_grid_count_vectorizer(AdaBoostClassifier(), df, 'Reviews_tokenize_join', 'target', parameteres = {\n",
    " 'clf__n_estimators': [50, 100],\n",
    " 'clf__learning_rate' : [0.01,0.05,0.1,0.3,1]\n",
    " }\n",
    ")"
   ]
  },
  {
   "cell_type": "code",
   "execution_count": 34,
   "metadata": {},
   "outputs": [
    {
     "data": {
      "text/plain": [
       "{'Accuracy_score': '56.99999999999999%',\n",
       " 'Recall_score': array([0.50884086, 0.25357143, 0.24514039, 0.37395577, 0.83615495]),\n",
       " 'Precision_score': array([0.51084813, 0.35588972, 0.38215488, 0.45541592, 0.67081031]),\n",
       " 'F1_score': array([0.50984252, 0.29614181, 0.29868421, 0.41068538, 0.7444118 ]),\n",
       " 'Time': 0.0024836099998992722}"
      ]
     },
     "execution_count": 34,
     "metadata": {},
     "output_type": "execute_result"
    }
   ],
   "source": [
    "ab_multi_grid "
   ]
  },
  {
   "cell_type": "markdown",
   "metadata": {},
   "source": [
    "### Gradient_boosting\n"
   ]
  },
  {
   "cell_type": "code",
   "execution_count": 38,
   "metadata": {},
   "outputs": [
    {
     "name": "stdout",
     "output_type": "stream",
     "text": [
      " Best parameter Pipeline(memory=None,\n",
      "         steps=[('vect',\n",
      "                 CountVectorizer(analyzer='word', binary=True,\n",
      "                                 decode_error='strict',\n",
      "                                 dtype=<class 'numpy.int64'>, encoding='utf-8',\n",
      "                                 input='content', lowercase=True, max_df=1.0,\n",
      "                                 max_features=None, min_df=1,\n",
      "                                 ngram_range=(1, 1), preprocessor=None,\n",
      "                                 stop_words=None, strip_accents=None,\n",
      "                                 token_pattern='(?u)\\\\b\\\\w\\\\w+\\\\b',\n",
      "                                 tokenizer=None, vocabulary=None...\n",
      "                                            learning_rate=0.1, loss='deviance',\n",
      "                                            max_depth=3, max_features=None,\n",
      "                                            max_leaf_nodes=None,\n",
      "                                            min_impurity_decrease=0.0,\n",
      "                                            min_impurity_split=None,\n",
      "                                            min_samples_leaf=100,\n",
      "                                            min_samples_split=2,\n",
      "                                            min_weight_fraction_leaf=0.0,\n",
      "                                            n_estimators=100,\n",
      "                                            n_iter_no_change=None,\n",
      "                                            presort='auto', random_state=None,\n",
      "                                            subsample=1.0, tol=0.0001,\n",
      "                                            validation_fraction=0.1, verbose=0,\n",
      "                                            warm_start=False))],\n",
      "         verbose=False)\n"
     ]
    }
   ],
   "source": [
    "gb_multi_grid = clf_grid_count_vectorizer(GradientBoostingClassifier(), df, 'Reviews_tokenize_join', 'target', parameteres = {'clf__learning_rate': [0.1, 0.05, 0.02, 0.01],\n",
    "#               'max_depth': [4, 6, 8],\n",
    "              'clf__min_samples_leaf': [20, 50,100,150]\n",
    "              #'max_features': [1.0, 0.3, 0.1] \n",
    "              })"
   ]
  },
  {
   "cell_type": "code",
   "execution_count": 14,
   "metadata": {},
   "outputs": [
    {
     "data": {
      "text/plain": [
       "{'Accuracy_score': '56.00000000000001%',\n",
       " 'Recall_score': array([0.5540275 , 0.13035714, 0.20518359, 0.32579853, 0.85710187]),\n",
       " 'Precision_score': array([0.4661157 , 0.29435484, 0.33868093, 0.44526528, 0.64765828]),\n",
       " 'F1_score': array([0.50628366, 0.18069307, 0.25554808, 0.37627696, 0.73780412]),\n",
       " 'Time': 0.0002060620000037261}"
      ]
     },
     "execution_count": 14,
     "metadata": {},
     "output_type": "execute_result"
    }
   ],
   "source": [
    "gb_multi_grid"
   ]
  },
  {
   "cell_type": "markdown",
   "metadata": {},
   "source": [
    "### XGB\n"
   ]
  },
  {
   "cell_type": "code",
   "execution_count": 39,
   "metadata": {},
   "outputs": [
    {
     "name": "stdout",
     "output_type": "stream",
     "text": [
      " Best parameter Pipeline(memory=None,\n",
      "         steps=[('vect',\n",
      "                 CountVectorizer(analyzer='word', binary=True,\n",
      "                                 decode_error='strict',\n",
      "                                 dtype=<class 'numpy.int64'>, encoding='utf-8',\n",
      "                                 input='content', lowercase=True, max_df=1.0,\n",
      "                                 max_features=None, min_df=1,\n",
      "                                 ngram_range=(1, 1), preprocessor=None,\n",
      "                                 stop_words=None, strip_accents=None,\n",
      "                                 token_pattern='(?u)\\\\b\\\\w\\\\w+\\\\b',\n",
      "                                 tokenizer=None, vocabulary=None...\n",
      "                 XGBClassifier(base_score=0.5, booster='gbtree',\n",
      "                               colsample_bylevel=1, colsample_bynode=1,\n",
      "                               colsample_bytree=1, gamma=1, learning_rate=0.1,\n",
      "                               max_delta_step=0, max_depth=5,\n",
      "                               min_child_weight=1, missing=None,\n",
      "                               n_estimators=100, n_jobs=1, nthread=None,\n",
      "                               objective='multi:softprob', random_state=0,\n",
      "                               reg_alpha=0, reg_lambda=1, scale_pos_weight=1,\n",
      "                               seed=None, silent=None, subsample=0.8,\n",
      "                               verbosity=1))],\n",
      "         verbose=False)\n"
     ]
    }
   ],
   "source": [
    "xgb_multi_grid = clf_grid_count_vectorizer(XGBClassifier(), df, 'Reviews_tokenize_join', 'target', parameteres = {\n",
    "#         'clf__min_child_weight': [1, 5, 10],\n",
    "        'clf__gamma': [0.5, 1, 1.5, 2, 5],\n",
    "        'clf__subsample': [0.6, 0.8, 1.0],\n",
    "#         'clf__colsample_bytree': [0.6, 0.8, 1.0],\n",
    "        'clf__max_depth': [3, 4, 5]\n",
    "        })"
   ]
  },
  {
   "cell_type": "code",
   "execution_count": 40,
   "metadata": {},
   "outputs": [
    {
     "data": {
      "text/plain": [
       "{'Accuracy_score': '57.99999999999999%',\n",
       " 'Recall_score': array([0.50098232, 0.09464286, 0.18898488, 0.33513514, 0.90989957]),\n",
       " 'Precision_score': array([0.53235908, 0.32121212, 0.40603248, 0.46552901, 0.63738693]),\n",
       " 'F1_score': array([0.51619433, 0.1462069 , 0.25792189, 0.38971429, 0.74964539]),\n",
       " 'Time': -9.06000059330836e-06}"
      ]
     },
     "execution_count": 40,
     "metadata": {},
     "output_type": "execute_result"
    }
   ],
   "source": [
    "xgb_multi_grid"
   ]
  },
  {
   "cell_type": "markdown",
   "metadata": {},
   "source": [
    "### Results Summary\n"
   ]
  },
  {
   "cell_type": "code",
   "execution_count": 141,
   "metadata": {},
   "outputs": [
    {
     "data": {
      "text/html": [
       "<div>\n",
       "<style scoped>\n",
       "    .dataframe tbody tr th:only-of-type {\n",
       "        vertical-align: middle;\n",
       "    }\n",
       "\n",
       "    .dataframe tbody tr th {\n",
       "        vertical-align: top;\n",
       "    }\n",
       "\n",
       "    .dataframe thead th {\n",
       "        text-align: right;\n",
       "    }\n",
       "</style>\n",
       "<table border=\"1\" class=\"dataframe\">\n",
       "  <thead>\n",
       "    <tr style=\"text-align: right;\">\n",
       "      <th></th>\n",
       "      <th>Accuracy_score</th>\n",
       "      <th>Recall_score</th>\n",
       "      <th>Precision_score</th>\n",
       "      <th>F1_score</th>\n",
       "      <th>Time</th>\n",
       "    </tr>\n",
       "    <tr>\n",
       "      <th>Model</th>\n",
       "      <th></th>\n",
       "      <th></th>\n",
       "      <th></th>\n",
       "      <th></th>\n",
       "      <th></th>\n",
       "    </tr>\n",
       "  </thead>\n",
       "  <tbody>\n",
       "    <tr>\n",
       "      <th>Logistic Regresion</th>\n",
       "      <td>61.0%</td>\n",
       "      <td>[0.593320235756385, 0.14464285714285716, 0.305...</td>\n",
       "      <td>[0.5551470588235294, 0.3360995850622407, 0.414...</td>\n",
       "      <td>[0.573599240265907, 0.20224719101123595, 0.351...</td>\n",
       "      <td>0.002682</td>\n",
       "    </tr>\n",
       "    <tr>\n",
       "      <th>Mutinomial NB</th>\n",
       "      <td>61.0%</td>\n",
       "      <td>[0.5717092337917485, 0.17142857142857143, 0.36...</td>\n",
       "      <td>[0.5141342756183745, 0.3356643356643357, 0.387...</td>\n",
       "      <td>[0.5413953488372093, 0.22695035460992907, 0.37...</td>\n",
       "      <td>0.001469</td>\n",
       "    </tr>\n",
       "    <tr>\n",
       "      <th>Support Vector Machine</th>\n",
       "      <td>59.0%</td>\n",
       "      <td>[0.6227897838899804, 0.0375, 0.176025917926565...</td>\n",
       "      <td>[0.5309882747068677, 0.375, 0.3871733966745843...</td>\n",
       "      <td>[0.5732368896925858, 0.06818181818181818, 0.24...</td>\n",
       "      <td>0.001056</td>\n",
       "    </tr>\n",
       "    <tr>\n",
       "      <th>Gradient_boosting</th>\n",
       "      <td>57.99999999999999%</td>\n",
       "      <td>[0.49705304518664045, 0.1, 0.1857451403887689,...</td>\n",
       "      <td>[0.5429184549356223, 0.34782608695652173, 0.41...</td>\n",
       "      <td>[0.5189743589743591, 0.15533980582524273, 0.25...</td>\n",
       "      <td>0.001851</td>\n",
       "    </tr>\n",
       "    <tr>\n",
       "      <th>XGB</th>\n",
       "      <td>57.99999999999999%</td>\n",
       "      <td>[0.5009823182711198, 0.09464285714285714, 0.18...</td>\n",
       "      <td>[0.5323590814196242, 0.3212121212121212, 0.406...</td>\n",
       "      <td>[0.5161943319838056, 0.14620689655172414, 0.25...</td>\n",
       "      <td>-0.000009</td>\n",
       "    </tr>\n",
       "    <tr>\n",
       "      <th>Ada Boots</th>\n",
       "      <td>56.99999999999999%</td>\n",
       "      <td>[0.5088408644400786, 0.25357142857142856, 0.24...</td>\n",
       "      <td>[0.5108481262327417, 0.3558897243107769, 0.382...</td>\n",
       "      <td>[0.5098425196850395, 0.2961418143899896, 0.298...</td>\n",
       "      <td>0.002484</td>\n",
       "    </tr>\n",
       "    <tr>\n",
       "      <th>Random Forest Classifier</th>\n",
       "      <td>53.0%</td>\n",
       "      <td>[0.35952848722986247, 0.019642857142857142, 0....</td>\n",
       "      <td>[0.6039603960396039, 0.4583333333333333, 0.301...</td>\n",
       "      <td>[0.45073891625615764, 0.03767123287671233, 0.0...</td>\n",
       "      <td>0.002829</td>\n",
       "    </tr>\n",
       "    <tr>\n",
       "      <th>Decision Tree Classifier</th>\n",
       "      <td>50.0%</td>\n",
       "      <td>[0.2888015717092338, 0.03214285714285714, 0.01...</td>\n",
       "      <td>[0.38181818181818183, 0.2647058823529412, 0.45...</td>\n",
       "      <td>[0.3288590604026846, 0.057324840764331204, 0.0...</td>\n",
       "      <td>0.002344</td>\n",
       "    </tr>\n",
       "  </tbody>\n",
       "</table>\n",
       "</div>"
      ],
      "text/plain": [
       "                              Accuracy_score  \\\n",
       "Model                                          \n",
       "Logistic Regresion                     61.0%   \n",
       "Mutinomial NB                          61.0%   \n",
       "Support Vector Machine                 59.0%   \n",
       "Gradient_boosting         57.99999999999999%   \n",
       "XGB                       57.99999999999999%   \n",
       "Ada Boots                 56.99999999999999%   \n",
       "Random Forest Classifier               53.0%   \n",
       "Decision Tree Classifier               50.0%   \n",
       "\n",
       "                                                               Recall_score  \\\n",
       "Model                                                                         \n",
       "Logistic Regresion        [0.593320235756385, 0.14464285714285716, 0.305...   \n",
       "Mutinomial NB             [0.5717092337917485, 0.17142857142857143, 0.36...   \n",
       "Support Vector Machine    [0.6227897838899804, 0.0375, 0.176025917926565...   \n",
       "Gradient_boosting         [0.49705304518664045, 0.1, 0.1857451403887689,...   \n",
       "XGB                       [0.5009823182711198, 0.09464285714285714, 0.18...   \n",
       "Ada Boots                 [0.5088408644400786, 0.25357142857142856, 0.24...   \n",
       "Random Forest Classifier  [0.35952848722986247, 0.019642857142857142, 0....   \n",
       "Decision Tree Classifier  [0.2888015717092338, 0.03214285714285714, 0.01...   \n",
       "\n",
       "                                                            Precision_score  \\\n",
       "Model                                                                         \n",
       "Logistic Regresion        [0.5551470588235294, 0.3360995850622407, 0.414...   \n",
       "Mutinomial NB             [0.5141342756183745, 0.3356643356643357, 0.387...   \n",
       "Support Vector Machine    [0.5309882747068677, 0.375, 0.3871733966745843...   \n",
       "Gradient_boosting         [0.5429184549356223, 0.34782608695652173, 0.41...   \n",
       "XGB                       [0.5323590814196242, 0.3212121212121212, 0.406...   \n",
       "Ada Boots                 [0.5108481262327417, 0.3558897243107769, 0.382...   \n",
       "Random Forest Classifier  [0.6039603960396039, 0.4583333333333333, 0.301...   \n",
       "Decision Tree Classifier  [0.38181818181818183, 0.2647058823529412, 0.45...   \n",
       "\n",
       "                                                                   F1_score  \\\n",
       "Model                                                                         \n",
       "Logistic Regresion        [0.573599240265907, 0.20224719101123595, 0.351...   \n",
       "Mutinomial NB             [0.5413953488372093, 0.22695035460992907, 0.37...   \n",
       "Support Vector Machine    [0.5732368896925858, 0.06818181818181818, 0.24...   \n",
       "Gradient_boosting         [0.5189743589743591, 0.15533980582524273, 0.25...   \n",
       "XGB                       [0.5161943319838056, 0.14620689655172414, 0.25...   \n",
       "Ada Boots                 [0.5098425196850395, 0.2961418143899896, 0.298...   \n",
       "Random Forest Classifier  [0.45073891625615764, 0.03767123287671233, 0.0...   \n",
       "Decision Tree Classifier  [0.3288590604026846, 0.057324840764331204, 0.0...   \n",
       "\n",
       "                              Time  \n",
       "Model                               \n",
       "Logistic Regresion        0.002682  \n",
       "Mutinomial NB             0.001469  \n",
       "Support Vector Machine    0.001056  \n",
       "Gradient_boosting         0.001851  \n",
       "XGB                      -0.000009  \n",
       "Ada Boots                 0.002484  \n",
       "Random Forest Classifier  0.002829  \n",
       "Decision Tree Classifier  0.002344  "
      ]
     },
     "execution_count": 141,
     "metadata": {},
     "output_type": "execute_result"
    }
   ],
   "source": [
    "l= [lg_multi_grid, dt_multi_grid, rf_multi_grid, ab_multi_grid, gb_multi_grid, xgb_multi_grid, svc_multi_grid,nb_muti_grid]\n",
    "\n",
    "df_results_multi_grid = table_results(l)\n",
    "df_results_multi_grid.loc[: , ['Accuracy_score', 'Time']]\n",
    "df_results_multi_grid.sort_values(by='Accuracy_score', ascending=False)"
   ]
  },
  {
   "cell_type": "code",
   "execution_count": 43,
   "metadata": {},
   "outputs": [],
   "source": [
    "df_metrix_multi_grid = unnest_df(df_results_multi_grid)"
   ]
  },
  {
   "cell_type": "markdown",
   "metadata": {},
   "source": [
    "## Change target to 3 categories\n"
   ]
  },
  {
   "cell_type": "markdown",
   "metadata": {},
   "source": [
    "First model needs to be improved.\n",
    "There are a lot more 4, 5 stars than 1, 2, 3 stars,\n",
    "Set 1, 2, 3 stars to 'Bad', 4 stars to 'Neutral', 5 stars to 'Good'"
   ]
  },
  {
   "cell_type": "code",
   "execution_count": 45,
   "metadata": {},
   "outputs": [],
   "source": [
    "# df_tree_categories = df.replace({5: 'good', 4: 'neutral', 3: 'bad' , 2: 'bad', 1: 'bad'})\n",
    "# df_tree_categories.head()\n",
    "df['tri_target'] = 'Bad'\n",
    "df.loc[df['review_rating'] == 5, 'tri_target'] = 'Good'\n",
    "df.loc[df['review_rating'] == 4, 'tri_target'] = 'Neutral'"
   ]
  },
  {
   "cell_type": "code",
   "execution_count": 46,
   "metadata": {},
   "outputs": [
    {
     "data": {
      "text/plain": [
       "Good       11878\n",
       "Neutral     6622\n",
       "Bad         6550\n",
       "Name: tri_target, dtype: int64"
      ]
     },
     "execution_count": 46,
     "metadata": {},
     "output_type": "execute_result"
    }
   ],
   "source": [
    "df['tri_target'].value_counts()"
   ]
  },
  {
   "cell_type": "code",
   "execution_count": 48,
   "metadata": {},
   "outputs": [
    {
     "data": {
      "text/plain": [
       "<matplotlib.axes._subplots.AxesSubplot at 0x1a173c7278>"
      ]
     },
     "execution_count": 48,
     "metadata": {},
     "output_type": "execute_result"
    },
    {
     "data": {
      "image/png": "[encoded data removed]",
      "text/plain": [
       "<Figure size 432x288 with 1 Axes>"
      ]
     },
     "metadata": {
      "needs_background": "light"
     },
     "output_type": "display_data"
    }
   ],
   "source": [
    "# df_tree_categories['target'].plot.bar(bins=12, alpha=0.5)\n",
    "df['tri_target'].value_counts().sort_values().plot(kind = 'barh')\n"
   ]
  },
  {
   "cell_type": "markdown",
   "metadata": {},
   "source": [
    "###  Logistic Regressiom"
   ]
  },
  {
   "cell_type": "code",
   "execution_count": 53,
   "metadata": {},
   "outputs": [],
   "source": [
    "ld_tri_class = clf_count_vectorizer( LogisticRegression(),df, 'Reviews_tokenize_join', 'tri_target')\n"
   ]
  },
  {
   "cell_type": "code",
   "execution_count": 54,
   "metadata": {},
   "outputs": [
    {
     "data": {
      "text/plain": [
       "{'Accuracy_score': '70.0%',\n",
       " 'Recall_score': array([0.79548872, 0.85050215, 0.35085995]),\n",
       " 'Precision_score': array([0.78525482, 0.72861357, 0.50070126]),\n",
       " 'F1_score': array([0.79033865, 0.7848537 , 0.41259752]),\n",
       " 'Time': 0.001744380000673118}"
      ]
     },
     "execution_count": 54,
     "metadata": {},
     "output_type": "execute_result"
    }
   ],
   "source": [
    "ld_tri_class "
   ]
  },
  {
   "cell_type": "markdown",
   "metadata": {},
   "source": [
    "### Decision Tree Classifier"
   ]
  },
  {
   "cell_type": "code",
   "execution_count": 55,
   "metadata": {},
   "outputs": [],
   "source": [
    "dt_tri_class = clf_count_vectorizer(DecisionTreeClassifier(),df, 'Reviews_tokenize_join', 'tri_target')"
   ]
  },
  {
   "cell_type": "code",
   "execution_count": 56,
   "metadata": {},
   "outputs": [
    {
     "data": {
      "text/plain": [
       "{'Accuracy_score': '56.99999999999999%',\n",
       " 'Recall_score': array([0.60802005, 0.69670014, 0.31990172]),\n",
       " 'Precision_score': array([0.62719752, 0.64608834, 0.35710368]),\n",
       " 'F1_score': array([0.61745991, 0.67044043, 0.33748056]),\n",
       " 'Time': 0.0021283909991325345}"
      ]
     },
     "execution_count": 56,
     "metadata": {},
     "output_type": "execute_result"
    }
   ],
   "source": [
    "dt_tri_class"
   ]
  },
  {
   "cell_type": "markdown",
   "metadata": {},
   "source": [
    "### Mutinomial NB"
   ]
  },
  {
   "cell_type": "code",
   "execution_count": 57,
   "metadata": {},
   "outputs": [],
   "source": [
    "nb_tri_class = clf_count_vectorizer(MultinomialNB(),df,'Reviews_tokenize_join', 'tri_target')"
   ]
  },
  {
   "cell_type": "code",
   "execution_count": 58,
   "metadata": {},
   "outputs": [
    {
     "data": {
      "text/plain": [
       "{'Accuracy_score': '71.0%',\n",
       " 'Recall_score': array([0.77794486, 0.81377331, 0.47371007]),\n",
       " 'Precision_score': array([0.80833333, 0.76339166, 0.51276596]),\n",
       " 'F1_score': array([0.79284802, 0.78777778, 0.49246488]),\n",
       " 'Time': 0.0029103169981681276}"
      ]
     },
     "execution_count": 58,
     "metadata": {},
     "output_type": "execute_result"
    }
   ],
   "source": [
    "nb_tri_class"
   ]
  },
  {
   "cell_type": "markdown",
   "metadata": {},
   "source": [
    "### Linear Support Vector Classification"
   ]
  },
  {
   "cell_type": "code",
   "execution_count": 60,
   "metadata": {},
   "outputs": [],
   "source": [
    "svc_tri_class = clf_count_vectorizer(LinearSVC(), df,'Reviews_tokenize_join', 'tri_target')"
   ]
  },
  {
   "cell_type": "code",
   "execution_count": 61,
   "metadata": {},
   "outputs": [
    {
     "data": {
      "text/plain": [
       "{'Accuracy_score': '67.0%',\n",
       " 'Recall_score': array([0.72982456, 0.81893831, 0.34643735]),\n",
       " 'Precision_score': array([0.74781715, 0.71314343, 0.45019157]),\n",
       " 'F1_score': array([0.73871131, 0.76238814, 0.3915579 ]),\n",
       " 'Time': 0.0023352360003627837}"
      ]
     },
     "execution_count": 61,
     "metadata": {},
     "output_type": "execute_result"
    }
   ],
   "source": [
    "svc_tri_class"
   ]
  },
  {
   "cell_type": "markdown",
   "metadata": {},
   "source": [
    "### Random Forest Classifier"
   ]
  },
  {
   "cell_type": "code",
   "execution_count": 62,
   "metadata": {},
   "outputs": [],
   "source": [
    "rf_tri_class = clf_count_vectorizer(RandomForestClassifier(),df, 'Reviews_tokenize_join', 'tri_target')"
   ]
  },
  {
   "cell_type": "code",
   "execution_count": 63,
   "metadata": {},
   "outputs": [
    {
     "data": {
      "text/plain": [
       "{'Accuracy_score': '64.0%',\n",
       " 'Recall_score': array([0.69323308, 0.87833572, 0.16560197]),\n",
       " 'Precision_score': array([0.71325425, 0.63837331, 0.43149808]),\n",
       " 'F1_score': array([0.70310117, 0.73937198, 0.23934659]),\n",
       " 'Time': 0.0016882900017662905}"
      ]
     },
     "execution_count": 63,
     "metadata": {},
     "output_type": "execute_result"
    }
   ],
   "source": [
    "rf_tri_class"
   ]
  },
  {
   "cell_type": "markdown",
   "metadata": {},
   "source": [
    "### AdaBoots"
   ]
  },
  {
   "cell_type": "code",
   "execution_count": 121,
   "metadata": {},
   "outputs": [],
   "source": [
    "ab_tri_class = clf_count_vectorizer(AdaBoostClassifier(), df, 'Reviews_tokenize_join', 'tri_target')"
   ]
  },
  {
   "cell_type": "code",
   "execution_count": 122,
   "metadata": {},
   "outputs": [
    {
     "data": {
      "text/plain": [
       "{'Accuracy_score': '56.00000000000001%',\n",
       " 'Recall_score': array([0.5540275 , 0.13035714, 0.20518359, 0.32579853, 0.85710187]),\n",
       " 'Precision_score': array([0.4661157 , 0.29435484, 0.33868093, 0.44526528, 0.64765828]),\n",
       " 'F1_score': array([0.50628366, 0.18069307, 0.25554808, 0.37627696, 0.73780412]),\n",
       " 'Time': 0.0020860550000065814}"
      ]
     },
     "execution_count": 122,
     "metadata": {},
     "output_type": "execute_result"
    }
   ],
   "source": [
    "ab_multi_class "
   ]
  },
  {
   "cell_type": "markdown",
   "metadata": {},
   "source": [
    "### Gradient_boosting\n"
   ]
  },
  {
   "cell_type": "code",
   "execution_count": 119,
   "metadata": {},
   "outputs": [],
   "source": [
    "gb_tri_class = clf_count_vectorizer(GradientBoostingClassifier(), df, 'Reviews_tokenize_join', 'tri_target')"
   ]
  },
  {
   "cell_type": "code",
   "execution_count": 120,
   "metadata": {},
   "outputs": [
    {
     "data": {
      "text/plain": [
       "{'Accuracy_score': '67.0%',\n",
       " 'Recall_score': array([0.68170426, 0.90243902, 0.27616708]),\n",
       " 'Precision_score': array([0.79207921, 0.66603134, 0.52230483]),\n",
       " 'F1_score': array([0.73275862, 0.76641891, 0.36129862]),\n",
       " 'Time': 0.00036798200017074123}"
      ]
     },
     "execution_count": 120,
     "metadata": {},
     "output_type": "execute_result"
    }
   ],
   "source": [
    "gb_tri_class"
   ]
  },
  {
   "cell_type": "markdown",
   "metadata": {},
   "source": [
    "### XGB\n"
   ]
  },
  {
   "cell_type": "code",
   "execution_count": 123,
   "metadata": {},
   "outputs": [],
   "source": [
    "xgb_tri_class = clf_count_vectorizer(XGBClassifier(), df, 'Reviews_tokenize_join', 'tri_target')"
   ]
  },
  {
   "cell_type": "code",
   "execution_count": 124,
   "metadata": {},
   "outputs": [
    {
     "data": {
      "text/plain": [
       "{'Accuracy_score': '66.0%',\n",
       " 'Recall_score': array([0.66115288, 0.91936872, 0.23243243]),\n",
       " 'Precision_score': array([0.78699284, 0.64766525, 0.53026906]),\n",
       " 'F1_score': array([0.71860528, 0.75996205, 0.32319781]),\n",
       " 'Time': 0.00017302099877269939}"
      ]
     },
     "execution_count": 124,
     "metadata": {},
     "output_type": "execute_result"
    }
   ],
   "source": [
    "xgb_tri_class "
   ]
  },
  {
   "cell_type": "markdown",
   "metadata": {},
   "source": [
    "### Results Summary\n"
   ]
  },
  {
   "cell_type": "code",
   "execution_count": 140,
   "metadata": {
    "scrolled": true
   },
   "outputs": [
    {
     "data": {
      "text/html": [
       "<div>\n",
       "<style scoped>\n",
       "    .dataframe tbody tr th:only-of-type {\n",
       "        vertical-align: middle;\n",
       "    }\n",
       "\n",
       "    .dataframe tbody tr th {\n",
       "        vertical-align: top;\n",
       "    }\n",
       "\n",
       "    .dataframe thead th {\n",
       "        text-align: right;\n",
       "    }\n",
       "</style>\n",
       "<table border=\"1\" class=\"dataframe\">\n",
       "  <thead>\n",
       "    <tr style=\"text-align: right;\">\n",
       "      <th></th>\n",
       "      <th>Accuracy_score</th>\n",
       "      <th>Recall_score</th>\n",
       "      <th>Precision_score</th>\n",
       "      <th>F1_score</th>\n",
       "      <th>Time</th>\n",
       "    </tr>\n",
       "    <tr>\n",
       "      <th>Model</th>\n",
       "      <th></th>\n",
       "      <th></th>\n",
       "      <th></th>\n",
       "      <th></th>\n",
       "      <th></th>\n",
       "    </tr>\n",
       "  </thead>\n",
       "  <tbody>\n",
       "    <tr>\n",
       "      <th>Mutinomial NB</th>\n",
       "      <td>71.0%</td>\n",
       "      <td>[0.7779448621553885, 0.8137733142037302, 0.473...</td>\n",
       "      <td>[0.8083333333333333, 0.7633916554508748, 0.512...</td>\n",
       "      <td>[0.7928480204342274, 0.7877777777777778, 0.492...</td>\n",
       "      <td>0.002910</td>\n",
       "    </tr>\n",
       "    <tr>\n",
       "      <th>Logistic Regresion</th>\n",
       "      <td>70.0%</td>\n",
       "      <td>[0.7954887218045112, 0.8505021520803443, 0.350...</td>\n",
       "      <td>[0.785254824344384, 0.7286135693215339, 0.5007...</td>\n",
       "      <td>[0.7903386454183268, 0.7848537005163512, 0.412...</td>\n",
       "      <td>0.001744</td>\n",
       "    </tr>\n",
       "    <tr>\n",
       "      <th>Gradient_boosting</th>\n",
       "      <td>67.0%</td>\n",
       "      <td>[0.681704260651629, 0.9024390243902439, 0.2761...</td>\n",
       "      <td>[0.7920792079207921, 0.666031342651419, 0.5223...</td>\n",
       "      <td>[0.7327586206896551, 0.7664189106859998, 0.361...</td>\n",
       "      <td>0.000368</td>\n",
       "    </tr>\n",
       "    <tr>\n",
       "      <th>Support Vector Machine</th>\n",
       "      <td>67.0%</td>\n",
       "      <td>[0.7298245614035088, 0.8189383070301292, 0.346...</td>\n",
       "      <td>[0.7478171545968156, 0.7131434282858571, 0.450...</td>\n",
       "      <td>[0.7387113140537798, 0.762388139441699, 0.3915...</td>\n",
       "      <td>0.002335</td>\n",
       "    </tr>\n",
       "    <tr>\n",
       "      <th>Ada Boots</th>\n",
       "      <td>66.0%</td>\n",
       "      <td>[0.7142857142857143, 0.8677187948350071, 0.232...</td>\n",
       "      <td>[0.7178841309823678, 0.6647614860408881, 0.483...</td>\n",
       "      <td>[0.7160804020100502, 0.7528005974607916, 0.314...</td>\n",
       "      <td>0.000223</td>\n",
       "    </tr>\n",
       "    <tr>\n",
       "      <th>XGB</th>\n",
       "      <td>66.0%</td>\n",
       "      <td>[0.6611528822055138, 0.9193687230989956, 0.232...</td>\n",
       "      <td>[0.7869928400954654, 0.6476652516676774, 0.530...</td>\n",
       "      <td>[0.7186052846635795, 0.7599620493358633, 0.323...</td>\n",
       "      <td>0.000173</td>\n",
       "    </tr>\n",
       "    <tr>\n",
       "      <th>Random Forest Classifier</th>\n",
       "      <td>64.0%</td>\n",
       "      <td>[0.6932330827067669, 0.8783357245337159, 0.165...</td>\n",
       "      <td>[0.7132542547705003, 0.6383733055265902, 0.431...</td>\n",
       "      <td>[0.7031011692933401, 0.7393719806763286, 0.239...</td>\n",
       "      <td>0.001688</td>\n",
       "    </tr>\n",
       "    <tr>\n",
       "      <th>Decision Tree Classifier</th>\n",
       "      <td>56.99999999999999%</td>\n",
       "      <td>[0.6080200501253132, 0.6967001434720229, 0.319...</td>\n",
       "      <td>[0.6271975180972078, 0.6460883448642896, 0.357...</td>\n",
       "      <td>[0.6174599134639858, 0.670440425238161, 0.3374...</td>\n",
       "      <td>0.002128</td>\n",
       "    </tr>\n",
       "  </tbody>\n",
       "</table>\n",
       "</div>"
      ],
      "text/plain": [
       "                              Accuracy_score  \\\n",
       "Model                                          \n",
       "Mutinomial NB                          71.0%   \n",
       "Logistic Regresion                     70.0%   \n",
       "Gradient_boosting                      67.0%   \n",
       "Support Vector Machine                 67.0%   \n",
       "Ada Boots                              66.0%   \n",
       "XGB                                    66.0%   \n",
       "Random Forest Classifier               64.0%   \n",
       "Decision Tree Classifier  56.99999999999999%   \n",
       "\n",
       "                                                               Recall_score  \\\n",
       "Model                                                                         \n",
       "Mutinomial NB             [0.7779448621553885, 0.8137733142037302, 0.473...   \n",
       "Logistic Regresion        [0.7954887218045112, 0.8505021520803443, 0.350...   \n",
       "Gradient_boosting         [0.681704260651629, 0.9024390243902439, 0.2761...   \n",
       "Support Vector Machine    [0.7298245614035088, 0.8189383070301292, 0.346...   \n",
       "Ada Boots                 [0.7142857142857143, 0.8677187948350071, 0.232...   \n",
       "XGB                       [0.6611528822055138, 0.9193687230989956, 0.232...   \n",
       "Random Forest Classifier  [0.6932330827067669, 0.8783357245337159, 0.165...   \n",
       "Decision Tree Classifier  [0.6080200501253132, 0.6967001434720229, 0.319...   \n",
       "\n",
       "                                                            Precision_score  \\\n",
       "Model                                                                         \n",
       "Mutinomial NB             [0.8083333333333333, 0.7633916554508748, 0.512...   \n",
       "Logistic Regresion        [0.785254824344384, 0.7286135693215339, 0.5007...   \n",
       "Gradient_boosting         [0.7920792079207921, 0.666031342651419, 0.5223...   \n",
       "Support Vector Machine    [0.7478171545968156, 0.7131434282858571, 0.450...   \n",
       "Ada Boots                 [0.7178841309823678, 0.6647614860408881, 0.483...   \n",
       "XGB                       [0.7869928400954654, 0.6476652516676774, 0.530...   \n",
       "Random Forest Classifier  [0.7132542547705003, 0.6383733055265902, 0.431...   \n",
       "Decision Tree Classifier  [0.6271975180972078, 0.6460883448642896, 0.357...   \n",
       "\n",
       "                                                                   F1_score  \\\n",
       "Model                                                                         \n",
       "Mutinomial NB             [0.7928480204342274, 0.7877777777777778, 0.492...   \n",
       "Logistic Regresion        [0.7903386454183268, 0.7848537005163512, 0.412...   \n",
       "Gradient_boosting         [0.7327586206896551, 0.7664189106859998, 0.361...   \n",
       "Support Vector Machine    [0.7387113140537798, 0.762388139441699, 0.3915...   \n",
       "Ada Boots                 [0.7160804020100502, 0.7528005974607916, 0.314...   \n",
       "XGB                       [0.7186052846635795, 0.7599620493358633, 0.323...   \n",
       "Random Forest Classifier  [0.7031011692933401, 0.7393719806763286, 0.239...   \n",
       "Decision Tree Classifier  [0.6174599134639858, 0.670440425238161, 0.3374...   \n",
       "\n",
       "                              Time  \n",
       "Model                               \n",
       "Mutinomial NB             0.002910  \n",
       "Logistic Regresion        0.001744  \n",
       "Gradient_boosting         0.000368  \n",
       "Support Vector Machine    0.002335  \n",
       "Ada Boots                 0.000223  \n",
       "XGB                       0.000173  \n",
       "Random Forest Classifier  0.001688  \n",
       "Decision Tree Classifier  0.002128  "
      ]
     },
     "execution_count": 140,
     "metadata": {},
     "output_type": "execute_result"
    }
   ],
   "source": [
    "l= [ld_tri_class, dt_tri_class, rf_tri_class, ab_tri_class, gb_tri_class, xgb_tri_class, svc_tri_class,nb_tri_class  ]\n",
    "df_results_tri = table_results(l)\n",
    "df_results_tri.loc[: , ['Accuracy_score', 'Time']]\n",
    "df_results_tri.sort_values(by='Accuracy_score', ascending=False)"
   ]
  },
  {
   "cell_type": "code",
   "execution_count": 72,
   "metadata": {},
   "outputs": [],
   "source": [
    "df_metrix_tri = unnest_df(df_results_tri)"
   ]
  },
  {
   "cell_type": "markdown",
   "metadata": {},
   "source": [
    "## Tunning hyperparameters"
   ]
  },
  {
   "cell_type": "markdown",
   "metadata": {},
   "source": [
    "### Loigistic Regression"
   ]
  },
  {
   "cell_type": "code",
   "execution_count": 73,
   "metadata": {},
   "outputs": [
    {
     "name": "stdout",
     "output_type": "stream",
     "text": [
      " Best parameter Pipeline(memory=None,\n",
      "         steps=[('vect',\n",
      "                 CountVectorizer(analyzer='word', binary=True,\n",
      "                                 decode_error='strict',\n",
      "                                 dtype=<class 'numpy.int64'>, encoding='utf-8',\n",
      "                                 input='content', lowercase=True, max_df=1.0,\n",
      "                                 max_features=None, min_df=1,\n",
      "                                 ngram_range=(1, 1), preprocessor=None,\n",
      "                                 stop_words=None, strip_accents=None,\n",
      "                                 token_pattern='(?u)\\\\b\\\\w\\\\w+\\\\b',\n",
      "                                 tokenizer=None, vocabulary=None)),\n",
      "                ('chi',\n",
      "                 SelectKBest(k=10000,\n",
      "                             score_func=<function chi2 at 0x1a15938950>)),\n",
      "                ('clf',\n",
      "                 LogisticRegression(C=0.1, class_weight=None, dual=False,\n",
      "                                    fit_intercept=True, intercept_scaling=1,\n",
      "                                    l1_ratio=None, max_iter=100,\n",
      "                                    multi_class='warn', n_jobs=None,\n",
      "                                    penalty='l2', random_state=None,\n",
      "                                    solver='saga', tol=0.0001, verbose=0,\n",
      "                                    warm_start=False))],\n",
      "         verbose=False)\n"
     ]
    }
   ],
   "source": [
    "lg_tri_grid = clf_grid_count_vectorizer(LogisticRegression(),df,'Reviews_tokenize_join', 'tri_target', parameteres ={'clf__penalty' : ['l1', 'l2'],\n",
    "'clf__C' : [ 0.001, 0.01, 0.1, 1, 10, 100],\n",
    "'clf__solver': ['liblinear', 'saga']})"
   ]
  },
  {
   "cell_type": "code",
   "execution_count": 74,
   "metadata": {},
   "outputs": [
    {
     "data": {
      "text/plain": [
       "{'Accuracy_score': '61.0%',\n",
       " 'Recall_score': array([0.59332024, 0.14642857, 0.30777538, 0.38624079, 0.89153515]),\n",
       " 'Precision_score': array([0.55109489, 0.33884298, 0.41424419, 0.48698885, 0.70246439]),\n",
       " 'F1_score': array([0.57142857, 0.20448878, 0.35315985, 0.43080296, 0.78578655]),\n",
       " 'Time': 0.0007102729996404378}"
      ]
     },
     "execution_count": 74,
     "metadata": {},
     "output_type": "execute_result"
    }
   ],
   "source": [
    "lg_tri_grid"
   ]
  },
  {
   "cell_type": "markdown",
   "metadata": {},
   "source": [
    "### Decision Tree Classifier lo corri mal"
   ]
  },
  {
   "cell_type": "code",
   "execution_count": 75,
   "metadata": {},
   "outputs": [
    {
     "name": "stdout",
     "output_type": "stream",
     "text": [
      " Best parameter Pipeline(memory=None,\n",
      "         steps=[('vect',\n",
      "                 TfidfVectorizer(analyzer='word', binary=False,\n",
      "                                 decode_error='strict',\n",
      "                                 dtype=<class 'numpy.float64'>,\n",
      "                                 encoding='utf-8', input='content',\n",
      "                                 lowercase=True, max_df=1.0, max_features=None,\n",
      "                                 min_df=1, ngram_range=(1, 2), norm='l2',\n",
      "                                 preprocessor=None, smooth_idf=True,\n",
      "                                 stop_words='english', strip_accents=None,\n",
      "                                 sublinear_tf=True,\n",
      "                                 token_patter...\n",
      "                 SelectKBest(k=10000,\n",
      "                             score_func=<function chi2 at 0x1a15938950>)),\n",
      "                ('clf',\n",
      "                 DecisionTreeClassifier(class_weight=None, criterion='entropy',\n",
      "                                        max_depth=None, max_features=None,\n",
      "                                        max_leaf_nodes=None,\n",
      "                                        min_impurity_decrease=0.0,\n",
      "                                        min_impurity_split=None,\n",
      "                                        min_samples_leaf=1, min_samples_split=2,\n",
      "                                        min_weight_fraction_leaf=0.0,\n",
      "                                        presort=False, random_state=None,\n",
      "                                        splitter='best'))],\n",
      "         verbose=False)\n"
     ]
    }
   ],
   "source": [
    "dt_tri_grid = clf_grid_count_vectorizer( DecisionTreeClassifier(),df,'Reviews_tokenize_join', 'tri_target', parameteres = {\n",
    "    'clf__criterion': ['gini', 'entropy'],\n",
    "#     'clf__max_depth': [None, 2, 3, 4, 5, 6],\n",
    "    'clf__min_samples_split': [2, 5, 10]\n",
    "#     'clf__min_samples_leaf': [1, 2, 3, 4, 5, 6]\n",
    "})"
   ]
  },
  {
   "cell_type": "code",
   "execution_count": null,
   "metadata": {},
   "outputs": [],
   "source": [
    "dt_tri_grid"
   ]
  },
  {
   "cell_type": "markdown",
   "metadata": {},
   "source": [
    "### Multinomial NB"
   ]
  },
  {
   "cell_type": "code",
   "execution_count": 76,
   "metadata": {},
   "outputs": [
    {
     "data": {
      "application/javascript": [
       "\n",
       "        if (window._pyforest_update_imports_cell) { window._pyforest_update_imports_cell('import numpy as np'); }\n",
       "    "
      ],
      "text/plain": [
       "<IPython.core.display.Javascript object>"
      ]
     },
     "metadata": {},
     "output_type": "display_data"
    },
    {
     "name": "stdout",
     "output_type": "stream",
     "text": [
      " Best parameter Pipeline(memory=None,\n",
      "         steps=[('vect',\n",
      "                 CountVectorizer(analyzer='word', binary=True,\n",
      "                                 decode_error='strict',\n",
      "                                 dtype=<class 'numpy.int64'>, encoding='utf-8',\n",
      "                                 input='content', lowercase=True, max_df=1.0,\n",
      "                                 max_features=None, min_df=1,\n",
      "                                 ngram_range=(1, 1), preprocessor=None,\n",
      "                                 stop_words=None, strip_accents=None,\n",
      "                                 token_pattern='(?u)\\\\b\\\\w\\\\w+\\\\b',\n",
      "                                 tokenizer=None, vocabulary=None)),\n",
      "                ('chi',\n",
      "                 SelectKBest(k=10000,\n",
      "                             score_func=<function chi2 at 0x1a15938950>)),\n",
      "                ('clf',\n",
      "                 MultinomialNB(alpha=1.1, class_prior=None, fit_prior=True))],\n",
      "         verbose=False)\n"
     ]
    }
   ],
   "source": [
    "nb_tri_grid = clf_grid_count_vectorizer( MultinomialNB(), df,'Reviews_tokenize_join', 'tri_target', parameteres = {'clf__alpha': np.linspace(0.5, 1.5, 6), 'clf__fit_prior': [True, False]})"
   ]
  },
  {
   "cell_type": "code",
   "execution_count": null,
   "metadata": {},
   "outputs": [],
   "source": [
    "nb_tri_grid"
   ]
  },
  {
   "cell_type": "markdown",
   "metadata": {},
   "source": [
    "### Linear Support Vector Classification"
   ]
  },
  {
   "cell_type": "code",
   "execution_count": 77,
   "metadata": {},
   "outputs": [
    {
     "name": "stdout",
     "output_type": "stream",
     "text": [
      " Best parameter Pipeline(memory=None,\n",
      "         steps=[('vect',\n",
      "                 CountVectorizer(analyzer='word', binary=True,\n",
      "                                 decode_error='strict',\n",
      "                                 dtype=<class 'numpy.int64'>, encoding='utf-8',\n",
      "                                 input='content', lowercase=True, max_df=1.0,\n",
      "                                 max_features=None, min_df=1,\n",
      "                                 ngram_range=(1, 1), preprocessor=None,\n",
      "                                 stop_words=None, strip_accents=None,\n",
      "                                 token_pattern='(?u)\\\\b\\\\w\\\\w+\\\\b',\n",
      "                                 tokenizer=None, vocabulary=None)),\n",
      "                ('chi',\n",
      "                 SelectKBest(k=10000,\n",
      "                             score_func=<function chi2 at 0x1a15938950>)),\n",
      "                ('clf',\n",
      "                 LinearSVC(C=0.001, class_weight=None, dual=True,\n",
      "                           fit_intercept=True, intercept_scaling=1,\n",
      "                           loss='squared_hinge', max_iter=1000,\n",
      "                           multi_class='ovr', penalty='l2', random_state=None,\n",
      "                           tol=0.0001, verbose=0))],\n",
      "         verbose=False)\n"
     ]
    }
   ],
   "source": [
    "svc_tri_grid = clf_grid_count_vectorizer( LinearSVC() ,df, 'Reviews_tokenize_join', 'tri_target',parameteres = {'clf__C':[0.001,0.1,10,100,10e5], 'clf__max_iter':[1000, 2000,3000]})\n"
   ]
  },
  {
   "cell_type": "markdown",
   "metadata": {},
   "source": [
    "### Random Forest Classifier"
   ]
  },
  {
   "cell_type": "code",
   "execution_count": 78,
   "metadata": {},
   "outputs": [
    {
     "name": "stdout",
     "output_type": "stream",
     "text": [
      " Best parameter Pipeline(memory=None,\n",
      "         steps=[('vect',\n",
      "                 CountVectorizer(analyzer='word', binary=True,\n",
      "                                 decode_error='strict',\n",
      "                                 dtype=<class 'numpy.int64'>, encoding='utf-8',\n",
      "                                 input='content', lowercase=True, max_df=1.0,\n",
      "                                 max_features=None, min_df=1,\n",
      "                                 ngram_range=(1, 1), preprocessor=None,\n",
      "                                 stop_words=None, strip_accents=None,\n",
      "                                 token_pattern='(?u)\\\\b\\\\w\\\\w+\\\\b',\n",
      "                                 tokenizer=None, vocabulary=None...\n",
      "                 RandomForestClassifier(bootstrap=True, class_weight=None,\n",
      "                                        criterion='gini', max_depth=None,\n",
      "                                        max_features='auto',\n",
      "                                        max_leaf_nodes=None,\n",
      "                                        min_impurity_decrease=0.0,\n",
      "                                        min_impurity_split=None,\n",
      "                                        min_samples_leaf=3, min_samples_split=5,\n",
      "                                        min_weight_fraction_leaf=0.0,\n",
      "                                        n_estimators=10, n_jobs=None,\n",
      "                                        oob_score=False, random_state=None,\n",
      "                                        verbose=0, warm_start=False))],\n",
      "         verbose=False)\n"
     ]
    }
   ],
   "source": [
    "rf_tri_grid = clf_grid_count_vectorizer( RandomForestClassifier(), df,'Reviews_tokenize_join', 'tri_target', parameteres = {\n",
    "#     'clf__n_estimators': [10, 30, 100],\n",
    "    'clf__criterion': ['gini', 'entropy'],\n",
    "#     'clf__max_depth': [None, 2, 6, 10],\n",
    "    'clf__min_samples_split': [5, 10],\n",
    "    'clf__min_samples_leaf': [3, 6]\n",
    "})"
   ]
  },
  {
   "cell_type": "markdown",
   "metadata": {},
   "source": [
    "### AdaBoots"
   ]
  },
  {
   "cell_type": "code",
   "execution_count": 126,
   "metadata": {},
   "outputs": [
    {
     "name": "stdout",
     "output_type": "stream",
     "text": [
      " Best parameter Pipeline(memory=None,\n",
      "         steps=[('vect',\n",
      "                 CountVectorizer(analyzer='word', binary=True,\n",
      "                                 decode_error='strict',\n",
      "                                 dtype=<class 'numpy.int64'>, encoding='utf-8',\n",
      "                                 input='content', lowercase=True, max_df=1.0,\n",
      "                                 max_features=None, min_df=1,\n",
      "                                 ngram_range=(1, 1), preprocessor=None,\n",
      "                                 stop_words=None, strip_accents=None,\n",
      "                                 token_pattern='(?u)\\\\b\\\\w\\\\w+\\\\b',\n",
      "                                 tokenizer=None, vocabulary=None)),\n",
      "                ('chi',\n",
      "                 SelectKBest(k=10000,\n",
      "                             score_func=<function chi2 at 0x1a15938950>)),\n",
      "                ('clf',\n",
      "                 AdaBoostClassifier(algorithm='SAMME.R', base_estimator=None,\n",
      "                                    learning_rate=1, n_estimators=100,\n",
      "                                    random_state=None))],\n",
      "         verbose=False)\n"
     ]
    }
   ],
   "source": [
    "ab_tri_grid = clf_grid_count_vectorizer(AdaBoostClassifier(), df, 'Reviews_tokenize_join', 'tri_target', parameteres = {\n",
    " 'clf__n_estimators': [50, 100],\n",
    " 'clf__learning_rate' : [0.01,0.05,0.1,0.3,1]\n",
    "#  'clf__loss' : ['linear', 'square', 'exponential']\n",
    " }\n",
    ")"
   ]
  },
  {
   "cell_type": "code",
   "execution_count": 127,
   "metadata": {},
   "outputs": [
    {
     "data": {
      "text/plain": [
       "{'Accuracy_score': '56.99999999999999%',\n",
       " 'Recall_score': array([0.50884086, 0.25357143, 0.24514039, 0.37395577, 0.83615495]),\n",
       " 'Precision_score': array([0.51084813, 0.35588972, 0.38215488, 0.45541592, 0.67081031]),\n",
       " 'F1_score': array([0.50984252, 0.29614181, 0.29868421, 0.41068538, 0.7444118 ]),\n",
       " 'Time': 1.8761995306704193e-05}"
      ]
     },
     "execution_count": 127,
     "metadata": {},
     "output_type": "execute_result"
    }
   ],
   "source": [
    "ab_tri_grid "
   ]
  },
  {
   "cell_type": "markdown",
   "metadata": {},
   "source": [
    "### Gradient_boosting\n"
   ]
  },
  {
   "cell_type": "code",
   "execution_count": 128,
   "metadata": {},
   "outputs": [
    {
     "name": "stdout",
     "output_type": "stream",
     "text": [
      " Best parameter Pipeline(memory=None,\n",
      "         steps=[('vect',\n",
      "                 CountVectorizer(analyzer='word', binary=True,\n",
      "                                 decode_error='strict',\n",
      "                                 dtype=<class 'numpy.int64'>, encoding='utf-8',\n",
      "                                 input='content', lowercase=True, max_df=1.0,\n",
      "                                 max_features=None, min_df=1,\n",
      "                                 ngram_range=(1, 1), preprocessor=None,\n",
      "                                 stop_words=None, strip_accents=None,\n",
      "                                 token_pattern='(?u)\\\\b\\\\w\\\\w+\\\\b',\n",
      "                                 tokenizer=None, vocabulary=None...\n",
      "                                            learning_rate=0.1, loss='deviance',\n",
      "                                            max_depth=8, max_features=None,\n",
      "                                            max_leaf_nodes=None,\n",
      "                                            min_impurity_decrease=0.0,\n",
      "                                            min_impurity_split=None,\n",
      "                                            min_samples_leaf=100,\n",
      "                                            min_samples_split=2,\n",
      "                                            min_weight_fraction_leaf=0.0,\n",
      "                                            n_estimators=100,\n",
      "                                            n_iter_no_change=None,\n",
      "                                            presort='auto', random_state=None,\n",
      "                                            subsample=1.0, tol=0.0001,\n",
      "                                            validation_fraction=0.1, verbose=0,\n",
      "                                            warm_start=False))],\n",
      "         verbose=False)\n"
     ]
    }
   ],
   "source": [
    "gb_tri_grid = clf_grid_count_vectorizer(GradientBoostingClassifier(), df, 'Reviews_tokenize_join', 'tri_target', parameteres = {'clf__learning_rate': [0.1, 0.05, 0.02, 0.01],\n",
    "              'clf__max_depth': [4, 6, 8],\n",
    "              'clf__min_samples_leaf': [20, 50,100,150]\n",
    "              #'max_features': [1.0, 0.3, 0.1] \n",
    "              })"
   ]
  },
  {
   "cell_type": "code",
   "execution_count": 14,
   "metadata": {},
   "outputs": [
    {
     "data": {
      "text/plain": [
       "{'Accuracy_score': '56.00000000000001%',\n",
       " 'Recall_score': array([0.5540275 , 0.13035714, 0.20518359, 0.32579853, 0.85710187]),\n",
       " 'Precision_score': array([0.4661157 , 0.29435484, 0.33868093, 0.44526528, 0.64765828]),\n",
       " 'F1_score': array([0.50628366, 0.18069307, 0.25554808, 0.37627696, 0.73780412]),\n",
       " 'Time': 0.0002060620000037261}"
      ]
     },
     "execution_count": 14,
     "metadata": {},
     "output_type": "execute_result"
    }
   ],
   "source": [
    "gb_tri_grid"
   ]
  },
  {
   "cell_type": "markdown",
   "metadata": {},
   "source": [
    "### XGB\n"
   ]
  },
  {
   "cell_type": "code",
   "execution_count": 88,
   "metadata": {},
   "outputs": [
    {
     "name": "stdout",
     "output_type": "stream",
     "text": [
      " Best parameter Pipeline(memory=None,\n",
      "         steps=[('vect',\n",
      "                 CountVectorizer(analyzer='word', binary=True,\n",
      "                                 decode_error='strict',\n",
      "                                 dtype=<class 'numpy.int64'>, encoding='utf-8',\n",
      "                                 input='content', lowercase=True, max_df=1.0,\n",
      "                                 max_features=None, min_df=1,\n",
      "                                 ngram_range=(1, 1), preprocessor=None,\n",
      "                                 stop_words=None, strip_accents=None,\n",
      "                                 token_pattern='(?u)\\\\b\\\\w\\\\w+\\\\b',\n",
      "                                 tokenizer=None, vocabulary=None...\n",
      "                 XGBClassifier(base_score=0.5, booster='gbtree',\n",
      "                               colsample_bylevel=1, colsample_bynode=1,\n",
      "                               colsample_bytree=1, gamma=0.5, learning_rate=0.1,\n",
      "                               max_delta_step=0, max_depth=5,\n",
      "                               min_child_weight=1, missing=None,\n",
      "                               n_estimators=100, n_jobs=1, nthread=None,\n",
      "                               objective='multi:softprob', random_state=0,\n",
      "                               reg_alpha=0, reg_lambda=1, scale_pos_weight=1,\n",
      "                               seed=None, silent=None, subsample=1,\n",
      "                               verbosity=1))],\n",
      "         verbose=False)\n"
     ]
    }
   ],
   "source": [
    "xgb_tri_grid = clf_grid_count_vectorizer(XGBClassifier(), df, 'Reviews_tokenize_join', 'tri_target', parameteres = {\n",
    "#         'clf__min_child_weight': [1, 5, 10],\n",
    "        'clf__gamma': [0.5, 1, 1.5, 2, 5],\n",
    "#         'clf__subsample': [0.6, 0.8, 1.0],\n",
    "#         'clf__colsample_bytree': [0.6, 0.8, 1.0],\n",
    "        'clf__max_depth': [3, 4, 5]\n",
    "        })"
   ]
  },
  {
   "cell_type": "code",
   "execution_count": 89,
   "metadata": {},
   "outputs": [
    {
     "data": {
      "text/plain": [
       "{'Accuracy_score': '57.99999999999999%',\n",
       " 'Recall_score': array([0.48526523, 0.08571429, 0.17278618, 0.32678133, 0.91936872]),\n",
       " 'Precision_score': array([0.51458333, 0.29447853, 0.39702233, 0.46963277, 0.63407877]),\n",
       " 'F1_score': array([0.49949444, 0.13278008, 0.24078254, 0.38539554, 0.75052706]),\n",
       " 'Time': 0.0008861220012477133}"
      ]
     },
     "execution_count": 89,
     "metadata": {},
     "output_type": "execute_result"
    }
   ],
   "source": [
    "xgb_tri_grid"
   ]
  },
  {
   "cell_type": "code",
   "execution_count": null,
   "metadata": {},
   "outputs": [],
   "source": [
    "l= [lg_multi_grid, dt_multi_grid, rf_multi_grid, ab_multi_grid, gb_multi_grid, xgb_multi_grid, svc_multi_grid,nb_multi_grid]\n"
   ]
  },
  {
   "cell_type": "markdown",
   "metadata": {},
   "source": [
    "### Results Summary\n"
   ]
  },
  {
   "cell_type": "code",
   "execution_count": 139,
   "metadata": {},
   "outputs": [
    {
     "data": {
      "text/html": [
       "<div>\n",
       "<style scoped>\n",
       "    .dataframe tbody tr th:only-of-type {\n",
       "        vertical-align: middle;\n",
       "    }\n",
       "\n",
       "    .dataframe tbody tr th {\n",
       "        vertical-align: top;\n",
       "    }\n",
       "\n",
       "    .dataframe thead th {\n",
       "        text-align: right;\n",
       "    }\n",
       "</style>\n",
       "<table border=\"1\" class=\"dataframe\">\n",
       "  <thead>\n",
       "    <tr style=\"text-align: right;\">\n",
       "      <th></th>\n",
       "      <th>Accuracy_score</th>\n",
       "      <th>Recall_score</th>\n",
       "      <th>Precision_score</th>\n",
       "      <th>F1_score</th>\n",
       "      <th>Time</th>\n",
       "    </tr>\n",
       "    <tr>\n",
       "      <th>Model</th>\n",
       "      <th></th>\n",
       "      <th></th>\n",
       "      <th></th>\n",
       "      <th></th>\n",
       "      <th></th>\n",
       "    </tr>\n",
       "  </thead>\n",
       "  <tbody>\n",
       "    <tr>\n",
       "      <th>Logistic Regresion</th>\n",
       "      <td>61.0%</td>\n",
       "      <td>[0.593320235756385, 0.14642857142857144, 0.307...</td>\n",
       "      <td>[0.551094890510949, 0.33884297520661155, 0.414...</td>\n",
       "      <td>[0.5714285714285715, 0.20448877805486285, 0.35...</td>\n",
       "      <td>0.000710</td>\n",
       "    </tr>\n",
       "    <tr>\n",
       "      <th>Mutinomial NB</th>\n",
       "      <td>61.0%</td>\n",
       "      <td>[0.5717092337917485, 0.17142857142857143, 0.36...</td>\n",
       "      <td>[0.5141342756183745, 0.3356643356643357, 0.387...</td>\n",
       "      <td>[0.5413953488372093, 0.22695035460992907, 0.37...</td>\n",
       "      <td>0.003013</td>\n",
       "    </tr>\n",
       "    <tr>\n",
       "      <th>Gradient_boosting</th>\n",
       "      <td>59.0%</td>\n",
       "      <td>[0.5756385068762279, 0.14285714285714285, 0.26...</td>\n",
       "      <td>[0.5204262877442274, 0.35874439461883406, 0.4,...</td>\n",
       "      <td>[0.5466417910447761, 0.20434227330779053, 0.31...</td>\n",
       "      <td>0.000966</td>\n",
       "    </tr>\n",
       "    <tr>\n",
       "      <th>Support Vector Machine</th>\n",
       "      <td>59.0%</td>\n",
       "      <td>[0.6227897838899804, 0.0375, 0.176025917926565...</td>\n",
       "      <td>[0.5309882747068677, 0.375, 0.3871733966745843...</td>\n",
       "      <td>[0.5732368896925858, 0.06818181818181818, 0.24...</td>\n",
       "      <td>0.000643</td>\n",
       "    </tr>\n",
       "    <tr>\n",
       "      <th>XGB</th>\n",
       "      <td>57.99999999999999%</td>\n",
       "      <td>[0.48526522593320237, 0.08571428571428572, 0.1...</td>\n",
       "      <td>[0.5145833333333333, 0.294478527607362, 0.3970...</td>\n",
       "      <td>[0.4994944388270981, 0.13278008298755187, 0.24...</td>\n",
       "      <td>0.000886</td>\n",
       "    </tr>\n",
       "    <tr>\n",
       "      <th>Ada Boots</th>\n",
       "      <td>56.99999999999999%</td>\n",
       "      <td>[0.5088408644400786, 0.25357142857142856, 0.24...</td>\n",
       "      <td>[0.5108481262327417, 0.3558897243107769, 0.382...</td>\n",
       "      <td>[0.5098425196850395, 0.2961418143899896, 0.298...</td>\n",
       "      <td>0.000019</td>\n",
       "    </tr>\n",
       "    <tr>\n",
       "      <th>Random Forest Classifier</th>\n",
       "      <td>53.0%</td>\n",
       "      <td>[0.32612966601178783, 0.05357142857142857, 0.0...</td>\n",
       "      <td>[0.5407166123778502, 0.410958904109589, 0.2941...</td>\n",
       "      <td>[0.4068627450980392, 0.09478672985781991, 0.13...</td>\n",
       "      <td>0.001153</td>\n",
       "    </tr>\n",
       "    <tr>\n",
       "      <th>Decision Tree Classifier</th>\n",
       "      <td>45.0%</td>\n",
       "      <td>[0.3104125736738703, 0.16071428571428573, 0.19...</td>\n",
       "      <td>[0.34273318872017355, 0.21176470588235294, 0.2...</td>\n",
       "      <td>[0.32577319587628867, 0.18274111675126906, 0.2...</td>\n",
       "      <td>0.002348</td>\n",
       "    </tr>\n",
       "  </tbody>\n",
       "</table>\n",
       "</div>"
      ],
      "text/plain": [
       "                              Accuracy_score  \\\n",
       "Model                                          \n",
       "Logistic Regresion                     61.0%   \n",
       "Mutinomial NB                          61.0%   \n",
       "Gradient_boosting                      59.0%   \n",
       "Support Vector Machine                 59.0%   \n",
       "XGB                       57.99999999999999%   \n",
       "Ada Boots                 56.99999999999999%   \n",
       "Random Forest Classifier               53.0%   \n",
       "Decision Tree Classifier               45.0%   \n",
       "\n",
       "                                                               Recall_score  \\\n",
       "Model                                                                         \n",
       "Logistic Regresion        [0.593320235756385, 0.14642857142857144, 0.307...   \n",
       "Mutinomial NB             [0.5717092337917485, 0.17142857142857143, 0.36...   \n",
       "Gradient_boosting         [0.5756385068762279, 0.14285714285714285, 0.26...   \n",
       "Support Vector Machine    [0.6227897838899804, 0.0375, 0.176025917926565...   \n",
       "XGB                       [0.48526522593320237, 0.08571428571428572, 0.1...   \n",
       "Ada Boots                 [0.5088408644400786, 0.25357142857142856, 0.24...   \n",
       "Random Forest Classifier  [0.32612966601178783, 0.05357142857142857, 0.0...   \n",
       "Decision Tree Classifier  [0.3104125736738703, 0.16071428571428573, 0.19...   \n",
       "\n",
       "                                                            Precision_score  \\\n",
       "Model                                                                         \n",
       "Logistic Regresion        [0.551094890510949, 0.33884297520661155, 0.414...   \n",
       "Mutinomial NB             [0.5141342756183745, 0.3356643356643357, 0.387...   \n",
       "Gradient_boosting         [0.5204262877442274, 0.35874439461883406, 0.4,...   \n",
       "Support Vector Machine    [0.5309882747068677, 0.375, 0.3871733966745843...   \n",
       "XGB                       [0.5145833333333333, 0.294478527607362, 0.3970...   \n",
       "Ada Boots                 [0.5108481262327417, 0.3558897243107769, 0.382...   \n",
       "Random Forest Classifier  [0.5407166123778502, 0.410958904109589, 0.2941...   \n",
       "Decision Tree Classifier  [0.34273318872017355, 0.21176470588235294, 0.2...   \n",
       "\n",
       "                                                                   F1_score  \\\n",
       "Model                                                                         \n",
       "Logistic Regresion        [0.5714285714285715, 0.20448877805486285, 0.35...   \n",
       "Mutinomial NB             [0.5413953488372093, 0.22695035460992907, 0.37...   \n",
       "Gradient_boosting         [0.5466417910447761, 0.20434227330779053, 0.31...   \n",
       "Support Vector Machine    [0.5732368896925858, 0.06818181818181818, 0.24...   \n",
       "XGB                       [0.4994944388270981, 0.13278008298755187, 0.24...   \n",
       "Ada Boots                 [0.5098425196850395, 0.2961418143899896, 0.298...   \n",
       "Random Forest Classifier  [0.4068627450980392, 0.09478672985781991, 0.13...   \n",
       "Decision Tree Classifier  [0.32577319587628867, 0.18274111675126906, 0.2...   \n",
       "\n",
       "                              Time  \n",
       "Model                               \n",
       "Logistic Regresion        0.000710  \n",
       "Mutinomial NB             0.003013  \n",
       "Gradient_boosting         0.000966  \n",
       "Support Vector Machine    0.000643  \n",
       "XGB                       0.000886  \n",
       "Ada Boots                 0.000019  \n",
       "Random Forest Classifier  0.001153  \n",
       "Decision Tree Classifier  0.002348  "
      ]
     },
     "execution_count": 139,
     "metadata": {},
     "output_type": "execute_result"
    }
   ],
   "source": [
    "l= [lg_tri_grid, dt_tri_grid, rf_tri_grid, ab_tri_grid, gb_tri_grid, xgb_tri_grid, svc_tri_grid,nb_tri_grid]\n",
    "\n",
    "df_results_tri_grid = table_results(l)\n",
    "df_results_tri_grid.loc[: , ['Accuracy_score', 'Time']]\n",
    "df_results_tri_grid.sort_values(by='Accuracy_score', ascending=False)"
   ]
  },
  {
   "cell_type": "code",
   "execution_count": 135,
   "metadata": {},
   "outputs": [],
   "source": [
    "df_metrix_tri_grid = unnest_df(df_results_tri_grid)"
   ]
  },
  {
   "cell_type": "markdown",
   "metadata": {},
   "source": [
    "## Change target to 2 categories\n"
   ]
  },
  {
   "cell_type": "markdown",
   "metadata": {},
   "source": [
    "The last model is not bad but I think It can improve if I implement binary classification.\n",
    "Divide the df into 5 stars as Good and the rest as Bad."
   ]
  },
  {
   "cell_type": "code",
   "execution_count": 3,
   "metadata": {},
   "outputs": [],
   "source": [
    "df['bi_target'] = 'Bad'\n",
    "df.loc[df['review_rating'] == 5, 'bi_target'] = 'Good'\n"
   ]
  },
  {
   "cell_type": "code",
   "execution_count": 4,
   "metadata": {},
   "outputs": [
    {
     "data": {
      "text/html": [
       "<div>\n",
       "<style scoped>\n",
       "    .dataframe tbody tr th:only-of-type {\n",
       "        vertical-align: middle;\n",
       "    }\n",
       "\n",
       "    .dataframe tbody tr th {\n",
       "        vertical-align: top;\n",
       "    }\n",
       "\n",
       "    .dataframe thead th {\n",
       "        text-align: right;\n",
       "    }\n",
       "</style>\n",
       "<table border=\"1\" class=\"dataframe\">\n",
       "  <thead>\n",
       "    <tr style=\"text-align: right;\">\n",
       "      <th></th>\n",
       "      <th>review_rating</th>\n",
       "      <th>Reviews_tokenize_join</th>\n",
       "      <th>bi_target</th>\n",
       "    </tr>\n",
       "  </thead>\n",
       "  <tbody>\n",
       "    <tr>\n",
       "      <th>0</th>\n",
       "      <td>1</td>\n",
       "      <td>start say understand hard time city country en...</td>\n",
       "      <td>Bad</td>\n",
       "    </tr>\n",
       "    <tr>\n",
       "      <th>1</th>\n",
       "      <td>5</td>\n",
       "      <td>wonderful visit time park view thank upgrade l...</td>\n",
       "      <td>Good</td>\n",
       "    </tr>\n",
       "    <tr>\n",
       "      <th>2</th>\n",
       "      <td>5</td>\n",
       "      <td>good hotel stay absolutely worth money view ce...</td>\n",
       "      <td>Good</td>\n",
       "    </tr>\n",
       "    <tr>\n",
       "      <th>3</th>\n",
       "      <td>5</td>\n",
       "      <td>fantastic location spot step central park view...</td>\n",
       "      <td>Good</td>\n",
       "    </tr>\n",
       "    <tr>\n",
       "      <th>4</th>\n",
       "      <td>5</td>\n",
       "      <td>amazing park view nicole staff professional fr...</td>\n",
       "      <td>Good</td>\n",
       "    </tr>\n",
       "  </tbody>\n",
       "</table>\n",
       "</div>"
      ],
      "text/plain": [
       "   review_rating                              Reviews_tokenize_join bi_target\n",
       "0              1  start say understand hard time city country en...       Bad\n",
       "1              5  wonderful visit time park view thank upgrade l...      Good\n",
       "2              5  good hotel stay absolutely worth money view ce...      Good\n",
       "3              5  fantastic location spot step central park view...      Good\n",
       "4              5  amazing park view nicole staff professional fr...      Good"
      ]
     },
     "execution_count": 4,
     "metadata": {},
     "output_type": "execute_result"
    }
   ],
   "source": [
    "df.bi_target.value_counts(normalize = True)\n",
    "df.head()"
   ]
  },
  {
   "cell_type": "code",
   "execution_count": 9,
   "metadata": {},
   "outputs": [
    {
     "data": {
      "text/plain": [
       "<matplotlib.axes._subplots.AxesSubplot at 0x1a1f895828>"
      ]
     },
     "execution_count": 9,
     "metadata": {},
     "output_type": "execute_result"
    },
    {
     "data": {
      "image/png": "[encoded data removed]",
      "text/plain": [
       "<Figure size 432x288 with 1 Axes>"
      ]
     },
     "metadata": {
      "needs_background": "light"
     },
     "output_type": "display_data"
    }
   ],
   "source": [
    "df['bi_target'].value_counts().sort_values().plot(kind = 'barh')\n"
   ]
  },
  {
   "cell_type": "markdown",
   "metadata": {},
   "source": [
    "## Data Engineering and Modelling\n"
   ]
  },
  {
   "cell_type": "markdown",
   "metadata": {},
   "source": [
    "### Logistic Regression"
   ]
  },
  {
   "cell_type": "code",
   "execution_count": 5,
   "metadata": {},
   "outputs": [
    {
     "data": {
      "image/png": "[encoded data removed]",
      "text/plain": [
       "<Figure size 432x288 with 2 Axes>"
      ]
     },
     "metadata": {
      "needs_background": "light"
     },
     "output_type": "display_data"
    }
   ],
   "source": [
    "lg_bi_class = clf_count_vectorizer(LogisticRegression(),df, 'Reviews_tokenize_join', 'bi_target')"
   ]
  },
  {
   "cell_type": "code",
   "execution_count": 99,
   "metadata": {},
   "outputs": [
    {
     "data": {
      "text/plain": [
       "{'Accuracy_score': '80.0%',\n",
       " 'Recall_score': array([0.78436725, 0.81291248]),\n",
       " 'Precision_score': array([0.82900603, 0.76526202]),\n",
       " 'F1_score': array([0.80606911, 0.78836789]),\n",
       " 'Time': 0.008072107993939426}"
      ]
     },
     "execution_count": 99,
     "metadata": {},
     "output_type": "execute_result"
    }
   ],
   "source": [
    "lg_bi_class  "
   ]
  },
  {
   "cell_type": "markdown",
   "metadata": {},
   "source": [
    "### Decision Tree Classifier"
   ]
  },
  {
   "cell_type": "code",
   "execution_count": 100,
   "metadata": {},
   "outputs": [],
   "source": [
    "dt_bi_class = clf_count_vectorizer(DecisionTreeClassifier(),df,  'Reviews_tokenize_join', 'bi_target')"
   ]
  },
  {
   "cell_type": "code",
   "execution_count": 101,
   "metadata": {},
   "outputs": [
    {
     "data": {
      "text/plain": [
       "{'Accuracy_score': '68.0%',\n",
       " 'Recall_score': array([0.69727047, 0.66025825]),\n",
       " 'Precision_score': array([0.70355533, 0.65350753]),\n",
       " 'F1_score': array([0.7003988 , 0.65686554]),\n",
       " 'Time': 0.004020070002297871}"
      ]
     },
     "execution_count": 101,
     "metadata": {},
     "output_type": "execute_result"
    }
   ],
   "source": [
    "dt_bi_class"
   ]
  },
  {
   "cell_type": "markdown",
   "metadata": {},
   "source": [
    "### Multinoial NB"
   ]
  },
  {
   "cell_type": "code",
   "execution_count": 102,
   "metadata": {},
   "outputs": [],
   "source": [
    "nb_bi_class = clf_count_vectorizer(MultinomialNB(),df,  'Reviews_tokenize_join', 'bi_target')"
   ]
  },
  {
   "cell_type": "code",
   "execution_count": 103,
   "metadata": {},
   "outputs": [
    {
     "data": {
      "text/plain": [
       "{'Accuracy_score': '80.0%',\n",
       " 'Recall_score': array([0.73796526, 0.86398852]),\n",
       " 'Precision_score': array([0.862529  , 0.74034915]),\n",
       " 'F1_score': array([0.79539984, 0.79740466]),\n",
       " 'Time': 0.0015178920002654195}"
      ]
     },
     "execution_count": 103,
     "metadata": {},
     "output_type": "execute_result"
    }
   ],
   "source": [
    "nb_bi_class"
   ]
  },
  {
   "cell_type": "code",
   "execution_count": null,
   "metadata": {},
   "outputs": [],
   "source": [
    "sgd_bi_class "
   ]
  },
  {
   "cell_type": "markdown",
   "metadata": {},
   "source": [
    "### Linear Support Vector Classification"
   ]
  },
  {
   "cell_type": "code",
   "execution_count": 104,
   "metadata": {},
   "outputs": [],
   "source": [
    "svc_bi_class = clf_count_vectorizer(LinearSVC(),df, 'Reviews_tokenize_join', 'bi_target')"
   ]
  },
  {
   "cell_type": "code",
   "execution_count": 105,
   "metadata": {},
   "outputs": [
    {
     "data": {
      "text/plain": [
       "{'Accuracy_score': '77.0%',\n",
       " 'Recall_score': array([0.76129032, 0.78852224]),\n",
       " 'Precision_score': array([0.80630749, 0.74070081]),\n",
       " 'F1_score': array([0.78315252, 0.76386379]),\n",
       " 'Time': 0.002070526003080886}"
      ]
     },
     "execution_count": 105,
     "metadata": {},
     "output_type": "execute_result"
    }
   ],
   "source": [
    "svc_bi_class"
   ]
  },
  {
   "cell_type": "markdown",
   "metadata": {},
   "source": [
    "### Random Forest Classifier"
   ]
  },
  {
   "cell_type": "code",
   "execution_count": 106,
   "metadata": {},
   "outputs": [],
   "source": [
    "rf_bi_class = clf_count_vectorizer( RandomForestClassifier(),df, 'Reviews_tokenize_join', 'bi_target')"
   ]
  },
  {
   "cell_type": "code",
   "execution_count": 107,
   "metadata": {},
   "outputs": [
    {
     "data": {
      "text/plain": [
       "{'Accuracy_score': '74.0%',\n",
       " 'Recall_score': array([0.79950372, 0.67030129]),\n",
       " 'Precision_score': array([0.73713109, 0.74300254]),\n",
       " 'F1_score': array([0.76705154, 0.70478202]),\n",
       " 'Time': 0.0028627310020965524}"
      ]
     },
     "execution_count": 107,
     "metadata": {},
     "output_type": "execute_result"
    }
   ],
   "source": [
    "rf_bi_class"
   ]
  },
  {
   "cell_type": "markdown",
   "metadata": {},
   "source": [
    "### AdaBoots"
   ]
  },
  {
   "cell_type": "code",
   "execution_count": 108,
   "metadata": {},
   "outputs": [],
   "source": [
    "ab_bi_class = clf_count_vectorizer(AdaBoostClassifier(), df, 'Reviews_tokenize_join', 'bi_target')"
   ]
  },
  {
   "cell_type": "code",
   "execution_count": 109,
   "metadata": {},
   "outputs": [
    {
     "data": {
      "text/plain": [
       "{'Accuracy_score': '76.0%',\n",
       " 'Recall_score': array([0.77344913, 0.73428981]),\n",
       " 'Precision_score': array([0.77096216, 0.73703917]),\n",
       " 'F1_score': array([0.77220364, 0.73566192]),\n",
       " 'Time': 0.0027022639915230684}"
      ]
     },
     "execution_count": 109,
     "metadata": {},
     "output_type": "execute_result"
    }
   ],
   "source": [
    "ab_bi_class "
   ]
  },
  {
   "cell_type": "markdown",
   "metadata": {},
   "source": [
    "### Gradient_boosting\n"
   ]
  },
  {
   "cell_type": "code",
   "execution_count": 110,
   "metadata": {},
   "outputs": [],
   "source": [
    "gb_bi_class = clf_count_vectorizer(GradientBoostingClassifier(), df, 'Reviews_tokenize_join', 'bi_target')"
   ]
  },
  {
   "cell_type": "code",
   "execution_count": 111,
   "metadata": {},
   "outputs": [
    {
     "data": {
      "text/plain": [
       "{'Accuracy_score': '77.0%',\n",
       " 'Recall_score': array([0.77915633, 0.75868006]),\n",
       " 'Precision_score': array([0.78874655, 0.74816072]),\n",
       " 'F1_score': array([0.78392211, 0.75338367]),\n",
       " 'Time': 0.0031570770079270005}"
      ]
     },
     "execution_count": 111,
     "metadata": {},
     "output_type": "execute_result"
    }
   ],
   "source": [
    "gb_bi_class"
   ]
  },
  {
   "cell_type": "markdown",
   "metadata": {},
   "source": [
    "### XGB\n"
   ]
  },
  {
   "cell_type": "code",
   "execution_count": 112,
   "metadata": {},
   "outputs": [],
   "source": [
    "xgb_bi_class = clf_count_vectorizer(XGBClassifier(), df, 'Reviews_tokenize_join', 'bi_target')"
   ]
  },
  {
   "cell_type": "code",
   "execution_count": 113,
   "metadata": {},
   "outputs": [
    {
     "data": {
      "text/plain": [
       "{'Accuracy_score': '77.0%',\n",
       " 'Recall_score': array([0.76600496, 0.77733142]),\n",
       " 'Precision_score': array([0.79911986, 0.74178532]),\n",
       " 'F1_score': array([0.78221209, 0.7591425 ]),\n",
       " 'Time': 0.0018330009916098788}"
      ]
     },
     "execution_count": 113,
     "metadata": {},
     "output_type": "execute_result"
    }
   ],
   "source": [
    "xgb_bi_class "
   ]
  },
  {
   "cell_type": "code",
   "execution_count": null,
   "metadata": {},
   "outputs": [],
   "source": []
  },
  {
   "cell_type": "markdown",
   "metadata": {},
   "source": [
    "### Results Summary\n"
   ]
  },
  {
   "cell_type": "code",
   "execution_count": 138,
   "metadata": {},
   "outputs": [
    {
     "data": {
      "text/html": [
       "<div>\n",
       "<style scoped>\n",
       "    .dataframe tbody tr th:only-of-type {\n",
       "        vertical-align: middle;\n",
       "    }\n",
       "\n",
       "    .dataframe tbody tr th {\n",
       "        vertical-align: top;\n",
       "    }\n",
       "\n",
       "    .dataframe thead th {\n",
       "        text-align: right;\n",
       "    }\n",
       "</style>\n",
       "<table border=\"1\" class=\"dataframe\">\n",
       "  <thead>\n",
       "    <tr style=\"text-align: right;\">\n",
       "      <th></th>\n",
       "      <th>Accuracy_score</th>\n",
       "      <th>Recall_score</th>\n",
       "      <th>Precision_score</th>\n",
       "      <th>F1_score</th>\n",
       "      <th>Time</th>\n",
       "    </tr>\n",
       "    <tr>\n",
       "      <th>Model</th>\n",
       "      <th></th>\n",
       "      <th></th>\n",
       "      <th></th>\n",
       "      <th></th>\n",
       "      <th></th>\n",
       "    </tr>\n",
       "  </thead>\n",
       "  <tbody>\n",
       "    <tr>\n",
       "      <th>Logistic Regresion</th>\n",
       "      <td>80.0%</td>\n",
       "      <td>[0.7843672456575682, 0.8129124820659971]</td>\n",
       "      <td>[0.8290060319958038, 0.7652620205294436]</td>\n",
       "      <td>[0.8060691062093587, 0.7883678864616669]</td>\n",
       "      <td>0.008072</td>\n",
       "    </tr>\n",
       "    <tr>\n",
       "      <th>Mutinomial NB</th>\n",
       "      <td>80.0%</td>\n",
       "      <td>[0.7379652605459057, 0.8639885222381636]</td>\n",
       "      <td>[0.8625290023201856, 0.7403491517088763]</td>\n",
       "      <td>[0.7953998395292858, 0.7974046610169492]</td>\n",
       "      <td>0.001518</td>\n",
       "    </tr>\n",
       "    <tr>\n",
       "      <th>Gradient_boosting</th>\n",
       "      <td>77.0%</td>\n",
       "      <td>[0.7791563275434243, 0.7586800573888092]</td>\n",
       "      <td>[0.7887465460939462, 0.7481607243916242]</td>\n",
       "      <td>[0.7839221071027338, 0.7533836728878759]</td>\n",
       "      <td>0.003157</td>\n",
       "    </tr>\n",
       "    <tr>\n",
       "      <th>XGB</th>\n",
       "      <td>77.0%</td>\n",
       "      <td>[0.7660049627791563, 0.7773314203730273]</td>\n",
       "      <td>[0.799119855034947, 0.7417853231106243]</td>\n",
       "      <td>[0.782212086659065, 0.759142496847415]</td>\n",
       "      <td>0.001833</td>\n",
       "    </tr>\n",
       "    <tr>\n",
       "      <th>Support Vector Machine</th>\n",
       "      <td>77.0%</td>\n",
       "      <td>[0.7612903225806451, 0.7885222381635582]</td>\n",
       "      <td>[0.8063074901445466, 0.7407008086253369]</td>\n",
       "      <td>[0.783152520740268, 0.7638637943015983]</td>\n",
       "      <td>0.002071</td>\n",
       "    </tr>\n",
       "    <tr>\n",
       "      <th>Ada Boots</th>\n",
       "      <td>76.0%</td>\n",
       "      <td>[0.7734491315136477, 0.7342898134863701]</td>\n",
       "      <td>[0.7709621568142468, 0.7370391705069125]</td>\n",
       "      <td>[0.7722036417688591, 0.735661923242777]</td>\n",
       "      <td>0.002702</td>\n",
       "    </tr>\n",
       "    <tr>\n",
       "      <th>Random Forest Classifier</th>\n",
       "      <td>74.0%</td>\n",
       "      <td>[0.7995037220843673, 0.6703012912482066]</td>\n",
       "      <td>[0.7371310912834592, 0.7430025445292621]</td>\n",
       "      <td>[0.7670515414831568, 0.7047820184039826]</td>\n",
       "      <td>0.002863</td>\n",
       "    </tr>\n",
       "    <tr>\n",
       "      <th>Decision Tree Classifier</th>\n",
       "      <td>68.0%</td>\n",
       "      <td>[0.6972704714640199, 0.66025824964132]</td>\n",
       "      <td>[0.7035553329994992, 0.6535075262709458]</td>\n",
       "      <td>[0.7003988035892323, 0.6568655438195833]</td>\n",
       "      <td>0.004020</td>\n",
       "    </tr>\n",
       "  </tbody>\n",
       "</table>\n",
       "</div>"
      ],
      "text/plain": [
       "                         Accuracy_score  \\\n",
       "Model                                     \n",
       "Logistic Regresion                80.0%   \n",
       "Mutinomial NB                     80.0%   \n",
       "Gradient_boosting                 77.0%   \n",
       "XGB                               77.0%   \n",
       "Support Vector Machine            77.0%   \n",
       "Ada Boots                         76.0%   \n",
       "Random Forest Classifier          74.0%   \n",
       "Decision Tree Classifier          68.0%   \n",
       "\n",
       "                                                      Recall_score  \\\n",
       "Model                                                                \n",
       "Logistic Regresion        [0.7843672456575682, 0.8129124820659971]   \n",
       "Mutinomial NB             [0.7379652605459057, 0.8639885222381636]   \n",
       "Gradient_boosting         [0.7791563275434243, 0.7586800573888092]   \n",
       "XGB                       [0.7660049627791563, 0.7773314203730273]   \n",
       "Support Vector Machine    [0.7612903225806451, 0.7885222381635582]   \n",
       "Ada Boots                 [0.7734491315136477, 0.7342898134863701]   \n",
       "Random Forest Classifier  [0.7995037220843673, 0.6703012912482066]   \n",
       "Decision Tree Classifier    [0.6972704714640199, 0.66025824964132]   \n",
       "\n",
       "                                                   Precision_score  \\\n",
       "Model                                                                \n",
       "Logistic Regresion        [0.8290060319958038, 0.7652620205294436]   \n",
       "Mutinomial NB             [0.8625290023201856, 0.7403491517088763]   \n",
       "Gradient_boosting         [0.7887465460939462, 0.7481607243916242]   \n",
       "XGB                        [0.799119855034947, 0.7417853231106243]   \n",
       "Support Vector Machine    [0.8063074901445466, 0.7407008086253369]   \n",
       "Ada Boots                 [0.7709621568142468, 0.7370391705069125]   \n",
       "Random Forest Classifier  [0.7371310912834592, 0.7430025445292621]   \n",
       "Decision Tree Classifier  [0.7035553329994992, 0.6535075262709458]   \n",
       "\n",
       "                                                          F1_score      Time  \n",
       "Model                                                                         \n",
       "Logistic Regresion        [0.8060691062093587, 0.7883678864616669]  0.008072  \n",
       "Mutinomial NB             [0.7953998395292858, 0.7974046610169492]  0.001518  \n",
       "Gradient_boosting         [0.7839221071027338, 0.7533836728878759]  0.003157  \n",
       "XGB                         [0.782212086659065, 0.759142496847415]  0.001833  \n",
       "Support Vector Machine     [0.783152520740268, 0.7638637943015983]  0.002071  \n",
       "Ada Boots                  [0.7722036417688591, 0.735661923242777]  0.002702  \n",
       "Random Forest Classifier  [0.7670515414831568, 0.7047820184039826]  0.002863  \n",
       "Decision Tree Classifier  [0.7003988035892323, 0.6568655438195833]  0.004020  "
      ]
     },
     "execution_count": 138,
     "metadata": {},
     "output_type": "execute_result"
    }
   ],
   "source": [
    "l= [lg_bi_class, dt_bi_class, rf_bi_class, ab_bi_class, gb_bi_class, xgb_bi_class, svc_bi_class,nb_bi_class]\n",
    "df_results_bi = table_results(l)\n",
    "df_results_bi.loc[: , ['Accuracy_score', 'Time']]\n",
    "df_results_bi.sort_values(by='Accuracy_score', ascending=False)"
   ]
  },
  {
   "cell_type": "code",
   "execution_count": 82,
   "metadata": {},
   "outputs": [],
   "source": [
    "df_metrix_bi = unnest_df(df_results_bi)"
   ]
  },
  {
   "cell_type": "markdown",
   "metadata": {},
   "source": [
    "## Tunning hyperparameters"
   ]
  },
  {
   "cell_type": "markdown",
   "metadata": {},
   "source": [
    "### Logistic Regression"
   ]
  },
  {
   "cell_type": "code",
   "execution_count": 19,
   "metadata": {},
   "outputs": [
    {
     "name": "stdout",
     "output_type": "stream",
     "text": [
      " Best parameter Pipeline(memory=None,\n",
      "         steps=[('vect',\n",
      "                 CountVectorizer(analyzer='word', binary=True,\n",
      "                                 decode_error='strict',\n",
      "                                 dtype=<class 'numpy.int64'>, encoding='utf-8',\n",
      "                                 input='content', lowercase=True, max_df=1.0,\n",
      "                                 max_features=None, min_df=1,\n",
      "                                 ngram_range=(1, 1), preprocessor=None,\n",
      "                                 stop_words=None, strip_accents=None,\n",
      "                                 token_pattern='(?u)\\\\b\\\\w\\\\w+\\\\b',\n",
      "                                 tokenizer=None, vocabulary=None)),\n",
      "                ('chi',\n",
      "                 SelectKBest(k=10000,\n",
      "                             score_func=<function chi2 at 0x1a1aed7d08>)),\n",
      "                ('clf',\n",
      "                 LogisticRegression(C=0.1, class_weight=None, dual=False,\n",
      "                                    fit_intercept=True, intercept_scaling=1,\n",
      "                                    l1_ratio=None, max_iter=100,\n",
      "                                    multi_class='warn', n_jobs=None,\n",
      "                                    penalty='l2', random_state=None,\n",
      "                                    solver='warn', tol=0.0001, verbose=0,\n",
      "                                    warm_start=False))],\n",
      "         verbose=False)\n"
     ]
    }
   ],
   "source": [
    "lg_bi_grid = clf_grid_count_vectorizer(LogisticRegression(),df,'Reviews_tokenize_join', 'bi_target', parameteres ={'clf__penalty' : ['l1', 'l2'],\n",
    "'clf__C' : [ 0.001, 0.01, 0.1,]})\n",
    "\n",
    "\n",
    "# lg_bi_grid = clf_grid_count_vectorizer(LogisticRegression(),df,'Reviews_tokenize_join', 'bi_target', parameteres ={'clf__penalty' : ['l1', 'l2'],\n",
    "# 'clf__C' : [ 0.001, 0.01, 0.1],\n",
    "# 'clf__solver': ['liblinear', 'saga']})"
   ]
  },
  {
   "cell_type": "code",
   "execution_count": 22,
   "metadata": {},
   "outputs": [],
   "source": [
    "# lg_bi_grid"
   ]
  },
  {
   "cell_type": "markdown",
   "metadata": {},
   "source": [
    "### Decision Tree Classifier"
   ]
  },
  {
   "cell_type": "code",
   "execution_count": 21,
   "metadata": {},
   "outputs": [
    {
     "name": "stdout",
     "output_type": "stream",
     "text": [
      " Best parameter Pipeline(memory=None,\n",
      "         steps=[('vect',\n",
      "                 CountVectorizer(analyzer='word', binary=True,\n",
      "                                 decode_error='strict',\n",
      "                                 dtype=<class 'numpy.int64'>, encoding='utf-8',\n",
      "                                 input='content', lowercase=True, max_df=1.0,\n",
      "                                 max_features=None, min_df=1,\n",
      "                                 ngram_range=(1, 1), preprocessor=None,\n",
      "                                 stop_words=None, strip_accents=None,\n",
      "                                 token_pattern='(?u)\\\\b\\\\w\\\\w+\\\\b',\n",
      "                                 tokenizer=None, vocabulary=None...\n",
      "                 SelectKBest(k=10000,\n",
      "                             score_func=<function chi2 at 0x1a1aed7d08>)),\n",
      "                ('clf',\n",
      "                 DecisionTreeClassifier(class_weight=None, criterion='gini',\n",
      "                                        max_depth=None, max_features=None,\n",
      "                                        max_leaf_nodes=None,\n",
      "                                        min_impurity_decrease=0.0,\n",
      "                                        min_impurity_split=None,\n",
      "                                        min_samples_leaf=1, min_samples_split=2,\n",
      "                                        min_weight_fraction_leaf=0.0,\n",
      "                                        presort=False, random_state=None,\n",
      "                                        splitter='best'))],\n",
      "         verbose=False)\n"
     ]
    }
   ],
   "source": [
    "dt_bi_grid = clf_grid_count_vectorizer( DecisionTreeClassifier(),df, 'Reviews_tokenize_join', 'bi_target', parameteres = {\n",
    "    'clf__criterion': ['gini', 'entropy'],\n",
    "#     'clf__max_depth': [None, 2, 3, 4, 5, 6],\n",
    "    'clf__min_samples_split': [2, 5, 10]\n",
    "#     'clf__min_samples_leaf': [1, 2, 3, 4, 5, 6]\n",
    "})"
   ]
  },
  {
   "cell_type": "code",
   "execution_count": 23,
   "metadata": {},
   "outputs": [
    {
     "data": {
      "text/plain": [
       "{'Accuracy_score': '48.0%',\n",
       " 'Recall_score': array([0.36345776, 0.17321429, 0.21382289, 0.33366093, 0.70071736]),\n",
       " 'Precision_score': array([0.37074148, 0.22247706, 0.24029126, 0.34927984, 0.6406086 ]),\n",
       " 'F1_score': array([0.36706349, 0.19477912, 0.22628571, 0.34129178, 0.66931616]),\n",
       " 'Time': 0.0018392109959677327}"
      ]
     },
     "execution_count": 23,
     "metadata": {},
     "output_type": "execute_result"
    }
   ],
   "source": [
    "dt_bi_grid"
   ]
  },
  {
   "cell_type": "markdown",
   "metadata": {},
   "source": [
    "### Multinomial NB"
   ]
  },
  {
   "cell_type": "code",
   "execution_count": 24,
   "metadata": {},
   "outputs": [
    {
     "data": {
      "application/javascript": [
       "\n",
       "        if (window._pyforest_update_imports_cell) { window._pyforest_update_imports_cell('import numpy as np'); }\n",
       "    "
      ],
      "text/plain": [
       "<IPython.core.display.Javascript object>"
      ]
     },
     "metadata": {},
     "output_type": "display_data"
    },
    {
     "name": "stdout",
     "output_type": "stream",
     "text": [
      " Best parameter Pipeline(memory=None,\n",
      "         steps=[('vect',\n",
      "                 CountVectorizer(analyzer='word', binary=True,\n",
      "                                 decode_error='strict',\n",
      "                                 dtype=<class 'numpy.int64'>, encoding='utf-8',\n",
      "                                 input='content', lowercase=True, max_df=1.0,\n",
      "                                 max_features=None, min_df=1,\n",
      "                                 ngram_range=(1, 1), preprocessor=None,\n",
      "                                 stop_words=None, strip_accents=None,\n",
      "                                 token_pattern='(?u)\\\\b\\\\w\\\\w+\\\\b',\n",
      "                                 tokenizer=None, vocabulary=None)),\n",
      "                ('chi',\n",
      "                 SelectKBest(k=10000,\n",
      "                             score_func=<function chi2 at 0x1a1aed7d08>)),\n",
      "                ('clf',\n",
      "                 MultinomialNB(alpha=1.1, class_prior=None, fit_prior=True))],\n",
      "         verbose=False)\n"
     ]
    }
   ],
   "source": [
    "nb_bi_grid = clf_grid_count_vectorizer( MultinomialNB(),df,'Reviews_tokenize_join', 'bi_target', parameteres = {'clf__alpha': np.linspace(0.5, 1.5, 6), 'clf__fit_prior': [True, False]})"
   ]
  },
  {
   "cell_type": "code",
   "execution_count": null,
   "metadata": {},
   "outputs": [],
   "source": [
    "nb_bi_grid  "
   ]
  },
  {
   "cell_type": "markdown",
   "metadata": {},
   "source": [
    "### Linear Support Vector Classification"
   ]
  },
  {
   "cell_type": "code",
   "execution_count": 25,
   "metadata": {},
   "outputs": [
    {
     "name": "stdout",
     "output_type": "stream",
     "text": [
      " Best parameter Pipeline(memory=None,\n",
      "         steps=[('vect',\n",
      "                 TfidfVectorizer(analyzer='word', binary=False,\n",
      "                                 decode_error='strict',\n",
      "                                 dtype=<class 'numpy.float64'>,\n",
      "                                 encoding='utf-8', input='content',\n",
      "                                 lowercase=True, max_df=1.0, max_features=None,\n",
      "                                 min_df=1, ngram_range=(1, 2), norm='l2',\n",
      "                                 preprocessor=None, smooth_idf=True,\n",
      "                                 stop_words='english', strip_accents=None,\n",
      "                                 sublinear_tf=True,\n",
      "                                 token_pattern='(?u)\\\\b\\\\w\\\\w+\\\\b',\n",
      "                                 tokenizer=None, use_idf=True,\n",
      "                                 vocabulary=None)),\n",
      "                ('chi',\n",
      "                 SelectKBest(k=10000,\n",
      "                             score_func=<function chi2 at 0x1a1aed7d08>)),\n",
      "                ('clf',\n",
      "                 LinearSVC(C=0.1, class_weight=None, dual=True,\n",
      "                           fit_intercept=True, intercept_scaling=1,\n",
      "                           loss='squared_hinge', max_iter=1000,\n",
      "                           multi_class='ovr', penalty='l2', random_state=None,\n",
      "                           tol=0.0001, verbose=0))],\n",
      "         verbose=False)\n"
     ]
    }
   ],
   "source": [
    "svc_bi_grid = clf_grid_count_vectorizer( LinearSVC() ,df, 'Reviews_tokenize_join', 'bi_target',parameteres = {'clf__C':[0.001,0.1,10,100,10e5], 'clf__max_iter':[1000, 2000,3000]})\n",
    "                                                                                                       \n"
   ]
  },
  {
   "cell_type": "code",
   "execution_count": null,
   "metadata": {},
   "outputs": [],
   "source": [
    "svc_bi_grid"
   ]
  },
  {
   "cell_type": "markdown",
   "metadata": {},
   "source": [
    "### Random Forest Classifier"
   ]
  },
  {
   "cell_type": "code",
   "execution_count": 27,
   "metadata": {},
   "outputs": [
    {
     "name": "stdout",
     "output_type": "stream",
     "text": [
      " Best parameter Pipeline(memory=None,\n",
      "         steps=[('vect',\n",
      "                 TfidfVectorizer(analyzer='word', binary=False,\n",
      "                                 decode_error='strict',\n",
      "                                 dtype=<class 'numpy.float64'>,\n",
      "                                 encoding='utf-8', input='content',\n",
      "                                 lowercase=True, max_df=1.0, max_features=None,\n",
      "                                 min_df=1, ngram_range=(1, 2), norm='l2',\n",
      "                                 preprocessor=None, smooth_idf=True,\n",
      "                                 stop_words='english', strip_accents=None,\n",
      "                                 sublinear_tf=True,\n",
      "                                 token_patter...\n",
      "                 RandomForestClassifier(bootstrap=True, class_weight=None,\n",
      "                                        criterion='gini', max_depth=None,\n",
      "                                        max_features='auto',\n",
      "                                        max_leaf_nodes=None,\n",
      "                                        min_impurity_decrease=0.0,\n",
      "                                        min_impurity_split=None,\n",
      "                                        min_samples_leaf=3, min_samples_split=2,\n",
      "                                        min_weight_fraction_leaf=0.0,\n",
      "                                        n_estimators=30, n_jobs=None,\n",
      "                                        oob_score=False, random_state=None,\n",
      "                                        verbose=0, warm_start=False))],\n",
      "         verbose=False)\n"
     ]
    }
   ],
   "source": [
    "rf_bi_grid = clf_grid_count_vectorizer( RandomForestClassifier(),df, 'Reviews_tokenize_join', 'bi_target', parameteres = {\n",
    "    'clf__n_estimators': [10, 30, 100],\n",
    "#     'clf__criterion': ['gini', 'entropy'],\n",
    "#     'clf__max_depth': [None, 2, 6, 10],\n",
    "#     'clf__min_samples_split': [5, 10],\n",
    "    'clf__min_samples_leaf': [3, 6] })"
   ]
  },
  {
   "cell_type": "code",
   "execution_count": 85,
   "metadata": {},
   "outputs": [],
   "source": [
    "rf_bi_grid = clf_grid( RandomForestClassifier(),df, 'Reviews_tokenize_join', 'bi_target', parameteres = {\n",
    "     'clf__n_estimators': [10, 30, 100]})"
   ]
  },
  {
   "cell_type": "code",
   "execution_count": null,
   "metadata": {},
   "outputs": [],
   "source": [
    "rf_bi_grid"
   ]
  },
  {
   "cell_type": "markdown",
   "metadata": {},
   "source": [
    "### AdaBoots"
   ]
  },
  {
   "cell_type": "code",
   "execution_count": 28,
   "metadata": {},
   "outputs": [
    {
     "name": "stdout",
     "output_type": "stream",
     "text": [
      " Best parameter Pipeline(memory=None,\n",
      "         steps=[('vect',\n",
      "                 CountVectorizer(analyzer='word', binary=True,\n",
      "                                 decode_error='strict',\n",
      "                                 dtype=<class 'numpy.int64'>, encoding='utf-8',\n",
      "                                 input='content', lowercase=True, max_df=1.0,\n",
      "                                 max_features=None, min_df=1,\n",
      "                                 ngram_range=(1, 1), preprocessor=None,\n",
      "                                 stop_words=None, strip_accents=None,\n",
      "                                 token_pattern='(?u)\\\\b\\\\w\\\\w+\\\\b',\n",
      "                                 tokenizer=None, vocabulary=None)),\n",
      "                ('chi',\n",
      "                 SelectKBest(k=10000,\n",
      "                             score_func=<function chi2 at 0x1a1aed7d08>)),\n",
      "                ('clf',\n",
      "                 AdaBoostClassifier(algorithm='SAMME.R', base_estimator=None,\n",
      "                                    learning_rate=0.1, n_estimators=100,\n",
      "                                    random_state=None))],\n",
      "         verbose=False)\n"
     ]
    }
   ],
   "source": [
    "ab_bi_grid = clf_grid_count_vectorizer(AdaBoostClassifier(), df, 'Reviews_tokenize_join', 'bi_target', parameteres = {\n",
    " 'clf__n_estimators': [50, 100],\n",
    " 'clf__learning_rate' : [0.01,0.05,0.1],\n",
    "#  'clf__loss' : ['linear', 'square', 'exponential']\n",
    " }\n",
    ")"
   ]
  },
  {
   "cell_type": "code",
   "execution_count": 30,
   "metadata": {},
   "outputs": [
    {
     "data": {
      "text/plain": [
       "{'Accuracy_score': '50.0%',\n",
       " 'Recall_score': array([0.29273084, 0.01785714, 0.05075594, 0.06879607, 0.98823529]),\n",
       " 'Precision_score': array([0.69953052, 0.55555556, 0.22065728, 0.32634033, 0.51851852]),\n",
       " 'F1_score': array([0.41274238, 0.03460208, 0.08252853, 0.11363636, 0.68016194]),\n",
       " 'Time': -0.002743326000199886}"
      ]
     },
     "execution_count": 30,
     "metadata": {},
     "output_type": "execute_result"
    }
   ],
   "source": [
    "ab_bi_grid"
   ]
  },
  {
   "cell_type": "markdown",
   "metadata": {},
   "source": [
    "### Gradient_boosting\n"
   ]
  },
  {
   "cell_type": "code",
   "execution_count": 32,
   "metadata": {},
   "outputs": [
    {
     "name": "stdout",
     "output_type": "stream",
     "text": [
      " Best parameter Pipeline(memory=None,\n",
      "         steps=[('vect',\n",
      "                 CountVectorizer(analyzer='word', binary=True,\n",
      "                                 decode_error='strict',\n",
      "                                 dtype=<class 'numpy.int64'>, encoding='utf-8',\n",
      "                                 input='content', lowercase=True, max_df=1.0,\n",
      "                                 max_features=None, min_df=1,\n",
      "                                 ngram_range=(1, 1), preprocessor=None,\n",
      "                                 stop_words=None, strip_accents=None,\n",
      "                                 token_pattern='(?u)\\\\b\\\\w\\\\w+\\\\b',\n",
      "                                 tokenizer=None, vocabulary=None...\n",
      "                                            learning_rate=0.1, loss='deviance',\n",
      "                                            max_depth=8, max_features=None,\n",
      "                                            max_leaf_nodes=None,\n",
      "                                            min_impurity_decrease=0.0,\n",
      "                                            min_impurity_split=None,\n",
      "                                            min_samples_leaf=100,\n",
      "                                            min_samples_split=2,\n",
      "                                            min_weight_fraction_leaf=0.0,\n",
      "                                            n_estimators=100,\n",
      "                                            n_iter_no_change=None,\n",
      "                                            presort='auto', random_state=None,\n",
      "                                            subsample=1.0, tol=0.0001,\n",
      "                                            validation_fraction=0.1, verbose=0,\n",
      "                                            warm_start=False))],\n",
      "         verbose=False)\n"
     ]
    }
   ],
   "source": [
    "gb_bi_grid = clf_grid_count_vectorizer(GradientBoostingClassifier(), df, 'Reviews_tokenize_join', 'bi_target', parameteres = {'clf__learning_rate': [0.1, 0.05, 0.02, 0.01],\n",
    "              'clf__max_depth': [4, 6, 8],\n",
    "              'clf__min_samples_leaf': [20, 50,100,150],\n",
    "              #'max_features': [1.0, 0.3, 0.1] \n",
    "              })"
   ]
  },
  {
   "cell_type": "markdown",
   "metadata": {},
   "source": [
    "### XGB\n"
   ]
  },
  {
   "cell_type": "code",
   "execution_count": 15,
   "metadata": {},
   "outputs": [],
   "source": [
    "xgb_bi_grid = clf_grid_count_vectorizer(XGBClassifier(), df, 'Reviews_tokenize_join', 'bi_target', parameteres = {\n",
    "        'min_child_weight': [1, 5, 10],\n",
    "        'gamma': [0.5, 1, 1.5, 2, 5],\n",
    "        'subsample': [0.6, 0.8, 1.0],\n",
    "        'colsample_bytree': [0.6, 0.8, 1.0],\n",
    "        'max_depth': [3, 4, 5]\n",
    "        })"
   ]
  },
  {
   "cell_type": "code",
   "execution_count": 16,
   "metadata": {},
   "outputs": [
    {
     "data": {
      "text/plain": [
       "{'Accuracy_score': '56.00000000000001%',\n",
       " 'Recall_score': array([0.42632613, 0.0625    , 0.12850972, 0.26977887, 0.94146341]),\n",
       " 'Precision_score': array([0.54385965, 0.2892562 , 0.41319444, 0.45222405, 0.59730566]),\n",
       " 'F1_score': array([0.47797357, 0.10279001, 0.19604613, 0.33795014, 0.73089775]),\n",
       " 'Time': 0.00040448300001116877}"
      ]
     },
     "execution_count": 16,
     "metadata": {},
     "output_type": "execute_result"
    }
   ],
   "source": [
    "xgb_bi_grid"
   ]
  },
  {
   "cell_type": "markdown",
   "metadata": {},
   "source": [
    "### Results Summary\n"
   ]
  },
  {
   "cell_type": "code",
   "execution_count": 86,
   "metadata": {},
   "outputs": [
    {
     "data": {
      "text/html": [
       "<div>\n",
       "<style scoped>\n",
       "    .dataframe tbody tr th:only-of-type {\n",
       "        vertical-align: middle;\n",
       "    }\n",
       "\n",
       "    .dataframe tbody tr th {\n",
       "        vertical-align: top;\n",
       "    }\n",
       "\n",
       "    .dataframe thead th {\n",
       "        text-align: right;\n",
       "    }\n",
       "</style>\n",
       "<table border=\"1\" class=\"dataframe\">\n",
       "  <thead>\n",
       "    <tr style=\"text-align: right;\">\n",
       "      <th></th>\n",
       "      <th>Accuracy_score</th>\n",
       "      <th>Time</th>\n",
       "    </tr>\n",
       "    <tr>\n",
       "      <th>Model</th>\n",
       "      <th></th>\n",
       "      <th></th>\n",
       "    </tr>\n",
       "  </thead>\n",
       "  <tbody>\n",
       "    <tr>\n",
       "      <th>Logistic Regresion</th>\n",
       "      <td>61.0%</td>\n",
       "      <td>0.003424</td>\n",
       "    </tr>\n",
       "    <tr>\n",
       "      <th>Decision Tree Classifier</th>\n",
       "      <td>46.0%</td>\n",
       "      <td>0.002859</td>\n",
       "    </tr>\n",
       "    <tr>\n",
       "      <th>Mutinomial NB</th>\n",
       "      <td>60.0%</td>\n",
       "      <td>0.002448</td>\n",
       "    </tr>\n",
       "    <tr>\n",
       "      <th>Linear Support Vector Classification</th>\n",
       "      <td>60.0%</td>\n",
       "      <td>0.002693</td>\n",
       "    </tr>\n",
       "    <tr>\n",
       "      <th>Random Forest Classifier</th>\n",
       "      <td>54.0%</td>\n",
       "      <td>0.003753</td>\n",
       "    </tr>\n",
       "  </tbody>\n",
       "</table>\n",
       "</div>"
      ],
      "text/plain": [
       "                                     Accuracy_score      Time\n",
       "Model                                                        \n",
       "Logistic Regresion                            61.0%  0.003424\n",
       "Decision Tree Classifier                      46.0%  0.002859\n",
       "Mutinomial NB                                 60.0%  0.002448\n",
       "Linear Support Vector Classification          60.0%  0.002693\n",
       "Random Forest Classifier                      54.0%  0.003753"
      ]
     },
     "execution_count": 86,
     "metadata": {},
     "output_type": "execute_result"
    }
   ],
   "source": [
    "l= [lg_bi_grid, dt_bi_grid,rf_bi_grid, ad_bi_grid,gb_bi_grid, xgb_bi_grid, svc_bi_grid, nb_bi_grid]\n",
    "df_results_bi_grid = table_results(l)\n",
    "df_results_bi_grid.loc[: , ['Accuracy_score', 'Time']]"
   ]
  },
  {
   "cell_type": "code",
   "execution_count": null,
   "metadata": {},
   "outputs": [],
   "source": [
    "df_metrix_bi_grid = unnest_df(df_results_bi)"
   ]
  },
  {
   "cell_type": "code",
   "execution_count": null,
   "metadata": {},
   "outputs": [],
   "source": []
  }
 ],
 "metadata": {
  "kernelspec": {
   "display_name": "Python 3",
   "language": "python",
   "name": "python3"
  },
  "language_info": {
   "codemirror_mode": {
    "name": "ipython",
    "version": 3
   },
   "file_extension": ".py",
   "mimetype": "text/x-python",
   "name": "python",
   "nbconvert_exporter": "python",
   "pygments_lexer": "ipython3",
   "version": "3.7.7"
  }
 },
 "nbformat": 4,
 "nbformat_minor": 2
}
