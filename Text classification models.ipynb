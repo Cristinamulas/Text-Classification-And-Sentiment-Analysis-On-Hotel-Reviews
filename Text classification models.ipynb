{
 "cells": [
  {
   "cell_type": "markdown",
   "metadata": {},
   "source": [
    "# Modelling"
   ]
  },
  {
   "cell_type": "markdown",
   "metadata": {},
   "source": [
    "This notebook contains model training, data engineering and selection processes.\n",
    "\n"
   ]
  },
  {
   "cell_type": "markdown",
   "metadata": {},
   "source": [
    "### Import Necessary Libraries"
   ]
  },
  {
   "cell_type": "code",
   "execution_count": 1,
   "metadata": {},
   "outputs": [],
   "source": [
    "# import pandas as pd\n",
    "# from sklearn.feature_extraction.text import TfidfVectorizer\n",
    "# from sklearn.pipeline import Pipeline\n",
    "# from sklearn.model_selection import train_test_split, GridSearchCV, cross_val_score\n",
    "# from sklearn.feature_selection import SelectKBest, chi2\n",
    "# from sklearn.metrics import precision_score, recall_score, accuracy_score, f1_score, confusion_matrix\n",
    "# from sklearn.metrics import classification_report\n",
    "\n",
    "# from sklearn.linear_model import LogisticRegression\n",
    "# from sklearn.tree import DecisionTreeClassifier\n",
    "# from sklearn.linear_model import SGDClassifier\n",
    "\n",
    "# from sklearn.ensemble import RandomForestClassifier\n",
    "# from sklearn.ensemble import AdaBoostClassifier, GradientBoostingClassifier\n",
    "# from xgboost import XGBClassifier\n",
    "\n",
    "# from sklearn.naive_bayes import MultinomialNB\n",
    "# from sklearn.svm import LinearSVC\n",
    "\n",
    "\n",
    "# import timeit\n",
    "# import warnings\n",
    "# warnings.filterwarnings(\"ignore\")\n",
    "\n",
    "from functions import *"
   ]
  },
  {
   "cell_type": "markdown",
   "metadata": {},
   "source": [
    "### Load dfs"
   ]
  },
  {
   "cell_type": "code",
   "execution_count": 2,
   "metadata": {},
   "outputs": [
    {
     "data": {
      "text/html": [
       "<div>\n",
       "<style scoped>\n",
       "    .dataframe tbody tr th:only-of-type {\n",
       "        vertical-align: middle;\n",
       "    }\n",
       "\n",
       "    .dataframe tbody tr th {\n",
       "        vertical-align: top;\n",
       "    }\n",
       "\n",
       "    .dataframe thead th {\n",
       "        text-align: right;\n",
       "    }\n",
       "</style>\n",
       "<table border=\"1\" class=\"dataframe\">\n",
       "  <thead>\n",
       "    <tr style=\"text-align: right;\">\n",
       "      <th></th>\n",
       "      <th>review_rating</th>\n",
       "      <th>Reviews_tokenize_join</th>\n",
       "    </tr>\n",
       "  </thead>\n",
       "  <tbody>\n",
       "    <tr>\n",
       "      <th>0</th>\n",
       "      <td>1</td>\n",
       "      <td>start say understand hard time city country en...</td>\n",
       "    </tr>\n",
       "    <tr>\n",
       "      <th>1</th>\n",
       "      <td>5</td>\n",
       "      <td>wonderful visit time park view thank upgrade l...</td>\n",
       "    </tr>\n",
       "    <tr>\n",
       "      <th>2</th>\n",
       "      <td>5</td>\n",
       "      <td>good hotel stay absolutely worth money view ce...</td>\n",
       "    </tr>\n",
       "    <tr>\n",
       "      <th>3</th>\n",
       "      <td>5</td>\n",
       "      <td>fantastic location spot step central park view...</td>\n",
       "    </tr>\n",
       "    <tr>\n",
       "      <th>4</th>\n",
       "      <td>5</td>\n",
       "      <td>amazing park view nicole staff professional fr...</td>\n",
       "    </tr>\n",
       "  </tbody>\n",
       "</table>\n",
       "</div>"
      ],
      "text/plain": [
       "   review_rating                              Reviews_tokenize_join\n",
       "0              1  start say understand hard time city country en...\n",
       "1              5  wonderful visit time park view thank upgrade l...\n",
       "2              5  good hotel stay absolutely worth money view ce...\n",
       "3              5  fantastic location spot step central park view...\n",
       "4              5  amazing park view nicole staff professional fr..."
      ]
     },
     "execution_count": 2,
     "metadata": {},
     "output_type": "execute_result"
    }
   ],
   "source": [
    "# import libraries form csv files into pandas df\n",
    "df = pd.read_csv('data_for_model.csv', usecols = ['review_rating' , 'Reviews_tokenize_join'])\n",
    "df.head()"
   ]
  },
  {
   "cell_type": "code",
   "execution_count": 3,
   "metadata": {},
   "outputs": [],
   "source": [
    "# optimazation memory by converting the review_rating to category\n",
    "df['target'] = df['review_rating'].astype('category')"
   ]
  },
  {
   "cell_type": "code",
   "execution_count": 4,
   "metadata": {},
   "outputs": [
    {
     "data": {
      "text/plain": [
       "<matplotlib.axes._subplots.AxesSubplot at 0x1a1e59e208>"
      ]
     },
     "execution_count": 4,
     "metadata": {},
     "output_type": "execute_result"
    }
   ],
   "source": [
    "# plot\n",
    "df['review_rating'].plot.hist(bins=12, alpha=0.5)"
   ]
  },
  {
   "cell_type": "code",
   "execution_count": 5,
   "metadata": {},
   "outputs": [
    {
     "data": {
      "text/plain": [
       "5    0.474172\n",
       "4    0.264351\n",
       "3    0.122715\n",
       "1    0.069501\n",
       "2    0.069261\n",
       "Name: target, dtype: float64"
      ]
     },
     "execution_count": 5,
     "metadata": {},
     "output_type": "execute_result"
    }
   ],
   "source": [
    "\n",
    "df['target'].value_counts(normalize = True)\n"
   ]
  },
  {
   "cell_type": "code",
   "execution_count": 6,
   "metadata": {},
   "outputs": [],
   "source": [
    "#df.info()\n",
    "# df['target'] = df['review_rating'].apply(lambda x: str(x))"
   ]
  },
  {
   "cell_type": "code",
   "execution_count": 7,
   "metadata": {},
   "outputs": [],
   "source": [
    "# df['target'] = df['review_rating'].astype('category')"
   ]
  },
  {
   "cell_type": "code",
   "execution_count": 8,
   "metadata": {},
   "outputs": [
    {
     "name": "stdout",
     "output_type": "stream",
     "text": [
      "<class 'pandas.core.frame.DataFrame'>\n",
      "RangeIndex: 25050 entries, 0 to 25049\n",
      "Data columns (total 3 columns):\n",
      " #   Column                 Non-Null Count  Dtype   \n",
      "---  ------                 --------------  -----   \n",
      " 0   review_rating          25050 non-null  int64   \n",
      " 1   Reviews_tokenize_join  25050 non-null  object  \n",
      " 2   target                 25050 non-null  category\n",
      "dtypes: category(1), int64(1), object(1)\n",
      "memory usage: 416.2+ KB\n"
     ]
    },
    {
     "data": {
      "text/html": [
       "<div>\n",
       "<style scoped>\n",
       "    .dataframe tbody tr th:only-of-type {\n",
       "        vertical-align: middle;\n",
       "    }\n",
       "\n",
       "    .dataframe tbody tr th {\n",
       "        vertical-align: top;\n",
       "    }\n",
       "\n",
       "    .dataframe thead th {\n",
       "        text-align: right;\n",
       "    }\n",
       "</style>\n",
       "<table border=\"1\" class=\"dataframe\">\n",
       "  <thead>\n",
       "    <tr style=\"text-align: right;\">\n",
       "      <th></th>\n",
       "      <th>review_rating</th>\n",
       "      <th>Reviews_tokenize_join</th>\n",
       "      <th>target</th>\n",
       "    </tr>\n",
       "  </thead>\n",
       "  <tbody>\n",
       "    <tr>\n",
       "      <th>0</th>\n",
       "      <td>1</td>\n",
       "      <td>start say understand hard time city country en...</td>\n",
       "      <td>1</td>\n",
       "    </tr>\n",
       "    <tr>\n",
       "      <th>1</th>\n",
       "      <td>5</td>\n",
       "      <td>wonderful visit time park view thank upgrade l...</td>\n",
       "      <td>5</td>\n",
       "    </tr>\n",
       "    <tr>\n",
       "      <th>2</th>\n",
       "      <td>5</td>\n",
       "      <td>good hotel stay absolutely worth money view ce...</td>\n",
       "      <td>5</td>\n",
       "    </tr>\n",
       "    <tr>\n",
       "      <th>3</th>\n",
       "      <td>5</td>\n",
       "      <td>fantastic location spot step central park view...</td>\n",
       "      <td>5</td>\n",
       "    </tr>\n",
       "    <tr>\n",
       "      <th>4</th>\n",
       "      <td>5</td>\n",
       "      <td>amazing park view nicole staff professional fr...</td>\n",
       "      <td>5</td>\n",
       "    </tr>\n",
       "  </tbody>\n",
       "</table>\n",
       "</div>"
      ],
      "text/plain": [
       "   review_rating                              Reviews_tokenize_join target\n",
       "0              1  start say understand hard time city country en...      1\n",
       "1              5  wonderful visit time park view thank upgrade l...      5\n",
       "2              5  good hotel stay absolutely worth money view ce...      5\n",
       "3              5  fantastic location spot step central park view...      5\n",
       "4              5  amazing park view nicole staff professional fr...      5"
      ]
     },
     "execution_count": 8,
     "metadata": {},
     "output_type": "execute_result"
    }
   ],
   "source": [
    "df.info()\n",
    "df.head()"
   ]
  },
  {
   "cell_type": "markdown",
   "metadata": {},
   "source": [
    "## Data Engineering and Modelling\n",
    "\n"
   ]
  },
  {
   "cell_type": "markdown",
   "metadata": {},
   "source": [
    "\n",
    "I am going to implement different classifiers to see which works best:\n",
    "\n",
    "- Logistic Regression\n",
    "- Decision Tree\n",
    "- Random Forest\n",
    "- Ada Boots\n",
    "- Gradient Boosting\n",
    "- XGB\n",
    "- Linear Support Vector Classification\n",
    "- Multinomial Naive Bayes"
   ]
  },
  {
   "cell_type": "code",
   "execution_count": 9,
   "metadata": {},
   "outputs": [],
   "source": [
    "# def clf(model ,col1,col):\n",
    "#     start = timeit.timeit()\n",
    "#     \"\"\"It takes two columns and a classifier, split the data into traing and testing, vectorize it, remove irrlevant features using and implemnt a ca\n",
    "#     classifier using a pipeline, return a dictionary with accuracy, precions and recall f_1 socre and running time\"\"\"\n",
    "\n",
    "#     X_train, X_test, y_train, y_test = train_test_split(df[col1], df[col] , test_size=0.3, random_state = 42)\n",
    "\n",
    "#     classification_model = Pipeline([('vect', TfidfVectorizer(ngram_range=(1, 2), stop_words=\"english\", sublinear_tf=True)),\n",
    "#                          ('chi',  SelectKBest(chi2, k=10000)),\n",
    "#                    ('clf', model)])\n",
    "\n",
    "#     classification_model.fit(X_train, y_train)\n",
    "    \n",
    "#     preds = classification_model.predict(X_test)\n",
    "#     end = timeit.timeit()\n",
    "#     final_time = start - end\n",
    "\n",
    "#     list_names = ['Model','Accuracy_score','Recall_score','Precision_score','F1_score', 'Time']\n",
    "#     score_list = []\n",
    "#     accuracy = accuracy_score(y_test, preds)\n",
    "#     recall = recall_score(y_test, preds,average=None, pos_label='Good')\n",
    "#     precision = precision_score(y_test, preds,average=None, pos_label='Good')\n",
    "#     f_1 = f1_score(y_test , preds,average=None, pos_label='Good')\n",
    "#     final_time = start - end\n",
    "\n",
    "#     score_list.extend([model,accuracy,recall,precision,f_1,final_time])\n",
    "#     dictionary = dict(zip(list_names, score_list))\n",
    "#     return dictionary"
   ]
  },
  {
   "cell_type": "markdown",
   "metadata": {},
   "source": [
    "### Logistic Regresion "
   ]
  },
  {
   "cell_type": "code",
   "execution_count": 10,
   "metadata": {},
   "outputs": [],
   "source": [
    "lg_multi_class = clf(LogisticRegression() , df ,'Reviews_tokenize_join', 'target')\n"
   ]
  },
  {
   "cell_type": "code",
   "execution_count": 11,
   "metadata": {},
   "outputs": [
    {
     "data": {
      "text/plain": [
       "{'Accuracy_score': '60.0%',\n",
       " 'Recall_score': array([0.54420432, 0.03214286, 0.24946004, 0.39164619, 0.90588235]),\n",
       " 'Precision_score': array([0.57708333, 0.3       , 0.37806874, 0.47412255, 0.67414051]),\n",
       " 'F1_score': array([0.56016178, 0.05806452, 0.30058556, 0.42895587, 0.77301665]),\n",
       " 'Time': -0.0005950670000007818}"
      ]
     },
     "execution_count": 11,
     "metadata": {},
     "output_type": "execute_result"
    }
   ],
   "source": [
    "lg_multi_class"
   ]
  },
  {
   "cell_type": "markdown",
   "metadata": {},
   "source": [
    "### Mutinomial NB"
   ]
  },
  {
   "cell_type": "code",
   "execution_count": 12,
   "metadata": {},
   "outputs": [],
   "source": [
    "nb_multi_class = clf(MultinomialNB(), df, 'Reviews_tokenize_join', 'target')"
   ]
  },
  {
   "cell_type": "code",
   "execution_count": 13,
   "metadata": {},
   "outputs": [
    {
     "data": {
      "text/plain": [
       "{'Accuracy_score': '47.0%',\n",
       " 'Recall_score': array([0.01178782, 0.        , 0.00647948, 0.03587224, 0.99827834]),\n",
       " 'Precision_score': array([1.        , 0.        , 0.09230769, 0.11908646, 0.50929586]),\n",
       " 'F1_score': array([0.02330097, 0.        , 0.01210898, 0.05513595, 0.67448623]),\n",
       " 'Time': 0.0004324299999982628}"
      ]
     },
     "execution_count": 13,
     "metadata": {},
     "output_type": "execute_result"
    }
   ],
   "source": [
    "nb_multi_class"
   ]
  },
  {
   "cell_type": "markdown",
   "metadata": {},
   "source": [
    "### Decision Tree Classifier"
   ]
  },
  {
   "cell_type": "code",
   "execution_count": 14,
   "metadata": {},
   "outputs": [],
   "source": [
    "dt_multi_class = clf(DecisionTreeClassifier(), df, 'Reviews_tokenize_join', 'target')"
   ]
  },
  {
   "cell_type": "code",
   "execution_count": 15,
   "metadata": {},
   "outputs": [
    {
     "data": {
      "text/plain": [
       "{'Accuracy_score': '46.0%',\n",
       " 'Recall_score': array([0.31827112, 0.15535714, 0.22354212, 0.35872236, 0.64878049]),\n",
       " 'Precision_score': array([0.35840708, 0.23641304, 0.23820483, 0.33843301, 0.61624421]),\n",
       " 'F1_score': array([0.3371488 , 0.1875    , 0.23064067, 0.34828244, 0.63209393]),\n",
       " 'Time': 0.002336108000001502}"
      ]
     },
     "execution_count": 15,
     "metadata": {},
     "output_type": "execute_result"
    }
   ],
   "source": [
    "dt_multi_class"
   ]
  },
  {
   "cell_type": "markdown",
   "metadata": {},
   "source": [
    "### AdaBoots"
   ]
  },
  {
   "cell_type": "code",
   "execution_count": 16,
   "metadata": {},
   "outputs": [],
   "source": [
    "ab_multi_class = clf(AdaBoostClassifier(), df, 'Reviews_tokenize_join', 'target')"
   ]
  },
  {
   "cell_type": "code",
   "execution_count": 17,
   "metadata": {},
   "outputs": [
    {
     "data": {
      "text/plain": [
       "{'Accuracy_score': '55.00000000000001%',\n",
       " 'Recall_score': array([0.45383104, 0.14285714, 0.19006479, 0.33366093, 0.84878049]),\n",
       " 'Precision_score': array([0.4822547 , 0.2962963 , 0.34174757, 0.43442099, 0.6309727 ]),\n",
       " 'F1_score': array([0.46761134, 0.19277108, 0.24427481, 0.37743191, 0.72384681]),\n",
       " 'Time': 0.004257544999997975}"
      ]
     },
     "execution_count": 17,
     "metadata": {},
     "output_type": "execute_result"
    }
   ],
   "source": [
    "ab_multi_class "
   ]
  },
  {
   "cell_type": "markdown",
   "metadata": {},
   "source": [
    "### Gradient_boosting\n"
   ]
  },
  {
   "cell_type": "code",
   "execution_count": 18,
   "metadata": {},
   "outputs": [],
   "source": [
    "gb_multi_class = clf(GradientBoostingClassifier(), df, 'Reviews_tokenize_join', 'target')"
   ]
  },
  {
   "cell_type": "code",
   "execution_count": 19,
   "metadata": {},
   "outputs": [
    {
     "data": {
      "text/plain": [
       "{'Accuracy_score': '56.99999999999999%',\n",
       " 'Recall_score': array([0.43222004, 0.08571429, 0.16414687, 0.35380835, 0.90731707]),\n",
       " 'Precision_score': array([0.56265985, 0.31578947, 0.38190955, 0.4400978 , 0.64034022]),\n",
       " 'F1_score': array([0.48888889, 0.13483146, 0.22960725, 0.39226369, 0.75080138]),\n",
       " 'Time': 0.0016139790000053722}"
      ]
     },
     "execution_count": 19,
     "metadata": {},
     "output_type": "execute_result"
    }
   ],
   "source": [
    "gb_multi_class"
   ]
  },
  {
   "cell_type": "markdown",
   "metadata": {},
   "source": [
    "### XGB\n"
   ]
  },
  {
   "cell_type": "code",
   "execution_count": 20,
   "metadata": {},
   "outputs": [],
   "source": [
    "xgb_multi_class = clf(XGBClassifier(), df, 'Reviews_tokenize_join', 'target')"
   ]
  },
  {
   "cell_type": "code",
   "execution_count": 21,
   "metadata": {},
   "outputs": [
    {
     "data": {
      "text/plain": [
       "{'Accuracy_score': '55.00000000000001%',\n",
       " 'Recall_score': array([0.40471513, 0.06964286, 0.09287257, 0.28796069, 0.92969871]),\n",
       " 'Precision_score': array([0.56749311, 0.375     , 0.35684647, 0.42188625, 0.59800664]),\n",
       " 'F1_score': array([0.47247706, 0.11746988, 0.14738646, 0.34228972, 0.72784455]),\n",
       " 'Time': 0.0034709439999858205}"
      ]
     },
     "execution_count": 21,
     "metadata": {},
     "output_type": "execute_result"
    }
   ],
   "source": [
    "xgb_multi_class "
   ]
  },
  {
   "cell_type": "markdown",
   "metadata": {},
   "source": [
    "### Linear Support Vector Classification"
   ]
  },
  {
   "cell_type": "code",
   "execution_count": 22,
   "metadata": {},
   "outputs": [],
   "source": [
    "svc_multi_class = clf(LinearSVC(),df, 'Reviews_tokenize_join', 'target')"
   ]
  },
  {
   "cell_type": "code",
   "execution_count": 23,
   "metadata": {},
   "outputs": [
    {
     "data": {
      "text/plain": [
       "{'Accuracy_score': '61.0%',\n",
       " 'Recall_score': array([0.58742633, 0.14464286, 0.35529158, 0.40884521, 0.87058824]),\n",
       " 'Precision_score': array([0.53680431, 0.34913793, 0.40220049, 0.49701314, 0.71658007]),\n",
       " 'F1_score': array([0.56097561, 0.20454545, 0.37729358, 0.44863845, 0.78611219]),\n",
       " 'Time': 0.0027122570000130963}"
      ]
     },
     "execution_count": 23,
     "metadata": {},
     "output_type": "execute_result"
    }
   ],
   "source": [
    "svc_multi_class"
   ]
  },
  {
   "cell_type": "markdown",
   "metadata": {},
   "source": [
    "### Random Forest Classifier"
   ]
  },
  {
   "cell_type": "code",
   "execution_count": 24,
   "metadata": {},
   "outputs": [],
   "source": [
    "rf_multi_class = clf(RandomForestClassifier(),df, 'Reviews_tokenize_join', 'target')"
   ]
  },
  {
   "cell_type": "code",
   "execution_count": 25,
   "metadata": {},
   "outputs": [
    {
     "data": {
      "text/plain": [
       "{'Accuracy_score': '52.0%',\n",
       " 'Recall_score': array([0.32220039, 0.09642857, 0.15658747, 0.34987715, 0.80344333]),\n",
       " 'Precision_score': array([0.4969697 , 0.40909091, 0.26703499, 0.36178862, 0.61646852]),\n",
       " 'F1_score': array([0.3909416 , 0.15606936, 0.19741321, 0.3557332 , 0.69764545]),\n",
       " 'Time': 0.0037929649999739468}"
      ]
     },
     "execution_count": 25,
     "metadata": {},
     "output_type": "execute_result"
    }
   ],
   "source": [
    "rf_multi_class "
   ]
  },
  {
   "cell_type": "markdown",
   "metadata": {},
   "source": [
    "### Results Summary\n"
   ]
  },
  {
   "cell_type": "code",
   "execution_count": 143,
   "metadata": {},
   "outputs": [
    {
     "data": {
      "text/html": [
       "<div>\n",
       "<style scoped>\n",
       "    .dataframe tbody tr th:only-of-type {\n",
       "        vertical-align: middle;\n",
       "    }\n",
       "\n",
       "    .dataframe tbody tr th {\n",
       "        vertical-align: top;\n",
       "    }\n",
       "\n",
       "    .dataframe thead th {\n",
       "        text-align: right;\n",
       "    }\n",
       "</style>\n",
       "<table border=\"1\" class=\"dataframe\">\n",
       "  <thead>\n",
       "    <tr style=\"text-align: right;\">\n",
       "      <th></th>\n",
       "      <th>Accuracy_score</th>\n",
       "      <th>Recall_score</th>\n",
       "      <th>Precision_score</th>\n",
       "      <th>F1_score</th>\n",
       "      <th>Time</th>\n",
       "    </tr>\n",
       "    <tr>\n",
       "      <th>Model</th>\n",
       "      <th></th>\n",
       "      <th></th>\n",
       "      <th></th>\n",
       "      <th></th>\n",
       "      <th></th>\n",
       "    </tr>\n",
       "  </thead>\n",
       "  <tbody>\n",
       "    <tr>\n",
       "      <th>Support Vector Machine</th>\n",
       "      <td>61.0%</td>\n",
       "      <td>[0.587426326129666, 0.14464285714285716, 0.355...</td>\n",
       "      <td>[0.5368043087971275, 0.34913793103448276, 0.40...</td>\n",
       "      <td>[0.5609756097560975, 0.20454545454545456, 0.37...</td>\n",
       "      <td>0.002712</td>\n",
       "    </tr>\n",
       "    <tr>\n",
       "      <th>Logistic Regresion</th>\n",
       "      <td>60.0%</td>\n",
       "      <td>[0.5442043222003929, 0.03214285714285714, 0.24...</td>\n",
       "      <td>[0.5770833333333333, 0.3, 0.3780687397708674, ...</td>\n",
       "      <td>[0.5601617795753286, 0.058064516129032254, 0.3...</td>\n",
       "      <td>-0.000595</td>\n",
       "    </tr>\n",
       "    <tr>\n",
       "      <th>Gradient_boosting</th>\n",
       "      <td>56.99999999999999%</td>\n",
       "      <td>[0.43222003929273084, 0.08571428571428572, 0.1...</td>\n",
       "      <td>[0.5626598465473146, 0.3157894736842105, 0.381...</td>\n",
       "      <td>[0.48888888888888893, 0.1348314606741573, 0.22...</td>\n",
       "      <td>0.001614</td>\n",
       "    </tr>\n",
       "    <tr>\n",
       "      <th>Ada Boots</th>\n",
       "      <td>55.00000000000001%</td>\n",
       "      <td>[0.4538310412573674, 0.14285714285714285, 0.19...</td>\n",
       "      <td>[0.4822546972860125, 0.2962962962962963, 0.341...</td>\n",
       "      <td>[0.4676113360323887, 0.1927710843373494, 0.244...</td>\n",
       "      <td>0.004258</td>\n",
       "    </tr>\n",
       "    <tr>\n",
       "      <th>XGB</th>\n",
       "      <td>55.00000000000001%</td>\n",
       "      <td>[0.40471512770137524, 0.06964285714285715, 0.0...</td>\n",
       "      <td>[0.5674931129476584, 0.375, 0.3568464730290456...</td>\n",
       "      <td>[0.4724770642201835, 0.1174698795180723, 0.147...</td>\n",
       "      <td>0.003471</td>\n",
       "    </tr>\n",
       "    <tr>\n",
       "      <th>Random Forest Classifier</th>\n",
       "      <td>52.0%</td>\n",
       "      <td>[0.32220039292730845, 0.09642857142857143, 0.1...</td>\n",
       "      <td>[0.49696969696969695, 0.4090909090909091, 0.26...</td>\n",
       "      <td>[0.39094159713945176, 0.15606936416184972, 0.1...</td>\n",
       "      <td>0.003793</td>\n",
       "    </tr>\n",
       "    <tr>\n",
       "      <th>Mutinomial NB</th>\n",
       "      <td>47.0%</td>\n",
       "      <td>[0.011787819253438114, 0.0, 0.0064794816414686...</td>\n",
       "      <td>[1.0, 0.0, 0.09230769230769231, 0.119086460032...</td>\n",
       "      <td>[0.023300970873786405, 0.0, 0.0121089808274470...</td>\n",
       "      <td>0.000432</td>\n",
       "    </tr>\n",
       "    <tr>\n",
       "      <th>Decision Tree Classifier</th>\n",
       "      <td>46.0%</td>\n",
       "      <td>[0.3182711198428291, 0.15535714285714286, 0.22...</td>\n",
       "      <td>[0.3584070796460177, 0.23641304347826086, 0.23...</td>\n",
       "      <td>[0.3371488033298647, 0.1875, 0.230640668523676...</td>\n",
       "      <td>0.002336</td>\n",
       "    </tr>\n",
       "  </tbody>\n",
       "</table>\n",
       "</div>"
      ],
      "text/plain": [
       "                              Accuracy_score  \\\n",
       "Model                                          \n",
       "Support Vector Machine                 61.0%   \n",
       "Logistic Regresion                     60.0%   \n",
       "Gradient_boosting         56.99999999999999%   \n",
       "Ada Boots                 55.00000000000001%   \n",
       "XGB                       55.00000000000001%   \n",
       "Random Forest Classifier               52.0%   \n",
       "Mutinomial NB                          47.0%   \n",
       "Decision Tree Classifier               46.0%   \n",
       "\n",
       "                                                               Recall_score  \\\n",
       "Model                                                                         \n",
       "Support Vector Machine    [0.587426326129666, 0.14464285714285716, 0.355...   \n",
       "Logistic Regresion        [0.5442043222003929, 0.03214285714285714, 0.24...   \n",
       "Gradient_boosting         [0.43222003929273084, 0.08571428571428572, 0.1...   \n",
       "Ada Boots                 [0.4538310412573674, 0.14285714285714285, 0.19...   \n",
       "XGB                       [0.40471512770137524, 0.06964285714285715, 0.0...   \n",
       "Random Forest Classifier  [0.32220039292730845, 0.09642857142857143, 0.1...   \n",
       "Mutinomial NB             [0.011787819253438114, 0.0, 0.0064794816414686...   \n",
       "Decision Tree Classifier  [0.3182711198428291, 0.15535714285714286, 0.22...   \n",
       "\n",
       "                                                            Precision_score  \\\n",
       "Model                                                                         \n",
       "Support Vector Machine    [0.5368043087971275, 0.34913793103448276, 0.40...   \n",
       "Logistic Regresion        [0.5770833333333333, 0.3, 0.3780687397708674, ...   \n",
       "Gradient_boosting         [0.5626598465473146, 0.3157894736842105, 0.381...   \n",
       "Ada Boots                 [0.4822546972860125, 0.2962962962962963, 0.341...   \n",
       "XGB                       [0.5674931129476584, 0.375, 0.3568464730290456...   \n",
       "Random Forest Classifier  [0.49696969696969695, 0.4090909090909091, 0.26...   \n",
       "Mutinomial NB             [1.0, 0.0, 0.09230769230769231, 0.119086460032...   \n",
       "Decision Tree Classifier  [0.3584070796460177, 0.23641304347826086, 0.23...   \n",
       "\n",
       "                                                                   F1_score  \\\n",
       "Model                                                                         \n",
       "Support Vector Machine    [0.5609756097560975, 0.20454545454545456, 0.37...   \n",
       "Logistic Regresion        [0.5601617795753286, 0.058064516129032254, 0.3...   \n",
       "Gradient_boosting         [0.48888888888888893, 0.1348314606741573, 0.22...   \n",
       "Ada Boots                 [0.4676113360323887, 0.1927710843373494, 0.244...   \n",
       "XGB                       [0.4724770642201835, 0.1174698795180723, 0.147...   \n",
       "Random Forest Classifier  [0.39094159713945176, 0.15606936416184972, 0.1...   \n",
       "Mutinomial NB             [0.023300970873786405, 0.0, 0.0121089808274470...   \n",
       "Decision Tree Classifier  [0.3371488033298647, 0.1875, 0.230640668523676...   \n",
       "\n",
       "                              Time  \n",
       "Model                               \n",
       "Support Vector Machine    0.002712  \n",
       "Logistic Regresion       -0.000595  \n",
       "Gradient_boosting         0.001614  \n",
       "Ada Boots                 0.004258  \n",
       "XGB                       0.003471  \n",
       "Random Forest Classifier  0.003793  \n",
       "Mutinomial NB             0.000432  \n",
       "Decision Tree Classifier  0.002336  "
      ]
     },
     "execution_count": 143,
     "metadata": {},
     "output_type": "execute_result"
    }
   ],
   "source": [
    "l= [lg_multi_class, dt_multi_class, rf_multi_class, ab_multi_class, gb_multi_class, xgb_multi_class, svc_multi_class, nb_multi_class]\n",
    "df_results_multi = table_results(l)\n",
    "df_results_multi.loc[: , ['Accuracy_score', 'Time']]\n",
    "df_results_multi.sort_values(by='Accuracy_score', ascending=False)"
   ]
  },
  {
   "cell_type": "code",
   "execution_count": 29,
   "metadata": {},
   "outputs": [
    {
     "data": {
      "text/html": [
       "<div>\n",
       "<style scoped>\n",
       "    .dataframe tbody tr th:only-of-type {\n",
       "        vertical-align: middle;\n",
       "    }\n",
       "\n",
       "    .dataframe tbody tr th {\n",
       "        vertical-align: top;\n",
       "    }\n",
       "\n",
       "    .dataframe thead th {\n",
       "        text-align: right;\n",
       "    }\n",
       "</style>\n",
       "<table border=\"1\" class=\"dataframe\">\n",
       "  <thead>\n",
       "    <tr style=\"text-align: right;\">\n",
       "      <th></th>\n",
       "      <th>Recall_score</th>\n",
       "      <th>Precision_score</th>\n",
       "      <th>F1_score</th>\n",
       "      <th>target_class</th>\n",
       "      <th>model</th>\n",
       "    </tr>\n",
       "  </thead>\n",
       "  <tbody>\n",
       "    <tr>\n",
       "      <th>0</th>\n",
       "      <td>0.544204</td>\n",
       "      <td>0.577083</td>\n",
       "      <td>0.560162</td>\n",
       "      <td>1</td>\n",
       "      <td>Logistic Regresion</td>\n",
       "    </tr>\n",
       "    <tr>\n",
       "      <th>1</th>\n",
       "      <td>0.032143</td>\n",
       "      <td>0.300000</td>\n",
       "      <td>0.058065</td>\n",
       "      <td>2</td>\n",
       "      <td>Logistic Regresion</td>\n",
       "    </tr>\n",
       "    <tr>\n",
       "      <th>2</th>\n",
       "      <td>0.249460</td>\n",
       "      <td>0.378069</td>\n",
       "      <td>0.300586</td>\n",
       "      <td>3</td>\n",
       "      <td>Logistic Regresion</td>\n",
       "    </tr>\n",
       "    <tr>\n",
       "      <th>3</th>\n",
       "      <td>0.391646</td>\n",
       "      <td>0.474123</td>\n",
       "      <td>0.428956</td>\n",
       "      <td>4</td>\n",
       "      <td>Logistic Regresion</td>\n",
       "    </tr>\n",
       "    <tr>\n",
       "      <th>4</th>\n",
       "      <td>0.905882</td>\n",
       "      <td>0.674141</td>\n",
       "      <td>0.773017</td>\n",
       "      <td>5</td>\n",
       "      <td>Logistic Regresion</td>\n",
       "    </tr>\n",
       "    <tr>\n",
       "      <th>5</th>\n",
       "      <td>0.318271</td>\n",
       "      <td>0.358407</td>\n",
       "      <td>0.337149</td>\n",
       "      <td>1</td>\n",
       "      <td>Decision Tree Classifier</td>\n",
       "    </tr>\n",
       "    <tr>\n",
       "      <th>6</th>\n",
       "      <td>0.155357</td>\n",
       "      <td>0.236413</td>\n",
       "      <td>0.187500</td>\n",
       "      <td>2</td>\n",
       "      <td>Decision Tree Classifier</td>\n",
       "    </tr>\n",
       "    <tr>\n",
       "      <th>7</th>\n",
       "      <td>0.223542</td>\n",
       "      <td>0.238205</td>\n",
       "      <td>0.230641</td>\n",
       "      <td>3</td>\n",
       "      <td>Decision Tree Classifier</td>\n",
       "    </tr>\n",
       "    <tr>\n",
       "      <th>8</th>\n",
       "      <td>0.358722</td>\n",
       "      <td>0.338433</td>\n",
       "      <td>0.348282</td>\n",
       "      <td>4</td>\n",
       "      <td>Decision Tree Classifier</td>\n",
       "    </tr>\n",
       "    <tr>\n",
       "      <th>9</th>\n",
       "      <td>0.648780</td>\n",
       "      <td>0.616244</td>\n",
       "      <td>0.632094</td>\n",
       "      <td>5</td>\n",
       "      <td>Decision Tree Classifier</td>\n",
       "    </tr>\n",
       "    <tr>\n",
       "      <th>10</th>\n",
       "      <td>0.322200</td>\n",
       "      <td>0.496970</td>\n",
       "      <td>0.390942</td>\n",
       "      <td>1</td>\n",
       "      <td>Random Forest Classifier</td>\n",
       "    </tr>\n",
       "    <tr>\n",
       "      <th>11</th>\n",
       "      <td>0.096429</td>\n",
       "      <td>0.409091</td>\n",
       "      <td>0.156069</td>\n",
       "      <td>2</td>\n",
       "      <td>Random Forest Classifier</td>\n",
       "    </tr>\n",
       "    <tr>\n",
       "      <th>12</th>\n",
       "      <td>0.156587</td>\n",
       "      <td>0.267035</td>\n",
       "      <td>0.197413</td>\n",
       "      <td>3</td>\n",
       "      <td>Random Forest Classifier</td>\n",
       "    </tr>\n",
       "    <tr>\n",
       "      <th>13</th>\n",
       "      <td>0.349877</td>\n",
       "      <td>0.361789</td>\n",
       "      <td>0.355733</td>\n",
       "      <td>4</td>\n",
       "      <td>Random Forest Classifier</td>\n",
       "    </tr>\n",
       "    <tr>\n",
       "      <th>14</th>\n",
       "      <td>0.803443</td>\n",
       "      <td>0.616469</td>\n",
       "      <td>0.697645</td>\n",
       "      <td>5</td>\n",
       "      <td>Random Forest Classifier</td>\n",
       "    </tr>\n",
       "    <tr>\n",
       "      <th>15</th>\n",
       "      <td>0.453831</td>\n",
       "      <td>0.482255</td>\n",
       "      <td>0.467611</td>\n",
       "      <td>1</td>\n",
       "      <td>Ada Boots</td>\n",
       "    </tr>\n",
       "    <tr>\n",
       "      <th>16</th>\n",
       "      <td>0.142857</td>\n",
       "      <td>0.296296</td>\n",
       "      <td>0.192771</td>\n",
       "      <td>2</td>\n",
       "      <td>Ada Boots</td>\n",
       "    </tr>\n",
       "    <tr>\n",
       "      <th>17</th>\n",
       "      <td>0.190065</td>\n",
       "      <td>0.341748</td>\n",
       "      <td>0.244275</td>\n",
       "      <td>3</td>\n",
       "      <td>Ada Boots</td>\n",
       "    </tr>\n",
       "    <tr>\n",
       "      <th>18</th>\n",
       "      <td>0.333661</td>\n",
       "      <td>0.434421</td>\n",
       "      <td>0.377432</td>\n",
       "      <td>4</td>\n",
       "      <td>Ada Boots</td>\n",
       "    </tr>\n",
       "    <tr>\n",
       "      <th>19</th>\n",
       "      <td>0.848780</td>\n",
       "      <td>0.630973</td>\n",
       "      <td>0.723847</td>\n",
       "      <td>5</td>\n",
       "      <td>Ada Boots</td>\n",
       "    </tr>\n",
       "    <tr>\n",
       "      <th>20</th>\n",
       "      <td>0.432220</td>\n",
       "      <td>0.562660</td>\n",
       "      <td>0.488889</td>\n",
       "      <td>1</td>\n",
       "      <td>Gradient_boosting</td>\n",
       "    </tr>\n",
       "    <tr>\n",
       "      <th>21</th>\n",
       "      <td>0.085714</td>\n",
       "      <td>0.315789</td>\n",
       "      <td>0.134831</td>\n",
       "      <td>2</td>\n",
       "      <td>Gradient_boosting</td>\n",
       "    </tr>\n",
       "    <tr>\n",
       "      <th>22</th>\n",
       "      <td>0.164147</td>\n",
       "      <td>0.381910</td>\n",
       "      <td>0.229607</td>\n",
       "      <td>3</td>\n",
       "      <td>Gradient_boosting</td>\n",
       "    </tr>\n",
       "    <tr>\n",
       "      <th>23</th>\n",
       "      <td>0.353808</td>\n",
       "      <td>0.440098</td>\n",
       "      <td>0.392264</td>\n",
       "      <td>4</td>\n",
       "      <td>Gradient_boosting</td>\n",
       "    </tr>\n",
       "    <tr>\n",
       "      <th>24</th>\n",
       "      <td>0.907317</td>\n",
       "      <td>0.640340</td>\n",
       "      <td>0.750801</td>\n",
       "      <td>5</td>\n",
       "      <td>Gradient_boosting</td>\n",
       "    </tr>\n",
       "    <tr>\n",
       "      <th>25</th>\n",
       "      <td>0.404715</td>\n",
       "      <td>0.567493</td>\n",
       "      <td>0.472477</td>\n",
       "      <td>1</td>\n",
       "      <td>XGB</td>\n",
       "    </tr>\n",
       "    <tr>\n",
       "      <th>26</th>\n",
       "      <td>0.069643</td>\n",
       "      <td>0.375000</td>\n",
       "      <td>0.117470</td>\n",
       "      <td>2</td>\n",
       "      <td>XGB</td>\n",
       "    </tr>\n",
       "    <tr>\n",
       "      <th>27</th>\n",
       "      <td>0.092873</td>\n",
       "      <td>0.356846</td>\n",
       "      <td>0.147386</td>\n",
       "      <td>3</td>\n",
       "      <td>XGB</td>\n",
       "    </tr>\n",
       "    <tr>\n",
       "      <th>28</th>\n",
       "      <td>0.287961</td>\n",
       "      <td>0.421886</td>\n",
       "      <td>0.342290</td>\n",
       "      <td>4</td>\n",
       "      <td>XGB</td>\n",
       "    </tr>\n",
       "    <tr>\n",
       "      <th>29</th>\n",
       "      <td>0.929699</td>\n",
       "      <td>0.598007</td>\n",
       "      <td>0.727845</td>\n",
       "      <td>5</td>\n",
       "      <td>XGB</td>\n",
       "    </tr>\n",
       "    <tr>\n",
       "      <th>30</th>\n",
       "      <td>0.587426</td>\n",
       "      <td>0.536804</td>\n",
       "      <td>0.560976</td>\n",
       "      <td>1</td>\n",
       "      <td>Support Vector Machine</td>\n",
       "    </tr>\n",
       "    <tr>\n",
       "      <th>31</th>\n",
       "      <td>0.144643</td>\n",
       "      <td>0.349138</td>\n",
       "      <td>0.204545</td>\n",
       "      <td>2</td>\n",
       "      <td>Support Vector Machine</td>\n",
       "    </tr>\n",
       "    <tr>\n",
       "      <th>32</th>\n",
       "      <td>0.355292</td>\n",
       "      <td>0.402200</td>\n",
       "      <td>0.377294</td>\n",
       "      <td>3</td>\n",
       "      <td>Support Vector Machine</td>\n",
       "    </tr>\n",
       "    <tr>\n",
       "      <th>33</th>\n",
       "      <td>0.408845</td>\n",
       "      <td>0.497013</td>\n",
       "      <td>0.448638</td>\n",
       "      <td>4</td>\n",
       "      <td>Support Vector Machine</td>\n",
       "    </tr>\n",
       "    <tr>\n",
       "      <th>34</th>\n",
       "      <td>0.870588</td>\n",
       "      <td>0.716580</td>\n",
       "      <td>0.786112</td>\n",
       "      <td>5</td>\n",
       "      <td>Support Vector Machine</td>\n",
       "    </tr>\n",
       "    <tr>\n",
       "      <th>35</th>\n",
       "      <td>0.011788</td>\n",
       "      <td>1.000000</td>\n",
       "      <td>0.023301</td>\n",
       "      <td>1</td>\n",
       "      <td>Mutinomial NB</td>\n",
       "    </tr>\n",
       "    <tr>\n",
       "      <th>36</th>\n",
       "      <td>0.000000</td>\n",
       "      <td>0.000000</td>\n",
       "      <td>0.000000</td>\n",
       "      <td>2</td>\n",
       "      <td>Mutinomial NB</td>\n",
       "    </tr>\n",
       "    <tr>\n",
       "      <th>37</th>\n",
       "      <td>0.006479</td>\n",
       "      <td>0.092308</td>\n",
       "      <td>0.012109</td>\n",
       "      <td>3</td>\n",
       "      <td>Mutinomial NB</td>\n",
       "    </tr>\n",
       "    <tr>\n",
       "      <th>38</th>\n",
       "      <td>0.035872</td>\n",
       "      <td>0.119086</td>\n",
       "      <td>0.055136</td>\n",
       "      <td>4</td>\n",
       "      <td>Mutinomial NB</td>\n",
       "    </tr>\n",
       "    <tr>\n",
       "      <th>39</th>\n",
       "      <td>0.998278</td>\n",
       "      <td>0.509296</td>\n",
       "      <td>0.674486</td>\n",
       "      <td>5</td>\n",
       "      <td>Mutinomial NB</td>\n",
       "    </tr>\n",
       "  </tbody>\n",
       "</table>\n",
       "</div>"
      ],
      "text/plain": [
       "    Recall_score  Precision_score  F1_score  target_class  \\\n",
       "0       0.544204         0.577083  0.560162             1   \n",
       "1       0.032143         0.300000  0.058065             2   \n",
       "2       0.249460         0.378069  0.300586             3   \n",
       "3       0.391646         0.474123  0.428956             4   \n",
       "4       0.905882         0.674141  0.773017             5   \n",
       "5       0.318271         0.358407  0.337149             1   \n",
       "6       0.155357         0.236413  0.187500             2   \n",
       "7       0.223542         0.238205  0.230641             3   \n",
       "8       0.358722         0.338433  0.348282             4   \n",
       "9       0.648780         0.616244  0.632094             5   \n",
       "10      0.322200         0.496970  0.390942             1   \n",
       "11      0.096429         0.409091  0.156069             2   \n",
       "12      0.156587         0.267035  0.197413             3   \n",
       "13      0.349877         0.361789  0.355733             4   \n",
       "14      0.803443         0.616469  0.697645             5   \n",
       "15      0.453831         0.482255  0.467611             1   \n",
       "16      0.142857         0.296296  0.192771             2   \n",
       "17      0.190065         0.341748  0.244275             3   \n",
       "18      0.333661         0.434421  0.377432             4   \n",
       "19      0.848780         0.630973  0.723847             5   \n",
       "20      0.432220         0.562660  0.488889             1   \n",
       "21      0.085714         0.315789  0.134831             2   \n",
       "22      0.164147         0.381910  0.229607             3   \n",
       "23      0.353808         0.440098  0.392264             4   \n",
       "24      0.907317         0.640340  0.750801             5   \n",
       "25      0.404715         0.567493  0.472477             1   \n",
       "26      0.069643         0.375000  0.117470             2   \n",
       "27      0.092873         0.356846  0.147386             3   \n",
       "28      0.287961         0.421886  0.342290             4   \n",
       "29      0.929699         0.598007  0.727845             5   \n",
       "30      0.587426         0.536804  0.560976             1   \n",
       "31      0.144643         0.349138  0.204545             2   \n",
       "32      0.355292         0.402200  0.377294             3   \n",
       "33      0.408845         0.497013  0.448638             4   \n",
       "34      0.870588         0.716580  0.786112             5   \n",
       "35      0.011788         1.000000  0.023301             1   \n",
       "36      0.000000         0.000000  0.000000             2   \n",
       "37      0.006479         0.092308  0.012109             3   \n",
       "38      0.035872         0.119086  0.055136             4   \n",
       "39      0.998278         0.509296  0.674486             5   \n",
       "\n",
       "                       model  \n",
       "0         Logistic Regresion  \n",
       "1         Logistic Regresion  \n",
       "2         Logistic Regresion  \n",
       "3         Logistic Regresion  \n",
       "4         Logistic Regresion  \n",
       "5   Decision Tree Classifier  \n",
       "6   Decision Tree Classifier  \n",
       "7   Decision Tree Classifier  \n",
       "8   Decision Tree Classifier  \n",
       "9   Decision Tree Classifier  \n",
       "10  Random Forest Classifier  \n",
       "11  Random Forest Classifier  \n",
       "12  Random Forest Classifier  \n",
       "13  Random Forest Classifier  \n",
       "14  Random Forest Classifier  \n",
       "15                 Ada Boots  \n",
       "16                 Ada Boots  \n",
       "17                 Ada Boots  \n",
       "18                 Ada Boots  \n",
       "19                 Ada Boots  \n",
       "20         Gradient_boosting  \n",
       "21         Gradient_boosting  \n",
       "22         Gradient_boosting  \n",
       "23         Gradient_boosting  \n",
       "24         Gradient_boosting  \n",
       "25                       XGB  \n",
       "26                       XGB  \n",
       "27                       XGB  \n",
       "28                       XGB  \n",
       "29                       XGB  \n",
       "30    Support Vector Machine  \n",
       "31    Support Vector Machine  \n",
       "32    Support Vector Machine  \n",
       "33    Support Vector Machine  \n",
       "34    Support Vector Machine  \n",
       "35             Mutinomial NB  \n",
       "36             Mutinomial NB  \n",
       "37             Mutinomial NB  \n",
       "38             Mutinomial NB  \n",
       "39             Mutinomial NB  "
      ]
     },
     "execution_count": 29,
     "metadata": {},
     "output_type": "execute_result"
    }
   ],
   "source": [
    "df_metrix_multi = unnest_df(df_results_multi)\n",
    "df_metrix_multi"
   ]
  },
  {
   "cell_type": "markdown",
   "metadata": {},
   "source": [
    "## Hyperparameters tunning in classifiers"
   ]
  },
  {
   "cell_type": "markdown",
   "metadata": {},
   "source": [
    "### Logistic Regresion with GridSearchCV "
   ]
  },
  {
   "cell_type": "code",
   "execution_count": 30,
   "metadata": {},
   "outputs": [
    {
     "name": "stdout",
     "output_type": "stream",
     "text": [
      " Best parameter Pipeline(memory=None,\n",
      "         steps=[('vect',\n",
      "                 TfidfVectorizer(analyzer='word', binary=False,\n",
      "                                 decode_error='strict',\n",
      "                                 dtype=<class 'numpy.float64'>,\n",
      "                                 encoding='utf-8', input='content',\n",
      "                                 lowercase=True, max_df=1.0, max_features=None,\n",
      "                                 min_df=1, ngram_range=(1, 2), norm='l2',\n",
      "                                 preprocessor=None, smooth_idf=True,\n",
      "                                 stop_words='english', strip_accents=None,\n",
      "                                 sublinear_tf=True,\n",
      "                                 token_patter...\n",
      "                                 tokenizer=None, use_idf=True,\n",
      "                                 vocabulary=None)),\n",
      "                ('chi',\n",
      "                 SelectKBest(k=10000,\n",
      "                             score_func=<function chi2 at 0x1a19e2c950>)),\n",
      "                ('clf',\n",
      "                 LogisticRegression(C=10, class_weight=None, dual=False,\n",
      "                                    fit_intercept=True, intercept_scaling=1,\n",
      "                                    l1_ratio=None, max_iter=100,\n",
      "                                    multi_class='warn', n_jobs=None,\n",
      "                                    penalty='l2', random_state=None,\n",
      "                                    solver='warn', tol=0.0001, verbose=0,\n",
      "                                    warm_start=False))],\n",
      "         verbose=False)\n"
     ]
    }
   ],
   "source": [
    "lg_multi_grid = clf_grid(LogisticRegression(),df ,'Reviews_tokenize_join', 'target',parameteres = {'clf__C':[0.01, 0.1, 1, 10, 100] })"
   ]
  },
  {
   "cell_type": "code",
   "execution_count": 32,
   "metadata": {},
   "outputs": [
    {
     "data": {
      "text/plain": [
       "{'Accuracy_score': '61.0%',\n",
       " 'Recall_score': array([0.5481336 , 0.15714286, 0.39416847, 0.42948403, 0.86054519]),\n",
       " 'Precision_score': array([0.5625    , 0.34509804, 0.42491269, 0.50432776, 0.71883988]),\n",
       " 'F1_score': array([0.55522388, 0.21595092, 0.40896359, 0.46390658, 0.78333551]),\n",
       " 'Time': 6.499899998857472e-05}"
      ]
     },
     "execution_count": 32,
     "metadata": {},
     "output_type": "execute_result"
    }
   ],
   "source": [
    "lg_multi_grid"
   ]
  },
  {
   "cell_type": "markdown",
   "metadata": {},
   "source": [
    "### Multinomial NB"
   ]
  },
  {
   "cell_type": "code",
   "execution_count": 33,
   "metadata": {},
   "outputs": [
    {
     "data": {
      "application/javascript": [
       "\n",
       "        if (window._pyforest_update_imports_cell) { window._pyforest_update_imports_cell('import numpy as np'); }\n",
       "    "
      ],
      "text/plain": [
       "<IPython.core.display.Javascript object>"
      ]
     },
     "metadata": {},
     "output_type": "display_data"
    },
    {
     "name": "stdout",
     "output_type": "stream",
     "text": [
      " Best parameter Pipeline(memory=None,\n",
      "         steps=[('vect',\n",
      "                 TfidfVectorizer(analyzer='word', binary=False,\n",
      "                                 decode_error='strict',\n",
      "                                 dtype=<class 'numpy.float64'>,\n",
      "                                 encoding='utf-8', input='content',\n",
      "                                 lowercase=True, max_df=1.0, max_features=None,\n",
      "                                 min_df=1, ngram_range=(1, 2), norm='l2',\n",
      "                                 preprocessor=None, smooth_idf=True,\n",
      "                                 stop_words='english', strip_accents=None,\n",
      "                                 sublinear_tf=True,\n",
      "                                 token_pattern='(?u)\\\\b\\\\w\\\\w+\\\\b',\n",
      "                                 tokenizer=None, use_idf=True,\n",
      "                                 vocabulary=None)),\n",
      "                ('chi',\n",
      "                 SelectKBest(k=10000,\n",
      "                             score_func=<function chi2 at 0x1a19e2c950>)),\n",
      "                ('clf',\n",
      "                 MultinomialNB(alpha=0.5, class_prior=None, fit_prior=False))],\n",
      "         verbose=False)\n"
     ]
    }
   ],
   "source": [
    "nb_muti_grid = clf_grid(MultinomialNB(),df,'Reviews_tokenize_join', 'target', parameteres = {'clf__alpha': np.linspace(0.5, 1.5, 6), 'clf__fit_prior': [True, False]})"
   ]
  },
  {
   "cell_type": "code",
   "execution_count": 34,
   "metadata": {},
   "outputs": [
    {
     "data": {
      "text/plain": [
       "{'Accuracy_score': '60.0%',\n",
       " 'Recall_score': array([0.3870334 , 0.0125    , 0.31533477, 0.45503686, 0.876901  ]),\n",
       " 'Precision_score': array([0.63961039, 0.25      , 0.30575916, 0.46230654, 0.72399905]),\n",
       " 'F1_score': array([0.48225214, 0.02380952, 0.31047315, 0.45864289, 0.7931482 ]),\n",
       " 'Time': 0.00046563300003299446}"
      ]
     },
     "execution_count": 34,
     "metadata": {},
     "output_type": "execute_result"
    }
   ],
   "source": [
    "nb_muti_grid "
   ]
  },
  {
   "cell_type": "markdown",
   "metadata": {},
   "source": [
    "### Decision Tree Classifier"
   ]
  },
  {
   "cell_type": "code",
   "execution_count": 35,
   "metadata": {},
   "outputs": [
    {
     "name": "stdout",
     "output_type": "stream",
     "text": [
      " Best parameter Pipeline(memory=None,\n",
      "         steps=[('vect',\n",
      "                 TfidfVectorizer(analyzer='word', binary=False,\n",
      "                                 decode_error='strict',\n",
      "                                 dtype=<class 'numpy.float64'>,\n",
      "                                 encoding='utf-8', input='content',\n",
      "                                 lowercase=True, max_df=1.0, max_features=None,\n",
      "                                 min_df=1, ngram_range=(1, 2), norm='l2',\n",
      "                                 preprocessor=None, smooth_idf=True,\n",
      "                                 stop_words='english', strip_accents=None,\n",
      "                                 sublinear_tf=True,\n",
      "                                 token_patter...\n",
      "                 SelectKBest(k=10000,\n",
      "                             score_func=<function chi2 at 0x1a19e2c950>)),\n",
      "                ('clf',\n",
      "                 DecisionTreeClassifier(class_weight=None, criterion='gini',\n",
      "                                        max_depth=6, max_features=None,\n",
      "                                        max_leaf_nodes=None,\n",
      "                                        min_impurity_decrease=0.0,\n",
      "                                        min_impurity_split=None,\n",
      "                                        min_samples_leaf=3, min_samples_split=5,\n",
      "                                        min_weight_fraction_leaf=0.0,\n",
      "                                        presort=False, random_state=None,\n",
      "                                        splitter='best'))],\n",
      "         verbose=False)\n"
     ]
    }
   ],
   "source": [
    "dt_multi_grid = clf_grid(DecisionTreeClassifier(),df,'Reviews_tokenize_join', 'target',parameteres = {\n",
    "    'clf__criterion': ['gini', 'entropy'],\n",
    "    'clf__max_depth': [None, 2, 3, 4, 5, 6],\n",
    "    'clf__min_samples_split': [2, 5, 10],\n",
    "    'clf__min_samples_leaf': [1, 2, 3, 4]\n",
    "})"
   ]
  },
  {
   "cell_type": "code",
   "execution_count": 37,
   "metadata": {},
   "outputs": [
    {
     "data": {
      "text/plain": [
       "{'Accuracy_score': '51.0%',\n",
       " 'Recall_score': array([0.33005894, 0.00714286, 0.02159827, 0.21670762, 0.91305595]),\n",
       " 'Precision_score': array([0.45901639, 0.44444444, 0.23529412, 0.35737439, 0.54664147]),\n",
       " 'F1_score': array([0.384     , 0.01405975, 0.03956479, 0.26980728, 0.68385988]),\n",
       " 'Time': -0.0015780099998323749}"
      ]
     },
     "execution_count": 37,
     "metadata": {},
     "output_type": "execute_result"
    }
   ],
   "source": [
    "dt_multi_grid"
   ]
  },
  {
   "cell_type": "markdown",
   "metadata": {},
   "source": [
    "### Random Forest Classifier"
   ]
  },
  {
   "cell_type": "code",
   "execution_count": 38,
   "metadata": {},
   "outputs": [
    {
     "name": "stdout",
     "output_type": "stream",
     "text": [
      " Best parameter Pipeline(memory=None,\n",
      "         steps=[('vect',\n",
      "                 TfidfVectorizer(analyzer='word', binary=False,\n",
      "                                 decode_error='strict',\n",
      "                                 dtype=<class 'numpy.float64'>,\n",
      "                                 encoding='utf-8', input='content',\n",
      "                                 lowercase=True, max_df=1.0, max_features=None,\n",
      "                                 min_df=1, ngram_range=(1, 2), norm='l2',\n",
      "                                 preprocessor=None, smooth_idf=True,\n",
      "                                 stop_words='english', strip_accents=None,\n",
      "                                 sublinear_tf=True,\n",
      "                                 token_patter...\n",
      "                 RandomForestClassifier(bootstrap=True, class_weight=None,\n",
      "                                        criterion='gini', max_depth=None,\n",
      "                                        max_features='auto',\n",
      "                                        max_leaf_nodes=None,\n",
      "                                        min_impurity_decrease=0.0,\n",
      "                                        min_impurity_split=None,\n",
      "                                        min_samples_leaf=3, min_samples_split=2,\n",
      "                                        min_weight_fraction_leaf=0.0,\n",
      "                                        n_estimators=30, n_jobs=None,\n",
      "                                        oob_score=False, random_state=None,\n",
      "                                        verbose=0, warm_start=False))],\n",
      "         verbose=False)\n"
     ]
    }
   ],
   "source": [
    "rf_multi_grid = clf_grid(RandomForestClassifier(), df, 'Reviews_tokenize_join', 'target', parameteres = {\n",
    "    'clf__n_estimators': [10, 30, 100],\n",
    "    'clf__criterion': ['gini', 'entropy'],\n",
    "#     'clf__max_depth': [None, 2, 6, 10],\n",
    "#     'clf__min_samples_split': [5, 10],\n",
    "    'clf__min_samples_leaf': [3, 6]\n",
    "})"
   ]
  },
  {
   "cell_type": "code",
   "execution_count": 39,
   "metadata": {},
   "outputs": [
    {
     "data": {
      "text/plain": [
       "{'Accuracy_score': '53.0%',\n",
       " 'Recall_score': array([0.34381139, 0.02678571, 0.06587473, 0.18181818, 0.95753228]),\n",
       " 'Precision_score': array([0.59726962, 0.44117647, 0.31443299, 0.3507109 , 0.5618791 ]),\n",
       " 'F1_score': array([0.43640898, 0.05050505, 0.10892857, 0.2394822 , 0.70819185]),\n",
       " 'Time': 0.00048820799975146656}"
      ]
     },
     "execution_count": 39,
     "metadata": {},
     "output_type": "execute_result"
    }
   ],
   "source": [
    "rf_multi_grid"
   ]
  },
  {
   "cell_type": "markdown",
   "metadata": {},
   "source": [
    "### AdaBoots"
   ]
  },
  {
   "cell_type": "code",
   "execution_count": null,
   "metadata": {},
   "outputs": [],
   "source": [
    "## tengo qie volver a correr ADA GRAdien ADN XBR"
   ]
  },
  {
   "cell_type": "code",
   "execution_count": 41,
   "metadata": {},
   "outputs": [
    {
     "name": "stdout",
     "output_type": "stream",
     "text": [
      " Best parameter Pipeline(memory=None,\n",
      "         steps=[('vect',\n",
      "                 CountVectorizer(analyzer='word', binary=True,\n",
      "                                 decode_error='strict',\n",
      "                                 dtype=<class 'numpy.int64'>, encoding='utf-8',\n",
      "                                 input='content', lowercase=True, max_df=1.0,\n",
      "                                 max_features=None, min_df=1,\n",
      "                                 ngram_range=(1, 1), preprocessor=None,\n",
      "                                 stop_words=None, strip_accents=None,\n",
      "                                 token_pattern='(?u)\\\\b\\\\w\\\\w+\\\\b',\n",
      "                                 tokenizer=None, vocabulary=None)),\n",
      "                ('chi',\n",
      "                 SelectKBest(k=10000,\n",
      "                             score_func=<function chi2 at 0x1a19e2c950>)),\n",
      "                ('clf',\n",
      "                 AdaBoostClassifier(algorithm='SAMME.R', base_estimator=None,\n",
      "                                    learning_rate=1, n_estimators=100,\n",
      "                                    random_state=None))],\n",
      "         verbose=False)\n"
     ]
    }
   ],
   "source": [
    "ab_multi_grid = clf_grid(AdaBoostClassifier(), df, 'Reviews_tokenize_join', 'target', parameteres = {\n",
    " 'clf__n_estimators': [50, 100],\n",
    " 'clf__learning_rate' : [0.01,0.05,0.1,0.3,1],\n",
    " }\n",
    ")"
   ]
  },
  {
   "cell_type": "code",
   "execution_count": 42,
   "metadata": {},
   "outputs": [
    {
     "data": {
      "text/plain": [
       "{'Accuracy_score': '56.99999999999999%',\n",
       " 'Recall_score': array([0.50884086, 0.25357143, 0.24514039, 0.37395577, 0.83615495]),\n",
       " 'Precision_score': array([0.51084813, 0.35588972, 0.38215488, 0.45541592, 0.67081031]),\n",
       " 'F1_score': array([0.50984252, 0.29614181, 0.29868421, 0.41068538, 0.7444118 ]),\n",
       " 'Time': 0.0008413089999521617}"
      ]
     },
     "execution_count": 42,
     "metadata": {},
     "output_type": "execute_result"
    }
   ],
   "source": [
    "ab_multi_grid "
   ]
  },
  {
   "cell_type": "markdown",
   "metadata": {},
   "source": [
    "### Gradient_boosting\n"
   ]
  },
  {
   "cell_type": "code",
   "execution_count": 46,
   "metadata": {},
   "outputs": [
    {
     "name": "stdout",
     "output_type": "stream",
     "text": [
      " Best parameter Pipeline(memory=None,\n",
      "         steps=[('vect',\n",
      "                 CountVectorizer(analyzer='word', binary=True,\n",
      "                                 decode_error='strict',\n",
      "                                 dtype=<class 'numpy.int64'>, encoding='utf-8',\n",
      "                                 input='content', lowercase=True, max_df=1.0,\n",
      "                                 max_features=None, min_df=1,\n",
      "                                 ngram_range=(1, 1), preprocessor=None,\n",
      "                                 stop_words=None, strip_accents=None,\n",
      "                                 token_pattern='(?u)\\\\b\\\\w\\\\w+\\\\b',\n",
      "                                 tokenizer=None, vocabulary=None...\n",
      "                                            learning_rate=0.1, loss='deviance',\n",
      "                                            max_depth=8, max_features=None,\n",
      "                                            max_leaf_nodes=None,\n",
      "                                            min_impurity_decrease=0.0,\n",
      "                                            min_impurity_split=None,\n",
      "                                            min_samples_leaf=100,\n",
      "                                            min_samples_split=2,\n",
      "                                            min_weight_fraction_leaf=0.0,\n",
      "                                            n_estimators=100,\n",
      "                                            n_iter_no_change=None,\n",
      "                                            presort='auto', random_state=None,\n",
      "                                            subsample=1.0, tol=0.0001,\n",
      "                                            validation_fraction=0.1, verbose=0,\n",
      "                                            warm_start=False))],\n",
      "         verbose=False)\n"
     ]
    }
   ],
   "source": [
    "gb_multi_grid = clf_grid(GradientBoostingClassifier(), df, 'Reviews_tokenize_join', 'target', parameteres = {'clf__learning_rate': [0.1, 0.05],\n",
    "              'clf__max_depth': [4, 6, 8],\n",
    "              'clf__min_samples_leaf': [20, 50,100]\n",
    "              #'max_features': [1.0, 0.3, 0.1] \n",
    "              })"
   ]
  },
  {
   "cell_type": "code",
   "execution_count": 14,
   "metadata": {},
   "outputs": [
    {
     "data": {
      "text/plain": [
       "{'Accuracy_score': '56.00000000000001%',\n",
       " 'Recall_score': array([0.5540275 , 0.13035714, 0.20518359, 0.32579853, 0.85710187]),\n",
       " 'Precision_score': array([0.4661157 , 0.29435484, 0.33868093, 0.44526528, 0.64765828]),\n",
       " 'F1_score': array([0.50628366, 0.18069307, 0.25554808, 0.37627696, 0.73780412]),\n",
       " 'Time': 0.0002060620000037261}"
      ]
     },
     "execution_count": 14,
     "metadata": {},
     "output_type": "execute_result"
    }
   ],
   "source": [
    "gb_multi_grid"
   ]
  },
  {
   "cell_type": "markdown",
   "metadata": {},
   "source": [
    "### XGB\n"
   ]
  },
  {
   "cell_type": "code",
   "execution_count": 49,
   "metadata": {},
   "outputs": [
    {
     "name": "stdout",
     "output_type": "stream",
     "text": [
      " Best parameter Pipeline(memory=None,\n",
      "         steps=[('vect',\n",
      "                 CountVectorizer(analyzer='word', binary=True,\n",
      "                                 decode_error='strict',\n",
      "                                 dtype=<class 'numpy.int64'>, encoding='utf-8',\n",
      "                                 input='content', lowercase=True, max_df=1.0,\n",
      "                                 max_features=None, min_df=1,\n",
      "                                 ngram_range=(1, 1), preprocessor=None,\n",
      "                                 stop_words=None, strip_accents=None,\n",
      "                                 token_pattern='(?u)\\\\b\\\\w\\\\w+\\\\b',\n",
      "                                 tokenizer=None, vocabulary=None...\n",
      "                 XGBClassifier(base_score=0.5, booster='gbtree',\n",
      "                               colsample_bylevel=1, colsample_bynode=1,\n",
      "                               colsample_bytree=0.8, gamma=1, learning_rate=0.1,\n",
      "                               max_delta_step=0, max_depth=3,\n",
      "                               min_child_weight=1, missing=None,\n",
      "                               n_estimators=100, n_jobs=1, nthread=None,\n",
      "                               objective='multi:softprob', random_state=0,\n",
      "                               reg_alpha=0, reg_lambda=1, scale_pos_weight=1,\n",
      "                               seed=None, silent=None, subsample=1,\n",
      "                               verbosity=1))],\n",
      "         verbose=False)\n"
     ]
    }
   ],
   "source": [
    "xgb_multi_grid = clf_grid(XGBClassifier(), df, 'Reviews_tokenize_join', 'target', parameteres = {\n",
    "#         'clf__min_child_weight': [1, 5, 10],\n",
    "        'clf__gamma': [0.5, 1, 1.5, 2, 5],\n",
    "#         'clf__subsample': [0.6, 0.8, 1.0],\n",
    "        'clf__colsample_bytree': [0.6, 0.8, 1.0],\n",
    "#         'clf__max_depth': [3, 4, 5]\n",
    "        })"
   ]
  },
  {
   "cell_type": "code",
   "execution_count": 50,
   "metadata": {},
   "outputs": [
    {
     "data": {
      "text/plain": [
       "{'Accuracy_score': '56.00000000000001%',\n",
       " 'Recall_score': array([0.42436149, 0.0625    , 0.13066955, 0.26830467, 0.9420373 ]),\n",
       " 'Precision_score': array([0.5440806 , 0.29411765, 0.41016949, 0.44864421, 0.59832331]),\n",
       " 'F1_score': array([0.47682119, 0.10309278, 0.1981982 , 0.33579336, 0.73183237]),\n",
       " 'Time': -1.6893999600142706e-05}"
      ]
     },
     "execution_count": 50,
     "metadata": {},
     "output_type": "execute_result"
    }
   ],
   "source": [
    "xgb_multi_grid"
   ]
  },
  {
   "cell_type": "markdown",
   "metadata": {},
   "source": [
    "### Linear Support Vector Classification "
   ]
  },
  {
   "cell_type": "code",
   "execution_count": 52,
   "metadata": {},
   "outputs": [
    {
     "name": "stdout",
     "output_type": "stream",
     "text": [
      " Best parameter Pipeline(memory=None,\n",
      "         steps=[('vect',\n",
      "                 TfidfVectorizer(analyzer='word', binary=False,\n",
      "                                 decode_error='strict',\n",
      "                                 dtype=<class 'numpy.float64'>,\n",
      "                                 encoding='utf-8', input='content',\n",
      "                                 lowercase=True, max_df=1.0, max_features=None,\n",
      "                                 min_df=1, ngram_range=(1, 2), norm='l2',\n",
      "                                 preprocessor=None, smooth_idf=True,\n",
      "                                 stop_words='english', strip_accents=None,\n",
      "                                 sublinear_tf=True,\n",
      "                                 token_pattern='(?u)\\\\b\\\\w\\\\w+\\\\b',\n",
      "                                 tokenizer=None, use_idf=True,\n",
      "                                 vocabulary=None)),\n",
      "                ('chi',\n",
      "                 SelectKBest(k=10000,\n",
      "                             score_func=<function chi2 at 0x1a19e2c950>)),\n",
      "                ('clf',\n",
      "                 LinearSVC(C=0.1, class_weight=None, dual=True,\n",
      "                           fit_intercept=True, intercept_scaling=1,\n",
      "                           loss='squared_hinge', max_iter=1000,\n",
      "                           multi_class='ovr', penalty='l2', random_state=None,\n",
      "                           tol=0.0001, verbose=0))],\n",
      "         verbose=False)\n"
     ]
    }
   ],
   "source": [
    "svc_multi_grid = clf_grid(LinearSVC(),df, 'Reviews_tokenize_join', 'target' ,parameteres = {'clf__C':[0.001,0.1,10,100,10e5] ,'clf__max_iter':[1000 ,2000,3000]})"
   ]
  },
  {
   "cell_type": "code",
   "execution_count": 53,
   "metadata": {},
   "outputs": [
    {
     "data": {
      "text/plain": [
       "{'Accuracy_score': '60.0%',\n",
       " 'Recall_score': array([0.60707269, 0.04285714, 0.23218143, 0.36511057, 0.91994261]),\n",
       " 'Precision_score': array([0.5459364 , 0.4       , 0.39814815, 0.47935484, 0.66805584]),\n",
       " 'F1_score': array([0.57488372, 0.07741935, 0.29331514, 0.41450488, 0.77402221]),\n",
       " 'Time': 0.002095768999424763}"
      ]
     },
     "execution_count": 53,
     "metadata": {},
     "output_type": "execute_result"
    }
   ],
   "source": [
    "svc_multi_grid"
   ]
  },
  {
   "cell_type": "markdown",
   "metadata": {},
   "source": [
    "### Results Summary\n"
   ]
  },
  {
   "cell_type": "code",
   "execution_count": 144,
   "metadata": {},
   "outputs": [
    {
     "data": {
      "text/html": [
       "<div>\n",
       "<style scoped>\n",
       "    .dataframe tbody tr th:only-of-type {\n",
       "        vertical-align: middle;\n",
       "    }\n",
       "\n",
       "    .dataframe tbody tr th {\n",
       "        vertical-align: top;\n",
       "    }\n",
       "\n",
       "    .dataframe thead th {\n",
       "        text-align: right;\n",
       "    }\n",
       "</style>\n",
       "<table border=\"1\" class=\"dataframe\">\n",
       "  <thead>\n",
       "    <tr style=\"text-align: right;\">\n",
       "      <th></th>\n",
       "      <th>Accuracy_score</th>\n",
       "      <th>Recall_score</th>\n",
       "      <th>Precision_score</th>\n",
       "      <th>F1_score</th>\n",
       "      <th>Time</th>\n",
       "    </tr>\n",
       "    <tr>\n",
       "      <th>Model</th>\n",
       "      <th></th>\n",
       "      <th></th>\n",
       "      <th></th>\n",
       "      <th></th>\n",
       "      <th></th>\n",
       "    </tr>\n",
       "  </thead>\n",
       "  <tbody>\n",
       "    <tr>\n",
       "      <th>Logistic Regresion</th>\n",
       "      <td>61.0%</td>\n",
       "      <td>[0.5481335952848723, 0.15714285714285714, 0.39...</td>\n",
       "      <td>[0.5625, 0.34509803921568627, 0.42491268917345...</td>\n",
       "      <td>[0.5552238805970149, 0.21595092024539875, 0.40...</td>\n",
       "      <td>0.000065</td>\n",
       "    </tr>\n",
       "    <tr>\n",
       "      <th>Support Vector Machine</th>\n",
       "      <td>60.0%</td>\n",
       "      <td>[0.6070726915520629, 0.04285714285714286, 0.23...</td>\n",
       "      <td>[0.5459363957597173, 0.4, 0.39814814814814814,...</td>\n",
       "      <td>[0.5748837209302325, 0.07741935483870968, 0.29...</td>\n",
       "      <td>0.002096</td>\n",
       "    </tr>\n",
       "    <tr>\n",
       "      <th>Mutinomial NB</th>\n",
       "      <td>60.0%</td>\n",
       "      <td>[0.38703339882121807, 0.0125, 0.31533477321814...</td>\n",
       "      <td>[0.6396103896103896, 0.25, 0.3057591623036649,...</td>\n",
       "      <td>[0.4822521419828641, 0.023809523809523808, 0.3...</td>\n",
       "      <td>0.000466</td>\n",
       "    </tr>\n",
       "    <tr>\n",
       "      <th>Gradient_boosting</th>\n",
       "      <td>59.0%</td>\n",
       "      <td>[0.5756385068762279, 0.14285714285714285, 0.26...</td>\n",
       "      <td>[0.5204262877442274, 0.35874439461883406, 0.4,...</td>\n",
       "      <td>[0.5466417910447761, 0.20434227330779053, 0.31...</td>\n",
       "      <td>0.000192</td>\n",
       "    </tr>\n",
       "    <tr>\n",
       "      <th>Ada Boots</th>\n",
       "      <td>56.99999999999999%</td>\n",
       "      <td>[0.5088408644400786, 0.25357142857142856, 0.24...</td>\n",
       "      <td>[0.5108481262327417, 0.3558897243107769, 0.382...</td>\n",
       "      <td>[0.5098425196850395, 0.2961418143899896, 0.298...</td>\n",
       "      <td>0.000841</td>\n",
       "    </tr>\n",
       "    <tr>\n",
       "      <th>XGB</th>\n",
       "      <td>56.00000000000001%</td>\n",
       "      <td>[0.4243614931237721, 0.0625, 0.130669546436285...</td>\n",
       "      <td>[0.5440806045340051, 0.29411764705882354, 0.41...</td>\n",
       "      <td>[0.4768211920529801, 0.10309278350515463, 0.19...</td>\n",
       "      <td>-0.000017</td>\n",
       "    </tr>\n",
       "    <tr>\n",
       "      <th>Random Forest Classifier</th>\n",
       "      <td>53.0%</td>\n",
       "      <td>[0.343811394891945, 0.026785714285714284, 0.06...</td>\n",
       "      <td>[0.5972696245733788, 0.4411764705882353, 0.314...</td>\n",
       "      <td>[0.43640897755610975, 0.050505050505050504, 0....</td>\n",
       "      <td>0.000488</td>\n",
       "    </tr>\n",
       "    <tr>\n",
       "      <th>Decision Tree Classifier</th>\n",
       "      <td>51.0%</td>\n",
       "      <td>[0.3300589390962672, 0.007142857142857143, 0.0...</td>\n",
       "      <td>[0.45901639344262296, 0.4444444444444444, 0.23...</td>\n",
       "      <td>[0.38400000000000006, 0.014059753954305799, 0....</td>\n",
       "      <td>-0.001578</td>\n",
       "    </tr>\n",
       "  </tbody>\n",
       "</table>\n",
       "</div>"
      ],
      "text/plain": [
       "                              Accuracy_score  \\\n",
       "Model                                          \n",
       "Logistic Regresion                     61.0%   \n",
       "Support Vector Machine                 60.0%   \n",
       "Mutinomial NB                          60.0%   \n",
       "Gradient_boosting                      59.0%   \n",
       "Ada Boots                 56.99999999999999%   \n",
       "XGB                       56.00000000000001%   \n",
       "Random Forest Classifier               53.0%   \n",
       "Decision Tree Classifier               51.0%   \n",
       "\n",
       "                                                               Recall_score  \\\n",
       "Model                                                                         \n",
       "Logistic Regresion        [0.5481335952848723, 0.15714285714285714, 0.39...   \n",
       "Support Vector Machine    [0.6070726915520629, 0.04285714285714286, 0.23...   \n",
       "Mutinomial NB             [0.38703339882121807, 0.0125, 0.31533477321814...   \n",
       "Gradient_boosting         [0.5756385068762279, 0.14285714285714285, 0.26...   \n",
       "Ada Boots                 [0.5088408644400786, 0.25357142857142856, 0.24...   \n",
       "XGB                       [0.4243614931237721, 0.0625, 0.130669546436285...   \n",
       "Random Forest Classifier  [0.343811394891945, 0.026785714285714284, 0.06...   \n",
       "Decision Tree Classifier  [0.3300589390962672, 0.007142857142857143, 0.0...   \n",
       "\n",
       "                                                            Precision_score  \\\n",
       "Model                                                                         \n",
       "Logistic Regresion        [0.5625, 0.34509803921568627, 0.42491268917345...   \n",
       "Support Vector Machine    [0.5459363957597173, 0.4, 0.39814814814814814,...   \n",
       "Mutinomial NB             [0.6396103896103896, 0.25, 0.3057591623036649,...   \n",
       "Gradient_boosting         [0.5204262877442274, 0.35874439461883406, 0.4,...   \n",
       "Ada Boots                 [0.5108481262327417, 0.3558897243107769, 0.382...   \n",
       "XGB                       [0.5440806045340051, 0.29411764705882354, 0.41...   \n",
       "Random Forest Classifier  [0.5972696245733788, 0.4411764705882353, 0.314...   \n",
       "Decision Tree Classifier  [0.45901639344262296, 0.4444444444444444, 0.23...   \n",
       "\n",
       "                                                                   F1_score  \\\n",
       "Model                                                                         \n",
       "Logistic Regresion        [0.5552238805970149, 0.21595092024539875, 0.40...   \n",
       "Support Vector Machine    [0.5748837209302325, 0.07741935483870968, 0.29...   \n",
       "Mutinomial NB             [0.4822521419828641, 0.023809523809523808, 0.3...   \n",
       "Gradient_boosting         [0.5466417910447761, 0.20434227330779053, 0.31...   \n",
       "Ada Boots                 [0.5098425196850395, 0.2961418143899896, 0.298...   \n",
       "XGB                       [0.4768211920529801, 0.10309278350515463, 0.19...   \n",
       "Random Forest Classifier  [0.43640897755610975, 0.050505050505050504, 0....   \n",
       "Decision Tree Classifier  [0.38400000000000006, 0.014059753954305799, 0....   \n",
       "\n",
       "                              Time  \n",
       "Model                               \n",
       "Logistic Regresion        0.000065  \n",
       "Support Vector Machine    0.002096  \n",
       "Mutinomial NB             0.000466  \n",
       "Gradient_boosting         0.000192  \n",
       "Ada Boots                 0.000841  \n",
       "XGB                      -0.000017  \n",
       "Random Forest Classifier  0.000488  \n",
       "Decision Tree Classifier -0.001578  "
      ]
     },
     "execution_count": 144,
     "metadata": {},
     "output_type": "execute_result"
    }
   ],
   "source": [
    "l= [lg_multi_grid, dt_multi_grid, rf_multi_grid, ab_multi_grid, gb_multi_grid, xgb_multi_grid, svc_multi_grid,nb_muti_grid]\n",
    "df_results_multi_grid = table_results(l)\n",
    "df_results_multi_grid.loc[: , ['Accuracy_score', 'Time']]\n",
    "df_results_multi_grid.sort_values(by='Accuracy_score', ascending=False)"
   ]
  },
  {
   "cell_type": "code",
   "execution_count": 35,
   "metadata": {},
   "outputs": [],
   "source": [
    "df_metrix_multi_grid = unnest_df(df_results_multi_grid)"
   ]
  },
  {
   "cell_type": "code",
   "execution_count": 36,
   "metadata": {},
   "outputs": [
    {
     "data": {
      "text/html": [
       "<div>\n",
       "<style scoped>\n",
       "    .dataframe tbody tr th:only-of-type {\n",
       "        vertical-align: middle;\n",
       "    }\n",
       "\n",
       "    .dataframe tbody tr th {\n",
       "        vertical-align: top;\n",
       "    }\n",
       "\n",
       "    .dataframe thead th {\n",
       "        text-align: right;\n",
       "    }\n",
       "</style>\n",
       "<table border=\"1\" class=\"dataframe\">\n",
       "  <thead>\n",
       "    <tr style=\"text-align: right;\">\n",
       "      <th></th>\n",
       "      <th>Recall_score</th>\n",
       "      <th>Precision_score</th>\n",
       "      <th>F1_score</th>\n",
       "      <th>target_class</th>\n",
       "      <th>model</th>\n",
       "    </tr>\n",
       "  </thead>\n",
       "  <tbody>\n",
       "    <tr>\n",
       "      <th>0</th>\n",
       "      <td>0.548134</td>\n",
       "      <td>0.562500</td>\n",
       "      <td>0.555224</td>\n",
       "      <td>1</td>\n",
       "      <td>Logistic Regresion</td>\n",
       "    </tr>\n",
       "    <tr>\n",
       "      <th>1</th>\n",
       "      <td>0.157143</td>\n",
       "      <td>0.345098</td>\n",
       "      <td>0.215951</td>\n",
       "      <td>2</td>\n",
       "      <td>Logistic Regresion</td>\n",
       "    </tr>\n",
       "    <tr>\n",
       "      <th>2</th>\n",
       "      <td>0.394168</td>\n",
       "      <td>0.424913</td>\n",
       "      <td>0.408964</td>\n",
       "      <td>3</td>\n",
       "      <td>Logistic Regresion</td>\n",
       "    </tr>\n",
       "    <tr>\n",
       "      <th>3</th>\n",
       "      <td>0.429484</td>\n",
       "      <td>0.504328</td>\n",
       "      <td>0.463907</td>\n",
       "      <td>4</td>\n",
       "      <td>Logistic Regresion</td>\n",
       "    </tr>\n",
       "    <tr>\n",
       "      <th>4</th>\n",
       "      <td>0.860545</td>\n",
       "      <td>0.718840</td>\n",
       "      <td>0.783336</td>\n",
       "      <td>5</td>\n",
       "      <td>Logistic Regresion</td>\n",
       "    </tr>\n",
       "    <tr>\n",
       "      <th>5</th>\n",
       "      <td>0.330059</td>\n",
       "      <td>0.459016</td>\n",
       "      <td>0.384000</td>\n",
       "      <td>1</td>\n",
       "      <td>Decision Tree Classifier</td>\n",
       "    </tr>\n",
       "    <tr>\n",
       "      <th>6</th>\n",
       "      <td>0.007143</td>\n",
       "      <td>0.444444</td>\n",
       "      <td>0.014060</td>\n",
       "      <td>2</td>\n",
       "      <td>Decision Tree Classifier</td>\n",
       "    </tr>\n",
       "    <tr>\n",
       "      <th>7</th>\n",
       "      <td>0.021598</td>\n",
       "      <td>0.229885</td>\n",
       "      <td>0.039487</td>\n",
       "      <td>3</td>\n",
       "      <td>Decision Tree Classifier</td>\n",
       "    </tr>\n",
       "    <tr>\n",
       "      <th>8</th>\n",
       "      <td>0.216708</td>\n",
       "      <td>0.357955</td>\n",
       "      <td>0.269972</td>\n",
       "      <td>4</td>\n",
       "      <td>Decision Tree Classifier</td>\n",
       "    </tr>\n",
       "    <tr>\n",
       "      <th>9</th>\n",
       "      <td>0.913056</td>\n",
       "      <td>0.546641</td>\n",
       "      <td>0.683860</td>\n",
       "      <td>5</td>\n",
       "      <td>Decision Tree Classifier</td>\n",
       "    </tr>\n",
       "    <tr>\n",
       "      <th>10</th>\n",
       "      <td>0.387033</td>\n",
       "      <td>0.639610</td>\n",
       "      <td>0.482252</td>\n",
       "      <td>1</td>\n",
       "      <td>Mutinomial NB</td>\n",
       "    </tr>\n",
       "    <tr>\n",
       "      <th>11</th>\n",
       "      <td>0.012500</td>\n",
       "      <td>0.250000</td>\n",
       "      <td>0.023810</td>\n",
       "      <td>2</td>\n",
       "      <td>Mutinomial NB</td>\n",
       "    </tr>\n",
       "    <tr>\n",
       "      <th>12</th>\n",
       "      <td>0.315335</td>\n",
       "      <td>0.305759</td>\n",
       "      <td>0.310473</td>\n",
       "      <td>3</td>\n",
       "      <td>Mutinomial NB</td>\n",
       "    </tr>\n",
       "    <tr>\n",
       "      <th>13</th>\n",
       "      <td>0.455037</td>\n",
       "      <td>0.462307</td>\n",
       "      <td>0.458643</td>\n",
       "      <td>4</td>\n",
       "      <td>Mutinomial NB</td>\n",
       "    </tr>\n",
       "    <tr>\n",
       "      <th>14</th>\n",
       "      <td>0.876901</td>\n",
       "      <td>0.723999</td>\n",
       "      <td>0.793148</td>\n",
       "      <td>5</td>\n",
       "      <td>Mutinomial NB</td>\n",
       "    </tr>\n",
       "    <tr>\n",
       "      <th>15</th>\n",
       "      <td>0.607073</td>\n",
       "      <td>0.545936</td>\n",
       "      <td>0.574884</td>\n",
       "      <td>1</td>\n",
       "      <td>Linear Support Vector Classification</td>\n",
       "    </tr>\n",
       "    <tr>\n",
       "      <th>16</th>\n",
       "      <td>0.042857</td>\n",
       "      <td>0.400000</td>\n",
       "      <td>0.077419</td>\n",
       "      <td>2</td>\n",
       "      <td>Linear Support Vector Classification</td>\n",
       "    </tr>\n",
       "    <tr>\n",
       "      <th>17</th>\n",
       "      <td>0.232181</td>\n",
       "      <td>0.398148</td>\n",
       "      <td>0.293315</td>\n",
       "      <td>3</td>\n",
       "      <td>Linear Support Vector Classification</td>\n",
       "    </tr>\n",
       "    <tr>\n",
       "      <th>18</th>\n",
       "      <td>0.365111</td>\n",
       "      <td>0.479355</td>\n",
       "      <td>0.414505</td>\n",
       "      <td>4</td>\n",
       "      <td>Linear Support Vector Classification</td>\n",
       "    </tr>\n",
       "    <tr>\n",
       "      <th>19</th>\n",
       "      <td>0.919943</td>\n",
       "      <td>0.668056</td>\n",
       "      <td>0.774022</td>\n",
       "      <td>5</td>\n",
       "      <td>Linear Support Vector Classification</td>\n",
       "    </tr>\n",
       "    <tr>\n",
       "      <th>20</th>\n",
       "      <td>0.328094</td>\n",
       "      <td>0.594306</td>\n",
       "      <td>0.422785</td>\n",
       "      <td>1</td>\n",
       "      <td>Random Forest Classifier</td>\n",
       "    </tr>\n",
       "    <tr>\n",
       "      <th>21</th>\n",
       "      <td>0.016071</td>\n",
       "      <td>0.428571</td>\n",
       "      <td>0.030981</td>\n",
       "      <td>2</td>\n",
       "      <td>Random Forest Classifier</td>\n",
       "    </tr>\n",
       "    <tr>\n",
       "      <th>22</th>\n",
       "      <td>0.101512</td>\n",
       "      <td>0.283988</td>\n",
       "      <td>0.149562</td>\n",
       "      <td>3</td>\n",
       "      <td>Random Forest Classifier</td>\n",
       "    </tr>\n",
       "    <tr>\n",
       "      <th>23</th>\n",
       "      <td>0.266830</td>\n",
       "      <td>0.389247</td>\n",
       "      <td>0.316618</td>\n",
       "      <td>4</td>\n",
       "      <td>Random Forest Classifier</td>\n",
       "    </tr>\n",
       "    <tr>\n",
       "      <th>24</th>\n",
       "      <td>0.940603</td>\n",
       "      <td>0.597412</td>\n",
       "      <td>0.730718</td>\n",
       "      <td>5</td>\n",
       "      <td>Random Forest Classifier</td>\n",
       "    </tr>\n",
       "  </tbody>\n",
       "</table>\n",
       "</div>"
      ],
      "text/plain": [
       "    Recall_score  Precision_score  F1_score  target_class  \\\n",
       "0       0.548134         0.562500  0.555224             1   \n",
       "1       0.157143         0.345098  0.215951             2   \n",
       "2       0.394168         0.424913  0.408964             3   \n",
       "3       0.429484         0.504328  0.463907             4   \n",
       "4       0.860545         0.718840  0.783336             5   \n",
       "5       0.330059         0.459016  0.384000             1   \n",
       "6       0.007143         0.444444  0.014060             2   \n",
       "7       0.021598         0.229885  0.039487             3   \n",
       "8       0.216708         0.357955  0.269972             4   \n",
       "9       0.913056         0.546641  0.683860             5   \n",
       "10      0.387033         0.639610  0.482252             1   \n",
       "11      0.012500         0.250000  0.023810             2   \n",
       "12      0.315335         0.305759  0.310473             3   \n",
       "13      0.455037         0.462307  0.458643             4   \n",
       "14      0.876901         0.723999  0.793148             5   \n",
       "15      0.607073         0.545936  0.574884             1   \n",
       "16      0.042857         0.400000  0.077419             2   \n",
       "17      0.232181         0.398148  0.293315             3   \n",
       "18      0.365111         0.479355  0.414505             4   \n",
       "19      0.919943         0.668056  0.774022             5   \n",
       "20      0.328094         0.594306  0.422785             1   \n",
       "21      0.016071         0.428571  0.030981             2   \n",
       "22      0.101512         0.283988  0.149562             3   \n",
       "23      0.266830         0.389247  0.316618             4   \n",
       "24      0.940603         0.597412  0.730718             5   \n",
       "\n",
       "                                   model  \n",
       "0                     Logistic Regresion  \n",
       "1                     Logistic Regresion  \n",
       "2                     Logistic Regresion  \n",
       "3                     Logistic Regresion  \n",
       "4                     Logistic Regresion  \n",
       "5               Decision Tree Classifier  \n",
       "6               Decision Tree Classifier  \n",
       "7               Decision Tree Classifier  \n",
       "8               Decision Tree Classifier  \n",
       "9               Decision Tree Classifier  \n",
       "10                         Mutinomial NB  \n",
       "11                         Mutinomial NB  \n",
       "12                         Mutinomial NB  \n",
       "13                         Mutinomial NB  \n",
       "14                         Mutinomial NB  \n",
       "15  Linear Support Vector Classification  \n",
       "16  Linear Support Vector Classification  \n",
       "17  Linear Support Vector Classification  \n",
       "18  Linear Support Vector Classification  \n",
       "19  Linear Support Vector Classification  \n",
       "20              Random Forest Classifier  \n",
       "21              Random Forest Classifier  \n",
       "22              Random Forest Classifier  \n",
       "23              Random Forest Classifier  \n",
       "24              Random Forest Classifier  "
      ]
     },
     "execution_count": 36,
     "metadata": {},
     "output_type": "execute_result"
    }
   ],
   "source": [
    "df_metrix_multi_grid"
   ]
  },
  {
   "cell_type": "markdown",
   "metadata": {},
   "source": [
    "## Change target to 3 categories\n"
   ]
  },
  {
   "cell_type": "markdown",
   "metadata": {},
   "source": [
    "First model needs to be improved.\n",
    "There are a lot more 4, 5 stars than 1, 2, 3 stars,\n",
    "Set 1, 2, 3 stars to 'Bad', 4 stars to 'Neutral', 5 stars to 'Good'"
   ]
  },
  {
   "cell_type": "code",
   "execution_count": 68,
   "metadata": {},
   "outputs": [],
   "source": [
    "# df_tree_categories = df.replace({5: 'good', 4: 'neutral', 3: 'bad' , 2: 'bad', 1: 'bad'})\n",
    "# df_tree_categories.head()\n",
    "df['tri_target'] = 'Bad'\n",
    "df.loc[df['review_rating'] == 5, 'tri_target'] = 'Good'\n",
    "df.loc[df['review_rating'] == 4, 'tri_target'] = 'Neutral'"
   ]
  },
  {
   "cell_type": "code",
   "execution_count": 69,
   "metadata": {},
   "outputs": [
    {
     "data": {
      "text/plain": [
       "Good       11878\n",
       "Neutral     6622\n",
       "Bad         6550\n",
       "Name: tri_target, dtype: int64"
      ]
     },
     "execution_count": 69,
     "metadata": {},
     "output_type": "execute_result"
    }
   ],
   "source": [
    "df['tri_target'].value_counts()"
   ]
  },
  {
   "cell_type": "code",
   "execution_count": 70,
   "metadata": {},
   "outputs": [
    {
     "data": {
      "text/plain": [
       "<matplotlib.axes._subplots.AxesSubplot at 0x1a1ae1e0b8>"
      ]
     },
     "execution_count": 70,
     "metadata": {},
     "output_type": "execute_result"
    },
    {
     "data": {
      "image/png": "[encoded data removed]",
      "text/plain": [
       "<Figure size 432x288 with 1 Axes>"
      ]
     },
     "metadata": {
      "needs_background": "light"
     },
     "output_type": "display_data"
    }
   ],
   "source": [
    "# df_tree_categories['target'].plot.bar(bins=12, alpha=0.5)\n",
    "df['tri_target'].value_counts().sort_values().plot(kind = 'barh')\n"
   ]
  },
  {
   "cell_type": "markdown",
   "metadata": {},
   "source": [
    "###  Logistic Regressiom"
   ]
  },
  {
   "cell_type": "code",
   "execution_count": 71,
   "metadata": {},
   "outputs": [],
   "source": [
    "ld_tri_class = clf( LogisticRegression(),df, 'Reviews_tokenize_join', 'tri_target')\n"
   ]
  },
  {
   "cell_type": "code",
   "execution_count": 72,
   "metadata": {},
   "outputs": [
    {
     "data": {
      "text/plain": [
       "{'Accuracy_score': '72.0%',\n",
       " 'Recall_score': array([0.81954887, 0.88579627, 0.32432432]),\n",
       " 'Precision_score': array([0.80225711, 0.71491431, 0.56945643]),\n",
       " 'F1_score': array([0.81081081, 0.79123414, 0.41327489]),\n",
       " 'Time': 0.00031451100039703306}"
      ]
     },
     "execution_count": 72,
     "metadata": {},
     "output_type": "execute_result"
    }
   ],
   "source": [
    "ld_tri_class "
   ]
  },
  {
   "cell_type": "markdown",
   "metadata": {},
   "source": [
    "### Decision Tree Classifier"
   ]
  },
  {
   "cell_type": "code",
   "execution_count": 73,
   "metadata": {},
   "outputs": [],
   "source": [
    "dt_tri_class = clf(DecisionTreeClassifier(),df, 'Reviews_tokenize_join', 'tri_target')"
   ]
  },
  {
   "cell_type": "code",
   "execution_count": 74,
   "metadata": {},
   "outputs": [
    {
     "data": {
      "text/plain": [
       "{'Accuracy_score': '53.0%',\n",
       " 'Recall_score': array([0.51027569, 0.65566714, 0.34299754]),\n",
       " 'Precision_score': array([0.60523187, 0.61112597, 0.33333333]),\n",
       " 'F1_score': array([0.55371227, 0.63261351, 0.33809639]),\n",
       " 'Time': 0.00038546399991901126}"
      ]
     },
     "execution_count": 74,
     "metadata": {},
     "output_type": "execute_result"
    }
   ],
   "source": [
    "dt_tri_class"
   ]
  },
  {
   "cell_type": "markdown",
   "metadata": {},
   "source": [
    "### Mutinomial NB"
   ]
  },
  {
   "cell_type": "code",
   "execution_count": 75,
   "metadata": {},
   "outputs": [],
   "source": [
    "nb_tri_class = clf(MultinomialNB(),df,'Reviews_tokenize_join', 'tri_target')"
   ]
  },
  {
   "cell_type": "code",
   "execution_count": 76,
   "metadata": {},
   "outputs": [
    {
     "data": {
      "text/plain": [
       "{'Accuracy_score': '65.0%',\n",
       " 'Recall_score': array([0.68120301, 0.98479197, 0.05995086]),\n",
       " 'Precision_score': array([0.87283237, 0.60210526, 0.47286822]),\n",
       " 'F1_score': array([0.7652027 , 0.74730539, 0.10641082]),\n",
       " 'Time': 0.0019083080005657393}"
      ]
     },
     "execution_count": 76,
     "metadata": {},
     "output_type": "execute_result"
    }
   ],
   "source": [
    "nb_tri_class"
   ]
  },
  {
   "cell_type": "markdown",
   "metadata": {},
   "source": [
    "### Linear Support Vector Classification"
   ]
  },
  {
   "cell_type": "code",
   "execution_count": 78,
   "metadata": {},
   "outputs": [],
   "source": [
    "svc_tri_class = clf(LinearSVC(), df,'Reviews_tokenize_join', 'tri_target')"
   ]
  },
  {
   "cell_type": "code",
   "execution_count": 79,
   "metadata": {},
   "outputs": [
    {
     "data": {
      "text/plain": [
       "{'Accuracy_score': '71.0%',\n",
       " 'Recall_score': array([0.83408521, 0.84964132, 0.36117936]),\n",
       " 'Precision_score': array([0.78676123, 0.7369338 , 0.53183792]),\n",
       " 'F1_score': array([0.80973236, 0.78928429, 0.43020193]),\n",
       " 'Time': 3.718899824889377e-05}"
      ]
     },
     "execution_count": 79,
     "metadata": {},
     "output_type": "execute_result"
    }
   ],
   "source": [
    "svc_tri_class"
   ]
  },
  {
   "cell_type": "markdown",
   "metadata": {},
   "source": [
    "### Random Forest Classifier"
   ]
  },
  {
   "cell_type": "code",
   "execution_count": 80,
   "metadata": {},
   "outputs": [],
   "source": [
    "rf_tri_class = clf(RandomForestClassifier(),df, 'Reviews_tokenize_join', 'tri_target')"
   ]
  },
  {
   "cell_type": "code",
   "execution_count": 81,
   "metadata": {},
   "outputs": [
    {
     "data": {
      "text/plain": [
       "{'Accuracy_score': '62.0%',\n",
       " 'Recall_score': array([0.64862155, 0.86341463, 0.18918919]),\n",
       " 'Precision_score': array([0.74754477, 0.62182269, 0.40740741]),\n",
       " 'F1_score': array([0.69457864, 0.72296973, 0.25838926]),\n",
       " 'Time': -0.0007984959993336815}"
      ]
     },
     "execution_count": 81,
     "metadata": {},
     "output_type": "execute_result"
    }
   ],
   "source": [
    "rf_tri_class"
   ]
  },
  {
   "cell_type": "markdown",
   "metadata": {},
   "source": [
    "### AdaBoots"
   ]
  },
  {
   "cell_type": "code",
   "execution_count": 82,
   "metadata": {},
   "outputs": [],
   "source": [
    "ab_tri_class = clf(AdaBoostClassifier(), df, 'Reviews_tokenize_join', 'target')"
   ]
  },
  {
   "cell_type": "code",
   "execution_count": 83,
   "metadata": {},
   "outputs": [
    {
     "data": {
      "text/plain": [
       "{'Accuracy_score': '55.00000000000001%',\n",
       " 'Recall_score': array([0.45383104, 0.14285714, 0.19006479, 0.33366093, 0.84878049]),\n",
       " 'Precision_score': array([0.4822547 , 0.2962963 , 0.34174757, 0.43442099, 0.6309727 ]),\n",
       " 'F1_score': array([0.46761134, 0.19277108, 0.24427481, 0.37743191, 0.72384681]),\n",
       " 'Time': 0.004257544999997975}"
      ]
     },
     "execution_count": 83,
     "metadata": {},
     "output_type": "execute_result"
    }
   ],
   "source": [
    "ab_multi_class "
   ]
  },
  {
   "cell_type": "markdown",
   "metadata": {},
   "source": [
    "### Gradient_boosting\n"
   ]
  },
  {
   "cell_type": "code",
   "execution_count": 84,
   "metadata": {},
   "outputs": [],
   "source": [
    "gb_tri_class = clf(GradientBoostingClassifier(), df, 'Reviews_tokenize_join', 'target')"
   ]
  },
  {
   "cell_type": "code",
   "execution_count": 85,
   "metadata": {},
   "outputs": [
    {
     "data": {
      "text/plain": [
       "{'Accuracy_score': '56.99999999999999%',\n",
       " 'Recall_score': array([0.44400786, 0.09464286, 0.1663067 , 0.33955774, 0.91391679]),\n",
       " 'Precision_score': array([0.5472155 , 0.31736527, 0.39285714, 0.46282652, 0.63069307]),\n",
       " 'F1_score': array([0.49023861, 0.14580468, 0.23368741, 0.39172336, 0.74633861]),\n",
       " 'Time': 0.0005064600009063724}"
      ]
     },
     "execution_count": 85,
     "metadata": {},
     "output_type": "execute_result"
    }
   ],
   "source": [
    "gb_tri_class"
   ]
  },
  {
   "cell_type": "markdown",
   "metadata": {},
   "source": [
    "### XGB\n"
   ]
  },
  {
   "cell_type": "code",
   "execution_count": 86,
   "metadata": {},
   "outputs": [],
   "source": [
    "xgb_tri_class = clf(XGBClassifier(), df, 'Reviews_tokenize_join', 'target')"
   ]
  },
  {
   "cell_type": "code",
   "execution_count": 87,
   "metadata": {},
   "outputs": [
    {
     "data": {
      "text/plain": [
       "{'Accuracy_score': '56.00000000000001%',\n",
       " 'Recall_score': array([0.42632613, 0.0625    , 0.12850972, 0.26977887, 0.94146341]),\n",
       " 'Precision_score': array([0.54385965, 0.2892562 , 0.41319444, 0.45222405, 0.59730566]),\n",
       " 'F1_score': array([0.47797357, 0.10279001, 0.19604613, 0.33795014, 0.73089775]),\n",
       " 'Time': 0.0021844049988430925}"
      ]
     },
     "execution_count": 87,
     "metadata": {},
     "output_type": "execute_result"
    }
   ],
   "source": [
    "xgb_tri_class "
   ]
  },
  {
   "cell_type": "markdown",
   "metadata": {},
   "source": [
    "### Results Summary\n"
   ]
  },
  {
   "cell_type": "markdown",
   "metadata": {},
   "source": [
    "### Results Summary\n"
   ]
  },
  {
   "cell_type": "code",
   "execution_count": 145,
   "metadata": {},
   "outputs": [
    {
     "data": {
      "text/html": [
       "<div>\n",
       "<style scoped>\n",
       "    .dataframe tbody tr th:only-of-type {\n",
       "        vertical-align: middle;\n",
       "    }\n",
       "\n",
       "    .dataframe tbody tr th {\n",
       "        vertical-align: top;\n",
       "    }\n",
       "\n",
       "    .dataframe thead th {\n",
       "        text-align: right;\n",
       "    }\n",
       "</style>\n",
       "<table border=\"1\" class=\"dataframe\">\n",
       "  <thead>\n",
       "    <tr style=\"text-align: right;\">\n",
       "      <th></th>\n",
       "      <th>Accuracy_score</th>\n",
       "      <th>Recall_score</th>\n",
       "      <th>Precision_score</th>\n",
       "      <th>F1_score</th>\n",
       "      <th>Time</th>\n",
       "    </tr>\n",
       "    <tr>\n",
       "      <th>Model</th>\n",
       "      <th></th>\n",
       "      <th></th>\n",
       "      <th></th>\n",
       "      <th></th>\n",
       "      <th></th>\n",
       "    </tr>\n",
       "  </thead>\n",
       "  <tbody>\n",
       "    <tr>\n",
       "      <th>Logistic Regresion</th>\n",
       "      <td>72.0%</td>\n",
       "      <td>[0.8195488721804511, 0.8857962697274031, 0.324...</td>\n",
       "      <td>[0.8022571148184494, 0.7149143121815655, 0.569...</td>\n",
       "      <td>[0.8108108108108109, 0.7912341407151096, 0.413...</td>\n",
       "      <td>0.000315</td>\n",
       "    </tr>\n",
       "    <tr>\n",
       "      <th>Support Vector Machine</th>\n",
       "      <td>71.0%</td>\n",
       "      <td>[0.8340852130325814, 0.8496413199426112, 0.361...</td>\n",
       "      <td>[0.7867612293144208, 0.7369337979094077, 0.531...</td>\n",
       "      <td>[0.8097323600973235, 0.7892842862854857, 0.430...</td>\n",
       "      <td>0.000037</td>\n",
       "    </tr>\n",
       "    <tr>\n",
       "      <th>Mutinomial NB</th>\n",
       "      <td>65.0%</td>\n",
       "      <td>[0.681203007518797, 0.9847919655667144, 0.0599...</td>\n",
       "      <td>[0.8728323699421965, 0.6021052631578947, 0.472...</td>\n",
       "      <td>[0.7652027027027029, 0.7473053892215569, 0.106...</td>\n",
       "      <td>0.001908</td>\n",
       "    </tr>\n",
       "    <tr>\n",
       "      <th>Random Forest Classifier</th>\n",
       "      <td>62.0%</td>\n",
       "      <td>[0.6486215538847118, 0.8634146341463415, 0.189...</td>\n",
       "      <td>[0.7475447718082033, 0.6218226906385617, 0.407...</td>\n",
       "      <td>[0.6945786366076221, 0.7229697260932244, 0.258...</td>\n",
       "      <td>-0.000798</td>\n",
       "    </tr>\n",
       "    <tr>\n",
       "      <th>Gradient_boosting</th>\n",
       "      <td>56.99999999999999%</td>\n",
       "      <td>[0.444007858546169, 0.09464285714285714, 0.166...</td>\n",
       "      <td>[0.5472154963680388, 0.31736526946107785, 0.39...</td>\n",
       "      <td>[0.490238611713666, 0.14580467675378267, 0.233...</td>\n",
       "      <td>0.000506</td>\n",
       "    </tr>\n",
       "    <tr>\n",
       "      <th>Ada Boots</th>\n",
       "      <td>56.00000000000001%</td>\n",
       "      <td>[0.5540275049115914, 0.13035714285714287, 0.20...</td>\n",
       "      <td>[0.46611570247933887, 0.29435483870967744, 0.3...</td>\n",
       "      <td>[0.5062836624775584, 0.18069306930693071, 0.25...</td>\n",
       "      <td>0.002429</td>\n",
       "    </tr>\n",
       "    <tr>\n",
       "      <th>XGB</th>\n",
       "      <td>56.00000000000001%</td>\n",
       "      <td>[0.4263261296660118, 0.0625, 0.128509719222462...</td>\n",
       "      <td>[0.543859649122807, 0.2892561983471074, 0.4131...</td>\n",
       "      <td>[0.4779735682819383, 0.1027900146842878, 0.196...</td>\n",
       "      <td>0.002184</td>\n",
       "    </tr>\n",
       "    <tr>\n",
       "      <th>Decision Tree Classifier</th>\n",
       "      <td>53.0%</td>\n",
       "      <td>[0.5102756892230577, 0.6556671449067432, 0.342...</td>\n",
       "      <td>[0.6052318668252081, 0.6111259695105643, 0.333...</td>\n",
       "      <td>[0.5537122654337776, 0.6326135105204872, 0.338...</td>\n",
       "      <td>0.000385</td>\n",
       "    </tr>\n",
       "  </tbody>\n",
       "</table>\n",
       "</div>"
      ],
      "text/plain": [
       "                              Accuracy_score  \\\n",
       "Model                                          \n",
       "Logistic Regresion                     72.0%   \n",
       "Support Vector Machine                 71.0%   \n",
       "Mutinomial NB                          65.0%   \n",
       "Random Forest Classifier               62.0%   \n",
       "Gradient_boosting         56.99999999999999%   \n",
       "Ada Boots                 56.00000000000001%   \n",
       "XGB                       56.00000000000001%   \n",
       "Decision Tree Classifier               53.0%   \n",
       "\n",
       "                                                               Recall_score  \\\n",
       "Model                                                                         \n",
       "Logistic Regresion        [0.8195488721804511, 0.8857962697274031, 0.324...   \n",
       "Support Vector Machine    [0.8340852130325814, 0.8496413199426112, 0.361...   \n",
       "Mutinomial NB             [0.681203007518797, 0.9847919655667144, 0.0599...   \n",
       "Random Forest Classifier  [0.6486215538847118, 0.8634146341463415, 0.189...   \n",
       "Gradient_boosting         [0.444007858546169, 0.09464285714285714, 0.166...   \n",
       "Ada Boots                 [0.5540275049115914, 0.13035714285714287, 0.20...   \n",
       "XGB                       [0.4263261296660118, 0.0625, 0.128509719222462...   \n",
       "Decision Tree Classifier  [0.5102756892230577, 0.6556671449067432, 0.342...   \n",
       "\n",
       "                                                            Precision_score  \\\n",
       "Model                                                                         \n",
       "Logistic Regresion        [0.8022571148184494, 0.7149143121815655, 0.569...   \n",
       "Support Vector Machine    [0.7867612293144208, 0.7369337979094077, 0.531...   \n",
       "Mutinomial NB             [0.8728323699421965, 0.6021052631578947, 0.472...   \n",
       "Random Forest Classifier  [0.7475447718082033, 0.6218226906385617, 0.407...   \n",
       "Gradient_boosting         [0.5472154963680388, 0.31736526946107785, 0.39...   \n",
       "Ada Boots                 [0.46611570247933887, 0.29435483870967744, 0.3...   \n",
       "XGB                       [0.543859649122807, 0.2892561983471074, 0.4131...   \n",
       "Decision Tree Classifier  [0.6052318668252081, 0.6111259695105643, 0.333...   \n",
       "\n",
       "                                                                   F1_score  \\\n",
       "Model                                                                         \n",
       "Logistic Regresion        [0.8108108108108109, 0.7912341407151096, 0.413...   \n",
       "Support Vector Machine    [0.8097323600973235, 0.7892842862854857, 0.430...   \n",
       "Mutinomial NB             [0.7652027027027029, 0.7473053892215569, 0.106...   \n",
       "Random Forest Classifier  [0.6945786366076221, 0.7229697260932244, 0.258...   \n",
       "Gradient_boosting         [0.490238611713666, 0.14580467675378267, 0.233...   \n",
       "Ada Boots                 [0.5062836624775584, 0.18069306930693071, 0.25...   \n",
       "XGB                       [0.4779735682819383, 0.1027900146842878, 0.196...   \n",
       "Decision Tree Classifier  [0.5537122654337776, 0.6326135105204872, 0.338...   \n",
       "\n",
       "                              Time  \n",
       "Model                               \n",
       "Logistic Regresion        0.000315  \n",
       "Support Vector Machine    0.000037  \n",
       "Mutinomial NB             0.001908  \n",
       "Random Forest Classifier -0.000798  \n",
       "Gradient_boosting         0.000506  \n",
       "Ada Boots                 0.002429  \n",
       "XGB                       0.002184  \n",
       "Decision Tree Classifier  0.000385  "
      ]
     },
     "execution_count": 145,
     "metadata": {},
     "output_type": "execute_result"
    }
   ],
   "source": [
    "l= [ld_tri_class, dt_tri_class, rf_tri_class, ab_tri_class, gb_tri_class, xgb_tri_class, svc_tri_class,nb_tri_class]\n",
    "df_results_tri = table_results(l)\n",
    "df_results_tri.loc[: , ['Accuracy_score', 'Time']]\n",
    "df_results_tri.sort_values(by='Accuracy_score', ascending=False)"
   ]
  },
  {
   "cell_type": "code",
   "execution_count": 51,
   "metadata": {},
   "outputs": [],
   "source": [
    "df_metrix_tri = unnest_df(df_results_tri)"
   ]
  },
  {
   "cell_type": "markdown",
   "metadata": {},
   "source": [
    "## Tunning hyperparameters"
   ]
  },
  {
   "cell_type": "markdown",
   "metadata": {},
   "source": [
    "### Loigistic Regression"
   ]
  },
  {
   "cell_type": "code",
   "execution_count": 89,
   "metadata": {},
   "outputs": [
    {
     "name": "stdout",
     "output_type": "stream",
     "text": [
      " Best parameter Pipeline(memory=None,\n",
      "         steps=[('vect',\n",
      "                 TfidfVectorizer(analyzer='word', binary=False,\n",
      "                                 decode_error='strict',\n",
      "                                 dtype=<class 'numpy.float64'>,\n",
      "                                 encoding='utf-8', input='content',\n",
      "                                 lowercase=True, max_df=1.0, max_features=None,\n",
      "                                 min_df=1, ngram_range=(1, 2), norm='l2',\n",
      "                                 preprocessor=None, smooth_idf=True,\n",
      "                                 stop_words='english', strip_accents=None,\n",
      "                                 sublinear_tf=True,\n",
      "                                 token_patter...\n",
      "                                 tokenizer=None, use_idf=True,\n",
      "                                 vocabulary=None)),\n",
      "                ('chi',\n",
      "                 SelectKBest(k=10000,\n",
      "                             score_func=<function chi2 at 0x1a19e2c950>)),\n",
      "                ('clf',\n",
      "                 LogisticRegression(C=10, class_weight=None, dual=False,\n",
      "                                    fit_intercept=True, intercept_scaling=1,\n",
      "                                    l1_ratio=None, max_iter=100,\n",
      "                                    multi_class='warn', n_jobs=None,\n",
      "                                    penalty='l2', random_state=None,\n",
      "                                    solver='liblinear', tol=0.0001, verbose=0,\n",
      "                                    warm_start=False))],\n",
      "         verbose=False)\n"
     ]
    }
   ],
   "source": [
    "lg_tri_grid = clf_grid(LogisticRegression(),df,'Reviews_tokenize_join', 'tri_target', parameteres ={'clf__penalty' : ['l1', 'l2'],\n",
    "'clf__C' : [ 0.001, 0.01, 0.1, 1, 10, 100],\n",
    "'clf__solver': ['liblinear', 'saga']})"
   ]
  },
  {
   "cell_type": "code",
   "execution_count": null,
   "metadata": {},
   "outputs": [],
   "source": [
    "lg_tri_grid"
   ]
  },
  {
   "cell_type": "markdown",
   "metadata": {},
   "source": [
    "### Decision Tree Classifier"
   ]
  },
  {
   "cell_type": "code",
   "execution_count": 90,
   "metadata": {},
   "outputs": [
    {
     "name": "stdout",
     "output_type": "stream",
     "text": [
      " Best parameter Pipeline(memory=None,\n",
      "         steps=[('vect',\n",
      "                 TfidfVectorizer(analyzer='word', binary=False,\n",
      "                                 decode_error='strict',\n",
      "                                 dtype=<class 'numpy.float64'>,\n",
      "                                 encoding='utf-8', input='content',\n",
      "                                 lowercase=True, max_df=1.0, max_features=None,\n",
      "                                 min_df=1, ngram_range=(1, 2), norm='l2',\n",
      "                                 preprocessor=None, smooth_idf=True,\n",
      "                                 stop_words='english', strip_accents=None,\n",
      "                                 sublinear_tf=True,\n",
      "                                 token_patter...\n",
      "                 SelectKBest(k=10000,\n",
      "                             score_func=<function chi2 at 0x1a19e2c950>)),\n",
      "                ('clf',\n",
      "                 DecisionTreeClassifier(class_weight=None, criterion='gini',\n",
      "                                        max_depth=None, max_features=None,\n",
      "                                        max_leaf_nodes=None,\n",
      "                                        min_impurity_decrease=0.0,\n",
      "                                        min_impurity_split=None,\n",
      "                                        min_samples_leaf=1, min_samples_split=2,\n",
      "                                        min_weight_fraction_leaf=0.0,\n",
      "                                        presort=False, random_state=None,\n",
      "                                        splitter='best'))],\n",
      "         verbose=False)\n"
     ]
    }
   ],
   "source": [
    "dt_tri_grid = clf_grid( DecisionTreeClassifier(),df,'Reviews_tokenize_join', 'tri_target', parameteres = {\n",
    "    'clf__criterion': ['gini', 'entropy'],\n",
    "#     'clf__max_depth': [None, 2, 3, 4, 5, 6],\n",
    "    'clf__min_samples_split': [2, 5, 10]\n",
    "#     'clf__min_samples_leaf': [1, 2, 3, 4, 5, 6]\n",
    "})"
   ]
  },
  {
   "cell_type": "code",
   "execution_count": 91,
   "metadata": {},
   "outputs": [
    {
     "data": {
      "text/plain": [
       "{'Accuracy_score': '46.0%',\n",
       " 'Recall_score': array([0.31827112, 0.13928571, 0.23434125, 0.35429975, 0.6553802 ]),\n",
       " 'Precision_score': array([0.3793911 , 0.19796954, 0.2424581 , 0.34025484, 0.62065217]),\n",
       " 'F1_score': array([0.34615385, 0.16352201, 0.23833059, 0.34713529, 0.63754361]),\n",
       " 'Time': -0.0007338849973166361}"
      ]
     },
     "execution_count": 91,
     "metadata": {},
     "output_type": "execute_result"
    }
   ],
   "source": [
    "dt_tri_grid"
   ]
  },
  {
   "cell_type": "markdown",
   "metadata": {},
   "source": [
    "### Multinomial NB"
   ]
  },
  {
   "cell_type": "code",
   "execution_count": 92,
   "metadata": {},
   "outputs": [
    {
     "data": {
      "application/javascript": [
       "\n",
       "        if (window._pyforest_update_imports_cell) { window._pyforest_update_imports_cell('import numpy as np'); }\n",
       "    "
      ],
      "text/plain": [
       "<IPython.core.display.Javascript object>"
      ]
     },
     "metadata": {},
     "output_type": "display_data"
    },
    {
     "name": "stdout",
     "output_type": "stream",
     "text": [
      " Best parameter Pipeline(memory=None,\n",
      "         steps=[('vect',\n",
      "                 TfidfVectorizer(analyzer='word', binary=False,\n",
      "                                 decode_error='strict',\n",
      "                                 dtype=<class 'numpy.float64'>,\n",
      "                                 encoding='utf-8', input='content',\n",
      "                                 lowercase=True, max_df=1.0, max_features=None,\n",
      "                                 min_df=1, ngram_range=(1, 2), norm='l2',\n",
      "                                 preprocessor=None, smooth_idf=True,\n",
      "                                 stop_words='english', strip_accents=None,\n",
      "                                 sublinear_tf=True,\n",
      "                                 token_pattern='(?u)\\\\b\\\\w\\\\w+\\\\b',\n",
      "                                 tokenizer=None, use_idf=True,\n",
      "                                 vocabulary=None)),\n",
      "                ('chi',\n",
      "                 SelectKBest(k=10000,\n",
      "                             score_func=<function chi2 at 0x1a19e2c950>)),\n",
      "                ('clf',\n",
      "                 MultinomialNB(alpha=0.5, class_prior=None, fit_prior=False))],\n",
      "         verbose=False)\n"
     ]
    }
   ],
   "source": [
    "nb_tri_grid = clf_grid( MultinomialNB(), df,'Reviews_tokenize_join', 'tri_target', parameteres = {'clf__alpha': np.linspace(0.5, 1.5, 6), 'clf__fit_prior': [True, False]})"
   ]
  },
  {
   "cell_type": "code",
   "execution_count": 94,
   "metadata": {},
   "outputs": [
    {
     "data": {
      "text/plain": [
       "{'Accuracy_score': '60.0%',\n",
       " 'Recall_score': array([0.3870334 , 0.0125    , 0.31533477, 0.45503686, 0.876901  ]),\n",
       " 'Precision_score': array([0.63961039, 0.25      , 0.30575916, 0.46230654, 0.72399905]),\n",
       " 'F1_score': array([0.48225214, 0.02380952, 0.31047315, 0.45864289, 0.7931482 ]),\n",
       " 'Time': 0.0008555969998269575}"
      ]
     },
     "execution_count": 94,
     "metadata": {},
     "output_type": "execute_result"
    }
   ],
   "source": [
    "nb_tri_grid"
   ]
  },
  {
   "cell_type": "markdown",
   "metadata": {},
   "source": [
    "### Linear Support Vector Classification"
   ]
  },
  {
   "cell_type": "code",
   "execution_count": 95,
   "metadata": {},
   "outputs": [
    {
     "name": "stdout",
     "output_type": "stream",
     "text": [
      " Best parameter Pipeline(memory=None,\n",
      "         steps=[('vect',\n",
      "                 TfidfVectorizer(analyzer='word', binary=False,\n",
      "                                 decode_error='strict',\n",
      "                                 dtype=<class 'numpy.float64'>,\n",
      "                                 encoding='utf-8', input='content',\n",
      "                                 lowercase=True, max_df=1.0, max_features=None,\n",
      "                                 min_df=1, ngram_range=(1, 2), norm='l2',\n",
      "                                 preprocessor=None, smooth_idf=True,\n",
      "                                 stop_words='english', strip_accents=None,\n",
      "                                 sublinear_tf=True,\n",
      "                                 token_pattern='(?u)\\\\b\\\\w\\\\w+\\\\b',\n",
      "                                 tokenizer=None, use_idf=True,\n",
      "                                 vocabulary=None)),\n",
      "                ('chi',\n",
      "                 SelectKBest(k=10000,\n",
      "                             score_func=<function chi2 at 0x1a19e2c950>)),\n",
      "                ('clf',\n",
      "                 LinearSVC(C=0.1, class_weight=None, dual=True,\n",
      "                           fit_intercept=True, intercept_scaling=1,\n",
      "                           loss='squared_hinge', max_iter=1000,\n",
      "                           multi_class='ovr', penalty='l2', random_state=None,\n",
      "                           tol=0.0001, verbose=0))],\n",
      "         verbose=False)\n"
     ]
    }
   ],
   "source": [
    "svc_tri_grid = clf_grid( LinearSVC() ,df, 'Reviews_tokenize_join', 'tri_target',parameteres = {'clf__C':[0.001,0.1,10,100,10e5], 'clf__max_iter':[1000, 2000,3000]})\n"
   ]
  },
  {
   "cell_type": "code",
   "execution_count": null,
   "metadata": {},
   "outputs": [],
   "source": [
    "svc_tri_grid"
   ]
  },
  {
   "cell_type": "markdown",
   "metadata": {},
   "source": [
    "### Random Forest Classifier"
   ]
  },
  {
   "cell_type": "code",
   "execution_count": 96,
   "metadata": {},
   "outputs": [
    {
     "name": "stdout",
     "output_type": "stream",
     "text": [
      " Best parameter Pipeline(memory=None,\n",
      "         steps=[('vect',\n",
      "                 TfidfVectorizer(analyzer='word', binary=False,\n",
      "                                 decode_error='strict',\n",
      "                                 dtype=<class 'numpy.float64'>,\n",
      "                                 encoding='utf-8', input='content',\n",
      "                                 lowercase=True, max_df=1.0, max_features=None,\n",
      "                                 min_df=1, ngram_range=(1, 2), norm='l2',\n",
      "                                 preprocessor=None, smooth_idf=True,\n",
      "                                 stop_words='english', strip_accents=None,\n",
      "                                 sublinear_tf=True,\n",
      "                                 token_patter...\n",
      "                 RandomForestClassifier(bootstrap=True, class_weight=None,\n",
      "                                        criterion='gini', max_depth=None,\n",
      "                                        max_features='auto',\n",
      "                                        max_leaf_nodes=None,\n",
      "                                        min_impurity_decrease=0.0,\n",
      "                                        min_impurity_split=None,\n",
      "                                        min_samples_leaf=3,\n",
      "                                        min_samples_split=10,\n",
      "                                        min_weight_fraction_leaf=0.0,\n",
      "                                        n_estimators=10, n_jobs=None,\n",
      "                                        oob_score=False, random_state=None,\n",
      "                                        verbose=0, warm_start=False))],\n",
      "         verbose=False)\n"
     ]
    }
   ],
   "source": [
    "rf_tri_grid = clf_grid( RandomForestClassifier(), df,'Reviews_tokenize_join', 'tri_target', parameteres = {\n",
    "#     'clf__n_estimators': [10, 30, 100],\n",
    "    'clf__criterion': ['gini', 'entropy'],\n",
    "#     'clf__max_depth': [None, 2, 6, 10],\n",
    "    'clf__min_samples_split': [5, 10],\n",
    "    'clf__min_samples_leaf': [3, 6]\n",
    "})"
   ]
  },
  {
   "cell_type": "code",
   "execution_count": null,
   "metadata": {},
   "outputs": [],
   "source": [
    "rf_tri_grid"
   ]
  },
  {
   "cell_type": "markdown",
   "metadata": {},
   "source": [
    "### AdaBoots"
   ]
  },
  {
   "cell_type": "code",
   "execution_count": 128,
   "metadata": {},
   "outputs": [
    {
     "name": "stdout",
     "output_type": "stream",
     "text": [
      " Best parameter Pipeline(memory=None,\n",
      "         steps=[('vect',\n",
      "                 TfidfVectorizer(analyzer='word', binary=False,\n",
      "                                 decode_error='strict',\n",
      "                                 dtype=<class 'numpy.float64'>,\n",
      "                                 encoding='utf-8', input='content',\n",
      "                                 lowercase=True, max_df=1.0, max_features=None,\n",
      "                                 min_df=1, ngram_range=(1, 2), norm='l2',\n",
      "                                 preprocessor=None, smooth_idf=True,\n",
      "                                 stop_words='english', strip_accents=None,\n",
      "                                 sublinear_tf=True,\n",
      "                                 token_pattern='(?u)\\\\b\\\\w\\\\w+\\\\b',\n",
      "                                 tokenizer=None, use_idf=True,\n",
      "                                 vocabulary=None)),\n",
      "                ('chi',\n",
      "                 SelectKBest(k=10000,\n",
      "                             score_func=<function chi2 at 0x1a19e2c950>)),\n",
      "                ('clf',\n",
      "                 AdaBoostClassifier(algorithm='SAMME.R', base_estimator=None,\n",
      "                                    learning_rate=1, n_estimators=100,\n",
      "                                    random_state=None))],\n",
      "         verbose=False)\n"
     ]
    }
   ],
   "source": [
    "ab_tri_grid = clf_grid(AdaBoostClassifier(), df, 'Reviews_tokenize_join', 'tri_target', parameteres = {\n",
    " 'clf__n_estimators': [50, 100],\n",
    " 'clf__learning_rate' : [0.01,0.05,0.1,0.3,1]\n",
    "#  'clf__loss' : ['linear', 'square', 'exponential']\n",
    " }\n",
    ")"
   ]
  },
  {
   "cell_type": "code",
   "execution_count": 129,
   "metadata": {},
   "outputs": [
    {
     "data": {
      "text/plain": [
       "{'Accuracy_score': '56.99999999999999%',\n",
       " 'Recall_score': array([0.4675835 , 0.18392857, 0.23542117, 0.395086  , 0.83041607]),\n",
       " 'Precision_score': array([0.47695391, 0.29855072, 0.36515913, 0.44916201, 0.67553688]),\n",
       " 'F1_score': array([0.47222222, 0.22762431, 0.28627708, 0.42039216, 0.74501223]),\n",
       " 'Time': 0.0014256920039770193}"
      ]
     },
     "execution_count": 129,
     "metadata": {},
     "output_type": "execute_result"
    }
   ],
   "source": [
    "ab_tri_grid"
   ]
  },
  {
   "cell_type": "markdown",
   "metadata": {},
   "source": [
    "### Gradient_boosting\n"
   ]
  },
  {
   "cell_type": "code",
   "execution_count": 130,
   "metadata": {},
   "outputs": [
    {
     "name": "stdout",
     "output_type": "stream",
     "text": [
      " Best parameter Pipeline(memory=None,\n",
      "         steps=[('vect',\n",
      "                 TfidfVectorizer(analyzer='word', binary=False,\n",
      "                                 decode_error='strict',\n",
      "                                 dtype=<class 'numpy.float64'>,\n",
      "                                 encoding='utf-8', input='content',\n",
      "                                 lowercase=True, max_df=1.0, max_features=None,\n",
      "                                 min_df=1, ngram_range=(1, 2), norm='l2',\n",
      "                                 preprocessor=None, smooth_idf=True,\n",
      "                                 stop_words='english', strip_accents=None,\n",
      "                                 sublinear_tf=True,\n",
      "                                 token_patter...\n",
      "                                            learning_rate=0.1, loss='deviance',\n",
      "                                            max_depth=8, max_features=0.1,\n",
      "                                            max_leaf_nodes=None,\n",
      "                                            min_impurity_decrease=0.0,\n",
      "                                            min_impurity_split=None,\n",
      "                                            min_samples_leaf=1,\n",
      "                                            min_samples_split=2,\n",
      "                                            min_weight_fraction_leaf=0.0,\n",
      "                                            n_estimators=100,\n",
      "                                            n_iter_no_change=None,\n",
      "                                            presort='auto', random_state=None,\n",
      "                                            subsample=1.0, tol=0.0001,\n",
      "                                            validation_fraction=0.1, verbose=0,\n",
      "                                            warm_start=False))],\n",
      "         verbose=False)\n"
     ]
    }
   ],
   "source": [
    "gb_tri_grid = clf_grid(GradientBoostingClassifier(), df, 'Reviews_tokenize_join', 'tritarget', parameteres = {'clf__learning_rate': [0.1, 0.05, 0.02, 0.01],\n",
    "              'clf__max_depth': [4, 6, 8],\n",
    "#               'clf__min_samples_leaf': [20, 50,100,150],\n",
    "              'clf__max_features': [1.0, 0.3, 0.1] \n",
    "              })"
   ]
  },
  {
   "cell_type": "code",
   "execution_count": 14,
   "metadata": {},
   "outputs": [
    {
     "data": {
      "text/plain": [
       "{'Accuracy_score': '56.00000000000001%',\n",
       " 'Recall_score': array([0.5540275 , 0.13035714, 0.20518359, 0.32579853, 0.85710187]),\n",
       " 'Precision_score': array([0.4661157 , 0.29435484, 0.33868093, 0.44526528, 0.64765828]),\n",
       " 'F1_score': array([0.50628366, 0.18069307, 0.25554808, 0.37627696, 0.73780412]),\n",
       " 'Time': 0.0002060620000037261}"
      ]
     },
     "execution_count": 14,
     "metadata": {},
     "output_type": "execute_result"
    }
   ],
   "source": [
    "gb_tri_grid"
   ]
  },
  {
   "cell_type": "markdown",
   "metadata": {},
   "source": [
    "### XGB\n"
   ]
  },
  {
   "cell_type": "code",
   "execution_count": 103,
   "metadata": {},
   "outputs": [
    {
     "name": "stdout",
     "output_type": "stream",
     "text": [
      " Best parameter Pipeline(memory=None,\n",
      "         steps=[('vect',\n",
      "                 TfidfVectorizer(analyzer='word', binary=False,\n",
      "                                 decode_error='strict',\n",
      "                                 dtype=<class 'numpy.float64'>,\n",
      "                                 encoding='utf-8', input='content',\n",
      "                                 lowercase=True, max_df=1.0, max_features=None,\n",
      "                                 min_df=1, ngram_range=(1, 2), norm='l2',\n",
      "                                 preprocessor=None, smooth_idf=True,\n",
      "                                 stop_words='english', strip_accents=None,\n",
      "                                 sublinear_tf=True,\n",
      "                                 token_patter...\n",
      "                 XGBClassifier(base_score=0.5, booster='gbtree',\n",
      "                               colsample_bylevel=1, colsample_bynode=1,\n",
      "                               colsample_bytree=1, gamma=0.5, learning_rate=0.1,\n",
      "                               max_delta_step=0, max_depth=5,\n",
      "                               min_child_weight=1, missing=None,\n",
      "                               n_estimators=100, n_jobs=1, nthread=None,\n",
      "                               objective='multi:softprob', random_state=0,\n",
      "                               reg_alpha=0, reg_lambda=1, scale_pos_weight=1,\n",
      "                               seed=None, silent=None, subsample=1,\n",
      "                               verbosity=1))],\n",
      "         verbose=False)\n"
     ]
    }
   ],
   "source": [
    "xgb_tri_grid = clf_grid(XGBClassifier(), df, 'Reviews_tokenize_join', 'target', parameteres = {\n",
    "#         'clf__min_child_weight': [1, 5, 10],\n",
    "        'clf__gamma': [0.5, 1, 1.5, 2, 5],\n",
    "#         'clf__subsample': [0.6, 0.8, 1.0],\n",
    "#         'clf__colsample_bytree': [0.6, 0.8, 1.0],\n",
    "        'clf__max_depth': [3, 4, 5]\n",
    "        })"
   ]
  },
  {
   "cell_type": "code",
   "execution_count": 104,
   "metadata": {},
   "outputs": [
    {
     "data": {
      "text/plain": [
       "{'Accuracy_score': '56.99999999999999%',\n",
       " 'Recall_score': array([0.49115914, 0.07678571, 0.1587473 , 0.33562654, 0.91248207]),\n",
       " 'Precision_score': array([0.56053812, 0.36134454, 0.38181818, 0.43754004, 0.63549161]),\n",
       " 'F1_score': array([0.52356021, 0.12665685, 0.22425629, 0.37986652, 0.74920485]),\n",
       " 'Time': 0.0011933329988096375}"
      ]
     },
     "execution_count": 104,
     "metadata": {},
     "output_type": "execute_result"
    }
   ],
   "source": [
    "xgb_tri_grid"
   ]
  },
  {
   "cell_type": "markdown",
   "metadata": {},
   "source": [
    "### Results Summary\n"
   ]
  },
  {
   "cell_type": "code",
   "execution_count": 146,
   "metadata": {},
   "outputs": [
    {
     "data": {
      "text/html": [
       "<div>\n",
       "<style scoped>\n",
       "    .dataframe tbody tr th:only-of-type {\n",
       "        vertical-align: middle;\n",
       "    }\n",
       "\n",
       "    .dataframe tbody tr th {\n",
       "        vertical-align: top;\n",
       "    }\n",
       "\n",
       "    .dataframe thead th {\n",
       "        text-align: right;\n",
       "    }\n",
       "</style>\n",
       "<table border=\"1\" class=\"dataframe\">\n",
       "  <thead>\n",
       "    <tr style=\"text-align: right;\">\n",
       "      <th></th>\n",
       "      <th>Accuracy_score</th>\n",
       "      <th>Recall_score</th>\n",
       "      <th>Precision_score</th>\n",
       "      <th>F1_score</th>\n",
       "      <th>Time</th>\n",
       "    </tr>\n",
       "    <tr>\n",
       "      <th>Model</th>\n",
       "      <th></th>\n",
       "      <th></th>\n",
       "      <th></th>\n",
       "      <th></th>\n",
       "      <th></th>\n",
       "    </tr>\n",
       "  </thead>\n",
       "  <tbody>\n",
       "    <tr>\n",
       "      <th>Logistic Regresion</th>\n",
       "      <td>61.0%</td>\n",
       "      <td>[0.5481335952848723, 0.15714285714285714, 0.39...</td>\n",
       "      <td>[0.5625, 0.34509803921568627, 0.42491268917345...</td>\n",
       "      <td>[0.5552238805970149, 0.21595092024539875, 0.40...</td>\n",
       "      <td>0.000322</td>\n",
       "    </tr>\n",
       "    <tr>\n",
       "      <th>Support Vector Machine</th>\n",
       "      <td>60.0%</td>\n",
       "      <td>[0.6070726915520629, 0.04285714285714286, 0.23...</td>\n",
       "      <td>[0.5459363957597173, 0.4, 0.39814814814814814,...</td>\n",
       "      <td>[0.5748837209302325, 0.07741935483870968, 0.29...</td>\n",
       "      <td>0.000088</td>\n",
       "    </tr>\n",
       "    <tr>\n",
       "      <th>Mutinomial NB</th>\n",
       "      <td>60.0%</td>\n",
       "      <td>[0.38703339882121807, 0.0125, 0.31533477321814...</td>\n",
       "      <td>[0.6396103896103896, 0.25, 0.3057591623036649,...</td>\n",
       "      <td>[0.4822521419828641, 0.023809523809523808, 0.3...</td>\n",
       "      <td>0.000856</td>\n",
       "    </tr>\n",
       "    <tr>\n",
       "      <th>Gradient_boosting</th>\n",
       "      <td>57.99999999999999%</td>\n",
       "      <td>[0.47544204322200395, 0.1125, 0.22462203023758...</td>\n",
       "      <td>[0.5761904761904761, 0.31343283582089554, 0.35...</td>\n",
       "      <td>[0.5209903121636168, 0.16557161629434955, 0.27...</td>\n",
       "      <td>-0.006089</td>\n",
       "    </tr>\n",
       "    <tr>\n",
       "      <th>Ada Boots</th>\n",
       "      <td>56.99999999999999%</td>\n",
       "      <td>[0.4675834970530452, 0.18392857142857144, 0.23...</td>\n",
       "      <td>[0.47695390781563124, 0.2985507246376812, 0.36...</td>\n",
       "      <td>[0.4722222222222222, 0.22762430939226522, 0.28...</td>\n",
       "      <td>0.001426</td>\n",
       "    </tr>\n",
       "    <tr>\n",
       "      <th>XGB</th>\n",
       "      <td>56.99999999999999%</td>\n",
       "      <td>[0.4911591355599214, 0.07678571428571429, 0.15...</td>\n",
       "      <td>[0.5605381165919282, 0.36134453781512604, 0.38...</td>\n",
       "      <td>[0.5235602094240838, 0.12665684830633284, 0.22...</td>\n",
       "      <td>0.001193</td>\n",
       "    </tr>\n",
       "    <tr>\n",
       "      <th>Random Forest Classifier</th>\n",
       "      <td>52.0%</td>\n",
       "      <td>[0.2829076620825147, 0.026785714285714284, 0.0...</td>\n",
       "      <td>[0.5625, 0.29411764705882354, 0.29508196721311...</td>\n",
       "      <td>[0.3764705882352941, 0.049099836333878884, 0.1...</td>\n",
       "      <td>0.002694</td>\n",
       "    </tr>\n",
       "    <tr>\n",
       "      <th>Decision Tree Classifier</th>\n",
       "      <td>46.0%</td>\n",
       "      <td>[0.3182711198428291, 0.1392857142857143, 0.234...</td>\n",
       "      <td>[0.3793911007025761, 0.19796954314720813, 0.24...</td>\n",
       "      <td>[0.34615384615384615, 0.16352201257861637, 0.2...</td>\n",
       "      <td>-0.000734</td>\n",
       "    </tr>\n",
       "  </tbody>\n",
       "</table>\n",
       "</div>"
      ],
      "text/plain": [
       "                              Accuracy_score  \\\n",
       "Model                                          \n",
       "Logistic Regresion                     61.0%   \n",
       "Support Vector Machine                 60.0%   \n",
       "Mutinomial NB                          60.0%   \n",
       "Gradient_boosting         57.99999999999999%   \n",
       "Ada Boots                 56.99999999999999%   \n",
       "XGB                       56.99999999999999%   \n",
       "Random Forest Classifier               52.0%   \n",
       "Decision Tree Classifier               46.0%   \n",
       "\n",
       "                                                               Recall_score  \\\n",
       "Model                                                                         \n",
       "Logistic Regresion        [0.5481335952848723, 0.15714285714285714, 0.39...   \n",
       "Support Vector Machine    [0.6070726915520629, 0.04285714285714286, 0.23...   \n",
       "Mutinomial NB             [0.38703339882121807, 0.0125, 0.31533477321814...   \n",
       "Gradient_boosting         [0.47544204322200395, 0.1125, 0.22462203023758...   \n",
       "Ada Boots                 [0.4675834970530452, 0.18392857142857144, 0.23...   \n",
       "XGB                       [0.4911591355599214, 0.07678571428571429, 0.15...   \n",
       "Random Forest Classifier  [0.2829076620825147, 0.026785714285714284, 0.0...   \n",
       "Decision Tree Classifier  [0.3182711198428291, 0.1392857142857143, 0.234...   \n",
       "\n",
       "                                                            Precision_score  \\\n",
       "Model                                                                         \n",
       "Logistic Regresion        [0.5625, 0.34509803921568627, 0.42491268917345...   \n",
       "Support Vector Machine    [0.5459363957597173, 0.4, 0.39814814814814814,...   \n",
       "Mutinomial NB             [0.6396103896103896, 0.25, 0.3057591623036649,...   \n",
       "Gradient_boosting         [0.5761904761904761, 0.31343283582089554, 0.35...   \n",
       "Ada Boots                 [0.47695390781563124, 0.2985507246376812, 0.36...   \n",
       "XGB                       [0.5605381165919282, 0.36134453781512604, 0.38...   \n",
       "Random Forest Classifier  [0.5625, 0.29411764705882354, 0.29508196721311...   \n",
       "Decision Tree Classifier  [0.3793911007025761, 0.19796954314720813, 0.24...   \n",
       "\n",
       "                                                                   F1_score  \\\n",
       "Model                                                                         \n",
       "Logistic Regresion        [0.5552238805970149, 0.21595092024539875, 0.40...   \n",
       "Support Vector Machine    [0.5748837209302325, 0.07741935483870968, 0.29...   \n",
       "Mutinomial NB             [0.4822521419828641, 0.023809523809523808, 0.3...   \n",
       "Gradient_boosting         [0.5209903121636168, 0.16557161629434955, 0.27...   \n",
       "Ada Boots                 [0.4722222222222222, 0.22762430939226522, 0.28...   \n",
       "XGB                       [0.5235602094240838, 0.12665684830633284, 0.22...   \n",
       "Random Forest Classifier  [0.3764705882352941, 0.049099836333878884, 0.1...   \n",
       "Decision Tree Classifier  [0.34615384615384615, 0.16352201257861637, 0.2...   \n",
       "\n",
       "                              Time  \n",
       "Model                               \n",
       "Logistic Regresion        0.000322  \n",
       "Support Vector Machine    0.000088  \n",
       "Mutinomial NB             0.000856  \n",
       "Gradient_boosting        -0.006089  \n",
       "Ada Boots                 0.001426  \n",
       "XGB                       0.001193  \n",
       "Random Forest Classifier  0.002694  \n",
       "Decision Tree Classifier -0.000734  "
      ]
     },
     "execution_count": 146,
     "metadata": {},
     "output_type": "execute_result"
    }
   ],
   "source": [
    "l= [lg_tri_grid, dt_tri_grid, rf_tri_grid, ab_tri_grid, gb_tri_grid, xgb_tri_grid, svc_tri_grid,nb_tri_grid]\n",
    "df_results_tri_grid = table_results(l)\n",
    "df_results_tri_grid.loc[: , ['Accuracy_score', 'Time']]\n",
    "df_results_tri_grid.sort_values(by='Accuracy_score', ascending=False)"
   ]
  },
  {
   "cell_type": "code",
   "execution_count": 58,
   "metadata": {},
   "outputs": [],
   "source": [
    "df_metrix_tri_grid = unnest_df(df_results_tri_grid)"
   ]
  },
  {
   "cell_type": "code",
   "execution_count": null,
   "metadata": {},
   "outputs": [],
   "source": []
  },
  {
   "cell_type": "markdown",
   "metadata": {},
   "source": [
    "## Change target to 2 categories\n"
   ]
  },
  {
   "cell_type": "markdown",
   "metadata": {},
   "source": [
    "The last model is not bad but I think It can improve if I implement binary classification.\n",
    "Divide the df into 5 stars as Good and the rest as Bad."
   ]
  },
  {
   "cell_type": "code",
   "execution_count": 131,
   "metadata": {},
   "outputs": [],
   "source": [
    "df['bi_target'] = 'Bad'\n",
    "df.loc[df['review_rating'] == 5, 'bi_target'] = 'Good'\n"
   ]
  },
  {
   "cell_type": "code",
   "execution_count": 132,
   "metadata": {},
   "outputs": [
    {
     "data": {
      "text/html": [
       "<div>\n",
       "<style scoped>\n",
       "    .dataframe tbody tr th:only-of-type {\n",
       "        vertical-align: middle;\n",
       "    }\n",
       "\n",
       "    .dataframe tbody tr th {\n",
       "        vertical-align: top;\n",
       "    }\n",
       "\n",
       "    .dataframe thead th {\n",
       "        text-align: right;\n",
       "    }\n",
       "</style>\n",
       "<table border=\"1\" class=\"dataframe\">\n",
       "  <thead>\n",
       "    <tr style=\"text-align: right;\">\n",
       "      <th></th>\n",
       "      <th>review_rating</th>\n",
       "      <th>Reviews_tokenize_join</th>\n",
       "      <th>target</th>\n",
       "      <th>tri_target</th>\n",
       "      <th>bi_target</th>\n",
       "    </tr>\n",
       "  </thead>\n",
       "  <tbody>\n",
       "    <tr>\n",
       "      <th>0</th>\n",
       "      <td>1</td>\n",
       "      <td>start say understand hard time city country en...</td>\n",
       "      <td>1</td>\n",
       "      <td>Bad</td>\n",
       "      <td>Bad</td>\n",
       "    </tr>\n",
       "    <tr>\n",
       "      <th>1</th>\n",
       "      <td>5</td>\n",
       "      <td>wonderful visit time park view thank upgrade l...</td>\n",
       "      <td>5</td>\n",
       "      <td>Good</td>\n",
       "      <td>Good</td>\n",
       "    </tr>\n",
       "    <tr>\n",
       "      <th>2</th>\n",
       "      <td>5</td>\n",
       "      <td>good hotel stay absolutely worth money view ce...</td>\n",
       "      <td>5</td>\n",
       "      <td>Good</td>\n",
       "      <td>Good</td>\n",
       "    </tr>\n",
       "    <tr>\n",
       "      <th>3</th>\n",
       "      <td>5</td>\n",
       "      <td>fantastic location spot step central park view...</td>\n",
       "      <td>5</td>\n",
       "      <td>Good</td>\n",
       "      <td>Good</td>\n",
       "    </tr>\n",
       "    <tr>\n",
       "      <th>4</th>\n",
       "      <td>5</td>\n",
       "      <td>amazing park view nicole staff professional fr...</td>\n",
       "      <td>5</td>\n",
       "      <td>Good</td>\n",
       "      <td>Good</td>\n",
       "    </tr>\n",
       "  </tbody>\n",
       "</table>\n",
       "</div>"
      ],
      "text/plain": [
       "   review_rating                              Reviews_tokenize_join target  \\\n",
       "0              1  start say understand hard time city country en...      1   \n",
       "1              5  wonderful visit time park view thank upgrade l...      5   \n",
       "2              5  good hotel stay absolutely worth money view ce...      5   \n",
       "3              5  fantastic location spot step central park view...      5   \n",
       "4              5  amazing park view nicole staff professional fr...      5   \n",
       "\n",
       "  tri_target bi_target  \n",
       "0        Bad       Bad  \n",
       "1       Good      Good  \n",
       "2       Good      Good  \n",
       "3       Good      Good  \n",
       "4       Good      Good  "
      ]
     },
     "execution_count": 132,
     "metadata": {},
     "output_type": "execute_result"
    }
   ],
   "source": [
    "df.bi_target.value_counts(normalize = True)\n",
    "df.head()"
   ]
  },
  {
   "cell_type": "code",
   "execution_count": 133,
   "metadata": {},
   "outputs": [
    {
     "data": {
      "text/plain": [
       "<matplotlib.axes._subplots.AxesSubplot at 0x1a1ce9e6a0>"
      ]
     },
     "execution_count": 133,
     "metadata": {},
     "output_type": "execute_result"
    },
    {
     "data": {
      "image/png": "[encoded data removed]",
      "text/plain": [
       "<Figure size 432x288 with 1 Axes>"
      ]
     },
     "metadata": {
      "needs_background": "light"
     },
     "output_type": "display_data"
    }
   ],
   "source": [
    "df['bi_target'].value_counts().sort_values().plot(kind = 'barh')\n"
   ]
  },
  {
   "cell_type": "markdown",
   "metadata": {},
   "source": [
    "## Data Engineering and Modelling\n"
   ]
  },
  {
   "cell_type": "markdown",
   "metadata": {},
   "source": [
    "### Logistic Regression"
   ]
  },
  {
   "cell_type": "code",
   "execution_count": 134,
   "metadata": {},
   "outputs": [],
   "source": [
    "lg_bi_class = clf(LogisticRegression(),df, 'Reviews_tokenize_join', 'bi_target')"
   ]
  },
  {
   "cell_type": "code",
   "execution_count": 135,
   "metadata": {},
   "outputs": [
    {
     "data": {
      "text/plain": [
       "{'Accuracy_score': '80.0%',\n",
       " 'Recall_score': array([0.79950372, 0.81119082]),\n",
       " 'Precision_score': array([0.83041237, 0.77771664]),\n",
       " 'F1_score': array([0.81466498, 0.79410112]),\n",
       " 'Time': 0.0024842090060701594}"
      ]
     },
     "execution_count": 135,
     "metadata": {},
     "output_type": "execute_result"
    }
   ],
   "source": [
    "lg_bi_class"
   ]
  },
  {
   "cell_type": "markdown",
   "metadata": {},
   "source": [
    "### Decision Tree Classifier"
   ]
  },
  {
   "cell_type": "code",
   "execution_count": 111,
   "metadata": {},
   "outputs": [],
   "source": [
    "dt_bi_class = clf(DecisionTreeClassifier(),df,  'Reviews_tokenize_join', 'bi_target')"
   ]
  },
  {
   "cell_type": "code",
   "execution_count": 112,
   "metadata": {},
   "outputs": [
    {
     "data": {
      "text/plain": [
       "{'Accuracy_score': '64.0%',\n",
       " 'Recall_score': array([0.62258065, 0.66226686]),\n",
       " 'Precision_score': array([0.68068367, 0.60276835]),\n",
       " 'F1_score': array([0.65033696, 0.6311184 ]),\n",
       " 'Time': 5.3526993724517524e-05}"
      ]
     },
     "execution_count": 112,
     "metadata": {},
     "output_type": "execute_result"
    }
   ],
   "source": [
    "dt_bi_class"
   ]
  },
  {
   "cell_type": "markdown",
   "metadata": {},
   "source": [
    "### Multinoial NB"
   ]
  },
  {
   "cell_type": "code",
   "execution_count": 113,
   "metadata": {},
   "outputs": [],
   "source": [
    "nb_bi_class = clf(MultinomialNB(),df,  'Reviews_tokenize_join', 'bi_target')"
   ]
  },
  {
   "cell_type": "code",
   "execution_count": 114,
   "metadata": {},
   "outputs": [
    {
     "data": {
      "text/plain": [
       "{'Accuracy_score': '80.0%',\n",
       " 'Recall_score': array([0.79578164, 0.81377331]),\n",
       " 'Precision_score': array([0.83169087, 0.77507516]),\n",
       " 'F1_score': array([0.8133401 , 0.79395297]),\n",
       " 'Time': 0.0008715799995115958}"
      ]
     },
     "execution_count": 114,
     "metadata": {},
     "output_type": "execute_result"
    }
   ],
   "source": [
    "nb_bi_class"
   ]
  },
  {
   "cell_type": "markdown",
   "metadata": {},
   "source": [
    "### Linear Support Vector Classification"
   ]
  },
  {
   "cell_type": "code",
   "execution_count": 115,
   "metadata": {},
   "outputs": [],
   "source": [
    "svc_bi_class = clf(LinearSVC(),df, 'Reviews_tokenize_join', 'bi_target')"
   ]
  },
  {
   "cell_type": "code",
   "execution_count": 116,
   "metadata": {},
   "outputs": [
    {
     "data": {
      "text/plain": [
       "{'Accuracy_score': '81.0%',\n",
       " 'Recall_score': array([0.79404467, 0.81779053]),\n",
       " 'Precision_score': array([0.83441982, 0.77445652]),\n",
       " 'F1_score': array([0.81373172, 0.79553385]),\n",
       " 'Time': 0.001911829000164289}"
      ]
     },
     "execution_count": 116,
     "metadata": {},
     "output_type": "execute_result"
    }
   ],
   "source": [
    "svc_bi_class"
   ]
  },
  {
   "cell_type": "markdown",
   "metadata": {},
   "source": [
    "### Random Forest Classifier"
   ]
  },
  {
   "cell_type": "code",
   "execution_count": 117,
   "metadata": {},
   "outputs": [],
   "source": [
    "rf_bi_class = clf( RandomForestClassifier(),df, 'Reviews_tokenize_join', 'bi_target')"
   ]
  },
  {
   "cell_type": "code",
   "execution_count": 118,
   "metadata": {},
   "outputs": [
    {
     "data": {
      "text/plain": [
       "{'Accuracy_score': '74.0%',\n",
       " 'Recall_score': array([0.76054591, 0.7061693 ]),\n",
       " 'Precision_score': array([0.74957202, 0.71833041]),\n",
       " 'F1_score': array([0.75501909, 0.71219795]),\n",
       " 'Time': 0.0020161990105407313}"
      ]
     },
     "execution_count": 118,
     "metadata": {},
     "output_type": "execute_result"
    }
   ],
   "source": [
    "rf_bi_class"
   ]
  },
  {
   "cell_type": "markdown",
   "metadata": {},
   "source": [
    "### AdaBoots"
   ]
  },
  {
   "cell_type": "code",
   "execution_count": 123,
   "metadata": {},
   "outputs": [],
   "source": [
    "ab_bi_class = clf(AdaBoostClassifier(), df, 'Reviews_tokenize_join', 'bi_target')"
   ]
  },
  {
   "cell_type": "code",
   "execution_count": 124,
   "metadata": {},
   "outputs": [
    {
     "data": {
      "text/plain": [
       "{'Accuracy_score': '76.0%',\n",
       " 'Recall_score': array([0.74665012, 0.77733142]),\n",
       " 'Precision_score': array([0.79498018, 0.72627346]),\n",
       " 'F1_score': array([0.77005758, 0.75093555]),\n",
       " 'Time': 0.0012753449991578236}"
      ]
     },
     "execution_count": 124,
     "metadata": {},
     "output_type": "execute_result"
    }
   ],
   "source": [
    "ab_bi_class "
   ]
  },
  {
   "cell_type": "markdown",
   "metadata": {},
   "source": [
    "### Gradient_boosting\n"
   ]
  },
  {
   "cell_type": "code",
   "execution_count": 125,
   "metadata": {},
   "outputs": [],
   "source": [
    "gb_bi_class = clf(GradientBoostingClassifier(), df, 'Reviews_tokenize_join', 'bi_target')"
   ]
  },
  {
   "cell_type": "code",
   "execution_count": 126,
   "metadata": {},
   "outputs": [
    {
     "data": {
      "text/plain": [
       "{'Accuracy_score': '77.0%',\n",
       " 'Recall_score': array([0.74739454, 0.78880918]),\n",
       " 'Precision_score': array([0.8036286 , 0.72975843]),\n",
       " 'F1_score': array([0.77449216, 0.75813569]),\n",
       " 'Time': 0.0026241989980917424}"
      ]
     },
     "execution_count": 126,
     "metadata": {},
     "output_type": "execute_result"
    }
   ],
   "source": [
    "gb_bi_class"
   ]
  },
  {
   "cell_type": "markdown",
   "metadata": {},
   "source": [
    "### XGB\n"
   ]
  },
  {
   "cell_type": "code",
   "execution_count": 127,
   "metadata": {},
   "outputs": [],
   "source": [
    "xgb_bi_class = clf(XGBClassifier(), df, 'Reviews_tokenize_join', 'bi_target')"
   ]
  },
  {
   "cell_type": "code",
   "execution_count": 16,
   "metadata": {},
   "outputs": [
    {
     "data": {
      "text/plain": [
       "{'Accuracy_score': '56.00000000000001%',\n",
       " 'Recall_score': array([0.42632613, 0.0625    , 0.12850972, 0.26977887, 0.94146341]),\n",
       " 'Precision_score': array([0.54385965, 0.2892562 , 0.41319444, 0.45222405, 0.59730566]),\n",
       " 'F1_score': array([0.47797357, 0.10279001, 0.19604613, 0.33795014, 0.73089775]),\n",
       " 'Time': 0.00040448300001116877}"
      ]
     },
     "execution_count": 16,
     "metadata": {},
     "output_type": "execute_result"
    }
   ],
   "source": [
    "xgb_bi_class "
   ]
  },
  {
   "cell_type": "markdown",
   "metadata": {},
   "source": [
    "### Results Summary\n"
   ]
  },
  {
   "cell_type": "code",
   "execution_count": 147,
   "metadata": {},
   "outputs": [
    {
     "data": {
      "text/html": [
       "<div>\n",
       "<style scoped>\n",
       "    .dataframe tbody tr th:only-of-type {\n",
       "        vertical-align: middle;\n",
       "    }\n",
       "\n",
       "    .dataframe tbody tr th {\n",
       "        vertical-align: top;\n",
       "    }\n",
       "\n",
       "    .dataframe thead th {\n",
       "        text-align: right;\n",
       "    }\n",
       "</style>\n",
       "<table border=\"1\" class=\"dataframe\">\n",
       "  <thead>\n",
       "    <tr style=\"text-align: right;\">\n",
       "      <th></th>\n",
       "      <th>Accuracy_score</th>\n",
       "      <th>Recall_score</th>\n",
       "      <th>Precision_score</th>\n",
       "      <th>F1_score</th>\n",
       "      <th>Time</th>\n",
       "    </tr>\n",
       "    <tr>\n",
       "      <th>Model</th>\n",
       "      <th></th>\n",
       "      <th></th>\n",
       "      <th></th>\n",
       "      <th></th>\n",
       "      <th></th>\n",
       "    </tr>\n",
       "  </thead>\n",
       "  <tbody>\n",
       "    <tr>\n",
       "      <th>Support Vector Machine</th>\n",
       "      <td>81.0%</td>\n",
       "      <td>[0.794044665012407, 0.8177905308464849]</td>\n",
       "      <td>[0.834419817470665, 0.7744565217391305]</td>\n",
       "      <td>[0.813731722822632, 0.7955338450802513]</td>\n",
       "      <td>0.001912</td>\n",
       "    </tr>\n",
       "    <tr>\n",
       "      <th>Logistic Regresion</th>\n",
       "      <td>80.0%</td>\n",
       "      <td>[0.7995037220843673, 0.8111908177905308]</td>\n",
       "      <td>[0.8304123711340207, 0.777716643741403]</td>\n",
       "      <td>[0.8146649810366625, 0.7941011235955057]</td>\n",
       "      <td>0.002484</td>\n",
       "    </tr>\n",
       "    <tr>\n",
       "      <th>Mutinomial NB</th>\n",
       "      <td>80.0%</td>\n",
       "      <td>[0.7957816377171216, 0.8137733142037302]</td>\n",
       "      <td>[0.8316908713692946, 0.7750751571467615]</td>\n",
       "      <td>[0.8133400963733199, 0.7939529675251961]</td>\n",
       "      <td>0.000872</td>\n",
       "    </tr>\n",
       "    <tr>\n",
       "      <th>Gradient_boosting</th>\n",
       "      <td>77.0%</td>\n",
       "      <td>[0.747394540942928, 0.7888091822094692]</td>\n",
       "      <td>[0.8036286019210246, 0.7297584284576586]</td>\n",
       "      <td>[0.7744921573669324, 0.7581356867071153]</td>\n",
       "      <td>0.002624</td>\n",
       "    </tr>\n",
       "    <tr>\n",
       "      <th>XGB</th>\n",
       "      <td>77.0%</td>\n",
       "      <td>[0.7429280397022332, 0.7925394548063127]</td>\n",
       "      <td>[0.8054882970137207, 0.7272248551869405]</td>\n",
       "      <td>[0.7729443655608623, 0.7584786489084169]</td>\n",
       "      <td>0.001530</td>\n",
       "    </tr>\n",
       "    <tr>\n",
       "      <th>Ada Boots</th>\n",
       "      <td>76.0%</td>\n",
       "      <td>[0.746650124069479, 0.7773314203730273]</td>\n",
       "      <td>[0.7949801849405548, 0.7262734584450402]</td>\n",
       "      <td>[0.7700575815738964, 0.750935550935551]</td>\n",
       "      <td>0.001275</td>\n",
       "    </tr>\n",
       "    <tr>\n",
       "      <th>Random Forest Classifier</th>\n",
       "      <td>74.0%</td>\n",
       "      <td>[0.760545905707196, 0.7061692969870875]</td>\n",
       "      <td>[0.7495720224993886, 0.7183304144775248]</td>\n",
       "      <td>[0.7550190910210618, 0.7121979453045869]</td>\n",
       "      <td>0.002016</td>\n",
       "    </tr>\n",
       "    <tr>\n",
       "      <th>Decision Tree Classifier</th>\n",
       "      <td>64.0%</td>\n",
       "      <td>[0.6225806451612903, 0.6622668579626972]</td>\n",
       "      <td>[0.6806836679327184, 0.6027683468268478]</td>\n",
       "      <td>[0.6503369621565578, 0.6311184030626197]</td>\n",
       "      <td>0.000054</td>\n",
       "    </tr>\n",
       "  </tbody>\n",
       "</table>\n",
       "</div>"
      ],
      "text/plain": [
       "                         Accuracy_score  \\\n",
       "Model                                     \n",
       "Support Vector Machine            81.0%   \n",
       "Logistic Regresion                80.0%   \n",
       "Mutinomial NB                     80.0%   \n",
       "Gradient_boosting                 77.0%   \n",
       "XGB                               77.0%   \n",
       "Ada Boots                         76.0%   \n",
       "Random Forest Classifier          74.0%   \n",
       "Decision Tree Classifier          64.0%   \n",
       "\n",
       "                                                      Recall_score  \\\n",
       "Model                                                                \n",
       "Support Vector Machine     [0.794044665012407, 0.8177905308464849]   \n",
       "Logistic Regresion        [0.7995037220843673, 0.8111908177905308]   \n",
       "Mutinomial NB             [0.7957816377171216, 0.8137733142037302]   \n",
       "Gradient_boosting          [0.747394540942928, 0.7888091822094692]   \n",
       "XGB                       [0.7429280397022332, 0.7925394548063127]   \n",
       "Ada Boots                  [0.746650124069479, 0.7773314203730273]   \n",
       "Random Forest Classifier   [0.760545905707196, 0.7061692969870875]   \n",
       "Decision Tree Classifier  [0.6225806451612903, 0.6622668579626972]   \n",
       "\n",
       "                                                   Precision_score  \\\n",
       "Model                                                                \n",
       "Support Vector Machine     [0.834419817470665, 0.7744565217391305]   \n",
       "Logistic Regresion         [0.8304123711340207, 0.777716643741403]   \n",
       "Mutinomial NB             [0.8316908713692946, 0.7750751571467615]   \n",
       "Gradient_boosting         [0.8036286019210246, 0.7297584284576586]   \n",
       "XGB                       [0.8054882970137207, 0.7272248551869405]   \n",
       "Ada Boots                 [0.7949801849405548, 0.7262734584450402]   \n",
       "Random Forest Classifier  [0.7495720224993886, 0.7183304144775248]   \n",
       "Decision Tree Classifier  [0.6806836679327184, 0.6027683468268478]   \n",
       "\n",
       "                                                          F1_score      Time  \n",
       "Model                                                                         \n",
       "Support Vector Machine     [0.813731722822632, 0.7955338450802513]  0.001912  \n",
       "Logistic Regresion        [0.8146649810366625, 0.7941011235955057]  0.002484  \n",
       "Mutinomial NB             [0.8133400963733199, 0.7939529675251961]  0.000872  \n",
       "Gradient_boosting         [0.7744921573669324, 0.7581356867071153]  0.002624  \n",
       "XGB                       [0.7729443655608623, 0.7584786489084169]  0.001530  \n",
       "Ada Boots                  [0.7700575815738964, 0.750935550935551]  0.001275  \n",
       "Random Forest Classifier  [0.7550190910210618, 0.7121979453045869]  0.002016  \n",
       "Decision Tree Classifier  [0.6503369621565578, 0.6311184030626197]  0.000054  "
      ]
     },
     "execution_count": 147,
     "metadata": {},
     "output_type": "execute_result"
    }
   ],
   "source": [
    "l= [lg_bi_class, dt_bi_class, rf_bi_class, ab_bi_class, gb_bi_class,xgb_bi_class , svc_bi_class,nb_bi_class]\n",
    "df_results_bi = table_results(l)\n",
    "df_results_bi.loc[: , ['Accuracy_score', 'Time']]\n",
    "df_results_bi.sort_values(by='Accuracy_score', ascending=False)"
   ]
  },
  {
   "cell_type": "code",
   "execution_count": 140,
   "metadata": {},
   "outputs": [
    {
     "data": {
      "text/html": [
       "<div>\n",
       "<style scoped>\n",
       "    .dataframe tbody tr th:only-of-type {\n",
       "        vertical-align: middle;\n",
       "    }\n",
       "\n",
       "    .dataframe tbody tr th {\n",
       "        vertical-align: top;\n",
       "    }\n",
       "\n",
       "    .dataframe thead th {\n",
       "        text-align: right;\n",
       "    }\n",
       "</style>\n",
       "<table border=\"1\" class=\"dataframe\">\n",
       "  <thead>\n",
       "    <tr style=\"text-align: right;\">\n",
       "      <th></th>\n",
       "      <th>Recall_score</th>\n",
       "      <th>Precision_score</th>\n",
       "      <th>F1_score</th>\n",
       "      <th>target_class</th>\n",
       "      <th>model</th>\n",
       "    </tr>\n",
       "  </thead>\n",
       "  <tbody>\n",
       "    <tr>\n",
       "      <th>0</th>\n",
       "      <td>0.799504</td>\n",
       "      <td>0.830412</td>\n",
       "      <td>0.814665</td>\n",
       "      <td>1</td>\n",
       "      <td>Logistic Regresion</td>\n",
       "    </tr>\n",
       "    <tr>\n",
       "      <th>1</th>\n",
       "      <td>0.811191</td>\n",
       "      <td>0.777717</td>\n",
       "      <td>0.794101</td>\n",
       "      <td>2</td>\n",
       "      <td>Logistic Regresion</td>\n",
       "    </tr>\n",
       "    <tr>\n",
       "      <th>2</th>\n",
       "      <td>0.622581</td>\n",
       "      <td>0.680684</td>\n",
       "      <td>0.650337</td>\n",
       "      <td>3</td>\n",
       "      <td>Logistic Regresion</td>\n",
       "    </tr>\n",
       "    <tr>\n",
       "      <th>3</th>\n",
       "      <td>0.662267</td>\n",
       "      <td>0.602768</td>\n",
       "      <td>0.631118</td>\n",
       "      <td>4</td>\n",
       "      <td>Logistic Regresion</td>\n",
       "    </tr>\n",
       "    <tr>\n",
       "      <th>4</th>\n",
       "      <td>0.760546</td>\n",
       "      <td>0.749572</td>\n",
       "      <td>0.755019</td>\n",
       "      <td>5</td>\n",
       "      <td>Logistic Regresion</td>\n",
       "    </tr>\n",
       "    <tr>\n",
       "      <th>5</th>\n",
       "      <td>0.706169</td>\n",
       "      <td>0.718330</td>\n",
       "      <td>0.712198</td>\n",
       "      <td>1</td>\n",
       "      <td>Decision Tree Classifier</td>\n",
       "    </tr>\n",
       "    <tr>\n",
       "      <th>6</th>\n",
       "      <td>0.746650</td>\n",
       "      <td>0.794980</td>\n",
       "      <td>0.770058</td>\n",
       "      <td>2</td>\n",
       "      <td>Decision Tree Classifier</td>\n",
       "    </tr>\n",
       "    <tr>\n",
       "      <th>7</th>\n",
       "      <td>0.777331</td>\n",
       "      <td>0.726273</td>\n",
       "      <td>0.750936</td>\n",
       "      <td>3</td>\n",
       "      <td>Decision Tree Classifier</td>\n",
       "    </tr>\n",
       "    <tr>\n",
       "      <th>8</th>\n",
       "      <td>0.747395</td>\n",
       "      <td>0.803629</td>\n",
       "      <td>0.774492</td>\n",
       "      <td>4</td>\n",
       "      <td>Decision Tree Classifier</td>\n",
       "    </tr>\n",
       "    <tr>\n",
       "      <th>9</th>\n",
       "      <td>0.788809</td>\n",
       "      <td>0.729758</td>\n",
       "      <td>0.758136</td>\n",
       "      <td>5</td>\n",
       "      <td>Decision Tree Classifier</td>\n",
       "    </tr>\n",
       "    <tr>\n",
       "      <th>10</th>\n",
       "      <td>0.742928</td>\n",
       "      <td>0.805488</td>\n",
       "      <td>0.772944</td>\n",
       "      <td>1</td>\n",
       "      <td>Random Forest Classifier</td>\n",
       "    </tr>\n",
       "    <tr>\n",
       "      <th>11</th>\n",
       "      <td>0.792539</td>\n",
       "      <td>0.727225</td>\n",
       "      <td>0.758479</td>\n",
       "      <td>2</td>\n",
       "      <td>Random Forest Classifier</td>\n",
       "    </tr>\n",
       "    <tr>\n",
       "      <th>12</th>\n",
       "      <td>0.794045</td>\n",
       "      <td>0.834420</td>\n",
       "      <td>0.813732</td>\n",
       "      <td>3</td>\n",
       "      <td>Random Forest Classifier</td>\n",
       "    </tr>\n",
       "    <tr>\n",
       "      <th>13</th>\n",
       "      <td>0.817791</td>\n",
       "      <td>0.774457</td>\n",
       "      <td>0.795534</td>\n",
       "      <td>4</td>\n",
       "      <td>Random Forest Classifier</td>\n",
       "    </tr>\n",
       "    <tr>\n",
       "      <th>14</th>\n",
       "      <td>0.795782</td>\n",
       "      <td>0.831691</td>\n",
       "      <td>0.813340</td>\n",
       "      <td>5</td>\n",
       "      <td>Random Forest Classifier</td>\n",
       "    </tr>\n",
       "    <tr>\n",
       "      <th>15</th>\n",
       "      <td>0.813773</td>\n",
       "      <td>0.775075</td>\n",
       "      <td>0.793953</td>\n",
       "      <td>1</td>\n",
       "      <td>Ada Boots</td>\n",
       "    </tr>\n",
       "  </tbody>\n",
       "</table>\n",
       "</div>"
      ],
      "text/plain": [
       "    Recall_score  Precision_score  F1_score  target_class  \\\n",
       "0       0.799504         0.830412  0.814665             1   \n",
       "1       0.811191         0.777717  0.794101             2   \n",
       "2       0.622581         0.680684  0.650337             3   \n",
       "3       0.662267         0.602768  0.631118             4   \n",
       "4       0.760546         0.749572  0.755019             5   \n",
       "5       0.706169         0.718330  0.712198             1   \n",
       "6       0.746650         0.794980  0.770058             2   \n",
       "7       0.777331         0.726273  0.750936             3   \n",
       "8       0.747395         0.803629  0.774492             4   \n",
       "9       0.788809         0.729758  0.758136             5   \n",
       "10      0.742928         0.805488  0.772944             1   \n",
       "11      0.792539         0.727225  0.758479             2   \n",
       "12      0.794045         0.834420  0.813732             3   \n",
       "13      0.817791         0.774457  0.795534             4   \n",
       "14      0.795782         0.831691  0.813340             5   \n",
       "15      0.813773         0.775075  0.793953             1   \n",
       "\n",
       "                       model  \n",
       "0         Logistic Regresion  \n",
       "1         Logistic Regresion  \n",
       "2         Logistic Regresion  \n",
       "3         Logistic Regresion  \n",
       "4         Logistic Regresion  \n",
       "5   Decision Tree Classifier  \n",
       "6   Decision Tree Classifier  \n",
       "7   Decision Tree Classifier  \n",
       "8   Decision Tree Classifier  \n",
       "9   Decision Tree Classifier  \n",
       "10  Random Forest Classifier  \n",
       "11  Random Forest Classifier  \n",
       "12  Random Forest Classifier  \n",
       "13  Random Forest Classifier  \n",
       "14  Random Forest Classifier  \n",
       "15                 Ada Boots  "
      ]
     },
     "execution_count": 140,
     "metadata": {},
     "output_type": "execute_result"
    }
   ],
   "source": [
    "df_metrix_bi = unnest_df(df_results_bi)\n",
    "df_metrix_bi"
   ]
  },
  {
   "cell_type": "markdown",
   "metadata": {},
   "source": [
    "## Tunning hyperparameters"
   ]
  },
  {
   "cell_type": "markdown",
   "metadata": {},
   "source": [
    "### Logistic Regression"
   ]
  },
  {
   "cell_type": "code",
   "execution_count": 79,
   "metadata": {},
   "outputs": [],
   "source": [
    "lg_bi_grid = clf_grid(LogisticRegression(),df,'Reviews_tokenize_join', 'bi_target', parameteres ={'clf__penalty' : ['l1', 'l2'],\n",
    "'clf__C' : [ 0.001, 0.01, 0.1, 1, 10, 100],\n",
    "'clf__solver': ['liblinear', 'saga']})"
   ]
  },
  {
   "cell_type": "code",
   "execution_count": null,
   "metadata": {},
   "outputs": [],
   "source": [
    "lg_bi_grid"
   ]
  },
  {
   "cell_type": "markdown",
   "metadata": {},
   "source": [
    "### Decision Tree Classifier"
   ]
  },
  {
   "cell_type": "code",
   "execution_count": 80,
   "metadata": {},
   "outputs": [],
   "source": [
    "dt_bi_grid = clf_grid( DecisionTreeClassifier(),df, 'Reviews_tokenize_join', 'bi_target', parameteres = {\n",
    "    'clf__criterion': ['gini', 'entropy'],\n",
    "    'clf__max_depth': [None, 2, 3, 4, 5, 6],\n",
    "    'clf__min_samples_split': [2, 5, 10],\n",
    "    'clf__min_samples_leaf': [1, 2, 3, 4, 5, 6]\n",
    "})"
   ]
  },
  {
   "cell_type": "code",
   "execution_count": null,
   "metadata": {},
   "outputs": [],
   "source": [
    "dt_bi_grid"
   ]
  },
  {
   "cell_type": "markdown",
   "metadata": {},
   "source": [
    "### Multinomial NB"
   ]
  },
  {
   "cell_type": "code",
   "execution_count": 81,
   "metadata": {},
   "outputs": [
    {
     "data": {
      "application/javascript": [
       "\n",
       "        if (window._pyforest_update_imports_cell) { window._pyforest_update_imports_cell('import numpy as np'); }\n",
       "    "
      ],
      "text/plain": [
       "<IPython.core.display.Javascript object>"
      ]
     },
     "metadata": {},
     "output_type": "display_data"
    }
   ],
   "source": [
    "nb_bi_grid = clf_grid( MultinomialNB(),df,'Reviews_tokenize_join', 'bi_target', parameteres = {'clf__alpha': np.linspace(0.5, 1.5, 6), 'clf__fit_prior': [True, False]})"
   ]
  },
  {
   "cell_type": "code",
   "execution_count": null,
   "metadata": {},
   "outputs": [],
   "source": [
    "nb_bi_grid "
   ]
  },
  {
   "cell_type": "markdown",
   "metadata": {},
   "source": [
    "### Linear Support Vector Classification"
   ]
  },
  {
   "cell_type": "code",
   "execution_count": 83,
   "metadata": {},
   "outputs": [],
   "source": [
    "svc_bi_grid = clf_grid( LinearSVC() ,df, 'Reviews_tokenize_join', 'bi_target',parameteres = {'clf__C':[0.001,0.1,10,100,10e5], 'clf__max_iter':[1000, 2000,3000]})\n",
    "                                                                                                       \n"
   ]
  },
  {
   "cell_type": "code",
   "execution_count": null,
   "metadata": {},
   "outputs": [],
   "source": [
    "svc_bi_grid"
   ]
  },
  {
   "cell_type": "markdown",
   "metadata": {},
   "source": [
    "### Random Forest Classifier"
   ]
  },
  {
   "cell_type": "code",
   "execution_count": null,
   "metadata": {},
   "outputs": [],
   "source": [
    "rf_bi_grid = clf_grid( RandomForestClassifier(),df, 'Reviews_tokenize_join', 'bi_target', parameteres = {\n",
    "#     'clf__n_estimators': [10, 30, 100],\n",
    "#     'clf__criterion': ['gini', 'entropy'],\n",
    "#     'clf__max_depth': [None, 2, 6, 10],\n",
    "#     'clf__min_samples_split': [5, 10],\n",
    "#     'clf__min_samples_leaf': [3, 6]\n",
    "# })"
   ]
  },
  {
   "cell_type": "code",
   "execution_count": 85,
   "metadata": {},
   "outputs": [],
   "source": [
    "rf_bi_grid = clf_grid( RandomForestClassifier(),df, 'Reviews_tokenize_join', 'bi_target', parameteres = {\n",
    "     'clf__n_estimators': [10, 30, 100]})"
   ]
  },
  {
   "cell_type": "code",
   "execution_count": null,
   "metadata": {},
   "outputs": [],
   "source": [
    "rf_bi_grid"
   ]
  },
  {
   "cell_type": "markdown",
   "metadata": {},
   "source": [
    "### AdaBoots"
   ]
  },
  {
   "cell_type": "code",
   "execution_count": 11,
   "metadata": {},
   "outputs": [],
   "source": [
    "ab_bi_grid = clf_grid(AdaBoostClassifier(), df, 'Reviews_tokenize_join', 'target', parameteres = {\n",
    " 'clf__n_estimators': [50, 100],\n",
    " 'clf__learning_rate' : [0.01,0.05,0.1,0.3,1],\n",
    " 'clf__loss' : ['linear', 'square', 'exponential']\n",
    " }\n",
    ")"
   ]
  },
  {
   "cell_type": "code",
   "execution_count": 12,
   "metadata": {},
   "outputs": [
    {
     "data": {
      "text/plain": [
       "{'Accuracy_score': '56.00000000000001%',\n",
       " 'Recall_score': array([0.5540275 , 0.13035714, 0.20518359, 0.32579853, 0.85710187]),\n",
       " 'Precision_score': array([0.4661157 , 0.29435484, 0.33868093, 0.44526528, 0.64765828]),\n",
       " 'F1_score': array([0.50628366, 0.18069307, 0.25554808, 0.37627696, 0.73780412]),\n",
       " 'Time': -0.0025284060000103636}"
      ]
     },
     "execution_count": 12,
     "metadata": {},
     "output_type": "execute_result"
    }
   ],
   "source": [
    "ab_bi_grid"
   ]
  },
  {
   "cell_type": "markdown",
   "metadata": {},
   "source": [
    "### Gradient_boosting\n"
   ]
  },
  {
   "cell_type": "code",
   "execution_count": 13,
   "metadata": {},
   "outputs": [],
   "source": [
    "gb_bi_grid = clf_grid(GradientBoostingClassifier(), df, 'Reviews_tokenize_join', 'target', parameteres = {'learning_rate': [0.1, 0.05, 0.02, 0.01],\n",
    "              'clf__max_depth': [4, 6, 8],\n",
    "              'clf__min_samples_leaf': [20, 50,100,150],\n",
    "              #'max_features': [1.0, 0.3, 0.1] \n",
    "              })"
   ]
  },
  {
   "cell_type": "code",
   "execution_count": 14,
   "metadata": {},
   "outputs": [
    {
     "data": {
      "text/plain": [
       "{'Accuracy_score': '56.00000000000001%',\n",
       " 'Recall_score': array([0.5540275 , 0.13035714, 0.20518359, 0.32579853, 0.85710187]),\n",
       " 'Precision_score': array([0.4661157 , 0.29435484, 0.33868093, 0.44526528, 0.64765828]),\n",
       " 'F1_score': array([0.50628366, 0.18069307, 0.25554808, 0.37627696, 0.73780412]),\n",
       " 'Time': 0.0002060620000037261}"
      ]
     },
     "execution_count": 14,
     "metadata": {},
     "output_type": "execute_result"
    }
   ],
   "source": [
    "gb_bi_grid"
   ]
  },
  {
   "cell_type": "markdown",
   "metadata": {},
   "source": [
    "### XGB\n"
   ]
  },
  {
   "cell_type": "code",
   "execution_count": 15,
   "metadata": {},
   "outputs": [],
   "source": [
    "xgb_bi_grid = clf_grid(XGBClassifier(), df, 'Reviews_tokenize_join', 'target', parameteres = {\n",
    "        'min_child_weight': [1, 5, 10],\n",
    "        'gamma': [0.5, 1, 1.5, 2, 5],\n",
    "        'subsample': [0.6, 0.8, 1.0],\n",
    "        'colsample_bytree': [0.6, 0.8, 1.0],\n",
    "        'max_depth': [3, 4, 5]\n",
    "        })"
   ]
  },
  {
   "cell_type": "code",
   "execution_count": 16,
   "metadata": {},
   "outputs": [
    {
     "data": {
      "text/plain": [
       "{'Accuracy_score': '56.00000000000001%',\n",
       " 'Recall_score': array([0.42632613, 0.0625    , 0.12850972, 0.26977887, 0.94146341]),\n",
       " 'Precision_score': array([0.54385965, 0.2892562 , 0.41319444, 0.45222405, 0.59730566]),\n",
       " 'F1_score': array([0.47797357, 0.10279001, 0.19604613, 0.33795014, 0.73089775]),\n",
       " 'Time': 0.00040448300001116877}"
      ]
     },
     "execution_count": 16,
     "metadata": {},
     "output_type": "execute_result"
    }
   ],
   "source": [
    "xgb_bi_grid"
   ]
  },
  {
   "cell_type": "code",
   "execution_count": null,
   "metadata": {},
   "outputs": [],
   "source": []
  },
  {
   "cell_type": "markdown",
   "metadata": {},
   "source": [
    "### Results Summary\n"
   ]
  },
  {
   "cell_type": "code",
   "execution_count": 86,
   "metadata": {},
   "outputs": [
    {
     "data": {
      "text/html": [
       "<div>\n",
       "<style scoped>\n",
       "    .dataframe tbody tr th:only-of-type {\n",
       "        vertical-align: middle;\n",
       "    }\n",
       "\n",
       "    .dataframe tbody tr th {\n",
       "        vertical-align: top;\n",
       "    }\n",
       "\n",
       "    .dataframe thead th {\n",
       "        text-align: right;\n",
       "    }\n",
       "</style>\n",
       "<table border=\"1\" class=\"dataframe\">\n",
       "  <thead>\n",
       "    <tr style=\"text-align: right;\">\n",
       "      <th></th>\n",
       "      <th>Accuracy_score</th>\n",
       "      <th>Time</th>\n",
       "    </tr>\n",
       "    <tr>\n",
       "      <th>Model</th>\n",
       "      <th></th>\n",
       "      <th></th>\n",
       "    </tr>\n",
       "  </thead>\n",
       "  <tbody>\n",
       "    <tr>\n",
       "      <th>Logistic Regresion</th>\n",
       "      <td>61.0%</td>\n",
       "      <td>0.003424</td>\n",
       "    </tr>\n",
       "    <tr>\n",
       "      <th>Decision Tree Classifier</th>\n",
       "      <td>46.0%</td>\n",
       "      <td>0.002859</td>\n",
       "    </tr>\n",
       "    <tr>\n",
       "      <th>Mutinomial NB</th>\n",
       "      <td>60.0%</td>\n",
       "      <td>0.002448</td>\n",
       "    </tr>\n",
       "    <tr>\n",
       "      <th>Linear Support Vector Classification</th>\n",
       "      <td>60.0%</td>\n",
       "      <td>0.002693</td>\n",
       "    </tr>\n",
       "    <tr>\n",
       "      <th>Random Forest Classifier</th>\n",
       "      <td>54.0%</td>\n",
       "      <td>0.003753</td>\n",
       "    </tr>\n",
       "  </tbody>\n",
       "</table>\n",
       "</div>"
      ],
      "text/plain": [
       "                                     Accuracy_score      Time\n",
       "Model                                                        \n",
       "Logistic Regresion                            61.0%  0.003424\n",
       "Decision Tree Classifier                      46.0%  0.002859\n",
       "Mutinomial NB                                 60.0%  0.002448\n",
       "Linear Support Vector Classification          60.0%  0.002693\n",
       "Random Forest Classifier                      54.0%  0.003753"
      ]
     },
     "execution_count": 86,
     "metadata": {},
     "output_type": "execute_result"
    }
   ],
   "source": [
    "l= [lg_bi_grid, dt_bi_grid,rf_bi_grid, ad_bi_grid,gb_bi_grid, xgb_bi_grid, svc_bi_grid, nb_bi_grid]\n",
    "df_results_bi_grid = table_results(l)\n",
    "df_results_bi_grid.loc[: , ['Accuracy_score', 'Time']]"
   ]
  },
  {
   "cell_type": "code",
   "execution_count": null,
   "metadata": {},
   "outputs": [],
   "source": [
    "df_metrix_bi_grid = unnest_df(df_results_bi)"
   ]
  },
  {
   "cell_type": "code",
   "execution_count": null,
   "metadata": {},
   "outputs": [],
   "source": []
  },
  {
   "cell_type": "code",
   "execution_count": null,
   "metadata": {},
   "outputs": [],
   "source": []
  },
  {
   "cell_type": "code",
   "execution_count": null,
   "metadata": {},
   "outputs": [],
   "source": []
  },
  {
   "cell_type": "code",
   "execution_count": null,
   "metadata": {},
   "outputs": [],
   "source": []
  },
  {
   "cell_type": "code",
   "execution_count": null,
   "metadata": {},
   "outputs": [],
   "source": [
    "X_train, X_test, y_train, y_test = train_test_split(df['Reviews_tokenize_join'] ,df['target'], test_size=0.3, random_state = 42)\n",
    "\n",
    "pipeline = Pipeline([('vect', TfidfVectorizer(ngram_range=(1, 2), stop_words=\"english\", sublinear_tf=True)),\n",
    "                     ('chi',  SelectKBest(chi2, k=10000)),\n",
    "                     ('clf', LinearSVC())])"
   ]
  },
  {
   "cell_type": "code",
   "execution_count": null,
   "metadata": {},
   "outputs": [],
   "source": []
  },
  {
   "cell_type": "code",
   "execution_count": 87,
   "metadata": {},
   "outputs": [],
   "source": [
    "parameteres = {'clf__C':[0.001,0.1,10,100,10e5], 'clf__max_iter':[1000, 2000,3000]}"
   ]
  },
  {
   "cell_type": "code",
   "execution_count": 88,
   "metadata": {},
   "outputs": [],
   "source": [
    "grid = GridSearchCV(pipeline, param_grid=parameteres, cv=5)\n"
   ]
  },
  {
   "cell_type": "code",
   "execution_count": 89,
   "metadata": {},
   "outputs": [
    {
     "name": "stderr",
     "output_type": "stream",
     "text": [
      "/anaconda3/lib/python3.7/site-packages/sklearn/svm/base.py:929: ConvergenceWarning: Liblinear failed to converge, increase the number of iterations.\n",
      "  \"the number of iterations.\", ConvergenceWarning)\n",
      "/anaconda3/lib/python3.7/site-packages/sklearn/svm/base.py:929: ConvergenceWarning: Liblinear failed to converge, increase the number of iterations.\n",
      "  \"the number of iterations.\", ConvergenceWarning)\n",
      "/anaconda3/lib/python3.7/site-packages/sklearn/svm/base.py:929: ConvergenceWarning: Liblinear failed to converge, increase the number of iterations.\n",
      "  \"the number of iterations.\", ConvergenceWarning)\n",
      "/anaconda3/lib/python3.7/site-packages/sklearn/svm/base.py:929: ConvergenceWarning: Liblinear failed to converge, increase the number of iterations.\n",
      "  \"the number of iterations.\", ConvergenceWarning)\n",
      "/anaconda3/lib/python3.7/site-packages/sklearn/svm/base.py:929: ConvergenceWarning: Liblinear failed to converge, increase the number of iterations.\n",
      "  \"the number of iterations.\", ConvergenceWarning)\n",
      "/anaconda3/lib/python3.7/site-packages/sklearn/svm/base.py:929: ConvergenceWarning: Liblinear failed to converge, increase the number of iterations.\n",
      "  \"the number of iterations.\", ConvergenceWarning)\n",
      "/anaconda3/lib/python3.7/site-packages/sklearn/svm/base.py:929: ConvergenceWarning: Liblinear failed to converge, increase the number of iterations.\n",
      "  \"the number of iterations.\", ConvergenceWarning)\n",
      "/anaconda3/lib/python3.7/site-packages/sklearn/svm/base.py:929: ConvergenceWarning: Liblinear failed to converge, increase the number of iterations.\n",
      "  \"the number of iterations.\", ConvergenceWarning)\n",
      "/anaconda3/lib/python3.7/site-packages/sklearn/svm/base.py:929: ConvergenceWarning: Liblinear failed to converge, increase the number of iterations.\n",
      "  \"the number of iterations.\", ConvergenceWarning)\n",
      "/anaconda3/lib/python3.7/site-packages/sklearn/svm/base.py:929: ConvergenceWarning: Liblinear failed to converge, increase the number of iterations.\n",
      "  \"the number of iterations.\", ConvergenceWarning)\n",
      "/anaconda3/lib/python3.7/site-packages/sklearn/svm/base.py:929: ConvergenceWarning: Liblinear failed to converge, increase the number of iterations.\n",
      "  \"the number of iterations.\", ConvergenceWarning)\n",
      "/anaconda3/lib/python3.7/site-packages/sklearn/svm/base.py:929: ConvergenceWarning: Liblinear failed to converge, increase the number of iterations.\n",
      "  \"the number of iterations.\", ConvergenceWarning)\n",
      "/anaconda3/lib/python3.7/site-packages/sklearn/svm/base.py:929: ConvergenceWarning: Liblinear failed to converge, increase the number of iterations.\n",
      "  \"the number of iterations.\", ConvergenceWarning)\n",
      "/anaconda3/lib/python3.7/site-packages/sklearn/svm/base.py:929: ConvergenceWarning: Liblinear failed to converge, increase the number of iterations.\n",
      "  \"the number of iterations.\", ConvergenceWarning)\n",
      "/anaconda3/lib/python3.7/site-packages/sklearn/svm/base.py:929: ConvergenceWarning: Liblinear failed to converge, increase the number of iterations.\n",
      "  \"the number of iterations.\", ConvergenceWarning)\n",
      "/anaconda3/lib/python3.7/site-packages/sklearn/svm/base.py:929: ConvergenceWarning: Liblinear failed to converge, increase the number of iterations.\n",
      "  \"the number of iterations.\", ConvergenceWarning)\n",
      "/anaconda3/lib/python3.7/site-packages/sklearn/svm/base.py:929: ConvergenceWarning: Liblinear failed to converge, increase the number of iterations.\n",
      "  \"the number of iterations.\", ConvergenceWarning)\n",
      "/anaconda3/lib/python3.7/site-packages/sklearn/svm/base.py:929: ConvergenceWarning: Liblinear failed to converge, increase the number of iterations.\n",
      "  \"the number of iterations.\", ConvergenceWarning)\n",
      "/anaconda3/lib/python3.7/site-packages/sklearn/svm/base.py:929: ConvergenceWarning: Liblinear failed to converge, increase the number of iterations.\n",
      "  \"the number of iterations.\", ConvergenceWarning)\n",
      "/anaconda3/lib/python3.7/site-packages/sklearn/svm/base.py:929: ConvergenceWarning: Liblinear failed to converge, increase the number of iterations.\n",
      "  \"the number of iterations.\", ConvergenceWarning)\n",
      "/anaconda3/lib/python3.7/site-packages/sklearn/svm/base.py:929: ConvergenceWarning: Liblinear failed to converge, increase the number of iterations.\n",
      "  \"the number of iterations.\", ConvergenceWarning)\n",
      "/anaconda3/lib/python3.7/site-packages/sklearn/svm/base.py:929: ConvergenceWarning: Liblinear failed to converge, increase the number of iterations.\n",
      "  \"the number of iterations.\", ConvergenceWarning)\n",
      "/anaconda3/lib/python3.7/site-packages/sklearn/svm/base.py:929: ConvergenceWarning: Liblinear failed to converge, increase the number of iterations.\n",
      "  \"the number of iterations.\", ConvergenceWarning)\n",
      "/anaconda3/lib/python3.7/site-packages/sklearn/svm/base.py:929: ConvergenceWarning: Liblinear failed to converge, increase the number of iterations.\n",
      "  \"the number of iterations.\", ConvergenceWarning)\n",
      "/anaconda3/lib/python3.7/site-packages/sklearn/svm/base.py:929: ConvergenceWarning: Liblinear failed to converge, increase the number of iterations.\n",
      "  \"the number of iterations.\", ConvergenceWarning)\n",
      "/anaconda3/lib/python3.7/site-packages/sklearn/svm/base.py:929: ConvergenceWarning: Liblinear failed to converge, increase the number of iterations.\n",
      "  \"the number of iterations.\", ConvergenceWarning)\n",
      "/anaconda3/lib/python3.7/site-packages/sklearn/svm/base.py:929: ConvergenceWarning: Liblinear failed to converge, increase the number of iterations.\n",
      "  \"the number of iterations.\", ConvergenceWarning)\n",
      "/anaconda3/lib/python3.7/site-packages/sklearn/svm/base.py:929: ConvergenceWarning: Liblinear failed to converge, increase the number of iterations.\n",
      "  \"the number of iterations.\", ConvergenceWarning)\n",
      "/anaconda3/lib/python3.7/site-packages/sklearn/svm/base.py:929: ConvergenceWarning: Liblinear failed to converge, increase the number of iterations.\n",
      "  \"the number of iterations.\", ConvergenceWarning)\n",
      "/anaconda3/lib/python3.7/site-packages/sklearn/svm/base.py:929: ConvergenceWarning: Liblinear failed to converge, increase the number of iterations.\n",
      "  \"the number of iterations.\", ConvergenceWarning)\n"
     ]
    },
    {
     "data": {
      "text/plain": [
       "GridSearchCV(cv=5, error_score='raise-deprecating',\n",
       "             estimator=Pipeline(memory=None,\n",
       "                                steps=[('vect',\n",
       "                                        TfidfVectorizer(analyzer='word',\n",
       "                                                        binary=False,\n",
       "                                                        decode_error='strict',\n",
       "                                                        dtype=<class 'numpy.float64'>,\n",
       "                                                        encoding='utf-8',\n",
       "                                                        input='content',\n",
       "                                                        lowercase=True,\n",
       "                                                        max_df=1.0,\n",
       "                                                        max_features=None,\n",
       "                                                        min_df=1,\n",
       "                                                        ngram_range=(1, 2),\n",
       "                                                        norm='l2',\n",
       "                                                        preprocessor=None,\n",
       "                                                        smooth_idf=True,\n",
       "                                                        stop_words...\n",
       "                                                  dual=True, fit_intercept=True,\n",
       "                                                  intercept_scaling=1,\n",
       "                                                  loss='squared_hinge',\n",
       "                                                  max_iter=1000,\n",
       "                                                  multi_class='ovr',\n",
       "                                                  penalty='l2',\n",
       "                                                  random_state=None, tol=0.0001,\n",
       "                                                  verbose=0))],\n",
       "                                verbose=False),\n",
       "             iid='warn', n_jobs=None,\n",
       "             param_grid={'clf__C': [0.001, 0.1, 10, 100, 1000000.0],\n",
       "                         'clf__max_iter': [1000, 2000, 3000]},\n",
       "             pre_dispatch='2*n_jobs', refit=True, return_train_score=False,\n",
       "             scoring=None, verbose=0)"
      ]
     },
     "execution_count": 89,
     "metadata": {},
     "output_type": "execute_result"
    }
   ],
   "source": [
    "grid.fit(X_train, y_train)\n"
   ]
  },
  {
   "cell_type": "code",
   "execution_count": 90,
   "metadata": {},
   "outputs": [
    {
     "name": "stdout",
     "output_type": "stream",
     "text": [
      "0.6217564870259481\n"
     ]
    }
   ],
   "source": [
    "print(grid.score(X_test,y_test))"
   ]
  },
  {
   "cell_type": "code",
   "execution_count": 91,
   "metadata": {},
   "outputs": [
    {
     "data": {
      "text/plain": [
       "{'clf__C': 0.1, 'clf__max_iter': 1000}"
      ]
     },
     "execution_count": 91,
     "metadata": {},
     "output_type": "execute_result"
    }
   ],
   "source": [
    "grid.best_params_"
   ]
  },
  {
   "cell_type": "code",
   "execution_count": 92,
   "metadata": {},
   "outputs": [
    {
     "data": {
      "application/javascript": [
       "\n",
       "        if (window._pyforest_update_imports_cell) { window._pyforest_update_imports_cell('import numpy as np'); }\n",
       "    "
      ],
      "text/plain": [
       "<IPython.core.display.Javascript object>"
      ]
     },
     "metadata": {},
     "output_type": "display_data"
    },
    {
     "name": "stdout",
     "output_type": "stream",
     "text": [
      "Mean Cross Validation Score: 56.49%\n",
      "Classier:LinearSVC(C=0.1, class_weight=None, dual=False, fit_intercept=True,\n",
      "          intercept_scaling=1, loss='squared_hinge', max_iter=1000,\n",
      "          multi_class='ovr', penalty='l1', random_state=None, tol=0.0001,\n",
      "          verbose=0) , Time: 0.0035134449990437133\n",
      "Accuracy: 0.5720558882235529\n",
      "              precision    recall  f1-score   support\n",
      "\n",
      "           1       0.52      0.49      0.50       509\n",
      "           2       0.33      0.03      0.05       560\n",
      "           3       0.35      0.12      0.17       926\n",
      "           4       0.42      0.35      0.38      2035\n",
      "           5       0.65      0.92      0.76      3485\n",
      "\n",
      "    accuracy                           0.57      7515\n",
      "   macro avg       0.45      0.38      0.37      7515\n",
      "weighted avg       0.52      0.57      0.51      7515\n",
      "\n"
     ]
    }
   ],
   "source": [
    "clf(LinearSVC(C=0.1, penalty='l1', max_iter=1000, dual=False))"
   ]
  },
  {
   "cell_type": "code",
   "execution_count": 93,
   "metadata": {},
   "outputs": [
    {
     "data": {
      "application/javascript": [
       "\n",
       "        if (window._pyforest_update_imports_cell) { window._pyforest_update_imports_cell('import numpy as np'); }\n",
       "    "
      ],
      "text/plain": [
       "<IPython.core.display.Javascript object>"
      ]
     },
     "metadata": {},
     "output_type": "display_data"
    },
    {
     "name": "stdout",
     "output_type": "stream",
     "text": [
      "Mean Cross Validation Score: 59.54%\n",
      "Classier:LinearSVC(C=0.1, class_weight=None, dual=True, fit_intercept=True,\n",
      "          intercept_scaling=1, loss='squared_hinge', max_iter=1000,\n",
      "          multi_class='ovr', penalty='l2', random_state=None, tol=0.0001,\n",
      "          verbose=0) , Time: 0.004986515999917174\n",
      "Accuracy: 0.5984031936127745\n",
      "              precision    recall  f1-score   support\n",
      "\n",
      "           1       0.55      0.61      0.57       509\n",
      "           2       0.40      0.04      0.08       560\n",
      "           3       0.40      0.23      0.29       926\n",
      "           4       0.48      0.37      0.41      2035\n",
      "           5       0.67      0.92      0.77      3485\n",
      "\n",
      "    accuracy                           0.60      7515\n",
      "   macro avg       0.50      0.43      0.43      7515\n",
      "weighted avg       0.56      0.60      0.55      7515\n",
      "\n"
     ]
    }
   ],
   "source": [
    "clf(LinearSVC(C=0.1, max_iter=1000))"
   ]
  },
  {
   "cell_type": "code",
   "execution_count": 94,
   "metadata": {},
   "outputs": [
    {
     "data": {
      "application/javascript": [
       "\n",
       "        if (window._pyforest_update_imports_cell) { window._pyforest_update_imports_cell('import numpy as np'); }\n",
       "    "
      ],
      "text/plain": [
       "<IPython.core.display.Javascript object>"
      ]
     },
     "metadata": {},
     "output_type": "display_data"
    },
    {
     "name": "stdout",
     "output_type": "stream",
     "text": [
      "Mean Cross Validation Score: 60.98%\n",
      "Classier:LinearSVC(C=1.0, class_weight=None, dual=True, fit_intercept=True,\n",
      "          intercept_scaling=1, loss='squared_hinge', max_iter=1000,\n",
      "          multi_class='ovr', penalty='l2', random_state=None, tol=0.0001,\n",
      "          verbose=0) , Time: 0.006638550999923609\n",
      "Accuracy: 0.6087824351297405\n",
      "              precision    recall  f1-score   support\n",
      "\n",
      "           1       0.54      0.59      0.56       509\n",
      "           2       0.35      0.14      0.20       560\n",
      "           3       0.40      0.36      0.38       926\n",
      "           4       0.50      0.41      0.45      2035\n",
      "           5       0.72      0.87      0.79      3485\n",
      "\n",
      "    accuracy                           0.61      7515\n",
      "   macro avg       0.50      0.47      0.48      7515\n",
      "weighted avg       0.58      0.61      0.59      7515\n",
      "\n"
     ]
    }
   ],
   "source": [
    "clf(LinearSVC())"
   ]
  },
  {
   "cell_type": "code",
   "execution_count": null,
   "metadata": {},
   "outputs": [],
   "source": []
  },
  {
   "cell_type": "code",
   "execution_count": 8,
   "metadata": {},
   "outputs": [],
   "source": [
    "model = pipeline.fit(X_train, y_train)\n"
   ]
  },
  {
   "cell_type": "code",
   "execution_count": 9,
   "metadata": {},
   "outputs": [
    {
     "name": "stdout",
     "output_type": "stream",
     "text": [
      "accuracy score: 0.6171656686626746\n"
     ]
    }
   ],
   "source": [
    "print(\"accuracy score: \" + str(model.score(X_test, y_test)))\n"
   ]
  },
  {
   "cell_type": "code",
   "execution_count": 13,
   "metadata": {},
   "outputs": [],
   "source": [
    "vectorizer = model.named_steps['vect']\n",
    "chi = model.named_steps['chi']\n",
    "clf = model.named_steps['classifier']\n"
   ]
  },
  {
   "cell_type": "code",
   "execution_count": 17,
   "metadata": {},
   "outputs": [
    {
     "data": {
      "application/javascript": [
       "\n",
       "        if (window._pyforest_update_imports_cell) { window._pyforest_update_imports_cell('import numpy as np\\nfrom sklearn.model_selection import train_test_split'); }\n",
       "    "
      ],
      "text/plain": [
       "<IPython.core.display.Javascript object>"
      ]
     },
     "metadata": {},
     "output_type": "display_data"
    },
    {
     "data": {
      "text/plain": [
       "array(['aand price', 'able coffee', 'able comfortable', 'able complain',\n",
       "       'able cook', 'able manually', 'able rebook', 'able suitcase',\n",
       "       'able text', 'able toilet'], dtype='<U28')"
      ]
     },
     "execution_count": 17,
     "metadata": {},
     "output_type": "execute_result"
    }
   ],
   "source": [
    "\n",
    "feature_names = vectorizer.get_feature_names()\n",
    "feature_names = [feature_names[i] for i in chi.get_support(indices=True)]\n",
    "feature_names = np.asarray(feature_names)\n",
    "feature_names[:10]"
   ]
  },
  {
   "cell_type": "code",
   "execution_count": 15,
   "metadata": {},
   "outputs": [
    {
     "name": "stdout",
     "output_type": "stream",
     "text": [
      "top 10 keywords per class:\n"
     ]
    },
    {
     "data": {
      "application/javascript": [
       "\n",
       "        if (window._pyforest_update_imports_cell) { window._pyforest_update_imports_cell('import numpy as np\\nfrom sklearn.model_selection import train_test_split'); }\n",
       "    "
      ],
      "text/plain": [
       "<IPython.core.display.Javascript object>"
      ]
     },
     "metadata": {},
     "output_type": "display_data"
    },
    {
     "name": "stdout",
     "output_type": "stream",
     "text": [
      "1: total cost horrible ruin uncleaned experience superb avoid cost stay away disgusting bed uncomfortable bad\n"
     ]
    },
    {
     "data": {
      "application/javascript": [
       "\n",
       "        if (window._pyforest_update_imports_cell) { window._pyforest_update_imports_cell('import numpy as np\\nfrom sklearn.model_selection import train_test_split'); }\n",
       "    "
      ],
      "text/plain": [
       "<IPython.core.display.Javascript object>"
      ]
     },
     "metadata": {},
     "output_type": "display_data"
    },
    {
     "name": "stdout",
     "output_type": "stream",
     "text": [
      "2: work leak sink didn book site like hadn rudest shoddy wasn worth soil feel dirty maze\n"
     ]
    },
    {
     "data": {
      "application/javascript": [
       "\n",
       "        if (window._pyforest_update_imports_cell) { window._pyforest_update_imports_cell('import numpy as np\\nfrom sklearn.model_selection import train_test_split'); }\n",
       "    "
      ],
      "text/plain": [
       "<IPython.core.display.Javascript object>"
      ]
     },
     "metadata": {},
     "output_type": "display_data"
    },
    {
     "name": "stdout",
     "output_type": "stream",
     "text": [
      "3: room rude average average experience worth lobby date staff tall building pro despite request problem need leave floor\n"
     ]
    },
    {
     "data": {
      "application/javascript": [
       "\n",
       "        if (window._pyforest_update_imports_cell) { window._pyforest_update_imports_cell('import numpy as np\\nfrom sklearn.model_selection import train_test_split'); }\n",
       "    "
      ],
      "text/plain": [
       "<IPython.core.display.Javascript object>"
      ]
     },
     "metadata": {},
     "output_type": "display_data"
    },
    {
     "name": "stdout",
     "output_type": "stream",
     "text": [
      "4: attend opera lobby large good reasonable overall location downside reason didn simple clean excellent right general good drawback\n"
     ]
    },
    {
     "data": {
      "application/javascript": [
       "\n",
       "        if (window._pyforest_update_imports_cell) { window._pyforest_update_imports_cell('import numpy as np\\nfrom sklearn.model_selection import train_test_split'); }\n",
       "    "
      ],
      "text/plain": [
       "<IPython.core.display.Javascript object>"
      ]
     },
     "metadata": {},
     "output_type": "display_data"
    },
    {
     "name": "stdout",
     "output_type": "stream",
     "text": [
      "5: perfect love worth penny andrew grateful absolutely stay emanuel exceed impressed overall excellent\n"
     ]
    }
   ],
   "source": [
    "target_names = ['1', '2', '3', '4', '5']\n",
    "print(\"top 10 keywords per class:\")\n",
    "for i, label in enumerate(target_names):\n",
    "    top10 = np.argsort(clf.coef_[i])[-10:]\n",
    "    print(\"%s: %s\" % (label, \" \".join(feature_names[top10])))"
   ]
  },
  {
   "cell_type": "code",
   "execution_count": null,
   "metadata": {},
   "outputs": [],
   "source": [
    "## limpiar la data quetar names como did"
   ]
  },
  {
   "cell_type": "code",
   "execution_count": null,
   "metadata": {},
   "outputs": [],
   "source": []
  }
 ],
 "metadata": {
  "kernelspec": {
   "display_name": "Python 3",
   "language": "python",
   "name": "python3"
  },
  "language_info": {
   "codemirror_mode": {
    "name": "ipython",
    "version": 3
   },
   "file_extension": ".py",
   "mimetype": "text/x-python",
   "name": "python",
   "nbconvert_exporter": "python",
   "pygments_lexer": "ipython3",
   "version": "3.7.3"
  }
 },
 "nbformat": 4,
 "nbformat_minor": 2
}
