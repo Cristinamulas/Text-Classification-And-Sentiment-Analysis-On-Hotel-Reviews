{
 "cells": [
  {
   "cell_type": "markdown",
   "metadata": {},
   "source": [
    "# Modelling"
   ]
  },
  {
   "cell_type": "markdown",
   "metadata": {},
   "source": [
    "This notebook contains model training, data engineering and selection processes.\n",
    "\n"
   ]
  },
  {
   "cell_type": "markdown",
   "metadata": {},
   "source": [
    "### Import Necessary Libraries"
   ]
  },
  {
   "cell_type": "code",
   "execution_count": 1,
   "metadata": {},
   "outputs": [],
   "source": [
    "import pandas as pd\n",
    "from sklearn.feature_extraction.text import TfidfVectorizer\n",
    "from sklearn.pipeline import Pipeline\n",
    "from sklearn.model_selection import train_test_split, GridSearchCV, cross_val_score\n",
    "from sklearn.feature_selection import SelectKBest, chi2\n",
    "from sklearn.metrics import precision_score, recall_score, accuracy_score, f1_score, confusion_matrix\n",
    "from sklearn.metrics import classification_report\n",
    "\n",
    "from sklearn.linear_model import LogisticRegression\n",
    "from sklearn.tree import DecisionTreeClassifier\n",
    "from sklearn.linear_model import SGDClassifier\n",
    "\n",
    "from sklearn.ensemble import RandomForestClassifier\n",
    "from sklearn.ensemble import AdaBoostClassifier, GradientBoostingClassifier\n",
    "from xgboost import XGBClassifier\n",
    "\n",
    "from sklearn.naive_bayes import MultinomialNB\n",
    "from sklearn.svm import LinearSVC\n",
    "\n",
    "\n",
    "import timeit\n",
    "import warnings\n",
    "warnings.filterwarnings(\"ignore\")\n",
    "\n",
    "from functions import *"
   ]
  },
  {
   "cell_type": "markdown",
   "metadata": {},
   "source": [
    "### Load dfs"
   ]
  },
  {
   "cell_type": "code",
   "execution_count": 89,
   "metadata": {},
   "outputs": [
    {
     "data": {
      "text/html": [
       "<div>\n",
       "<style scoped>\n",
       "    .dataframe tbody tr th:only-of-type {\n",
       "        vertical-align: middle;\n",
       "    }\n",
       "\n",
       "    .dataframe tbody tr th {\n",
       "        vertical-align: top;\n",
       "    }\n",
       "\n",
       "    .dataframe thead th {\n",
       "        text-align: right;\n",
       "    }\n",
       "</style>\n",
       "<table border=\"1\" class=\"dataframe\">\n",
       "  <thead>\n",
       "    <tr style=\"text-align: right;\">\n",
       "      <th></th>\n",
       "      <th>review_rating</th>\n",
       "      <th>Reviews_tokenize_join</th>\n",
       "    </tr>\n",
       "  </thead>\n",
       "  <tbody>\n",
       "    <tr>\n",
       "      <th>0</th>\n",
       "      <td>1</td>\n",
       "      <td>start say understand hard time city country en...</td>\n",
       "    </tr>\n",
       "    <tr>\n",
       "      <th>1</th>\n",
       "      <td>5</td>\n",
       "      <td>wonderful visit time park view thank upgrade l...</td>\n",
       "    </tr>\n",
       "    <tr>\n",
       "      <th>2</th>\n",
       "      <td>5</td>\n",
       "      <td>good hotel stay absolutely worth money view ce...</td>\n",
       "    </tr>\n",
       "    <tr>\n",
       "      <th>3</th>\n",
       "      <td>5</td>\n",
       "      <td>fantastic location spot step central park view...</td>\n",
       "    </tr>\n",
       "    <tr>\n",
       "      <th>4</th>\n",
       "      <td>5</td>\n",
       "      <td>amazing park view nicole staff professional fr...</td>\n",
       "    </tr>\n",
       "  </tbody>\n",
       "</table>\n",
       "</div>"
      ],
      "text/plain": [
       "   review_rating                              Reviews_tokenize_join\n",
       "0              1  start say understand hard time city country en...\n",
       "1              5  wonderful visit time park view thank upgrade l...\n",
       "2              5  good hotel stay absolutely worth money view ce...\n",
       "3              5  fantastic location spot step central park view...\n",
       "4              5  amazing park view nicole staff professional fr..."
      ]
     },
     "execution_count": 89,
     "metadata": {},
     "output_type": "execute_result"
    }
   ],
   "source": [
    "# import libraries form csv files into pandas df\n",
    "df = pd.read_csv('data_for_model.csv', usecols = ['review_rating' , 'Reviews_tokenize_join'])\n",
    "df.head()"
   ]
  },
  {
   "cell_type": "code",
   "execution_count": 3,
   "metadata": {},
   "outputs": [],
   "source": [
    "# optimazation memory by converting the review_rating to category\n",
    "df['target'] = df['review_rating'].astype('category')"
   ]
  },
  {
   "cell_type": "code",
   "execution_count": 88,
   "metadata": {},
   "outputs": [
    {
     "data": {
      "text/plain": [
       "<matplotlib.axes._subplots.AxesSubplot at 0x1a16a3da58>"
      ]
     },
     "execution_count": 88,
     "metadata": {},
     "output_type": "execute_result"
    },
    {
     "data": {
      "image/png": "[encoded data removed]",
      "text/plain": [
       "<Figure size 432x288 with 1 Axes>"
      ]
     },
     "metadata": {
      "needs_background": "light"
     },
     "output_type": "display_data"
    }
   ],
   "source": [
    "# plot\n",
    "df['review_rating'].plot.hist(bins=12, alpha=0.5)"
   ]
  },
  {
   "cell_type": "code",
   "execution_count": 5,
   "metadata": {},
   "outputs": [
    {
     "data": {
      "text/plain": [
       "5    0.474172\n",
       "4    0.264351\n",
       "3    0.122715\n",
       "1    0.069501\n",
       "2    0.069261\n",
       "Name: target, dtype: float64"
      ]
     },
     "execution_count": 5,
     "metadata": {},
     "output_type": "execute_result"
    }
   ],
   "source": [
    "\n",
    "df['target'].value_counts(normalize = True)\n"
   ]
  },
  {
   "cell_type": "code",
   "execution_count": 6,
   "metadata": {},
   "outputs": [],
   "source": [
    "#df.info()\n",
    "# df['target'] = df['review_rating'].apply(lambda x: str(x))"
   ]
  },
  {
   "cell_type": "code",
   "execution_count": 22,
   "metadata": {},
   "outputs": [],
   "source": [
    "# df['target'] = df['review_rating'].astype('category')"
   ]
  },
  {
   "cell_type": "code",
   "execution_count": 7,
   "metadata": {},
   "outputs": [
    {
     "name": "stdout",
     "output_type": "stream",
     "text": [
      "<class 'pandas.core.frame.DataFrame'>\n",
      "RangeIndex: 25050 entries, 0 to 25049\n",
      "Data columns (total 3 columns):\n",
      " #   Column                 Non-Null Count  Dtype   \n",
      "---  ------                 --------------  -----   \n",
      " 0   review_rating          25050 non-null  int64   \n",
      " 1   Reviews_tokenize_join  25050 non-null  object  \n",
      " 2   target                 25050 non-null  category\n",
      "dtypes: category(1), int64(1), object(1)\n",
      "memory usage: 416.2+ KB\n"
     ]
    },
    {
     "data": {
      "text/html": [
       "<div>\n",
       "<style scoped>\n",
       "    .dataframe tbody tr th:only-of-type {\n",
       "        vertical-align: middle;\n",
       "    }\n",
       "\n",
       "    .dataframe tbody tr th {\n",
       "        vertical-align: top;\n",
       "    }\n",
       "\n",
       "    .dataframe thead th {\n",
       "        text-align: right;\n",
       "    }\n",
       "</style>\n",
       "<table border=\"1\" class=\"dataframe\">\n",
       "  <thead>\n",
       "    <tr style=\"text-align: right;\">\n",
       "      <th></th>\n",
       "      <th>review_rating</th>\n",
       "      <th>Reviews_tokenize_join</th>\n",
       "      <th>target</th>\n",
       "    </tr>\n",
       "  </thead>\n",
       "  <tbody>\n",
       "    <tr>\n",
       "      <th>0</th>\n",
       "      <td>1</td>\n",
       "      <td>start say understand hard time city country en...</td>\n",
       "      <td>1</td>\n",
       "    </tr>\n",
       "    <tr>\n",
       "      <th>1</th>\n",
       "      <td>5</td>\n",
       "      <td>wonderful visit time park view thank upgrade l...</td>\n",
       "      <td>5</td>\n",
       "    </tr>\n",
       "    <tr>\n",
       "      <th>2</th>\n",
       "      <td>5</td>\n",
       "      <td>good hotel stay absolutely worth money view ce...</td>\n",
       "      <td>5</td>\n",
       "    </tr>\n",
       "    <tr>\n",
       "      <th>3</th>\n",
       "      <td>5</td>\n",
       "      <td>fantastic location spot step central park view...</td>\n",
       "      <td>5</td>\n",
       "    </tr>\n",
       "    <tr>\n",
       "      <th>4</th>\n",
       "      <td>5</td>\n",
       "      <td>amazing park view nicole staff professional fr...</td>\n",
       "      <td>5</td>\n",
       "    </tr>\n",
       "  </tbody>\n",
       "</table>\n",
       "</div>"
      ],
      "text/plain": [
       "   review_rating                              Reviews_tokenize_join target\n",
       "0              1  start say understand hard time city country en...      1\n",
       "1              5  wonderful visit time park view thank upgrade l...      5\n",
       "2              5  good hotel stay absolutely worth money view ce...      5\n",
       "3              5  fantastic location spot step central park view...      5\n",
       "4              5  amazing park view nicole staff professional fr...      5"
      ]
     },
     "execution_count": 7,
     "metadata": {},
     "output_type": "execute_result"
    }
   ],
   "source": [
    "df.info()\n",
    "df.head()"
   ]
  },
  {
   "cell_type": "markdown",
   "metadata": {},
   "source": [
    "## Data Engineering and Modelling\n",
    "\n"
   ]
  },
  {
   "cell_type": "markdown",
   "metadata": {},
   "source": [
    "\n",
    "I am going to implement different classifiers to see which works best:\n",
    "\n",
    "- Logistic Regression\n",
    "- Decision Tree\n",
    "- Random Forest\n",
    "- Linear Support Vector Classification\n",
    "- Multinomial Naive Bayes"
   ]
  },
  {
   "cell_type": "code",
   "execution_count": 11,
   "metadata": {},
   "outputs": [],
   "source": [
    "# def clf(model ,col1,col):\n",
    "#     start = timeit.timeit()\n",
    "#     \"\"\"It takes two columns and a classifier, split the data into traing and testing, vectorize it, remove irrlevant features using and implemnt a ca\n",
    "#     classifier using a pipeline, return a dictionary with accuracy, precions and recall f_1 socre and running time\"\"\"\n",
    "\n",
    "#     X_train, X_test, y_train, y_test = train_test_split(df[col1], df[col] , test_size=0.3, random_state = 42)\n",
    "\n",
    "#     classification_model = Pipeline([('vect', TfidfVectorizer(ngram_range=(1, 2), stop_words=\"english\", sublinear_tf=True)),\n",
    "#                          ('chi',  SelectKBest(chi2, k=10000)),\n",
    "#                    ('clf', model)])\n",
    "\n",
    "#     classification_model.fit(X_train, y_train)\n",
    "    \n",
    "#     preds = classification_model.predict(X_test)\n",
    "#     end = timeit.timeit()\n",
    "#     final_time = start - end\n",
    "\n",
    "#     list_names = ['Model','Accuracy_score','Recall_score','Precision_score','F1_score', 'Time']\n",
    "#     score_list = []\n",
    "#     accuracy = accuracy_score(y_test, preds)\n",
    "#     recall = recall_score(y_test, preds,average=None, pos_label='Good')\n",
    "#     precision = precision_score(y_test, preds,average=None, pos_label='Good')\n",
    "#     f_1 = f1_score(y_test , preds,average=None, pos_label='Good')\n",
    "#     final_time = start - end\n",
    "\n",
    "#     score_list.extend([model,accuracy,recall,precision,f_1,final_time])\n",
    "#     dictionary = dict(zip(list_names, score_list))\n",
    "#     return dictionary"
   ]
  },
  {
   "cell_type": "markdown",
   "metadata": {},
   "source": [
    "### Logistic Regresion "
   ]
  },
  {
   "cell_type": "code",
   "execution_count": 6,
   "metadata": {},
   "outputs": [],
   "source": [
    "lg_multi_class = clf(LogisticRegression() , df ,'Reviews_tokenize_join', 'target')\n"
   ]
  },
  {
   "cell_type": "code",
   "execution_count": 7,
   "metadata": {},
   "outputs": [
    {
     "data": {
      "text/plain": [
       "{'Accuracy_score': '60.0%',\n",
       " 'Recall_score': array([0.54420432, 0.03214286, 0.24946004, 0.39164619, 0.90588235]),\n",
       " 'Precision_score': array([0.57708333, 0.3       , 0.37806874, 0.47412255, 0.67414051]),\n",
       " 'F1_score': array([0.56016178, 0.05806452, 0.30058556, 0.42895587, 0.77301665]),\n",
       " 'Time': 0.0037921830000016143}"
      ]
     },
     "execution_count": 7,
     "metadata": {},
     "output_type": "execute_result"
    }
   ],
   "source": [
    "lg_multi_class"
   ]
  },
  {
   "cell_type": "markdown",
   "metadata": {},
   "source": [
    "### Mutinomial NB"
   ]
  },
  {
   "cell_type": "code",
   "execution_count": 8,
   "metadata": {},
   "outputs": [],
   "source": [
    "nb_multi_class = clf(MultinomialNB(), df, 'Reviews_tokenize_join', 'target')"
   ]
  },
  {
   "cell_type": "code",
   "execution_count": 9,
   "metadata": {},
   "outputs": [
    {
     "data": {
      "text/plain": [
       "{'Accuracy_score': '47.0%',\n",
       " 'Recall_score': array([0.01178782, 0.        , 0.00647948, 0.03587224, 0.99827834]),\n",
       " 'Precision_score': array([1.        , 0.        , 0.09230769, 0.11908646, 0.50929586]),\n",
       " 'F1_score': array([0.02330097, 0.        , 0.01210898, 0.05513595, 0.67448623]),\n",
       " 'Time': 0.0037687210000001414}"
      ]
     },
     "execution_count": 9,
     "metadata": {},
     "output_type": "execute_result"
    }
   ],
   "source": [
    "nb_multi_class"
   ]
  },
  {
   "cell_type": "markdown",
   "metadata": {},
   "source": [
    "### Decision Tree Classifier"
   ]
  },
  {
   "cell_type": "code",
   "execution_count": 10,
   "metadata": {},
   "outputs": [],
   "source": [
    "dt_multi_class = clf(DecisionTreeClassifier(), df, 'Reviews_tokenize_join', 'target')"
   ]
  },
  {
   "cell_type": "code",
   "execution_count": 11,
   "metadata": {},
   "outputs": [
    {
     "data": {
      "text/plain": [
       "{'Accuracy_score': '46.0%',\n",
       " 'Recall_score': array([0.32612967, 0.14107143, 0.2300216 , 0.35724816, 0.64677188]),\n",
       " 'Precision_score': array([0.38337182, 0.22253521, 0.23692992, 0.33641832, 0.61467139]),\n",
       " 'F1_score': array([0.35244161, 0.1726776 , 0.23342466, 0.3465205 , 0.6303132 ]),\n",
       " 'Time': 0.001065730000000542}"
      ]
     },
     "execution_count": 11,
     "metadata": {},
     "output_type": "execute_result"
    }
   ],
   "source": [
    "dt_multi_class"
   ]
  },
  {
   "cell_type": "markdown",
   "metadata": {},
   "source": [
    "### AdaBoots"
   ]
  },
  {
   "cell_type": "code",
   "execution_count": 15,
   "metadata": {},
   "outputs": [],
   "source": [
    "# clf(SGDClassifier())"
   ]
  },
  {
   "cell_type": "code",
   "execution_count": 16,
   "metadata": {},
   "outputs": [],
   "source": [
    "# with cross validation\n",
    "# clf(SGDClassifier(loss='hinge', penalty='l2',alpha=1e-3, random_state=42, max_iter=5, tol=None))"
   ]
  },
  {
   "cell_type": "code",
   "execution_count": 17,
   "metadata": {},
   "outputs": [],
   "source": [
    "# clf(SGDClassifier(loss='hinge', penalty='l2',alpha=1e-3, random_state=42, max_iter=5, tol=None))"
   ]
  },
  {
   "cell_type": "markdown",
   "metadata": {},
   "source": [
    "### Linear Support Vector Classification"
   ]
  },
  {
   "cell_type": "code",
   "execution_count": 12,
   "metadata": {},
   "outputs": [],
   "source": [
    "svc_multi_class = clf(LinearSVC(),df, 'Reviews_tokenize_join', 'target')"
   ]
  },
  {
   "cell_type": "code",
   "execution_count": 13,
   "metadata": {},
   "outputs": [
    {
     "data": {
      "text/plain": [
       "{'Accuracy_score': '61.0%',\n",
       " 'Recall_score': array([0.58742633, 0.14464286, 0.35529158, 0.40884521, 0.87058824]),\n",
       " 'Precision_score': array([0.53680431, 0.34913793, 0.40220049, 0.49701314, 0.71658007]),\n",
       " 'F1_score': array([0.56097561, 0.20454545, 0.37729358, 0.44863845, 0.78611219]),\n",
       " 'Time': 0.00391733600000066}"
      ]
     },
     "execution_count": 13,
     "metadata": {},
     "output_type": "execute_result"
    }
   ],
   "source": [
    "svc_multi_class"
   ]
  },
  {
   "cell_type": "markdown",
   "metadata": {},
   "source": [
    "### Random Forest Classifier"
   ]
  },
  {
   "cell_type": "code",
   "execution_count": 14,
   "metadata": {},
   "outputs": [],
   "source": [
    "rf_multi_class = clf(RandomForestClassifier(),df, 'Reviews_tokenize_join', 'target')"
   ]
  },
  {
   "cell_type": "code",
   "execution_count": 17,
   "metadata": {},
   "outputs": [
    {
     "data": {
      "text/plain": [
       "{'Accuracy_score': '52.0%',\n",
       " 'Recall_score': array([0.30451866, 0.08928571, 0.18034557, 0.34643735, 0.8169297 ]),\n",
       " 'Precision_score': array([0.46546547, 0.35460993, 0.29246935, 0.36471805, 0.62750716]),\n",
       " 'F1_score': array([0.36817102, 0.14265335, 0.22311289, 0.35534274, 0.70979806]),\n",
       " 'Time': 0.00047052500002564557}"
      ]
     },
     "execution_count": 17,
     "metadata": {},
     "output_type": "execute_result"
    }
   ],
   "source": [
    "rf_multi_class "
   ]
  },
  {
   "cell_type": "markdown",
   "metadata": {},
   "source": [
    "### Results Summary\n"
   ]
  },
  {
   "cell_type": "code",
   "execution_count": 33,
   "metadata": {},
   "outputs": [
    {
     "data": {
      "text/html": [
       "<div>\n",
       "<style scoped>\n",
       "    .dataframe tbody tr th:only-of-type {\n",
       "        vertical-align: middle;\n",
       "    }\n",
       "\n",
       "    .dataframe tbody tr th {\n",
       "        vertical-align: top;\n",
       "    }\n",
       "\n",
       "    .dataframe thead th {\n",
       "        text-align: right;\n",
       "    }\n",
       "</style>\n",
       "<table border=\"1\" class=\"dataframe\">\n",
       "  <thead>\n",
       "    <tr style=\"text-align: right;\">\n",
       "      <th></th>\n",
       "      <th>Accuracy_score</th>\n",
       "      <th>Time</th>\n",
       "    </tr>\n",
       "    <tr>\n",
       "      <th>Model</th>\n",
       "      <th></th>\n",
       "      <th></th>\n",
       "    </tr>\n",
       "  </thead>\n",
       "  <tbody>\n",
       "    <tr>\n",
       "      <th>Logistic Regresion</th>\n",
       "      <td>60.0%</td>\n",
       "      <td>0.003792</td>\n",
       "    </tr>\n",
       "    <tr>\n",
       "      <th>Decision Tree Classifier</th>\n",
       "      <td>46.0%</td>\n",
       "      <td>0.001066</td>\n",
       "    </tr>\n",
       "    <tr>\n",
       "      <th>Mutinomial NB</th>\n",
       "      <td>47.0%</td>\n",
       "      <td>0.003769</td>\n",
       "    </tr>\n",
       "    <tr>\n",
       "      <th>Linear Support Vector Classification</th>\n",
       "      <td>61.0%</td>\n",
       "      <td>0.003917</td>\n",
       "    </tr>\n",
       "    <tr>\n",
       "      <th>Random Forest Classifier</th>\n",
       "      <td>53.0%</td>\n",
       "      <td>0.003254</td>\n",
       "    </tr>\n",
       "  </tbody>\n",
       "</table>\n",
       "</div>"
      ],
      "text/plain": [
       "                                     Accuracy_score      Time\n",
       "Model                                                        \n",
       "Logistic Regresion                            60.0%  0.003792\n",
       "Decision Tree Classifier                      46.0%  0.001066\n",
       "Mutinomial NB                                 47.0%  0.003769\n",
       "Linear Support Vector Classification          61.0%  0.003917\n",
       "Random Forest Classifier                      53.0%  0.003254"
      ]
     },
     "execution_count": 33,
     "metadata": {},
     "output_type": "execute_result"
    }
   ],
   "source": [
    "l= [lg_multi_class, dt_multi_class, nb_multi_class , svc_multi_class, rf_multi_class ]\n",
    "df_results_multi = table_results(l)\n",
    "df_results_multi.loc[: , ['Accuracy_score', 'Time']]"
   ]
  },
  {
   "cell_type": "code",
   "execution_count": 87,
   "metadata": {},
   "outputs": [
    {
     "data": {
      "text/html": [
       "<div>\n",
       "<style scoped>\n",
       "    .dataframe tbody tr th:only-of-type {\n",
       "        vertical-align: middle;\n",
       "    }\n",
       "\n",
       "    .dataframe tbody tr th {\n",
       "        vertical-align: top;\n",
       "    }\n",
       "\n",
       "    .dataframe thead th {\n",
       "        text-align: right;\n",
       "    }\n",
       "</style>\n",
       "<table border=\"1\" class=\"dataframe\">\n",
       "  <thead>\n",
       "    <tr style=\"text-align: right;\">\n",
       "      <th></th>\n",
       "      <th>Recall_score</th>\n",
       "      <th>Precision_score</th>\n",
       "      <th>F1_score</th>\n",
       "      <th>target_class</th>\n",
       "      <th>model</th>\n",
       "    </tr>\n",
       "  </thead>\n",
       "  <tbody>\n",
       "    <tr>\n",
       "      <th>0</th>\n",
       "      <td>0.544204</td>\n",
       "      <td>0.577083</td>\n",
       "      <td>0.560162</td>\n",
       "      <td>1</td>\n",
       "      <td>Logistic Regresion</td>\n",
       "    </tr>\n",
       "    <tr>\n",
       "      <th>1</th>\n",
       "      <td>0.032143</td>\n",
       "      <td>0.300000</td>\n",
       "      <td>0.058065</td>\n",
       "      <td>2</td>\n",
       "      <td>Logistic Regresion</td>\n",
       "    </tr>\n",
       "    <tr>\n",
       "      <th>2</th>\n",
       "      <td>0.249460</td>\n",
       "      <td>0.378069</td>\n",
       "      <td>0.300586</td>\n",
       "      <td>3</td>\n",
       "      <td>Logistic Regresion</td>\n",
       "    </tr>\n",
       "    <tr>\n",
       "      <th>3</th>\n",
       "      <td>0.391646</td>\n",
       "      <td>0.474123</td>\n",
       "      <td>0.428956</td>\n",
       "      <td>4</td>\n",
       "      <td>Logistic Regresion</td>\n",
       "    </tr>\n",
       "    <tr>\n",
       "      <th>4</th>\n",
       "      <td>0.905882</td>\n",
       "      <td>0.674141</td>\n",
       "      <td>0.773017</td>\n",
       "      <td>5</td>\n",
       "      <td>Logistic Regresion</td>\n",
       "    </tr>\n",
       "    <tr>\n",
       "      <th>5</th>\n",
       "      <td>0.326130</td>\n",
       "      <td>0.383372</td>\n",
       "      <td>0.352442</td>\n",
       "      <td>1</td>\n",
       "      <td>Decision Tree Classifier</td>\n",
       "    </tr>\n",
       "    <tr>\n",
       "      <th>6</th>\n",
       "      <td>0.141071</td>\n",
       "      <td>0.222535</td>\n",
       "      <td>0.172678</td>\n",
       "      <td>2</td>\n",
       "      <td>Decision Tree Classifier</td>\n",
       "    </tr>\n",
       "    <tr>\n",
       "      <th>7</th>\n",
       "      <td>0.230022</td>\n",
       "      <td>0.236930</td>\n",
       "      <td>0.233425</td>\n",
       "      <td>3</td>\n",
       "      <td>Decision Tree Classifier</td>\n",
       "    </tr>\n",
       "    <tr>\n",
       "      <th>8</th>\n",
       "      <td>0.357248</td>\n",
       "      <td>0.336418</td>\n",
       "      <td>0.346520</td>\n",
       "      <td>4</td>\n",
       "      <td>Decision Tree Classifier</td>\n",
       "    </tr>\n",
       "    <tr>\n",
       "      <th>9</th>\n",
       "      <td>0.646772</td>\n",
       "      <td>0.614671</td>\n",
       "      <td>0.630313</td>\n",
       "      <td>5</td>\n",
       "      <td>Decision Tree Classifier</td>\n",
       "    </tr>\n",
       "    <tr>\n",
       "      <th>10</th>\n",
       "      <td>0.011788</td>\n",
       "      <td>1.000000</td>\n",
       "      <td>0.023301</td>\n",
       "      <td>1</td>\n",
       "      <td>Mutinomial NB</td>\n",
       "    </tr>\n",
       "    <tr>\n",
       "      <th>11</th>\n",
       "      <td>0.000000</td>\n",
       "      <td>0.000000</td>\n",
       "      <td>0.000000</td>\n",
       "      <td>2</td>\n",
       "      <td>Mutinomial NB</td>\n",
       "    </tr>\n",
       "    <tr>\n",
       "      <th>12</th>\n",
       "      <td>0.006479</td>\n",
       "      <td>0.092308</td>\n",
       "      <td>0.012109</td>\n",
       "      <td>3</td>\n",
       "      <td>Mutinomial NB</td>\n",
       "    </tr>\n",
       "    <tr>\n",
       "      <th>13</th>\n",
       "      <td>0.035872</td>\n",
       "      <td>0.119086</td>\n",
       "      <td>0.055136</td>\n",
       "      <td>4</td>\n",
       "      <td>Mutinomial NB</td>\n",
       "    </tr>\n",
       "    <tr>\n",
       "      <th>14</th>\n",
       "      <td>0.998278</td>\n",
       "      <td>0.509296</td>\n",
       "      <td>0.674486</td>\n",
       "      <td>5</td>\n",
       "      <td>Mutinomial NB</td>\n",
       "    </tr>\n",
       "    <tr>\n",
       "      <th>15</th>\n",
       "      <td>0.587426</td>\n",
       "      <td>0.536804</td>\n",
       "      <td>0.560976</td>\n",
       "      <td>1</td>\n",
       "      <td>Linear Support Vector Classification</td>\n",
       "    </tr>\n",
       "    <tr>\n",
       "      <th>16</th>\n",
       "      <td>0.144643</td>\n",
       "      <td>0.349138</td>\n",
       "      <td>0.204545</td>\n",
       "      <td>2</td>\n",
       "      <td>Linear Support Vector Classification</td>\n",
       "    </tr>\n",
       "    <tr>\n",
       "      <th>17</th>\n",
       "      <td>0.355292</td>\n",
       "      <td>0.402200</td>\n",
       "      <td>0.377294</td>\n",
       "      <td>3</td>\n",
       "      <td>Linear Support Vector Classification</td>\n",
       "    </tr>\n",
       "    <tr>\n",
       "      <th>18</th>\n",
       "      <td>0.408845</td>\n",
       "      <td>0.497013</td>\n",
       "      <td>0.448638</td>\n",
       "      <td>4</td>\n",
       "      <td>Linear Support Vector Classification</td>\n",
       "    </tr>\n",
       "    <tr>\n",
       "      <th>19</th>\n",
       "      <td>0.870588</td>\n",
       "      <td>0.716580</td>\n",
       "      <td>0.786112</td>\n",
       "      <td>5</td>\n",
       "      <td>Linear Support Vector Classification</td>\n",
       "    </tr>\n",
       "    <tr>\n",
       "      <th>20</th>\n",
       "      <td>0.302554</td>\n",
       "      <td>0.482759</td>\n",
       "      <td>0.371981</td>\n",
       "      <td>1</td>\n",
       "      <td>Random Forest Classifier</td>\n",
       "    </tr>\n",
       "    <tr>\n",
       "      <th>21</th>\n",
       "      <td>0.103571</td>\n",
       "      <td>0.351515</td>\n",
       "      <td>0.160000</td>\n",
       "      <td>2</td>\n",
       "      <td>Random Forest Classifier</td>\n",
       "    </tr>\n",
       "    <tr>\n",
       "      <th>22</th>\n",
       "      <td>0.171706</td>\n",
       "      <td>0.304598</td>\n",
       "      <td>0.219613</td>\n",
       "      <td>3</td>\n",
       "      <td>Random Forest Classifier</td>\n",
       "    </tr>\n",
       "    <tr>\n",
       "      <th>23</th>\n",
       "      <td>0.368059</td>\n",
       "      <td>0.393796</td>\n",
       "      <td>0.380493</td>\n",
       "      <td>4</td>\n",
       "      <td>Random Forest Classifier</td>\n",
       "    </tr>\n",
       "    <tr>\n",
       "      <th>24</th>\n",
       "      <td>0.818364</td>\n",
       "      <td>0.619058</td>\n",
       "      <td>0.704894</td>\n",
       "      <td>5</td>\n",
       "      <td>Random Forest Classifier</td>\n",
       "    </tr>\n",
       "  </tbody>\n",
       "</table>\n",
       "</div>"
      ],
      "text/plain": [
       "    Recall_score  Precision_score  F1_score  target_class  \\\n",
       "0       0.544204         0.577083  0.560162             1   \n",
       "1       0.032143         0.300000  0.058065             2   \n",
       "2       0.249460         0.378069  0.300586             3   \n",
       "3       0.391646         0.474123  0.428956             4   \n",
       "4       0.905882         0.674141  0.773017             5   \n",
       "5       0.326130         0.383372  0.352442             1   \n",
       "6       0.141071         0.222535  0.172678             2   \n",
       "7       0.230022         0.236930  0.233425             3   \n",
       "8       0.357248         0.336418  0.346520             4   \n",
       "9       0.646772         0.614671  0.630313             5   \n",
       "10      0.011788         1.000000  0.023301             1   \n",
       "11      0.000000         0.000000  0.000000             2   \n",
       "12      0.006479         0.092308  0.012109             3   \n",
       "13      0.035872         0.119086  0.055136             4   \n",
       "14      0.998278         0.509296  0.674486             5   \n",
       "15      0.587426         0.536804  0.560976             1   \n",
       "16      0.144643         0.349138  0.204545             2   \n",
       "17      0.355292         0.402200  0.377294             3   \n",
       "18      0.408845         0.497013  0.448638             4   \n",
       "19      0.870588         0.716580  0.786112             5   \n",
       "20      0.302554         0.482759  0.371981             1   \n",
       "21      0.103571         0.351515  0.160000             2   \n",
       "22      0.171706         0.304598  0.219613             3   \n",
       "23      0.368059         0.393796  0.380493             4   \n",
       "24      0.818364         0.619058  0.704894             5   \n",
       "\n",
       "                                   model  \n",
       "0                     Logistic Regresion  \n",
       "1                     Logistic Regresion  \n",
       "2                     Logistic Regresion  \n",
       "3                     Logistic Regresion  \n",
       "4                     Logistic Regresion  \n",
       "5               Decision Tree Classifier  \n",
       "6               Decision Tree Classifier  \n",
       "7               Decision Tree Classifier  \n",
       "8               Decision Tree Classifier  \n",
       "9               Decision Tree Classifier  \n",
       "10                         Mutinomial NB  \n",
       "11                         Mutinomial NB  \n",
       "12                         Mutinomial NB  \n",
       "13                         Mutinomial NB  \n",
       "14                         Mutinomial NB  \n",
       "15  Linear Support Vector Classification  \n",
       "16  Linear Support Vector Classification  \n",
       "17  Linear Support Vector Classification  \n",
       "18  Linear Support Vector Classification  \n",
       "19  Linear Support Vector Classification  \n",
       "20              Random Forest Classifier  \n",
       "21              Random Forest Classifier  \n",
       "22              Random Forest Classifier  \n",
       "23              Random Forest Classifier  \n",
       "24              Random Forest Classifier  "
      ]
     },
     "execution_count": 87,
     "metadata": {},
     "output_type": "execute_result"
    }
   ],
   "source": [
    "df_metrix_multi = unnest_df(df_results_multi)\n",
    "df_metrix_multi"
   ]
  },
  {
   "cell_type": "markdown",
   "metadata": {},
   "source": [
    "## Hyperparameters tunning in classifiers"
   ]
  },
  {
   "cell_type": "markdown",
   "metadata": {},
   "source": [
    "### Logistic Regresion with GridSearchCV "
   ]
  },
  {
   "cell_type": "code",
   "execution_count": 19,
   "metadata": {},
   "outputs": [],
   "source": [
    "lg_multi_grid = clf_grid(LogisticRegression(),df ,'Reviews_tokenize_join', 'target',parameteres = {'clf__C':[0.01, 0.1, 1, 10, 100] })"
   ]
  },
  {
   "cell_type": "code",
   "execution_count": 20,
   "metadata": {},
   "outputs": [
    {
     "data": {
      "text/plain": [
       "{'Accuracy_score': '61.0%',\n",
       " 'Recall_score': array([0.5481336 , 0.15714286, 0.39416847, 0.42948403, 0.86054519]),\n",
       " 'Precision_score': array([0.5625    , 0.34509804, 0.42491269, 0.50432776, 0.71883988]),\n",
       " 'F1_score': array([0.55522388, 0.21595092, 0.40896359, 0.46390658, 0.78333551]),\n",
       " 'Time': 0.0024522310000065772}"
      ]
     },
     "execution_count": 20,
     "metadata": {},
     "output_type": "execute_result"
    }
   ],
   "source": [
    "lg_multi_grid"
   ]
  },
  {
   "cell_type": "markdown",
   "metadata": {},
   "source": [
    "### Multinomial NB"
   ]
  },
  {
   "cell_type": "code",
   "execution_count": 21,
   "metadata": {},
   "outputs": [
    {
     "data": {
      "application/javascript": [
       "\n",
       "        if (window._pyforest_update_imports_cell) { window._pyforest_update_imports_cell('import numpy as np'); }\n",
       "    "
      ],
      "text/plain": [
       "<IPython.core.display.Javascript object>"
      ]
     },
     "metadata": {},
     "output_type": "display_data"
    }
   ],
   "source": [
    "nb_muti_grid = clf_grid(MultinomialNB(),df,'Reviews_tokenize_join', 'target', parameteres = {'clf__alpha': np.linspace(0.5, 1.5, 6), 'clf__fit_prior': [True, False]})"
   ]
  },
  {
   "cell_type": "code",
   "execution_count": 22,
   "metadata": {},
   "outputs": [
    {
     "data": {
      "text/plain": [
       "{'Accuracy_score': '60.0%',\n",
       " 'Recall_score': array([0.3870334 , 0.0125    , 0.31533477, 0.45503686, 0.876901  ]),\n",
       " 'Precision_score': array([0.63961039, 0.25      , 0.30575916, 0.46230654, 0.72399905]),\n",
       " 'F1_score': array([0.48225214, 0.02380952, 0.31047315, 0.45864289, 0.7931482 ]),\n",
       " 'Time': -0.0019864209999980176}"
      ]
     },
     "execution_count": 22,
     "metadata": {},
     "output_type": "execute_result"
    }
   ],
   "source": [
    "nb_muti_grid "
   ]
  },
  {
   "cell_type": "markdown",
   "metadata": {},
   "source": [
    "### Decision Tree Classifier"
   ]
  },
  {
   "cell_type": "code",
   "execution_count": 23,
   "metadata": {},
   "outputs": [],
   "source": [
    "dt_multi_grid = clf_grid(DecisionTreeClassifier(),df,'Reviews_tokenize_join', 'target',parameteres = {\n",
    "    'clf__criterion': ['gini', 'entropy'],\n",
    "    'clf__max_depth': [None, 2, 3, 4, 5, 6],\n",
    "    'clf__min_samples_split': [2, 5, 10],\n",
    "    'clf__min_samples_leaf': [1, 2, 3, 4]\n",
    "})"
   ]
  },
  {
   "cell_type": "code",
   "execution_count": 24,
   "metadata": {},
   "outputs": [
    {
     "data": {
      "text/plain": [
       "{'Accuracy_score': '51.0%',\n",
       " 'Recall_score': array([0.33005894, 0.00714286, 0.02159827, 0.21670762, 0.91305595]),\n",
       " 'Precision_score': array([0.45901639, 0.44444444, 0.22988506, 0.35795455, 0.54664147]),\n",
       " 'F1_score': array([0.384     , 0.01405975, 0.03948667, 0.26997245, 0.68385988]),\n",
       " 'Time': 0.001961479999920357}"
      ]
     },
     "execution_count": 24,
     "metadata": {},
     "output_type": "execute_result"
    }
   ],
   "source": [
    "dt_multi_grid"
   ]
  },
  {
   "cell_type": "markdown",
   "metadata": {},
   "source": [
    "### Random Forest Classifier"
   ]
  },
  {
   "cell_type": "code",
   "execution_count": 28,
   "metadata": {},
   "outputs": [],
   "source": [
    "rf_multi_grid = clf_grid(RandomForestClassifier(), df, 'Reviews_tokenize_join', 'target', parameteres = {\n",
    "    'clf__n_estimators': [10, 30, 100],\n",
    "    'clf__criterion': ['gini', 'entropy'],\n",
    "    'clf__max_depth': [None, 2, 6, 10],\n",
    "    'clf__min_samples_split': [5, 10],\n",
    "    'clf__min_samples_leaf': [3, 6]\n",
    "})"
   ]
  },
  {
   "cell_type": "code",
   "execution_count": 29,
   "metadata": {},
   "outputs": [
    {
     "data": {
      "text/plain": [
       "{'Accuracy_score': '54.0%',\n",
       " 'Recall_score': array([0.3280943 , 0.01607143, 0.10151188, 0.26683047, 0.94060258]),\n",
       " 'Precision_score': array([0.59430605, 0.42857143, 0.28398792, 0.38924731, 0.59741206]),\n",
       " 'F1_score': array([0.42278481, 0.03098107, 0.14956245, 0.31661808, 0.73071779]),\n",
       " 'Time': 0.0018894189993261534}"
      ]
     },
     "execution_count": 29,
     "metadata": {},
     "output_type": "execute_result"
    }
   ],
   "source": [
    "rf_multi_grid"
   ]
  },
  {
   "cell_type": "markdown",
   "metadata": {},
   "source": [
    "### Linear Support Vector Classification "
   ]
  },
  {
   "cell_type": "code",
   "execution_count": 26,
   "metadata": {},
   "outputs": [],
   "source": [
    "svc_multi_grid = clf_grid(LinearSVC(),df, 'Reviews_tokenize_join', 'target' ,parameteres = {'clf__C':[0.001,0.1,10,100,10e5] ,'clf__max_iter':[1000 ,2000,3000]})"
   ]
  },
  {
   "cell_type": "code",
   "execution_count": 27,
   "metadata": {},
   "outputs": [
    {
     "data": {
      "text/plain": [
       "{'Accuracy_score': '60.0%',\n",
       " 'Recall_score': array([0.60707269, 0.04285714, 0.23218143, 0.36511057, 0.91994261]),\n",
       " 'Precision_score': array([0.5459364 , 0.4       , 0.39814815, 0.47935484, 0.66805584]),\n",
       " 'F1_score': array([0.57488372, 0.07741935, 0.29331514, 0.41450488, 0.77402221]),\n",
       " 'Time': 0.001137792000463378}"
      ]
     },
     "execution_count": 27,
     "metadata": {},
     "output_type": "execute_result"
    }
   ],
   "source": [
    "svc_multi_grid"
   ]
  },
  {
   "cell_type": "markdown",
   "metadata": {},
   "source": [
    "### Results Summary\n"
   ]
  },
  {
   "cell_type": "code",
   "execution_count": 32,
   "metadata": {},
   "outputs": [
    {
     "data": {
      "text/html": [
       "<div>\n",
       "<style scoped>\n",
       "    .dataframe tbody tr th:only-of-type {\n",
       "        vertical-align: middle;\n",
       "    }\n",
       "\n",
       "    .dataframe tbody tr th {\n",
       "        vertical-align: top;\n",
       "    }\n",
       "\n",
       "    .dataframe thead th {\n",
       "        text-align: right;\n",
       "    }\n",
       "</style>\n",
       "<table border=\"1\" class=\"dataframe\">\n",
       "  <thead>\n",
       "    <tr style=\"text-align: right;\">\n",
       "      <th></th>\n",
       "      <th>Accuracy_score</th>\n",
       "      <th>Time</th>\n",
       "    </tr>\n",
       "    <tr>\n",
       "      <th>Model</th>\n",
       "      <th></th>\n",
       "      <th></th>\n",
       "    </tr>\n",
       "  </thead>\n",
       "  <tbody>\n",
       "    <tr>\n",
       "      <th>Logistic Regresion</th>\n",
       "      <td>61.0%</td>\n",
       "      <td>0.002452</td>\n",
       "    </tr>\n",
       "    <tr>\n",
       "      <th>Decision Tree Classifier</th>\n",
       "      <td>51.0%</td>\n",
       "      <td>0.001961</td>\n",
       "    </tr>\n",
       "    <tr>\n",
       "      <th>Mutinomial NB</th>\n",
       "      <td>60.0%</td>\n",
       "      <td>-0.001986</td>\n",
       "    </tr>\n",
       "    <tr>\n",
       "      <th>Linear Support Vector Classification</th>\n",
       "      <td>60.0%</td>\n",
       "      <td>0.001138</td>\n",
       "    </tr>\n",
       "    <tr>\n",
       "      <th>Random Forest Classifier</th>\n",
       "      <td>54.0%</td>\n",
       "      <td>0.001889</td>\n",
       "    </tr>\n",
       "  </tbody>\n",
       "</table>\n",
       "</div>"
      ],
      "text/plain": [
       "                                     Accuracy_score      Time\n",
       "Model                                                        \n",
       "Logistic Regresion                            61.0%  0.002452\n",
       "Decision Tree Classifier                      51.0%  0.001961\n",
       "Mutinomial NB                                 60.0% -0.001986\n",
       "Linear Support Vector Classification          60.0%  0.001138\n",
       "Random Forest Classifier                      54.0%  0.001889"
      ]
     },
     "execution_count": 32,
     "metadata": {},
     "output_type": "execute_result"
    }
   ],
   "source": [
    "l= [lg_multi_grid, dt_multi_grid, nb_muti_grid  , svc_multi_grid, rf_multi_grid]\n",
    "df_results_multi_grid = table_results(l)\n",
    "df_results_multi_grid.loc[: , ['Accuracy_score', 'Time']]"
   ]
  },
  {
   "cell_type": "code",
   "execution_count": 35,
   "metadata": {},
   "outputs": [],
   "source": [
    "df_metrix_multi_grid = unnest_df(df_results_multi_grid)"
   ]
  },
  {
   "cell_type": "code",
   "execution_count": 36,
   "metadata": {},
   "outputs": [
    {
     "data": {
      "text/html": [
       "<div>\n",
       "<style scoped>\n",
       "    .dataframe tbody tr th:only-of-type {\n",
       "        vertical-align: middle;\n",
       "    }\n",
       "\n",
       "    .dataframe tbody tr th {\n",
       "        vertical-align: top;\n",
       "    }\n",
       "\n",
       "    .dataframe thead th {\n",
       "        text-align: right;\n",
       "    }\n",
       "</style>\n",
       "<table border=\"1\" class=\"dataframe\">\n",
       "  <thead>\n",
       "    <tr style=\"text-align: right;\">\n",
       "      <th></th>\n",
       "      <th>Recall_score</th>\n",
       "      <th>Precision_score</th>\n",
       "      <th>F1_score</th>\n",
       "      <th>target_class</th>\n",
       "      <th>model</th>\n",
       "    </tr>\n",
       "  </thead>\n",
       "  <tbody>\n",
       "    <tr>\n",
       "      <th>0</th>\n",
       "      <td>0.548134</td>\n",
       "      <td>0.562500</td>\n",
       "      <td>0.555224</td>\n",
       "      <td>1</td>\n",
       "      <td>Logistic Regresion</td>\n",
       "    </tr>\n",
       "    <tr>\n",
       "      <th>1</th>\n",
       "      <td>0.157143</td>\n",
       "      <td>0.345098</td>\n",
       "      <td>0.215951</td>\n",
       "      <td>2</td>\n",
       "      <td>Logistic Regresion</td>\n",
       "    </tr>\n",
       "    <tr>\n",
       "      <th>2</th>\n",
       "      <td>0.394168</td>\n",
       "      <td>0.424913</td>\n",
       "      <td>0.408964</td>\n",
       "      <td>3</td>\n",
       "      <td>Logistic Regresion</td>\n",
       "    </tr>\n",
       "    <tr>\n",
       "      <th>3</th>\n",
       "      <td>0.429484</td>\n",
       "      <td>0.504328</td>\n",
       "      <td>0.463907</td>\n",
       "      <td>4</td>\n",
       "      <td>Logistic Regresion</td>\n",
       "    </tr>\n",
       "    <tr>\n",
       "      <th>4</th>\n",
       "      <td>0.860545</td>\n",
       "      <td>0.718840</td>\n",
       "      <td>0.783336</td>\n",
       "      <td>5</td>\n",
       "      <td>Logistic Regresion</td>\n",
       "    </tr>\n",
       "    <tr>\n",
       "      <th>5</th>\n",
       "      <td>0.330059</td>\n",
       "      <td>0.459016</td>\n",
       "      <td>0.384000</td>\n",
       "      <td>1</td>\n",
       "      <td>Decision Tree Classifier</td>\n",
       "    </tr>\n",
       "    <tr>\n",
       "      <th>6</th>\n",
       "      <td>0.007143</td>\n",
       "      <td>0.444444</td>\n",
       "      <td>0.014060</td>\n",
       "      <td>2</td>\n",
       "      <td>Decision Tree Classifier</td>\n",
       "    </tr>\n",
       "    <tr>\n",
       "      <th>7</th>\n",
       "      <td>0.021598</td>\n",
       "      <td>0.229885</td>\n",
       "      <td>0.039487</td>\n",
       "      <td>3</td>\n",
       "      <td>Decision Tree Classifier</td>\n",
       "    </tr>\n",
       "    <tr>\n",
       "      <th>8</th>\n",
       "      <td>0.216708</td>\n",
       "      <td>0.357955</td>\n",
       "      <td>0.269972</td>\n",
       "      <td>4</td>\n",
       "      <td>Decision Tree Classifier</td>\n",
       "    </tr>\n",
       "    <tr>\n",
       "      <th>9</th>\n",
       "      <td>0.913056</td>\n",
       "      <td>0.546641</td>\n",
       "      <td>0.683860</td>\n",
       "      <td>5</td>\n",
       "      <td>Decision Tree Classifier</td>\n",
       "    </tr>\n",
       "    <tr>\n",
       "      <th>10</th>\n",
       "      <td>0.387033</td>\n",
       "      <td>0.639610</td>\n",
       "      <td>0.482252</td>\n",
       "      <td>1</td>\n",
       "      <td>Mutinomial NB</td>\n",
       "    </tr>\n",
       "    <tr>\n",
       "      <th>11</th>\n",
       "      <td>0.012500</td>\n",
       "      <td>0.250000</td>\n",
       "      <td>0.023810</td>\n",
       "      <td>2</td>\n",
       "      <td>Mutinomial NB</td>\n",
       "    </tr>\n",
       "    <tr>\n",
       "      <th>12</th>\n",
       "      <td>0.315335</td>\n",
       "      <td>0.305759</td>\n",
       "      <td>0.310473</td>\n",
       "      <td>3</td>\n",
       "      <td>Mutinomial NB</td>\n",
       "    </tr>\n",
       "    <tr>\n",
       "      <th>13</th>\n",
       "      <td>0.455037</td>\n",
       "      <td>0.462307</td>\n",
       "      <td>0.458643</td>\n",
       "      <td>4</td>\n",
       "      <td>Mutinomial NB</td>\n",
       "    </tr>\n",
       "    <tr>\n",
       "      <th>14</th>\n",
       "      <td>0.876901</td>\n",
       "      <td>0.723999</td>\n",
       "      <td>0.793148</td>\n",
       "      <td>5</td>\n",
       "      <td>Mutinomial NB</td>\n",
       "    </tr>\n",
       "    <tr>\n",
       "      <th>15</th>\n",
       "      <td>0.607073</td>\n",
       "      <td>0.545936</td>\n",
       "      <td>0.574884</td>\n",
       "      <td>1</td>\n",
       "      <td>Linear Support Vector Classification</td>\n",
       "    </tr>\n",
       "    <tr>\n",
       "      <th>16</th>\n",
       "      <td>0.042857</td>\n",
       "      <td>0.400000</td>\n",
       "      <td>0.077419</td>\n",
       "      <td>2</td>\n",
       "      <td>Linear Support Vector Classification</td>\n",
       "    </tr>\n",
       "    <tr>\n",
       "      <th>17</th>\n",
       "      <td>0.232181</td>\n",
       "      <td>0.398148</td>\n",
       "      <td>0.293315</td>\n",
       "      <td>3</td>\n",
       "      <td>Linear Support Vector Classification</td>\n",
       "    </tr>\n",
       "    <tr>\n",
       "      <th>18</th>\n",
       "      <td>0.365111</td>\n",
       "      <td>0.479355</td>\n",
       "      <td>0.414505</td>\n",
       "      <td>4</td>\n",
       "      <td>Linear Support Vector Classification</td>\n",
       "    </tr>\n",
       "    <tr>\n",
       "      <th>19</th>\n",
       "      <td>0.919943</td>\n",
       "      <td>0.668056</td>\n",
       "      <td>0.774022</td>\n",
       "      <td>5</td>\n",
       "      <td>Linear Support Vector Classification</td>\n",
       "    </tr>\n",
       "    <tr>\n",
       "      <th>20</th>\n",
       "      <td>0.328094</td>\n",
       "      <td>0.594306</td>\n",
       "      <td>0.422785</td>\n",
       "      <td>1</td>\n",
       "      <td>Random Forest Classifier</td>\n",
       "    </tr>\n",
       "    <tr>\n",
       "      <th>21</th>\n",
       "      <td>0.016071</td>\n",
       "      <td>0.428571</td>\n",
       "      <td>0.030981</td>\n",
       "      <td>2</td>\n",
       "      <td>Random Forest Classifier</td>\n",
       "    </tr>\n",
       "    <tr>\n",
       "      <th>22</th>\n",
       "      <td>0.101512</td>\n",
       "      <td>0.283988</td>\n",
       "      <td>0.149562</td>\n",
       "      <td>3</td>\n",
       "      <td>Random Forest Classifier</td>\n",
       "    </tr>\n",
       "    <tr>\n",
       "      <th>23</th>\n",
       "      <td>0.266830</td>\n",
       "      <td>0.389247</td>\n",
       "      <td>0.316618</td>\n",
       "      <td>4</td>\n",
       "      <td>Random Forest Classifier</td>\n",
       "    </tr>\n",
       "    <tr>\n",
       "      <th>24</th>\n",
       "      <td>0.940603</td>\n",
       "      <td>0.597412</td>\n",
       "      <td>0.730718</td>\n",
       "      <td>5</td>\n",
       "      <td>Random Forest Classifier</td>\n",
       "    </tr>\n",
       "  </tbody>\n",
       "</table>\n",
       "</div>"
      ],
      "text/plain": [
       "    Recall_score  Precision_score  F1_score  target_class  \\\n",
       "0       0.548134         0.562500  0.555224             1   \n",
       "1       0.157143         0.345098  0.215951             2   \n",
       "2       0.394168         0.424913  0.408964             3   \n",
       "3       0.429484         0.504328  0.463907             4   \n",
       "4       0.860545         0.718840  0.783336             5   \n",
       "5       0.330059         0.459016  0.384000             1   \n",
       "6       0.007143         0.444444  0.014060             2   \n",
       "7       0.021598         0.229885  0.039487             3   \n",
       "8       0.216708         0.357955  0.269972             4   \n",
       "9       0.913056         0.546641  0.683860             5   \n",
       "10      0.387033         0.639610  0.482252             1   \n",
       "11      0.012500         0.250000  0.023810             2   \n",
       "12      0.315335         0.305759  0.310473             3   \n",
       "13      0.455037         0.462307  0.458643             4   \n",
       "14      0.876901         0.723999  0.793148             5   \n",
       "15      0.607073         0.545936  0.574884             1   \n",
       "16      0.042857         0.400000  0.077419             2   \n",
       "17      0.232181         0.398148  0.293315             3   \n",
       "18      0.365111         0.479355  0.414505             4   \n",
       "19      0.919943         0.668056  0.774022             5   \n",
       "20      0.328094         0.594306  0.422785             1   \n",
       "21      0.016071         0.428571  0.030981             2   \n",
       "22      0.101512         0.283988  0.149562             3   \n",
       "23      0.266830         0.389247  0.316618             4   \n",
       "24      0.940603         0.597412  0.730718             5   \n",
       "\n",
       "                                   model  \n",
       "0                     Logistic Regresion  \n",
       "1                     Logistic Regresion  \n",
       "2                     Logistic Regresion  \n",
       "3                     Logistic Regresion  \n",
       "4                     Logistic Regresion  \n",
       "5               Decision Tree Classifier  \n",
       "6               Decision Tree Classifier  \n",
       "7               Decision Tree Classifier  \n",
       "8               Decision Tree Classifier  \n",
       "9               Decision Tree Classifier  \n",
       "10                         Mutinomial NB  \n",
       "11                         Mutinomial NB  \n",
       "12                         Mutinomial NB  \n",
       "13                         Mutinomial NB  \n",
       "14                         Mutinomial NB  \n",
       "15  Linear Support Vector Classification  \n",
       "16  Linear Support Vector Classification  \n",
       "17  Linear Support Vector Classification  \n",
       "18  Linear Support Vector Classification  \n",
       "19  Linear Support Vector Classification  \n",
       "20              Random Forest Classifier  \n",
       "21              Random Forest Classifier  \n",
       "22              Random Forest Classifier  \n",
       "23              Random Forest Classifier  \n",
       "24              Random Forest Classifier  "
      ]
     },
     "execution_count": 36,
     "metadata": {},
     "output_type": "execute_result"
    }
   ],
   "source": [
    "df_metrix_multi_grid"
   ]
  },
  {
   "cell_type": "markdown",
   "metadata": {},
   "source": [
    "## Change target to 3 categories\n"
   ]
  },
  {
   "cell_type": "markdown",
   "metadata": {},
   "source": [
    "First model needs to be improved.\n",
    "There are a lot more 4, 5 stars than 1, 2, 3 stars,\n",
    "Set 1, 2, 3 stars to 'Bad', 4 stars to 'Neutral', 5 stars to 'Good'"
   ]
  },
  {
   "cell_type": "code",
   "execution_count": 37,
   "metadata": {},
   "outputs": [],
   "source": [
    "# df_tree_categories = df.replace({5: 'good', 4: 'neutral', 3: 'bad' , 2: 'bad', 1: 'bad'})\n",
    "# df_tree_categories.head()\n",
    "df['tri_target'] = 'Bad'\n",
    "df.loc[df['review_rating'] == 5, 'tri_target'] = 'Good'\n",
    "df.loc[df['review_rating'] == 4, 'tri_target'] = 'Neutral'"
   ]
  },
  {
   "cell_type": "code",
   "execution_count": 38,
   "metadata": {},
   "outputs": [
    {
     "data": {
      "text/plain": [
       "Good       11878\n",
       "Neutral     6622\n",
       "Bad         6550\n",
       "Name: tri_target, dtype: int64"
      ]
     },
     "execution_count": 38,
     "metadata": {},
     "output_type": "execute_result"
    }
   ],
   "source": [
    "df['tri_target'].value_counts()"
   ]
  },
  {
   "cell_type": "code",
   "execution_count": 39,
   "metadata": {},
   "outputs": [
    {
     "data": {
      "text/plain": [
       "<matplotlib.axes._subplots.AxesSubplot at 0x1a1e10c470>"
      ]
     },
     "execution_count": 39,
     "metadata": {},
     "output_type": "execute_result"
    },
    {
     "data": {
      "image/png": "[encoded data removed]",
      "text/plain": [
       "<Figure size 432x288 with 1 Axes>"
      ]
     },
     "metadata": {
      "needs_background": "light"
     },
     "output_type": "display_data"
    }
   ],
   "source": [
    "# df_tree_categories['target'].plot.bar(bins=12, alpha=0.5)\n",
    "df['tri_target'].value_counts().sort_values().plot(kind = 'barh')\n"
   ]
  },
  {
   "cell_type": "markdown",
   "metadata": {},
   "source": [
    "###  Logistic Regressiom"
   ]
  },
  {
   "cell_type": "code",
   "execution_count": 40,
   "metadata": {},
   "outputs": [],
   "source": [
    "ld_tri_class = clf( LogisticRegression(),df, 'Reviews_tokenize_join', 'tri_target')\n"
   ]
  },
  {
   "cell_type": "code",
   "execution_count": 41,
   "metadata": {},
   "outputs": [
    {
     "data": {
      "text/plain": [
       "{'Accuracy_score': '72.0%',\n",
       " 'Recall_score': array([0.81954887, 0.88579627, 0.32432432]),\n",
       " 'Precision_score': array([0.80225711, 0.71491431, 0.56945643]),\n",
       " 'F1_score': array([0.81081081, 0.79123414, 0.41327489]),\n",
       " 'Time': 0.0008785369996076042}"
      ]
     },
     "execution_count": 41,
     "metadata": {},
     "output_type": "execute_result"
    }
   ],
   "source": [
    "ld_tri_class "
   ]
  },
  {
   "cell_type": "markdown",
   "metadata": {},
   "source": [
    "### Decision Tree Classifier"
   ]
  },
  {
   "cell_type": "code",
   "execution_count": 42,
   "metadata": {},
   "outputs": [],
   "source": [
    "dt_tri_class = clf(DecisionTreeClassifier(),df, 'Reviews_tokenize_join', 'tri_target')"
   ]
  },
  {
   "cell_type": "code",
   "execution_count": 43,
   "metadata": {},
   "outputs": [
    {
     "data": {
      "text/plain": [
       "{'Accuracy_score': '53.0%',\n",
       " 'Recall_score': array([0.50726817, 0.66025825, 0.33808354]),\n",
       " 'Precision_score': array([0.60273973, 0.61409127, 0.32934418]),\n",
       " 'F1_score': array([0.5508982 , 0.6363385 , 0.33365664]),\n",
       " 'Time': 0.002455901000303129}"
      ]
     },
     "execution_count": 43,
     "metadata": {},
     "output_type": "execute_result"
    }
   ],
   "source": [
    "dt_tri_class"
   ]
  },
  {
   "cell_type": "markdown",
   "metadata": {},
   "source": [
    "### Mutinomial NB"
   ]
  },
  {
   "cell_type": "code",
   "execution_count": 44,
   "metadata": {},
   "outputs": [],
   "source": [
    "nb_tri_class = clf(MultinomialNB(),df,'Reviews_tokenize_join', 'tri_target')"
   ]
  },
  {
   "cell_type": "code",
   "execution_count": 45,
   "metadata": {},
   "outputs": [
    {
     "data": {
      "text/plain": [
       "{'Accuracy_score': '65.0%',\n",
       " 'Recall_score': array([0.68120301, 0.98479197, 0.05995086]),\n",
       " 'Precision_score': array([0.87283237, 0.60210526, 0.47286822]),\n",
       " 'F1_score': array([0.7652027 , 0.74730539, 0.10641082]),\n",
       " 'Time': -0.005167268000150216}"
      ]
     },
     "execution_count": 45,
     "metadata": {},
     "output_type": "execute_result"
    }
   ],
   "source": [
    "nb_tri_class"
   ]
  },
  {
   "cell_type": "markdown",
   "metadata": {},
   "source": [
    "### Linear Support Vector Machine with stochastic gradient descent (SGD)\n"
   ]
  },
  {
   "cell_type": "code",
   "execution_count": 46,
   "metadata": {},
   "outputs": [],
   "source": [
    "sgd_tri_class= clf(SGDClassifier(),df, 'Reviews_tokenize_join', 'tri_target')"
   ]
  },
  {
   "cell_type": "markdown",
   "metadata": {},
   "source": [
    "### Linear Support Vector Classification"
   ]
  },
  {
   "cell_type": "code",
   "execution_count": 47,
   "metadata": {},
   "outputs": [],
   "source": [
    "svc_tri_class = clf(LinearSVC(), df,'Reviews_tokenize_join', 'tri_target')"
   ]
  },
  {
   "cell_type": "code",
   "execution_count": null,
   "metadata": {},
   "outputs": [],
   "source": [
    "svc_tri_class"
   ]
  },
  {
   "cell_type": "markdown",
   "metadata": {},
   "source": [
    "### Random Forest Classifier"
   ]
  },
  {
   "cell_type": "code",
   "execution_count": 48,
   "metadata": {},
   "outputs": [],
   "source": [
    "rf_tri_class = clf(RandomForestClassifier(),df, 'Reviews_tokenize_join', 'tri_target')"
   ]
  },
  {
   "cell_type": "code",
   "execution_count": null,
   "metadata": {},
   "outputs": [],
   "source": [
    "rf_tri_class"
   ]
  },
  {
   "cell_type": "markdown",
   "metadata": {},
   "source": [
    "### Results Summary\n"
   ]
  },
  {
   "cell_type": "code",
   "execution_count": 50,
   "metadata": {},
   "outputs": [
    {
     "data": {
      "text/html": [
       "<div>\n",
       "<style scoped>\n",
       "    .dataframe tbody tr th:only-of-type {\n",
       "        vertical-align: middle;\n",
       "    }\n",
       "\n",
       "    .dataframe tbody tr th {\n",
       "        vertical-align: top;\n",
       "    }\n",
       "\n",
       "    .dataframe thead th {\n",
       "        text-align: right;\n",
       "    }\n",
       "</style>\n",
       "<table border=\"1\" class=\"dataframe\">\n",
       "  <thead>\n",
       "    <tr style=\"text-align: right;\">\n",
       "      <th></th>\n",
       "      <th>Accuracy_score</th>\n",
       "      <th>Time</th>\n",
       "    </tr>\n",
       "    <tr>\n",
       "      <th>Model</th>\n",
       "      <th></th>\n",
       "      <th></th>\n",
       "    </tr>\n",
       "  </thead>\n",
       "  <tbody>\n",
       "    <tr>\n",
       "      <th>Logistic Regresion</th>\n",
       "      <td>72.0%</td>\n",
       "      <td>0.000879</td>\n",
       "    </tr>\n",
       "    <tr>\n",
       "      <th>Decision Tree Classifier</th>\n",
       "      <td>53.0%</td>\n",
       "      <td>0.002456</td>\n",
       "    </tr>\n",
       "    <tr>\n",
       "      <th>Mutinomial NB</th>\n",
       "      <td>65.0%</td>\n",
       "      <td>-0.005167</td>\n",
       "    </tr>\n",
       "    <tr>\n",
       "      <th>Linear Support Vector Classification</th>\n",
       "      <td>71.0%</td>\n",
       "      <td>0.004208</td>\n",
       "    </tr>\n",
       "    <tr>\n",
       "      <th>Random Forest Classifier</th>\n",
       "      <td>62.0%</td>\n",
       "      <td>0.004849</td>\n",
       "    </tr>\n",
       "  </tbody>\n",
       "</table>\n",
       "</div>"
      ],
      "text/plain": [
       "                                     Accuracy_score      Time\n",
       "Model                                                        \n",
       "Logistic Regresion                            72.0%  0.000879\n",
       "Decision Tree Classifier                      53.0%  0.002456\n",
       "Mutinomial NB                                 65.0% -0.005167\n",
       "Linear Support Vector Classification          71.0%  0.004208\n",
       "Random Forest Classifier                      62.0%  0.004849"
      ]
     },
     "execution_count": 50,
     "metadata": {},
     "output_type": "execute_result"
    }
   ],
   "source": [
    "l= [ld_tri_class, dt_tri_class, nb_tri_class , svc_tri_class, rf_tri_class ]\n",
    "df_results_tri = table_results(l)\n",
    "df_results_tri.loc[: , ['Accuracy_score', 'Time']]"
   ]
  },
  {
   "cell_type": "code",
   "execution_count": 51,
   "metadata": {},
   "outputs": [],
   "source": [
    "df_metrix_tri = unnest_df(df_results_tri)"
   ]
  },
  {
   "cell_type": "markdown",
   "metadata": {},
   "source": [
    "## Tunning hyperparameters"
   ]
  },
  {
   "cell_type": "markdown",
   "metadata": {},
   "source": [
    "### Loigistic Regression"
   ]
  },
  {
   "cell_type": "code",
   "execution_count": 52,
   "metadata": {},
   "outputs": [],
   "source": [
    "lg_tri_grid = clf_grid(LogisticRegression(),df,'Reviews_tokenize_join', 'tri_target', parameteres ={'clf__penalty' : ['l1', 'l2'],\n",
    "'clf__C' : [ 0.001, 0.01, 0.1, 1, 10, 100],\n",
    "'clf__solver': ['liblinear', 'saga']})"
   ]
  },
  {
   "cell_type": "markdown",
   "metadata": {},
   "source": [
    "### Decision Tree Classifier"
   ]
  },
  {
   "cell_type": "code",
   "execution_count": 54,
   "metadata": {},
   "outputs": [],
   "source": [
    "dt_tri_grid = clf_grid( DecisionTreeClassifier(),df,'Reviews_tokenize_join', 'tri_target', parameteres = {\n",
    "    'clf__criterion': ['gini', 'entropy'],\n",
    "    'clf__max_depth': [None, 2, 3, 4, 5, 6],\n",
    "    'clf__min_samples_split': [2, 5, 10],\n",
    "    'clf__min_samples_leaf': [1, 2, 3, 4, 5, 6]\n",
    "})"
   ]
  },
  {
   "cell_type": "markdown",
   "metadata": {},
   "source": [
    "### Multinomial NB"
   ]
  },
  {
   "cell_type": "code",
   "execution_count": 53,
   "metadata": {},
   "outputs": [
    {
     "data": {
      "application/javascript": [
       "\n",
       "        if (window._pyforest_update_imports_cell) { window._pyforest_update_imports_cell('import numpy as np'); }\n",
       "    "
      ],
      "text/plain": [
       "<IPython.core.display.Javascript object>"
      ]
     },
     "metadata": {},
     "output_type": "display_data"
    }
   ],
   "source": [
    "nb_tri_grid = clf_grid( MultinomialNB(), df,'Reviews_tokenize_join', 'tri_target', parameteres = {'clf__alpha': np.linspace(0.5, 1.5, 6), 'clf__fit_prior': [True, False]})"
   ]
  },
  {
   "cell_type": "markdown",
   "metadata": {},
   "source": [
    "### Linear Support Vector Classification"
   ]
  },
  {
   "cell_type": "code",
   "execution_count": 55,
   "metadata": {},
   "outputs": [],
   "source": [
    "svc_tri_grid = clf_grid( LinearSVC() ,df, 'Reviews_tokenize_join', 'tri_target',parameteres = {'clf__C':[0.001,0.1,10,100,10e5], 'clf__max_iter':[1000, 2000,3000]})\n"
   ]
  },
  {
   "cell_type": "markdown",
   "metadata": {},
   "source": [
    "### Random Forest Classifier"
   ]
  },
  {
   "cell_type": "code",
   "execution_count": 56,
   "metadata": {},
   "outputs": [],
   "source": [
    "rf_tri_grid = clf_grid( RandomForestClassifier(), df,'Reviews_tokenize_join', 'tri_target', parameteres = {\n",
    "    'clf__n_estimators': [10, 30, 100],\n",
    "    'clf__criterion': ['gini', 'entropy'],\n",
    "    'clf__max_depth': [None, 2, 6, 10],\n",
    "    'clf__min_samples_split': [5, 10],\n",
    "    'clf__min_samples_leaf': [3, 6]\n",
    "})"
   ]
  },
  {
   "cell_type": "markdown",
   "metadata": {},
   "source": [
    "### Results Summary\n"
   ]
  },
  {
   "cell_type": "code",
   "execution_count": 57,
   "metadata": {},
   "outputs": [
    {
     "data": {
      "text/html": [
       "<div>\n",
       "<style scoped>\n",
       "    .dataframe tbody tr th:only-of-type {\n",
       "        vertical-align: middle;\n",
       "    }\n",
       "\n",
       "    .dataframe tbody tr th {\n",
       "        vertical-align: top;\n",
       "    }\n",
       "\n",
       "    .dataframe thead th {\n",
       "        text-align: right;\n",
       "    }\n",
       "</style>\n",
       "<table border=\"1\" class=\"dataframe\">\n",
       "  <thead>\n",
       "    <tr style=\"text-align: right;\">\n",
       "      <th></th>\n",
       "      <th>Accuracy_score</th>\n",
       "      <th>Time</th>\n",
       "    </tr>\n",
       "    <tr>\n",
       "      <th>Model</th>\n",
       "      <th></th>\n",
       "      <th></th>\n",
       "    </tr>\n",
       "  </thead>\n",
       "  <tbody>\n",
       "    <tr>\n",
       "      <th>Logistic Regresion</th>\n",
       "      <td>60.0%</td>\n",
       "      <td>0.003124</td>\n",
       "    </tr>\n",
       "    <tr>\n",
       "      <th>Decision Tree Classifier</th>\n",
       "      <td>45.0%</td>\n",
       "      <td>0.000234</td>\n",
       "    </tr>\n",
       "    <tr>\n",
       "      <th>Mutinomial NB</th>\n",
       "      <td>60.0%</td>\n",
       "      <td>-0.001986</td>\n",
       "    </tr>\n",
       "    <tr>\n",
       "      <th>Linear Support Vector Classification</th>\n",
       "      <td>60.0%</td>\n",
       "      <td>0.002320</td>\n",
       "    </tr>\n",
       "    <tr>\n",
       "      <th>Random Forest Classifier</th>\n",
       "      <td>55.00000000000001%</td>\n",
       "      <td>-0.002354</td>\n",
       "    </tr>\n",
       "  </tbody>\n",
       "</table>\n",
       "</div>"
      ],
      "text/plain": [
       "                                          Accuracy_score      Time\n",
       "Model                                                             \n",
       "Logistic Regresion                                 60.0%  0.003124\n",
       "Decision Tree Classifier                           45.0%  0.000234\n",
       "Mutinomial NB                                      60.0% -0.001986\n",
       "Linear Support Vector Classification               60.0%  0.002320\n",
       "Random Forest Classifier              55.00000000000001% -0.002354"
      ]
     },
     "execution_count": 57,
     "metadata": {},
     "output_type": "execute_result"
    }
   ],
   "source": [
    "l= [lg_tri_grid, dt_tri_grid, nb_muti_grid, svc_tri_grid, rf_tri_grid]\n",
    "df_results_tri_grid = table_results(l)\n",
    "df_results_tri_grid.loc[: , ['Accuracy_score', 'Time']]"
   ]
  },
  {
   "cell_type": "code",
   "execution_count": 58,
   "metadata": {},
   "outputs": [],
   "source": [
    "df_metrix_tri_grid = unnest_df(df_results_tri_grid)"
   ]
  },
  {
   "cell_type": "code",
   "execution_count": null,
   "metadata": {},
   "outputs": [],
   "source": []
  },
  {
   "cell_type": "markdown",
   "metadata": {},
   "source": [
    "## Change target to 2 categories\n"
   ]
  },
  {
   "cell_type": "markdown",
   "metadata": {},
   "source": [
    "The last model is not bad but I think It can improve if I implement binary classification.\n",
    "Divide the df into 5 stars as Good and the rest as Bad."
   ]
  },
  {
   "cell_type": "code",
   "execution_count": 64,
   "metadata": {},
   "outputs": [
    {
     "data": {
      "text/html": [
       "<div>\n",
       "<style scoped>\n",
       "    .dataframe tbody tr th:only-of-type {\n",
       "        vertical-align: middle;\n",
       "    }\n",
       "\n",
       "    .dataframe tbody tr th {\n",
       "        vertical-align: top;\n",
       "    }\n",
       "\n",
       "    .dataframe thead th {\n",
       "        text-align: right;\n",
       "    }\n",
       "</style>\n",
       "<table border=\"1\" class=\"dataframe\">\n",
       "  <thead>\n",
       "    <tr style=\"text-align: right;\">\n",
       "      <th></th>\n",
       "      <th>review_rating</th>\n",
       "      <th>Reviews_tokenize_join</th>\n",
       "      <th>target</th>\n",
       "      <th>tri_target</th>\n",
       "      <th>bi_target</th>\n",
       "    </tr>\n",
       "  </thead>\n",
       "  <tbody>\n",
       "    <tr>\n",
       "      <th>0</th>\n",
       "      <td>1</td>\n",
       "      <td>start say understand hard time city country en...</td>\n",
       "      <td>1</td>\n",
       "      <td>Bad</td>\n",
       "      <td>Bad</td>\n",
       "    </tr>\n",
       "    <tr>\n",
       "      <th>1</th>\n",
       "      <td>5</td>\n",
       "      <td>wonderful visit time park view thank upgrade l...</td>\n",
       "      <td>5</td>\n",
       "      <td>Good</td>\n",
       "      <td>Good</td>\n",
       "    </tr>\n",
       "    <tr>\n",
       "      <th>2</th>\n",
       "      <td>5</td>\n",
       "      <td>good hotel stay absolutely worth money view ce...</td>\n",
       "      <td>5</td>\n",
       "      <td>Good</td>\n",
       "      <td>Good</td>\n",
       "    </tr>\n",
       "    <tr>\n",
       "      <th>3</th>\n",
       "      <td>5</td>\n",
       "      <td>fantastic location spot step central park view...</td>\n",
       "      <td>5</td>\n",
       "      <td>Good</td>\n",
       "      <td>Good</td>\n",
       "    </tr>\n",
       "    <tr>\n",
       "      <th>4</th>\n",
       "      <td>5</td>\n",
       "      <td>amazing park view nicole staff professional fr...</td>\n",
       "      <td>5</td>\n",
       "      <td>Good</td>\n",
       "      <td>Good</td>\n",
       "    </tr>\n",
       "  </tbody>\n",
       "</table>\n",
       "</div>"
      ],
      "text/plain": [
       "   review_rating                              Reviews_tokenize_join target  \\\n",
       "0              1  start say understand hard time city country en...      1   \n",
       "1              5  wonderful visit time park view thank upgrade l...      5   \n",
       "2              5  good hotel stay absolutely worth money view ce...      5   \n",
       "3              5  fantastic location spot step central park view...      5   \n",
       "4              5  amazing park view nicole staff professional fr...      5   \n",
       "\n",
       "  tri_target bi_target  \n",
       "0        Bad       Bad  \n",
       "1       Good      Good  \n",
       "2       Good      Good  \n",
       "3       Good      Good  \n",
       "4       Good      Good  "
      ]
     },
     "execution_count": 64,
     "metadata": {},
     "output_type": "execute_result"
    }
   ],
   "source": [
    "df['bi_target'] = 'Bad'\n",
    "df.loc[df['review_rating'] == 5, 'bi_target'] = 'Good'\n"
   ]
  },
  {
   "cell_type": "code",
   "execution_count": 65,
   "metadata": {},
   "outputs": [
    {
     "data": {
      "text/html": [
       "<div>\n",
       "<style scoped>\n",
       "    .dataframe tbody tr th:only-of-type {\n",
       "        vertical-align: middle;\n",
       "    }\n",
       "\n",
       "    .dataframe tbody tr th {\n",
       "        vertical-align: top;\n",
       "    }\n",
       "\n",
       "    .dataframe thead th {\n",
       "        text-align: right;\n",
       "    }\n",
       "</style>\n",
       "<table border=\"1\" class=\"dataframe\">\n",
       "  <thead>\n",
       "    <tr style=\"text-align: right;\">\n",
       "      <th></th>\n",
       "      <th>review_rating</th>\n",
       "      <th>Reviews_tokenize_join</th>\n",
       "      <th>target</th>\n",
       "      <th>tri_target</th>\n",
       "      <th>bi_target</th>\n",
       "    </tr>\n",
       "  </thead>\n",
       "  <tbody>\n",
       "    <tr>\n",
       "      <th>0</th>\n",
       "      <td>1</td>\n",
       "      <td>start say understand hard time city country en...</td>\n",
       "      <td>1</td>\n",
       "      <td>Bad</td>\n",
       "      <td>Bad</td>\n",
       "    </tr>\n",
       "    <tr>\n",
       "      <th>1</th>\n",
       "      <td>5</td>\n",
       "      <td>wonderful visit time park view thank upgrade l...</td>\n",
       "      <td>5</td>\n",
       "      <td>Good</td>\n",
       "      <td>Good</td>\n",
       "    </tr>\n",
       "    <tr>\n",
       "      <th>2</th>\n",
       "      <td>5</td>\n",
       "      <td>good hotel stay absolutely worth money view ce...</td>\n",
       "      <td>5</td>\n",
       "      <td>Good</td>\n",
       "      <td>Good</td>\n",
       "    </tr>\n",
       "    <tr>\n",
       "      <th>3</th>\n",
       "      <td>5</td>\n",
       "      <td>fantastic location spot step central park view...</td>\n",
       "      <td>5</td>\n",
       "      <td>Good</td>\n",
       "      <td>Good</td>\n",
       "    </tr>\n",
       "    <tr>\n",
       "      <th>4</th>\n",
       "      <td>5</td>\n",
       "      <td>amazing park view nicole staff professional fr...</td>\n",
       "      <td>5</td>\n",
       "      <td>Good</td>\n",
       "      <td>Good</td>\n",
       "    </tr>\n",
       "  </tbody>\n",
       "</table>\n",
       "</div>"
      ],
      "text/plain": [
       "   review_rating                              Reviews_tokenize_join target  \\\n",
       "0              1  start say understand hard time city country en...      1   \n",
       "1              5  wonderful visit time park view thank upgrade l...      5   \n",
       "2              5  good hotel stay absolutely worth money view ce...      5   \n",
       "3              5  fantastic location spot step central park view...      5   \n",
       "4              5  amazing park view nicole staff professional fr...      5   \n",
       "\n",
       "  tri_target bi_target  \n",
       "0        Bad       Bad  \n",
       "1       Good      Good  \n",
       "2       Good      Good  \n",
       "3       Good      Good  \n",
       "4       Good      Good  "
      ]
     },
     "execution_count": 65,
     "metadata": {},
     "output_type": "execute_result"
    }
   ],
   "source": [
    "df.bi_target.value_counts(normalize = True)\n",
    "df.head()"
   ]
  },
  {
   "cell_type": "code",
   "execution_count": 66,
   "metadata": {},
   "outputs": [
    {
     "data": {
      "text/plain": [
       "<matplotlib.axes._subplots.AxesSubplot at 0x1a17cf2a20>"
      ]
     },
     "execution_count": 66,
     "metadata": {},
     "output_type": "execute_result"
    },
    {
     "data": {
      "image/png": "[encoded data removed]",
      "text/plain": [
       "<Figure size 432x288 with 1 Axes>"
      ]
     },
     "metadata": {
      "needs_background": "light"
     },
     "output_type": "display_data"
    }
   ],
   "source": [
    "df['bi_target'].value_counts().sort_values().plot(kind = 'barh')\n"
   ]
  },
  {
   "cell_type": "markdown",
   "metadata": {},
   "source": [
    "## Data Engineering and Modelling\n"
   ]
  },
  {
   "cell_type": "markdown",
   "metadata": {},
   "source": [
    "### Logistic Regression"
   ]
  },
  {
   "cell_type": "code",
   "execution_count": 67,
   "metadata": {},
   "outputs": [],
   "source": [
    "lg_bi_class = clf(LogisticRegression(),df, 'Reviews_tokenize_join', 'bi_target')"
   ]
  },
  {
   "cell_type": "code",
   "execution_count": null,
   "metadata": {},
   "outputs": [],
   "source": [
    "lg_bi_class"
   ]
  },
  {
   "cell_type": "markdown",
   "metadata": {},
   "source": [
    "### Decision Tree Classifier"
   ]
  },
  {
   "cell_type": "code",
   "execution_count": 70,
   "metadata": {},
   "outputs": [],
   "source": [
    "dt_bi_class = clf(DecisionTreeClassifier(),df,  'Reviews_tokenize_join', 'bi_target')"
   ]
  },
  {
   "cell_type": "code",
   "execution_count": null,
   "metadata": {},
   "outputs": [],
   "source": [
    "dt_bi_class"
   ]
  },
  {
   "cell_type": "markdown",
   "metadata": {},
   "source": [
    "### Multinoial NB"
   ]
  },
  {
   "cell_type": "code",
   "execution_count": 71,
   "metadata": {},
   "outputs": [],
   "source": [
    "nb_bi_class = clf(MultinomialNB(),df,  'Reviews_tokenize_join', 'bi_target')"
   ]
  },
  {
   "cell_type": "code",
   "execution_count": null,
   "metadata": {},
   "outputs": [],
   "source": [
    "nb_bi_class"
   ]
  },
  {
   "cell_type": "code",
   "execution_count": null,
   "metadata": {},
   "outputs": [],
   "source": []
  },
  {
   "cell_type": "code",
   "execution_count": 271,
   "metadata": {},
   "outputs": [
    {
     "name": "stdout",
     "output_type": "stream",
     "text": [
      "Classier:SGDClassifier(alpha=0.0001, average=False, class_weight=None,\n",
      "              early_stopping=False, epsilon=0.1, eta0=0.0, fit_intercept=True,\n",
      "              l1_ratio=0.15, learning_rate='optimal', loss='hinge',\n",
      "              max_iter=1000, n_iter_no_change=5, n_jobs=None, penalty='l2',\n",
      "              power_t=0.5, random_state=None, shuffle=True, tol=0.001,\n",
      "              validation_fraction=0.1, verbose=0, warm_start=False) , Time: 0.0029596269960165955\n",
      "Accuracy: 80.56\n",
      "              precision    recall  f1-score   support\n",
      "\n",
      "         Bad       0.84      0.79      0.81      4030\n",
      "        Good       0.77      0.82      0.80      3485\n",
      "\n",
      "    accuracy                           0.81      7515\n",
      "   macro avg       0.81      0.81      0.81      7515\n",
      "weighted avg       0.81      0.81      0.81      7515\n",
      "\n"
     ]
    }
   ],
   "source": [
    "# sgd_bi_class = clf(SGDClassifier(),df,  'Reviews_tokenize_join', 'bi_target')"
   ]
  },
  {
   "cell_type": "code",
   "execution_count": null,
   "metadata": {},
   "outputs": [],
   "source": [
    "sgd_bi_class "
   ]
  },
  {
   "cell_type": "markdown",
   "metadata": {},
   "source": [
    "### Linear Support Vector Classification"
   ]
  },
  {
   "cell_type": "code",
   "execution_count": 73,
   "metadata": {},
   "outputs": [],
   "source": [
    "svc_bi_class = clf(LinearSVC(),df, 'Reviews_tokenize_join', 'bi_target')"
   ]
  },
  {
   "cell_type": "code",
   "execution_count": null,
   "metadata": {},
   "outputs": [],
   "source": [
    "svc_bi_class"
   ]
  },
  {
   "cell_type": "markdown",
   "metadata": {},
   "source": [
    "### Random Forest Classifier"
   ]
  },
  {
   "cell_type": "code",
   "execution_count": 75,
   "metadata": {},
   "outputs": [],
   "source": [
    "rf_bi_class = clf( RandomForestClassifier(),df, 'Reviews_tokenize_join', 'bi_target')"
   ]
  },
  {
   "cell_type": "code",
   "execution_count": null,
   "metadata": {},
   "outputs": [],
   "source": [
    "rf_bi_class"
   ]
  },
  {
   "cell_type": "markdown",
   "metadata": {},
   "source": [
    "### Results Summary\n"
   ]
  },
  {
   "cell_type": "code",
   "execution_count": 76,
   "metadata": {},
   "outputs": [
    {
     "data": {
      "text/html": [
       "<div>\n",
       "<style scoped>\n",
       "    .dataframe tbody tr th:only-of-type {\n",
       "        vertical-align: middle;\n",
       "    }\n",
       "\n",
       "    .dataframe tbody tr th {\n",
       "        vertical-align: top;\n",
       "    }\n",
       "\n",
       "    .dataframe thead th {\n",
       "        text-align: right;\n",
       "    }\n",
       "</style>\n",
       "<table border=\"1\" class=\"dataframe\">\n",
       "  <thead>\n",
       "    <tr style=\"text-align: right;\">\n",
       "      <th></th>\n",
       "      <th>Accuracy_score</th>\n",
       "      <th>Time</th>\n",
       "    </tr>\n",
       "    <tr>\n",
       "      <th>Model</th>\n",
       "      <th></th>\n",
       "      <th></th>\n",
       "    </tr>\n",
       "  </thead>\n",
       "  <tbody>\n",
       "    <tr>\n",
       "      <th>Logistic Regresion</th>\n",
       "      <td>80.0%</td>\n",
       "      <td>-0.000550</td>\n",
       "    </tr>\n",
       "    <tr>\n",
       "      <th>Decision Tree Classifier</th>\n",
       "      <td>65.0%</td>\n",
       "      <td>0.001817</td>\n",
       "    </tr>\n",
       "    <tr>\n",
       "      <th>Mutinomial NB</th>\n",
       "      <td>80.0%</td>\n",
       "      <td>-0.005196</td>\n",
       "    </tr>\n",
       "    <tr>\n",
       "      <th>Linear Support Vector Classification</th>\n",
       "      <td>81.0%</td>\n",
       "      <td>0.003674</td>\n",
       "    </tr>\n",
       "    <tr>\n",
       "      <th>Random Forest Classifier</th>\n",
       "      <td>73.0%</td>\n",
       "      <td>0.002446</td>\n",
       "    </tr>\n",
       "  </tbody>\n",
       "</table>\n",
       "</div>"
      ],
      "text/plain": [
       "                                     Accuracy_score      Time\n",
       "Model                                                        \n",
       "Logistic Regresion                            80.0% -0.000550\n",
       "Decision Tree Classifier                      65.0%  0.001817\n",
       "Mutinomial NB                                 80.0% -0.005196\n",
       "Linear Support Vector Classification          81.0%  0.003674\n",
       "Random Forest Classifier                      73.0%  0.002446"
      ]
     },
     "execution_count": 76,
     "metadata": {},
     "output_type": "execute_result"
    }
   ],
   "source": [
    "l= [lg_bi_class, dt_bi_class, nb_bi_class , svc_bi_class, rf_bi_class ]\n",
    "df_results_bi = table_results(l)\n",
    "df_results_bi.loc[: , ['Accuracy_score', 'Time']]"
   ]
  },
  {
   "cell_type": "code",
   "execution_count": 82,
   "metadata": {},
   "outputs": [],
   "source": [
    "df_metrix_bi = unnest_df(df_results_bi)"
   ]
  },
  {
   "cell_type": "markdown",
   "metadata": {},
   "source": [
    "## Tunning hyperparameters"
   ]
  },
  {
   "cell_type": "markdown",
   "metadata": {},
   "source": [
    "### Logistic Regression"
   ]
  },
  {
   "cell_type": "code",
   "execution_count": 79,
   "metadata": {},
   "outputs": [],
   "source": [
    "lg_bi_grid = clf_grid(LogisticRegression(),df,'Reviews_tokenize_join', 'bi_target', parameteres ={'clf__penalty' : ['l1', 'l2'],\n",
    "'clf__C' : [ 0.001, 0.01, 0.1, 1, 10, 100],\n",
    "'clf__solver': ['liblinear', 'saga']})"
   ]
  },
  {
   "cell_type": "code",
   "execution_count": null,
   "metadata": {},
   "outputs": [],
   "source": [
    "lg_bi_grid"
   ]
  },
  {
   "cell_type": "markdown",
   "metadata": {},
   "source": [
    "### Decision Tree Classifier"
   ]
  },
  {
   "cell_type": "code",
   "execution_count": 80,
   "metadata": {},
   "outputs": [],
   "source": [
    "dt_bi_grid = clf_grid( DecisionTreeClassifier(),df, 'Reviews_tokenize_join', 'bi_target', parameteres = {\n",
    "    'clf__criterion': ['gini', 'entropy'],\n",
    "    'clf__max_depth': [None, 2, 3, 4, 5, 6],\n",
    "    'clf__min_samples_split': [2, 5, 10],\n",
    "    'clf__min_samples_leaf': [1, 2, 3, 4, 5, 6]\n",
    "})"
   ]
  },
  {
   "cell_type": "code",
   "execution_count": null,
   "metadata": {},
   "outputs": [],
   "source": [
    "dt_bi_grid"
   ]
  },
  {
   "cell_type": "markdown",
   "metadata": {},
   "source": [
    "### Multinomial NB"
   ]
  },
  {
   "cell_type": "code",
   "execution_count": 81,
   "metadata": {},
   "outputs": [
    {
     "data": {
      "application/javascript": [
       "\n",
       "        if (window._pyforest_update_imports_cell) { window._pyforest_update_imports_cell('import numpy as np'); }\n",
       "    "
      ],
      "text/plain": [
       "<IPython.core.display.Javascript object>"
      ]
     },
     "metadata": {},
     "output_type": "display_data"
    }
   ],
   "source": [
    "nb_bi_grid = clf_grid( MultinomialNB(),df,'Reviews_tokenize_join', 'bi_target', parameteres = {'clf__alpha': np.linspace(0.5, 1.5, 6), 'clf__fit_prior': [True, False]})"
   ]
  },
  {
   "cell_type": "code",
   "execution_count": null,
   "metadata": {},
   "outputs": [],
   "source": [
    "nb_bi_grid "
   ]
  },
  {
   "cell_type": "markdown",
   "metadata": {},
   "source": [
    "### Linear Support Vector Classification"
   ]
  },
  {
   "cell_type": "code",
   "execution_count": 83,
   "metadata": {},
   "outputs": [],
   "source": [
    "svc_bi_grid = clf_grid( LinearSVC() ,df, 'Reviews_tokenize_join', 'bi_target',parameteres = {'clf__C':[0.001,0.1,10,100,10e5], 'clf__max_iter':[1000, 2000,3000]})\n",
    "                                                                                                       \n"
   ]
  },
  {
   "cell_type": "code",
   "execution_count": null,
   "metadata": {},
   "outputs": [],
   "source": [
    "svc_bi_grid"
   ]
  },
  {
   "cell_type": "markdown",
   "metadata": {},
   "source": [
    "### Random Forest Classifier"
   ]
  },
  {
   "cell_type": "code",
   "execution_count": null,
   "metadata": {},
   "outputs": [],
   "source": [
    "rf_bi_grid = clf_grid( RandomForestClassifier(),df, 'Reviews_tokenize_join', 'bi_target', parameteres = {\n",
    "#     'clf__n_estimators': [10, 30, 100],\n",
    "#     'clf__criterion': ['gini', 'entropy'],\n",
    "#     'clf__max_depth': [None, 2, 6, 10],\n",
    "#     'clf__min_samples_split': [5, 10],\n",
    "#     'clf__min_samples_leaf': [3, 6]\n",
    "# })"
   ]
  },
  {
   "cell_type": "code",
   "execution_count": 85,
   "metadata": {},
   "outputs": [],
   "source": [
    "rf_bi_grid = clf_grid( RandomForestClassifier(),df, 'Reviews_tokenize_join', 'bi_target', parameteres = {\n",
    "     'clf__n_estimators': [10, 30, 100]})"
   ]
  },
  {
   "cell_type": "code",
   "execution_count": null,
   "metadata": {},
   "outputs": [],
   "source": [
    "rf_bi_grid"
   ]
  },
  {
   "cell_type": "markdown",
   "metadata": {},
   "source": [
    "### Results Summary\n"
   ]
  },
  {
   "cell_type": "code",
   "execution_count": 86,
   "metadata": {},
   "outputs": [
    {
     "data": {
      "text/html": [
       "<div>\n",
       "<style scoped>\n",
       "    .dataframe tbody tr th:only-of-type {\n",
       "        vertical-align: middle;\n",
       "    }\n",
       "\n",
       "    .dataframe tbody tr th {\n",
       "        vertical-align: top;\n",
       "    }\n",
       "\n",
       "    .dataframe thead th {\n",
       "        text-align: right;\n",
       "    }\n",
       "</style>\n",
       "<table border=\"1\" class=\"dataframe\">\n",
       "  <thead>\n",
       "    <tr style=\"text-align: right;\">\n",
       "      <th></th>\n",
       "      <th>Accuracy_score</th>\n",
       "      <th>Time</th>\n",
       "    </tr>\n",
       "    <tr>\n",
       "      <th>Model</th>\n",
       "      <th></th>\n",
       "      <th></th>\n",
       "    </tr>\n",
       "  </thead>\n",
       "  <tbody>\n",
       "    <tr>\n",
       "      <th>Logistic Regresion</th>\n",
       "      <td>61.0%</td>\n",
       "      <td>0.003424</td>\n",
       "    </tr>\n",
       "    <tr>\n",
       "      <th>Decision Tree Classifier</th>\n",
       "      <td>46.0%</td>\n",
       "      <td>0.002859</td>\n",
       "    </tr>\n",
       "    <tr>\n",
       "      <th>Mutinomial NB</th>\n",
       "      <td>60.0%</td>\n",
       "      <td>0.002448</td>\n",
       "    </tr>\n",
       "    <tr>\n",
       "      <th>Linear Support Vector Classification</th>\n",
       "      <td>60.0%</td>\n",
       "      <td>0.002693</td>\n",
       "    </tr>\n",
       "    <tr>\n",
       "      <th>Random Forest Classifier</th>\n",
       "      <td>54.0%</td>\n",
       "      <td>0.003753</td>\n",
       "    </tr>\n",
       "  </tbody>\n",
       "</table>\n",
       "</div>"
      ],
      "text/plain": [
       "                                     Accuracy_score      Time\n",
       "Model                                                        \n",
       "Logistic Regresion                            61.0%  0.003424\n",
       "Decision Tree Classifier                      46.0%  0.002859\n",
       "Mutinomial NB                                 60.0%  0.002448\n",
       "Linear Support Vector Classification          60.0%  0.002693\n",
       "Random Forest Classifier                      54.0%  0.003753"
      ]
     },
     "execution_count": 86,
     "metadata": {},
     "output_type": "execute_result"
    }
   ],
   "source": [
    "l= [lg_bi_grid, dt_bi_grid, nb_bi_grid, svc_bi_grid, rf_bi_grid]\n",
    "df_results_bi_grid = table_results(l)\n",
    "df_results_bi_grid.loc[: , ['Accuracy_score', 'Time']]"
   ]
  },
  {
   "cell_type": "code",
   "execution_count": null,
   "metadata": {},
   "outputs": [],
   "source": [
    "df_metrix_bi_grid = unnest_df(df_results_bi)"
   ]
  },
  {
   "cell_type": "code",
   "execution_count": null,
   "metadata": {},
   "outputs": [],
   "source": []
  },
  {
   "cell_type": "code",
   "execution_count": null,
   "metadata": {},
   "outputs": [],
   "source": []
  },
  {
   "cell_type": "code",
   "execution_count": null,
   "metadata": {},
   "outputs": [],
   "source": []
  },
  {
   "cell_type": "code",
   "execution_count": null,
   "metadata": {},
   "outputs": [],
   "source": []
  },
  {
   "cell_type": "code",
   "execution_count": null,
   "metadata": {},
   "outputs": [],
   "source": [
    "X_train, X_test, y_train, y_test = train_test_split(df['Reviews_tokenize_join'] ,df['target'], test_size=0.3, random_state = 42)\n",
    "\n",
    "pipeline = Pipeline([('vect', TfidfVectorizer(ngram_range=(1, 2), stop_words=\"english\", sublinear_tf=True)),\n",
    "                     ('chi',  SelectKBest(chi2, k=10000)),\n",
    "                     ('clf', LinearSVC())])"
   ]
  },
  {
   "cell_type": "code",
   "execution_count": null,
   "metadata": {},
   "outputs": [],
   "source": []
  },
  {
   "cell_type": "code",
   "execution_count": 87,
   "metadata": {},
   "outputs": [],
   "source": [
    "parameteres = {'clf__C':[0.001,0.1,10,100,10e5], 'clf__max_iter':[1000, 2000,3000]}"
   ]
  },
  {
   "cell_type": "code",
   "execution_count": 88,
   "metadata": {},
   "outputs": [],
   "source": [
    "grid = GridSearchCV(pipeline, param_grid=parameteres, cv=5)\n"
   ]
  },
  {
   "cell_type": "code",
   "execution_count": 89,
   "metadata": {},
   "outputs": [
    {
     "name": "stderr",
     "output_type": "stream",
     "text": [
      "/anaconda3/lib/python3.7/site-packages/sklearn/svm/base.py:929: ConvergenceWarning: Liblinear failed to converge, increase the number of iterations.\n",
      "  \"the number of iterations.\", ConvergenceWarning)\n",
      "/anaconda3/lib/python3.7/site-packages/sklearn/svm/base.py:929: ConvergenceWarning: Liblinear failed to converge, increase the number of iterations.\n",
      "  \"the number of iterations.\", ConvergenceWarning)\n",
      "/anaconda3/lib/python3.7/site-packages/sklearn/svm/base.py:929: ConvergenceWarning: Liblinear failed to converge, increase the number of iterations.\n",
      "  \"the number of iterations.\", ConvergenceWarning)\n",
      "/anaconda3/lib/python3.7/site-packages/sklearn/svm/base.py:929: ConvergenceWarning: Liblinear failed to converge, increase the number of iterations.\n",
      "  \"the number of iterations.\", ConvergenceWarning)\n",
      "/anaconda3/lib/python3.7/site-packages/sklearn/svm/base.py:929: ConvergenceWarning: Liblinear failed to converge, increase the number of iterations.\n",
      "  \"the number of iterations.\", ConvergenceWarning)\n",
      "/anaconda3/lib/python3.7/site-packages/sklearn/svm/base.py:929: ConvergenceWarning: Liblinear failed to converge, increase the number of iterations.\n",
      "  \"the number of iterations.\", ConvergenceWarning)\n",
      "/anaconda3/lib/python3.7/site-packages/sklearn/svm/base.py:929: ConvergenceWarning: Liblinear failed to converge, increase the number of iterations.\n",
      "  \"the number of iterations.\", ConvergenceWarning)\n",
      "/anaconda3/lib/python3.7/site-packages/sklearn/svm/base.py:929: ConvergenceWarning: Liblinear failed to converge, increase the number of iterations.\n",
      "  \"the number of iterations.\", ConvergenceWarning)\n",
      "/anaconda3/lib/python3.7/site-packages/sklearn/svm/base.py:929: ConvergenceWarning: Liblinear failed to converge, increase the number of iterations.\n",
      "  \"the number of iterations.\", ConvergenceWarning)\n",
      "/anaconda3/lib/python3.7/site-packages/sklearn/svm/base.py:929: ConvergenceWarning: Liblinear failed to converge, increase the number of iterations.\n",
      "  \"the number of iterations.\", ConvergenceWarning)\n",
      "/anaconda3/lib/python3.7/site-packages/sklearn/svm/base.py:929: ConvergenceWarning: Liblinear failed to converge, increase the number of iterations.\n",
      "  \"the number of iterations.\", ConvergenceWarning)\n",
      "/anaconda3/lib/python3.7/site-packages/sklearn/svm/base.py:929: ConvergenceWarning: Liblinear failed to converge, increase the number of iterations.\n",
      "  \"the number of iterations.\", ConvergenceWarning)\n",
      "/anaconda3/lib/python3.7/site-packages/sklearn/svm/base.py:929: ConvergenceWarning: Liblinear failed to converge, increase the number of iterations.\n",
      "  \"the number of iterations.\", ConvergenceWarning)\n",
      "/anaconda3/lib/python3.7/site-packages/sklearn/svm/base.py:929: ConvergenceWarning: Liblinear failed to converge, increase the number of iterations.\n",
      "  \"the number of iterations.\", ConvergenceWarning)\n",
      "/anaconda3/lib/python3.7/site-packages/sklearn/svm/base.py:929: ConvergenceWarning: Liblinear failed to converge, increase the number of iterations.\n",
      "  \"the number of iterations.\", ConvergenceWarning)\n",
      "/anaconda3/lib/python3.7/site-packages/sklearn/svm/base.py:929: ConvergenceWarning: Liblinear failed to converge, increase the number of iterations.\n",
      "  \"the number of iterations.\", ConvergenceWarning)\n",
      "/anaconda3/lib/python3.7/site-packages/sklearn/svm/base.py:929: ConvergenceWarning: Liblinear failed to converge, increase the number of iterations.\n",
      "  \"the number of iterations.\", ConvergenceWarning)\n",
      "/anaconda3/lib/python3.7/site-packages/sklearn/svm/base.py:929: ConvergenceWarning: Liblinear failed to converge, increase the number of iterations.\n",
      "  \"the number of iterations.\", ConvergenceWarning)\n",
      "/anaconda3/lib/python3.7/site-packages/sklearn/svm/base.py:929: ConvergenceWarning: Liblinear failed to converge, increase the number of iterations.\n",
      "  \"the number of iterations.\", ConvergenceWarning)\n",
      "/anaconda3/lib/python3.7/site-packages/sklearn/svm/base.py:929: ConvergenceWarning: Liblinear failed to converge, increase the number of iterations.\n",
      "  \"the number of iterations.\", ConvergenceWarning)\n",
      "/anaconda3/lib/python3.7/site-packages/sklearn/svm/base.py:929: ConvergenceWarning: Liblinear failed to converge, increase the number of iterations.\n",
      "  \"the number of iterations.\", ConvergenceWarning)\n",
      "/anaconda3/lib/python3.7/site-packages/sklearn/svm/base.py:929: ConvergenceWarning: Liblinear failed to converge, increase the number of iterations.\n",
      "  \"the number of iterations.\", ConvergenceWarning)\n",
      "/anaconda3/lib/python3.7/site-packages/sklearn/svm/base.py:929: ConvergenceWarning: Liblinear failed to converge, increase the number of iterations.\n",
      "  \"the number of iterations.\", ConvergenceWarning)\n",
      "/anaconda3/lib/python3.7/site-packages/sklearn/svm/base.py:929: ConvergenceWarning: Liblinear failed to converge, increase the number of iterations.\n",
      "  \"the number of iterations.\", ConvergenceWarning)\n",
      "/anaconda3/lib/python3.7/site-packages/sklearn/svm/base.py:929: ConvergenceWarning: Liblinear failed to converge, increase the number of iterations.\n",
      "  \"the number of iterations.\", ConvergenceWarning)\n",
      "/anaconda3/lib/python3.7/site-packages/sklearn/svm/base.py:929: ConvergenceWarning: Liblinear failed to converge, increase the number of iterations.\n",
      "  \"the number of iterations.\", ConvergenceWarning)\n",
      "/anaconda3/lib/python3.7/site-packages/sklearn/svm/base.py:929: ConvergenceWarning: Liblinear failed to converge, increase the number of iterations.\n",
      "  \"the number of iterations.\", ConvergenceWarning)\n",
      "/anaconda3/lib/python3.7/site-packages/sklearn/svm/base.py:929: ConvergenceWarning: Liblinear failed to converge, increase the number of iterations.\n",
      "  \"the number of iterations.\", ConvergenceWarning)\n",
      "/anaconda3/lib/python3.7/site-packages/sklearn/svm/base.py:929: ConvergenceWarning: Liblinear failed to converge, increase the number of iterations.\n",
      "  \"the number of iterations.\", ConvergenceWarning)\n",
      "/anaconda3/lib/python3.7/site-packages/sklearn/svm/base.py:929: ConvergenceWarning: Liblinear failed to converge, increase the number of iterations.\n",
      "  \"the number of iterations.\", ConvergenceWarning)\n"
     ]
    },
    {
     "data": {
      "text/plain": [
       "GridSearchCV(cv=5, error_score='raise-deprecating',\n",
       "             estimator=Pipeline(memory=None,\n",
       "                                steps=[('vect',\n",
       "                                        TfidfVectorizer(analyzer='word',\n",
       "                                                        binary=False,\n",
       "                                                        decode_error='strict',\n",
       "                                                        dtype=<class 'numpy.float64'>,\n",
       "                                                        encoding='utf-8',\n",
       "                                                        input='content',\n",
       "                                                        lowercase=True,\n",
       "                                                        max_df=1.0,\n",
       "                                                        max_features=None,\n",
       "                                                        min_df=1,\n",
       "                                                        ngram_range=(1, 2),\n",
       "                                                        norm='l2',\n",
       "                                                        preprocessor=None,\n",
       "                                                        smooth_idf=True,\n",
       "                                                        stop_words...\n",
       "                                                  dual=True, fit_intercept=True,\n",
       "                                                  intercept_scaling=1,\n",
       "                                                  loss='squared_hinge',\n",
       "                                                  max_iter=1000,\n",
       "                                                  multi_class='ovr',\n",
       "                                                  penalty='l2',\n",
       "                                                  random_state=None, tol=0.0001,\n",
       "                                                  verbose=0))],\n",
       "                                verbose=False),\n",
       "             iid='warn', n_jobs=None,\n",
       "             param_grid={'clf__C': [0.001, 0.1, 10, 100, 1000000.0],\n",
       "                         'clf__max_iter': [1000, 2000, 3000]},\n",
       "             pre_dispatch='2*n_jobs', refit=True, return_train_score=False,\n",
       "             scoring=None, verbose=0)"
      ]
     },
     "execution_count": 89,
     "metadata": {},
     "output_type": "execute_result"
    }
   ],
   "source": [
    "grid.fit(X_train, y_train)\n"
   ]
  },
  {
   "cell_type": "code",
   "execution_count": 90,
   "metadata": {},
   "outputs": [
    {
     "name": "stdout",
     "output_type": "stream",
     "text": [
      "0.6217564870259481\n"
     ]
    }
   ],
   "source": [
    "print(grid.score(X_test,y_test))"
   ]
  },
  {
   "cell_type": "code",
   "execution_count": 91,
   "metadata": {},
   "outputs": [
    {
     "data": {
      "text/plain": [
       "{'clf__C': 0.1, 'clf__max_iter': 1000}"
      ]
     },
     "execution_count": 91,
     "metadata": {},
     "output_type": "execute_result"
    }
   ],
   "source": [
    "grid.best_params_"
   ]
  },
  {
   "cell_type": "code",
   "execution_count": 92,
   "metadata": {},
   "outputs": [
    {
     "data": {
      "application/javascript": [
       "\n",
       "        if (window._pyforest_update_imports_cell) { window._pyforest_update_imports_cell('import numpy as np'); }\n",
       "    "
      ],
      "text/plain": [
       "<IPython.core.display.Javascript object>"
      ]
     },
     "metadata": {},
     "output_type": "display_data"
    },
    {
     "name": "stdout",
     "output_type": "stream",
     "text": [
      "Mean Cross Validation Score: 56.49%\n",
      "Classier:LinearSVC(C=0.1, class_weight=None, dual=False, fit_intercept=True,\n",
      "          intercept_scaling=1, loss='squared_hinge', max_iter=1000,\n",
      "          multi_class='ovr', penalty='l1', random_state=None, tol=0.0001,\n",
      "          verbose=0) , Time: 0.0035134449990437133\n",
      "Accuracy: 0.5720558882235529\n",
      "              precision    recall  f1-score   support\n",
      "\n",
      "           1       0.52      0.49      0.50       509\n",
      "           2       0.33      0.03      0.05       560\n",
      "           3       0.35      0.12      0.17       926\n",
      "           4       0.42      0.35      0.38      2035\n",
      "           5       0.65      0.92      0.76      3485\n",
      "\n",
      "    accuracy                           0.57      7515\n",
      "   macro avg       0.45      0.38      0.37      7515\n",
      "weighted avg       0.52      0.57      0.51      7515\n",
      "\n"
     ]
    }
   ],
   "source": [
    "clf(LinearSVC(C=0.1, penalty='l1', max_iter=1000, dual=False))"
   ]
  },
  {
   "cell_type": "code",
   "execution_count": 93,
   "metadata": {},
   "outputs": [
    {
     "data": {
      "application/javascript": [
       "\n",
       "        if (window._pyforest_update_imports_cell) { window._pyforest_update_imports_cell('import numpy as np'); }\n",
       "    "
      ],
      "text/plain": [
       "<IPython.core.display.Javascript object>"
      ]
     },
     "metadata": {},
     "output_type": "display_data"
    },
    {
     "name": "stdout",
     "output_type": "stream",
     "text": [
      "Mean Cross Validation Score: 59.54%\n",
      "Classier:LinearSVC(C=0.1, class_weight=None, dual=True, fit_intercept=True,\n",
      "          intercept_scaling=1, loss='squared_hinge', max_iter=1000,\n",
      "          multi_class='ovr', penalty='l2', random_state=None, tol=0.0001,\n",
      "          verbose=0) , Time: 0.004986515999917174\n",
      "Accuracy: 0.5984031936127745\n",
      "              precision    recall  f1-score   support\n",
      "\n",
      "           1       0.55      0.61      0.57       509\n",
      "           2       0.40      0.04      0.08       560\n",
      "           3       0.40      0.23      0.29       926\n",
      "           4       0.48      0.37      0.41      2035\n",
      "           5       0.67      0.92      0.77      3485\n",
      "\n",
      "    accuracy                           0.60      7515\n",
      "   macro avg       0.50      0.43      0.43      7515\n",
      "weighted avg       0.56      0.60      0.55      7515\n",
      "\n"
     ]
    }
   ],
   "source": [
    "clf(LinearSVC(C=0.1, max_iter=1000))"
   ]
  },
  {
   "cell_type": "code",
   "execution_count": 94,
   "metadata": {},
   "outputs": [
    {
     "data": {
      "application/javascript": [
       "\n",
       "        if (window._pyforest_update_imports_cell) { window._pyforest_update_imports_cell('import numpy as np'); }\n",
       "    "
      ],
      "text/plain": [
       "<IPython.core.display.Javascript object>"
      ]
     },
     "metadata": {},
     "output_type": "display_data"
    },
    {
     "name": "stdout",
     "output_type": "stream",
     "text": [
      "Mean Cross Validation Score: 60.98%\n",
      "Classier:LinearSVC(C=1.0, class_weight=None, dual=True, fit_intercept=True,\n",
      "          intercept_scaling=1, loss='squared_hinge', max_iter=1000,\n",
      "          multi_class='ovr', penalty='l2', random_state=None, tol=0.0001,\n",
      "          verbose=0) , Time: 0.006638550999923609\n",
      "Accuracy: 0.6087824351297405\n",
      "              precision    recall  f1-score   support\n",
      "\n",
      "           1       0.54      0.59      0.56       509\n",
      "           2       0.35      0.14      0.20       560\n",
      "           3       0.40      0.36      0.38       926\n",
      "           4       0.50      0.41      0.45      2035\n",
      "           5       0.72      0.87      0.79      3485\n",
      "\n",
      "    accuracy                           0.61      7515\n",
      "   macro avg       0.50      0.47      0.48      7515\n",
      "weighted avg       0.58      0.61      0.59      7515\n",
      "\n"
     ]
    }
   ],
   "source": [
    "clf(LinearSVC())"
   ]
  },
  {
   "cell_type": "code",
   "execution_count": null,
   "metadata": {},
   "outputs": [],
   "source": []
  },
  {
   "cell_type": "code",
   "execution_count": 8,
   "metadata": {},
   "outputs": [],
   "source": [
    "model = pipeline.fit(X_train, y_train)\n"
   ]
  },
  {
   "cell_type": "code",
   "execution_count": 9,
   "metadata": {},
   "outputs": [
    {
     "name": "stdout",
     "output_type": "stream",
     "text": [
      "accuracy score: 0.6171656686626746\n"
     ]
    }
   ],
   "source": [
    "print(\"accuracy score: \" + str(model.score(X_test, y_test)))\n"
   ]
  },
  {
   "cell_type": "code",
   "execution_count": 13,
   "metadata": {},
   "outputs": [],
   "source": [
    "vectorizer = model.named_steps['vect']\n",
    "chi = model.named_steps['chi']\n",
    "clf = model.named_steps['classifier']\n"
   ]
  },
  {
   "cell_type": "code",
   "execution_count": 17,
   "metadata": {},
   "outputs": [
    {
     "data": {
      "application/javascript": [
       "\n",
       "        if (window._pyforest_update_imports_cell) { window._pyforest_update_imports_cell('import numpy as np\\nfrom sklearn.model_selection import train_test_split'); }\n",
       "    "
      ],
      "text/plain": [
       "<IPython.core.display.Javascript object>"
      ]
     },
     "metadata": {},
     "output_type": "display_data"
    },
    {
     "data": {
      "text/plain": [
       "array(['aand price', 'able coffee', 'able comfortable', 'able complain',\n",
       "       'able cook', 'able manually', 'able rebook', 'able suitcase',\n",
       "       'able text', 'able toilet'], dtype='<U28')"
      ]
     },
     "execution_count": 17,
     "metadata": {},
     "output_type": "execute_result"
    }
   ],
   "source": [
    "\n",
    "feature_names = vectorizer.get_feature_names()\n",
    "feature_names = [feature_names[i] for i in chi.get_support(indices=True)]\n",
    "feature_names = np.asarray(feature_names)\n",
    "feature_names[:10]"
   ]
  },
  {
   "cell_type": "code",
   "execution_count": 15,
   "metadata": {},
   "outputs": [
    {
     "name": "stdout",
     "output_type": "stream",
     "text": [
      "top 10 keywords per class:\n"
     ]
    },
    {
     "data": {
      "application/javascript": [
       "\n",
       "        if (window._pyforest_update_imports_cell) { window._pyforest_update_imports_cell('import numpy as np\\nfrom sklearn.model_selection import train_test_split'); }\n",
       "    "
      ],
      "text/plain": [
       "<IPython.core.display.Javascript object>"
      ]
     },
     "metadata": {},
     "output_type": "display_data"
    },
    {
     "name": "stdout",
     "output_type": "stream",
     "text": [
      "1: total cost horrible ruin uncleaned experience superb avoid cost stay away disgusting bed uncomfortable bad\n"
     ]
    },
    {
     "data": {
      "application/javascript": [
       "\n",
       "        if (window._pyforest_update_imports_cell) { window._pyforest_update_imports_cell('import numpy as np\\nfrom sklearn.model_selection import train_test_split'); }\n",
       "    "
      ],
      "text/plain": [
       "<IPython.core.display.Javascript object>"
      ]
     },
     "metadata": {},
     "output_type": "display_data"
    },
    {
     "name": "stdout",
     "output_type": "stream",
     "text": [
      "2: work leak sink didn book site like hadn rudest shoddy wasn worth soil feel dirty maze\n"
     ]
    },
    {
     "data": {
      "application/javascript": [
       "\n",
       "        if (window._pyforest_update_imports_cell) { window._pyforest_update_imports_cell('import numpy as np\\nfrom sklearn.model_selection import train_test_split'); }\n",
       "    "
      ],
      "text/plain": [
       "<IPython.core.display.Javascript object>"
      ]
     },
     "metadata": {},
     "output_type": "display_data"
    },
    {
     "name": "stdout",
     "output_type": "stream",
     "text": [
      "3: room rude average average experience worth lobby date staff tall building pro despite request problem need leave floor\n"
     ]
    },
    {
     "data": {
      "application/javascript": [
       "\n",
       "        if (window._pyforest_update_imports_cell) { window._pyforest_update_imports_cell('import numpy as np\\nfrom sklearn.model_selection import train_test_split'); }\n",
       "    "
      ],
      "text/plain": [
       "<IPython.core.display.Javascript object>"
      ]
     },
     "metadata": {},
     "output_type": "display_data"
    },
    {
     "name": "stdout",
     "output_type": "stream",
     "text": [
      "4: attend opera lobby large good reasonable overall location downside reason didn simple clean excellent right general good drawback\n"
     ]
    },
    {
     "data": {
      "application/javascript": [
       "\n",
       "        if (window._pyforest_update_imports_cell) { window._pyforest_update_imports_cell('import numpy as np\\nfrom sklearn.model_selection import train_test_split'); }\n",
       "    "
      ],
      "text/plain": [
       "<IPython.core.display.Javascript object>"
      ]
     },
     "metadata": {},
     "output_type": "display_data"
    },
    {
     "name": "stdout",
     "output_type": "stream",
     "text": [
      "5: perfect love worth penny andrew grateful absolutely stay emanuel exceed impressed overall excellent\n"
     ]
    }
   ],
   "source": [
    "target_names = ['1', '2', '3', '4', '5']\n",
    "print(\"top 10 keywords per class:\")\n",
    "for i, label in enumerate(target_names):\n",
    "    top10 = np.argsort(clf.coef_[i])[-10:]\n",
    "    print(\"%s: %s\" % (label, \" \".join(feature_names[top10])))"
   ]
  },
  {
   "cell_type": "code",
   "execution_count": null,
   "metadata": {},
   "outputs": [],
   "source": [
    "## limpiar la data quetar names como did"
   ]
  },
  {
   "cell_type": "code",
   "execution_count": null,
   "metadata": {},
   "outputs": [],
   "source": []
  }
 ],
 "metadata": {
  "kernelspec": {
   "display_name": "Python 3",
   "language": "python",
   "name": "python3"
  },
  "language_info": {
   "codemirror_mode": {
    "name": "ipython",
    "version": 3
   },
   "file_extension": ".py",
   "mimetype": "text/x-python",
   "name": "python",
   "nbconvert_exporter": "python",
   "pygments_lexer": "ipython3",
   "version": "3.7.3"
  }
 },
 "nbformat": 4,
 "nbformat_minor": 2
}
